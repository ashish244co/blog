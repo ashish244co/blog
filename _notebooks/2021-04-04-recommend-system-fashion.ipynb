{
 "cells": [
  {
   "cell_type": "markdown",
   "metadata": {},
   "source": [
    "# Fashion Style Recommendations\n",
    "> Creating using different Data Science methods, best recommendations for the members.\n",
    "\n",
    "- toc: true \n",
    "- badges: true\n",
    "- comments: true\n",
    "- categories: [recommendation systems,jupyter]\n",
    "- image: images/chart-preview.png"
   ]
  },
  {
   "cell_type": "code",
   "execution_count": 2,
   "metadata": {
    "colab": {
     "base_uri": "https://localhost:8080/"
    },
    "id": "2eQYzWfzl7Hv",
    "outputId": "5f6f73e4-ad03-4a83-e374-d15ee1cc6e62"
   },
   "outputs": [
    {
     "name": "stdout",
     "output_type": "stream",
     "text": [
      "Mounted at /content/drive\n"
     ]
    }
   ],
   "source": [
    "from google.colab import drive\n",
    "drive.mount('/content/drive')\n"
   ]
  },
  {
   "cell_type": "code",
   "execution_count": 3,
   "metadata": {
    "id": "qfAA8FO2Y8dC"
   },
   "outputs": [],
   "source": [
    "import warnings\n",
    "warnings.filterwarnings(\"ignore\", category=FutureWarning)"
   ]
  },
  {
   "cell_type": "code",
   "execution_count": 4,
   "metadata": {
    "colab": {
     "base_uri": "https://localhost:8080/"
    },
    "id": "w8XNS-Z0Y2fA",
    "outputId": "a158bcfb-51a6-43fa-e64d-dae86945fabe"
   },
   "outputs": [
    {
     "name": "stdout",
     "output_type": "stream",
     "text": [
      "Tue Mar  2 13:12:58 2021       \n",
      "+-----------------------------------------------------------------------------+\n",
      "| NVIDIA-SMI 460.39       Driver Version: 460.32.03    CUDA Version: 11.2     |\n",
      "|-------------------------------+----------------------+----------------------+\n",
      "| GPU  Name        Persistence-M| Bus-Id        Disp.A | Volatile Uncorr. ECC |\n",
      "| Fan  Temp  Perf  Pwr:Usage/Cap|         Memory-Usage | GPU-Util  Compute M. |\n",
      "|                               |                      |               MIG M. |\n",
      "|===============================+======================+======================|\n",
      "|   0  Tesla K80           Off  | 00000000:00:04.0 Off |                    0 |\n",
      "| N/A   32C    P8    28W / 149W |      0MiB / 11441MiB |      0%      Default |\n",
      "|                               |                      |                  N/A |\n",
      "+-------------------------------+----------------------+----------------------+\n",
      "                                                                               \n",
      "+-----------------------------------------------------------------------------+\n",
      "| Processes:                                                                  |\n",
      "|  GPU   GI   CI        PID   Type   Process name                  GPU Memory |\n",
      "|        ID   ID                                                   Usage      |\n",
      "|=============================================================================|\n",
      "|  No running processes found                                                 |\n",
      "+-----------------------------------------------------------------------------+\n"
     ]
    }
   ],
   "source": [
    "!nvidia-smi"
   ]
  },
  {
   "cell_type": "markdown",
   "metadata": {
    "id": "gMCjka3wKvN_"
   },
   "source": [
    "# INTRO\n",
    "First we divide the data into 4 types: \n",
    "\n",
    "*   counts , product and user\n",
    "*   user info\n",
    "*   product info\n",
    "*   mix of user and product info\n"
   ]
  },
  {
   "cell_type": "code",
   "execution_count": 5,
   "metadata": {
    "id": "d61-EbAsmFZt"
   },
   "outputs": [],
   "source": [
    "import os"
   ]
  },
  {
   "cell_type": "code",
   "execution_count": 6,
   "metadata": {
    "id": "Sw5no8WdmhED"
   },
   "outputs": [],
   "source": [
    "os.chdir('drive/My Drive')"
   ]
  },
  {
   "cell_type": "code",
   "execution_count": 7,
   "metadata": {
    "id": "Itc8BvwKmluB"
   },
   "outputs": [],
   "source": [
    "import pandas as pd"
   ]
  },
  {
   "cell_type": "code",
   "execution_count": 8,
   "metadata": {
    "id": "Wd0wqV2mmmeo"
   },
   "outputs": [],
   "source": [
    "data=pd.read_csv('use_case.rpt',sep=';')"
   ]
  },
  {
   "cell_type": "code",
   "execution_count": 9,
   "metadata": {
    "colab": {
     "base_uri": "https://localhost:8080/",
     "height": 204
    },
    "id": "0AA0RO0lmvG4",
    "outputId": "ffdda3e9-0a28-4e78-fb35-4498a0402d3f"
   },
   "outputs": [
    {
     "data": {
      "text/html": [
       "<div>\n",
       "<style scoped>\n",
       "    .dataframe tbody tr th:only-of-type {\n",
       "        vertical-align: middle;\n",
       "    }\n",
       "\n",
       "    .dataframe tbody tr th {\n",
       "        vertical-align: top;\n",
       "    }\n",
       "\n",
       "    .dataframe thead th {\n",
       "        text-align: right;\n",
       "    }\n",
       "</style>\n",
       "<table border=\"1\" class=\"dataframe\">\n",
       "  <thead>\n",
       "    <tr style=\"text-align: right;\">\n",
       "      <th></th>\n",
       "      <th>ProductID</th>\n",
       "      <th>MEMBERID</th>\n",
       "      <th>Colour</th>\n",
       "      <th>matherial</th>\n",
       "      <th>product_group</th>\n",
       "      <th>target_group</th>\n",
       "      <th>features</th>\n",
       "      <th>Category</th>\n",
       "      <th>Cluster</th>\n",
       "      <th>gender</th>\n",
       "      <th>age</th>\n",
       "    </tr>\n",
       "  </thead>\n",
       "  <tbody>\n",
       "    <tr>\n",
       "      <th>0</th>\n",
       "      <td>010CA1O304</td>\n",
       "      <td>147522.0</td>\n",
       "      <td>OTHER</td>\n",
       "      <td>Cotton</td>\n",
       "      <td>Accessories</td>\n",
       "      <td>Women</td>\n",
       "      <td>backpack</td>\n",
       "      <td>Accessories hard</td>\n",
       "      <td>Bags Non-Leather</td>\n",
       "      <td>2.0</td>\n",
       "      <td>43.0</td>\n",
       "    </tr>\n",
       "    <tr>\n",
       "      <th>1</th>\n",
       "      <td>010CA1O304</td>\n",
       "      <td>3755899.0</td>\n",
       "      <td>NAVY</td>\n",
       "      <td>Cotton</td>\n",
       "      <td>Accessories</td>\n",
       "      <td>Women</td>\n",
       "      <td>backpack</td>\n",
       "      <td>Accessories hard</td>\n",
       "      <td>Bags Non-Leather</td>\n",
       "      <td>2.0</td>\n",
       "      <td>58.0</td>\n",
       "    </tr>\n",
       "    <tr>\n",
       "      <th>2</th>\n",
       "      <td>010CA1O304</td>\n",
       "      <td>6326114.0</td>\n",
       "      <td>BLUE</td>\n",
       "      <td>Cotton</td>\n",
       "      <td>Accessories</td>\n",
       "      <td>Women</td>\n",
       "      <td>backpack</td>\n",
       "      <td>Accessories hard</td>\n",
       "      <td>Bags Non-Leather</td>\n",
       "      <td>2.0</td>\n",
       "      <td>52.0</td>\n",
       "    </tr>\n",
       "    <tr>\n",
       "      <th>3</th>\n",
       "      <td>010CA1Q302</td>\n",
       "      <td>9539278.0</td>\n",
       "      <td>BLUE</td>\n",
       "      <td>Polyester</td>\n",
       "      <td>Accessories</td>\n",
       "      <td>Women</td>\n",
       "      <td>shawls</td>\n",
       "      <td>Accessories soft</td>\n",
       "      <td>Shawls/Scarves</td>\n",
       "      <td>2.0</td>\n",
       "      <td>44.0</td>\n",
       "    </tr>\n",
       "    <tr>\n",
       "      <th>4</th>\n",
       "      <td>010CA1S301</td>\n",
       "      <td>1621111.0</td>\n",
       "      <td>BLUE</td>\n",
       "      <td>Buffalo Split Leather</td>\n",
       "      <td>Accessories</td>\n",
       "      <td>Women</td>\n",
       "      <td>belts cm</td>\n",
       "      <td>Accessories hard</td>\n",
       "      <td>Belts</td>\n",
       "      <td>2.0</td>\n",
       "      <td>52.0</td>\n",
       "    </tr>\n",
       "  </tbody>\n",
       "</table>\n",
       "</div>"
      ],
      "text/plain": [
       "    ProductID   MEMBERID Colour  ...           Cluster gender   age\n",
       "0  010CA1O304   147522.0  OTHER  ...  Bags Non-Leather    2.0  43.0\n",
       "1  010CA1O304  3755899.0   NAVY  ...  Bags Non-Leather    2.0  58.0\n",
       "2  010CA1O304  6326114.0   BLUE  ...  Bags Non-Leather    2.0  52.0\n",
       "3  010CA1Q302  9539278.0   BLUE  ...    Shawls/Scarves    2.0  44.0\n",
       "4  010CA1S301  1621111.0   BLUE  ...             Belts    2.0  52.0\n",
       "\n",
       "[5 rows x 11 columns]"
      ]
     },
     "execution_count": 9,
     "metadata": {
      "tags": []
     },
     "output_type": "execute_result"
    }
   ],
   "source": [
    "data.head()"
   ]
  },
  {
   "cell_type": "code",
   "execution_count": 10,
   "metadata": {
    "id": "I5u9esptqqAu"
   },
   "outputs": [],
   "source": [
    "collabFiltering=data.groupby(['MEMBERID','ProductID']).count().reset_index()[['MEMBERID','ProductID','Colour']].rename(columns={\"Colour\": \"Count\"})"
   ]
  },
  {
   "cell_type": "code",
   "execution_count": 11,
   "metadata": {
    "id": "UlPlnrbdmycP"
   },
   "outputs": [],
   "source": [
    "userData=data.drop_duplicates('MEMBERID')[['gender','age','MEMBERID']].dropna()"
   ]
  },
  {
   "cell_type": "markdown",
   "metadata": {
    "id": "R70Z6z0YL3dY"
   },
   "source": [
    "We extract two extra metrics like number of buys and unique buys for product and user data both."
   ]
  },
  {
   "cell_type": "code",
   "execution_count": 12,
   "metadata": {
    "id": "xbMYvYmzxtVb"
   },
   "outputs": [],
   "source": [
    "userData['Buys'] = userData['MEMBERID'].map(data.groupby('MEMBERID')['ProductID'].count())\n",
    "userData['UniqueBuys'] = userData['MEMBERID'].map(data.groupby('MEMBERID')['ProductID'].nunique())"
   ]
  },
  {
   "cell_type": "code",
   "execution_count": null,
   "metadata": {
    "colab": {
     "base_uri": "https://localhost:8080/",
     "height": 204
    },
    "id": "uFyDPx8TzhlD",
    "outputId": "336f60cc-9f29-48a7-e4a3-8754476eda4b"
   },
   "outputs": [
    {
     "data": {
      "text/html": [
       "<div>\n",
       "<style scoped>\n",
       "    .dataframe tbody tr th:only-of-type {\n",
       "        vertical-align: middle;\n",
       "    }\n",
       "\n",
       "    .dataframe tbody tr th {\n",
       "        vertical-align: top;\n",
       "    }\n",
       "\n",
       "    .dataframe thead th {\n",
       "        text-align: right;\n",
       "    }\n",
       "</style>\n",
       "<table border=\"1\" class=\"dataframe\">\n",
       "  <thead>\n",
       "    <tr style=\"text-align: right;\">\n",
       "      <th></th>\n",
       "      <th>gender</th>\n",
       "      <th>age</th>\n",
       "      <th>MEMBERID</th>\n",
       "      <th>Buys</th>\n",
       "      <th>UniqueBuys</th>\n",
       "    </tr>\n",
       "  </thead>\n",
       "  <tbody>\n",
       "    <tr>\n",
       "      <th>0</th>\n",
       "      <td>2.0</td>\n",
       "      <td>43.0</td>\n",
       "      <td>147522.0</td>\n",
       "      <td>24</td>\n",
       "      <td>8</td>\n",
       "    </tr>\n",
       "    <tr>\n",
       "      <th>1</th>\n",
       "      <td>2.0</td>\n",
       "      <td>58.0</td>\n",
       "      <td>3755899.0</td>\n",
       "      <td>10</td>\n",
       "      <td>2</td>\n",
       "    </tr>\n",
       "    <tr>\n",
       "      <th>2</th>\n",
       "      <td>2.0</td>\n",
       "      <td>52.0</td>\n",
       "      <td>6326114.0</td>\n",
       "      <td>8</td>\n",
       "      <td>3</td>\n",
       "    </tr>\n",
       "    <tr>\n",
       "      <th>3</th>\n",
       "      <td>2.0</td>\n",
       "      <td>44.0</td>\n",
       "      <td>9539278.0</td>\n",
       "      <td>4</td>\n",
       "      <td>2</td>\n",
       "    </tr>\n",
       "    <tr>\n",
       "      <th>4</th>\n",
       "      <td>2.0</td>\n",
       "      <td>52.0</td>\n",
       "      <td>1621111.0</td>\n",
       "      <td>11</td>\n",
       "      <td>4</td>\n",
       "    </tr>\n",
       "  </tbody>\n",
       "</table>\n",
       "</div>"
      ],
      "text/plain": [
       "   gender   age   MEMBERID  Buys  UniqueBuys\n",
       "0     2.0  43.0   147522.0    24           8\n",
       "1     2.0  58.0  3755899.0    10           2\n",
       "2     2.0  52.0  6326114.0     8           3\n",
       "3     2.0  44.0  9539278.0     4           2\n",
       "4     2.0  52.0  1621111.0    11           4"
      ]
     },
     "execution_count": 12,
     "metadata": {
      "tags": []
     },
     "output_type": "execute_result"
    }
   ],
   "source": [
    "userData.head()"
   ]
  },
  {
   "cell_type": "code",
   "execution_count": 13,
   "metadata": {
    "id": "6XWNQJk1nORG"
   },
   "outputs": [],
   "source": [
    "productData=data.drop_duplicates('ProductID').drop(columns=['gender','age','MEMBERID'],axis=1).dropna()"
   ]
  },
  {
   "cell_type": "code",
   "execution_count": 14,
   "metadata": {
    "id": "Fn3FANW80F2R"
   },
   "outputs": [],
   "source": [
    "productData['Buys'] = productData['ProductID'].map(data.groupby('ProductID')['MEMBERID'].count())\n",
    "productData['UniqueBuys'] = productData['ProductID'].map(data.groupby('ProductID')['MEMBERID'].nunique())"
   ]
  },
  {
   "cell_type": "code",
   "execution_count": null,
   "metadata": {
    "colab": {
     "base_uri": "https://localhost:8080/",
     "height": 204
    },
    "id": "koZLU-j80RZR",
    "outputId": "f84df6fa-bcbb-4a81-cfd7-1948aaf70ebc"
   },
   "outputs": [
    {
     "data": {
      "text/html": [
       "<div>\n",
       "<style scoped>\n",
       "    .dataframe tbody tr th:only-of-type {\n",
       "        vertical-align: middle;\n",
       "    }\n",
       "\n",
       "    .dataframe tbody tr th {\n",
       "        vertical-align: top;\n",
       "    }\n",
       "\n",
       "    .dataframe thead th {\n",
       "        text-align: right;\n",
       "    }\n",
       "</style>\n",
       "<table border=\"1\" class=\"dataframe\">\n",
       "  <thead>\n",
       "    <tr style=\"text-align: right;\">\n",
       "      <th></th>\n",
       "      <th>ProductID</th>\n",
       "      <th>Colour</th>\n",
       "      <th>matherial</th>\n",
       "      <th>product_group</th>\n",
       "      <th>target_group</th>\n",
       "      <th>features</th>\n",
       "      <th>Category</th>\n",
       "      <th>Cluster</th>\n",
       "      <th>Buys</th>\n",
       "      <th>UniqueBuys</th>\n",
       "    </tr>\n",
       "  </thead>\n",
       "  <tbody>\n",
       "    <tr>\n",
       "      <th>0</th>\n",
       "      <td>010CA1O304</td>\n",
       "      <td>OTHER</td>\n",
       "      <td>Cotton</td>\n",
       "      <td>Accessories</td>\n",
       "      <td>Women</td>\n",
       "      <td>backpack</td>\n",
       "      <td>Accessories hard</td>\n",
       "      <td>Bags Non-Leather</td>\n",
       "      <td>12</td>\n",
       "      <td>4</td>\n",
       "    </tr>\n",
       "    <tr>\n",
       "      <th>3</th>\n",
       "      <td>010CA1Q302</td>\n",
       "      <td>BLUE</td>\n",
       "      <td>Polyester</td>\n",
       "      <td>Accessories</td>\n",
       "      <td>Women</td>\n",
       "      <td>shawls</td>\n",
       "      <td>Accessories soft</td>\n",
       "      <td>Shawls/Scarves</td>\n",
       "      <td>4</td>\n",
       "      <td>2</td>\n",
       "    </tr>\n",
       "    <tr>\n",
       "      <th>4</th>\n",
       "      <td>010CA1S301</td>\n",
       "      <td>BLUE</td>\n",
       "      <td>Buffalo Split Leather</td>\n",
       "      <td>Accessories</td>\n",
       "      <td>Women</td>\n",
       "      <td>belts cm</td>\n",
       "      <td>Accessories hard</td>\n",
       "      <td>Belts</td>\n",
       "      <td>117</td>\n",
       "      <td>37</td>\n",
       "    </tr>\n",
       "    <tr>\n",
       "      <th>18</th>\n",
       "      <td>010CC1B302</td>\n",
       "      <td>GREY</td>\n",
       "      <td>Cotton</td>\n",
       "      <td>Women</td>\n",
       "      <td>Women</td>\n",
       "      <td>length service</td>\n",
       "      <td>Denim</td>\n",
       "      <td>Pants Denim</td>\n",
       "      <td>280</td>\n",
       "      <td>140</td>\n",
       "    </tr>\n",
       "    <tr>\n",
       "      <th>48</th>\n",
       "      <td>010CC1B305</td>\n",
       "      <td>OTHER</td>\n",
       "      <td>Cotton</td>\n",
       "      <td>Women</td>\n",
       "      <td>Women</td>\n",
       "      <td>length service</td>\n",
       "      <td>Denim</td>\n",
       "      <td>Pants Denim</td>\n",
       "      <td>544</td>\n",
       "      <td>272</td>\n",
       "    </tr>\n",
       "  </tbody>\n",
       "</table>\n",
       "</div>"
      ],
      "text/plain": [
       "     ProductID Colour  ... Buys UniqueBuys\n",
       "0   010CA1O304  OTHER  ...   12          4\n",
       "3   010CA1Q302   BLUE  ...    4          2\n",
       "4   010CA1S301   BLUE  ...  117         37\n",
       "18  010CC1B302   GREY  ...  280        140\n",
       "48  010CC1B305  OTHER  ...  544        272\n",
       "\n",
       "[5 rows x 10 columns]"
      ]
     },
     "execution_count": 15,
     "metadata": {
      "tags": []
     },
     "output_type": "execute_result"
    }
   ],
   "source": [
    "productData.head()"
   ]
  },
  {
   "cell_type": "markdown",
   "metadata": {
    "id": "xablhoBOMKra"
   },
   "source": [
    "# Data Exploration"
   ]
  },
  {
   "cell_type": "code",
   "execution_count": null,
   "metadata": {
    "id": "x1H1Ixt9069h"
   },
   "outputs": [],
   "source": [
    "import seaborn as sns"
   ]
  },
  {
   "cell_type": "code",
   "execution_count": null,
   "metadata": {
    "colab": {
     "base_uri": "https://localhost:8080/",
     "height": 1000
    },
    "id": "S38RHsf0qUow",
    "outputId": "230e227f-d322-4bbe-c1dc-b8667c7bfe8c"
   },
   "outputs": [
    {
     "data": {
      "text/plain": [
       "<seaborn.axisgrid.PairGrid at 0x7f0300609950>"
      ]
     },
     "execution_count": 17,
     "metadata": {
      "tags": []
     },
     "output_type": "execute_result"
    },
    {
     "data": {
      "image/png": "[encoded data removed]",
      "text/plain": [
       "<Figure size 1440x1440 with 14 Axes>"
      ]
     },
     "metadata": {
      "needs_background": "light",
      "tags": []
     },
     "output_type": "display_data"
    }
   ],
   "source": [
    "sns.pairplot(userData[['gender','age','Buys','UniqueBuys']], height=5,corner=True)"
   ]
  },
  {
   "cell_type": "markdown",
   "metadata": {
    "id": "f70gDP67MiEg"
   },
   "source": [
    "ages are spread between 20 and 60. Moreover we see mid aged people buy more. Gender wise we see gender 2 to be more acitive in purchase activites."
   ]
  },
  {
   "cell_type": "markdown",
   "metadata": {
    "id": "H6rWVlM2Nrkq"
   },
   "source": [
    " below we can see the count distributions for categorical columns which we have."
   ]
  },
  {
   "cell_type": "code",
   "execution_count": null,
   "metadata": {
    "colab": {
     "base_uri": "https://localhost:8080/",
     "height": 1000
    },
    "id": "Zh1I2p8wAbLU",
    "outputId": "36f5bee2-8987-4104-bec3-c81e01575964"
   },
   "outputs": [
    {
     "data": {
      "image/png": "[encoded data removed]",
      "text/plain": [
       "<Figure size 720x720 with 1 Axes>"
      ]
     },
     "metadata": {
      "needs_background": "light",
      "tags": []
     },
     "output_type": "display_data"
    },
    {
     "data": {
      "image/png": "[encoded data removed]",
      "text/plain": [
       "<Figure size 720x720 with 1 Axes>"
      ]
     },
     "metadata": {
      "needs_background": "light",
      "tags": []
     },
     "output_type": "display_data"
    },
    {
     "data": {
      "image/png": "[encoded data removed]",
      "text/plain": [
       "<Figure size 720x720 with 1 Axes>"
      ]
     },
     "metadata": {
      "needs_background": "light",
      "tags": []
     },
     "output_type": "display_data"
    },
    {
     "data": {
      "image/png": "[encoded data removed]",
      "text/plain": [
       "<Figure size 720x720 with 1 Axes>"
      ]
     },
     "metadata": {
      "needs_background": "light",
      "tags": []
     },
     "output_type": "display_data"
    },
    {
     "data": {
      "image/png": "[encoded data removed]",
      "text/plain": [
       "<Figure size 720x720 with 1 Axes>"
      ]
     },
     "metadata": {
      "needs_background": "light",
      "tags": []
     },
     "output_type": "display_data"
    },
    {
     "data": {
      "image/png": "[encoded data removed]",
      "text/plain": [
       "<Figure size 720x720 with 1 Axes>"
      ]
     },
     "metadata": {
      "needs_background": "light",
      "tags": []
     },
     "output_type": "display_data"
    },
    {
     "data": {
      "image/png": "[encoded data removed]",
      "text/plain": [
       "<Figure size 720x720 with 1 Axes>"
      ]
     },
     "metadata": {
      "needs_background": "light",
      "tags": []
     },
     "output_type": "display_data"
    }
   ],
   "source": [
    "import matplotlib.pyplot as plt\n",
    "\n",
    "for col in productData.columns[1:-2]:\n",
    "  plt.rcParams[\"figure.figsize\"] = (10,10)\n",
    "  productData[col].value_counts(ascending=True).plot(kind='barh')\n",
    "  plt.title(col.upper())\n",
    "  plt.show()"
   ]
  },
  {
   "cell_type": "code",
   "execution_count": null,
   "metadata": {
    "colab": {
     "base_uri": "https://localhost:8080/",
     "height": 204
    },
    "id": "G4rR4Udb2Pbf",
    "outputId": "95f020c1-1df4-49c1-a99c-e89eabdcb513"
   },
   "outputs": [
    {
     "data": {
      "text/html": [
       "<div>\n",
       "<style scoped>\n",
       "    .dataframe tbody tr th:only-of-type {\n",
       "        vertical-align: middle;\n",
       "    }\n",
       "\n",
       "    .dataframe tbody tr th {\n",
       "        vertical-align: top;\n",
       "    }\n",
       "\n",
       "    .dataframe thead th {\n",
       "        text-align: right;\n",
       "    }\n",
       "</style>\n",
       "<table border=\"1\" class=\"dataframe\">\n",
       "  <thead>\n",
       "    <tr style=\"text-align: right;\">\n",
       "      <th></th>\n",
       "      <th>ProductID</th>\n",
       "      <th>Colour</th>\n",
       "      <th>matherial</th>\n",
       "      <th>product_group</th>\n",
       "      <th>target_group</th>\n",
       "      <th>features</th>\n",
       "      <th>Category</th>\n",
       "      <th>Cluster</th>\n",
       "      <th>Buys</th>\n",
       "      <th>UniqueBuys</th>\n",
       "    </tr>\n",
       "  </thead>\n",
       "  <tbody>\n",
       "    <tr>\n",
       "      <th>0</th>\n",
       "      <td>010CA1O304</td>\n",
       "      <td>OTHER</td>\n",
       "      <td>Cotton</td>\n",
       "      <td>Accessories</td>\n",
       "      <td>Women</td>\n",
       "      <td>backpack</td>\n",
       "      <td>Accessories hard</td>\n",
       "      <td>Bags Non-Leather</td>\n",
       "      <td>12</td>\n",
       "      <td>4</td>\n",
       "    </tr>\n",
       "    <tr>\n",
       "      <th>3</th>\n",
       "      <td>010CA1Q302</td>\n",
       "      <td>BLUE</td>\n",
       "      <td>Polyester</td>\n",
       "      <td>Accessories</td>\n",
       "      <td>Women</td>\n",
       "      <td>shawls</td>\n",
       "      <td>Accessories soft</td>\n",
       "      <td>Shawls/Scarves</td>\n",
       "      <td>4</td>\n",
       "      <td>2</td>\n",
       "    </tr>\n",
       "    <tr>\n",
       "      <th>4</th>\n",
       "      <td>010CA1S301</td>\n",
       "      <td>BLUE</td>\n",
       "      <td>Buffalo Split Leather</td>\n",
       "      <td>Accessories</td>\n",
       "      <td>Women</td>\n",
       "      <td>belts cm</td>\n",
       "      <td>Accessories hard</td>\n",
       "      <td>Belts</td>\n",
       "      <td>117</td>\n",
       "      <td>37</td>\n",
       "    </tr>\n",
       "    <tr>\n",
       "      <th>18</th>\n",
       "      <td>010CC1B302</td>\n",
       "      <td>GREY</td>\n",
       "      <td>Cotton</td>\n",
       "      <td>Women</td>\n",
       "      <td>Women</td>\n",
       "      <td>length service</td>\n",
       "      <td>Denim</td>\n",
       "      <td>Pants Denim</td>\n",
       "      <td>280</td>\n",
       "      <td>140</td>\n",
       "    </tr>\n",
       "    <tr>\n",
       "      <th>48</th>\n",
       "      <td>010CC1B305</td>\n",
       "      <td>OTHER</td>\n",
       "      <td>Cotton</td>\n",
       "      <td>Women</td>\n",
       "      <td>Women</td>\n",
       "      <td>length service</td>\n",
       "      <td>Denim</td>\n",
       "      <td>Pants Denim</td>\n",
       "      <td>544</td>\n",
       "      <td>272</td>\n",
       "    </tr>\n",
       "  </tbody>\n",
       "</table>\n",
       "</div>"
      ],
      "text/plain": [
       "     ProductID Colour  ... Buys UniqueBuys\n",
       "0   010CA1O304  OTHER  ...   12          4\n",
       "3   010CA1Q302   BLUE  ...    4          2\n",
       "4   010CA1S301   BLUE  ...  117         37\n",
       "18  010CC1B302   GREY  ...  280        140\n",
       "48  010CC1B305  OTHER  ...  544        272\n",
       "\n",
       "[5 rows x 10 columns]"
      ]
     },
     "execution_count": 45,
     "metadata": {
      "tags": []
     },
     "output_type": "execute_result"
    }
   ],
   "source": [
    "productData.head()"
   ]
  },
  {
   "cell_type": "markdown",
   "metadata": {
    "id": "XT5zdt2NN3YA"
   },
   "source": [
    "from below we can understand t shirts and pants woven were the favourite choices."
   ]
  },
  {
   "cell_type": "code",
   "execution_count": null,
   "metadata": {
    "colab": {
     "base_uri": "https://localhost:8080/",
     "height": 760
    },
    "id": "STMuq-Lc2EFM",
    "outputId": "9f931152-b3d6-4788-dc76-27c4b34a25ba"
   },
   "outputs": [
    {
     "data": {
      "text/plain": [
       "<seaborn.axisgrid.FacetGrid at 0x7f02f4129dd0>"
      ]
     },
     "execution_count": 27,
     "metadata": {
      "tags": []
     },
     "output_type": "execute_result"
    },
    {
     "data": {
      "image/png": "[encoded data removed]",
      "text/plain": [
       "<Figure size 720x720 with 1 Axes>"
      ]
     },
     "metadata": {
      "needs_background": "light",
      "tags": []
     },
     "output_type": "display_data"
    }
   ],
   "source": [
    "sns.catplot(x=\"Buys\", y=\"Cluster\", data=productData,orient='h', height=10)"
   ]
  },
  {
   "cell_type": "markdown",
   "metadata": {
    "id": "iM92jw7_OIja"
   },
   "source": [
    "# Clustering\n",
    "\n",
    "\n"
   ]
  },
  {
   "cell_type": "markdown",
   "metadata": {
    "id": "FiXW2XREcVdQ"
   },
   "source": [
    "Clustering user and produc groups."
   ]
  },
  {
   "cell_type": "code",
   "execution_count": null,
   "metadata": {
    "id": "enjnYE93RmYc"
   },
   "outputs": [],
   "source": [
    "from sklearn.preprocessing import StandardScaler\n",
    "from sklearn.decomposition import TruncatedSVD\n",
    "from scipy.sparse import csr_matrix\n",
    "from sklearn import datasets\n",
    "import numpy as np"
   ]
  },
  {
   "cell_type": "code",
   "execution_count": null,
   "metadata": {
    "id": "utY348oRM_tG"
   },
   "outputs": [],
   "source": [
    "def select_n_components(var_ratio, goal_var):\n",
    "    total_variance = 0\n",
    "    n_components = 0\n",
    "    for explained_variance in var_ratio:\n",
    "        total_variance += explained_variance\n",
    "        n_components += 1\n",
    "        if total_variance >= goal_var:\n",
    "            break\n",
    "    return n_components"
   ]
  },
  {
   "cell_type": "code",
   "execution_count": null,
   "metadata": {
    "id": "frWjEd6cNGOe"
   },
   "outputs": [],
   "source": [
    "onehotprods=pd.get_dummies(productData.drop(['ProductID','Buys','UniqueBuys'],axis=1), drop_first=True)\n",
    "X_sparse = csr_matrix(onehotprods)\n",
    "tsvd = TruncatedSVD(n_components=X_sparse.shape[1]-1)\n",
    "X_tsvd = tsvd.fit(X_sparse)\n",
    "comps=select_n_components( tsvd.explained_variance_ratio_ , 0.95)"
   ]
  },
  {
   "cell_type": "code",
   "execution_count": null,
   "metadata": {
    "id": "s2otmqNYDTD0"
   },
   "outputs": [],
   "source": [
    "from sklearn.preprocessing import normalize\n",
    "userDataNorm=normalize(userData[['gender','age','Buys','UniqueBuys']], norm='l2')\n",
    "prods=TruncatedSVD(n_components=comps).fit_transform(X_sparse)\n",
    "productDataNorm=normalize(prods, norm='l2')"
   ]
  },
  {
   "cell_type": "code",
   "execution_count": null,
   "metadata": {
    "id": "BNx2AZfxFrod"
   },
   "outputs": [],
   "source": [
    "from sklearn.cluster import KMeans\n",
    "from sklearn.metrics import davies_bouldin_score,silhouette_score"
   ]
  },
  {
   "cell_type": "code",
   "execution_count": null,
   "metadata": {
    "id": "HJznNfGAF3Bg"
   },
   "outputs": [],
   "source": [
    "import numpy as np"
   ]
  },
  {
   "cell_type": "code",
   "execution_count": null,
   "metadata": {
    "id": "dg9VgSUmFRP7"
   },
   "outputs": [],
   "source": [
    "def cluster(datascaled):\n",
    "  scoresDBIndex=[]\n",
    "  scoresElbow=[]\n",
    "  scoresSilhoutte=[]\n",
    "  for i in range(2,20):\n",
    "    kmeans = KMeans(n_clusters=i, random_state=0,n_jobs=-1).fit(datascaled)\n",
    "    datafull=np.column_stack((datascaled,kmeans.labels_))\n",
    "    scoresDBIndex.append(round(davies_bouldin_score(datafull[:,:-1],datafull[:,-1]),2))\n",
    "    scoresElbow.append(round(kmeans.inertia_,2))\n",
    "    scoresSilhoutte.append(round(silhouette_score(datafull[:,:-1],datafull[:,-1]),2))\n",
    "  return scoresDBIndex,scoresElbow,scoresSilhoutte"
   ]
  },
  {
   "cell_type": "code",
   "execution_count": null,
   "metadata": {
    "colab": {
     "base_uri": "https://localhost:8080/"
    },
    "id": "2Fl1hc1HFwH-",
    "outputId": "8f169e90-e7eb-4138-8a9f-d3522d42e468"
   },
   "outputs": [
    {
     "name": "stdout",
     "output_type": "stream",
     "text": [
      "CPU times: user 14min 48s, sys: 1min 39s, total: 16min 28s\n",
      "Wall time: 12min 17s\n"
     ]
    }
   ],
   "source": [
    "%%time\n",
    "resUser=cluster(userDataNorm)"
   ]
  },
  {
   "cell_type": "code",
   "execution_count": null,
   "metadata": {
    "colab": {
     "base_uri": "https://localhost:8080/"
    },
    "id": "dxzqZ0QkR7BV",
    "outputId": "0788fb38-8703-46cb-f434-d6da9714648f"
   },
   "outputs": [
    {
     "name": "stdout",
     "output_type": "stream",
     "text": [
      "CPU times: user 21.1 s, sys: 12.7 s, total: 33.7 s\n",
      "Wall time: 17.3 s\n"
     ]
    }
   ],
   "source": [
    "%%time\n",
    "resProd=cluster(productDataNorm)"
   ]
  },
  {
   "cell_type": "code",
   "execution_count": null,
   "metadata": {
    "id": "nujWyIZKMAG7"
   },
   "outputs": [],
   "source": [
    "import matplotlib.pyplot as plt"
   ]
  },
  {
   "cell_type": "code",
   "execution_count": null,
   "metadata": {
    "colab": {
     "base_uri": "https://localhost:8080/",
     "height": 761
    },
    "id": "TtyaEucZF0GA",
    "outputId": "3f8568c3-3011-47f1-d216-eee63c83066a"
   },
   "outputs": [
    {
     "data": {
      "image/png": "[encoded data removed]",
      "text/plain": [
       "<Figure size 432x288 with 1 Axes>"
      ]
     },
     "metadata": {
      "needs_background": "light",
      "tags": []
     },
     "output_type": "display_data"
    },
    {
     "data": {
      "image/png": "[encoded data removed]",
      "text/plain": [
       "<Figure size 432x288 with 1 Axes>"
      ]
     },
     "metadata": {
      "needs_background": "light",
      "tags": []
     },
     "output_type": "display_data"
    },
    {
     "data": {
      "image/png": "[encoded data removed]",
      "text/plain": [
       "<Figure size 432x288 with 1 Axes>"
      ]
     },
     "metadata": {
      "needs_background": "light",
      "tags": []
     },
     "output_type": "display_data"
    }
   ],
   "source": [
    "for metric in resUser:\n",
    "  plt.xticks(np.array(range(len(metric)))+2)\n",
    "  plt.bar(x=np.array(range(len(metric)))+2,height=metric)\n",
    "  plt.show()"
   ]
  },
  {
   "cell_type": "code",
   "execution_count": null,
   "metadata": {
    "colab": {
     "base_uri": "https://localhost:8080/",
     "height": 761
    },
    "id": "TuqCm1z1SC1E",
    "outputId": "330f5caf-91be-4aaa-efae-70ac82b4429c"
   },
   "outputs": [
    {
     "data": {
      "image/png": "[encoded data removed]",
      "text/plain": [
       "<Figure size 432x288 with 1 Axes>"
      ]
     },
     "metadata": {
      "needs_background": "light",
      "tags": []
     },
     "output_type": "display_data"
    },
    {
     "data": {
      "image/png": "[encoded data removed]",
      "text/plain": [
       "<Figure size 432x288 with 1 Axes>"
      ]
     },
     "metadata": {
      "needs_background": "light",
      "tags": []
     },
     "output_type": "display_data"
    },
    {
     "data": {
      "image/png": "[encoded data removed]",
      "text/plain": [
       "<Figure size 432x288 with 1 Axes>"
      ]
     },
     "metadata": {
      "needs_background": "light",
      "tags": []
     },
     "output_type": "display_data"
    }
   ],
   "source": [
    "for metric in resProd:\n",
    "  plt.xticks(np.array(range(len(metric)))+2)\n",
    "  plt.bar(x=np.array(range(len(metric)))+2,height=metric)\n",
    "  plt.show()"
   ]
  },
  {
   "cell_type": "code",
   "execution_count": null,
   "metadata": {
    "id": "69e6nkBiGU1k"
   },
   "outputs": [],
   "source": [
    "kmeans = KMeans(n_clusters=4, random_state=0,n_jobs=-1).fit(userDataNorm)\n",
    "dataUser=np.column_stack((userDataNorm,kmeans.labels_))"
   ]
  },
  {
   "cell_type": "code",
   "execution_count": null,
   "metadata": {
    "id": "7289BTriTHQ2"
   },
   "outputs": [],
   "source": [
    "kmeans = KMeans(n_clusters=18, random_state=0,n_jobs=-1).fit(productDataNorm)\n",
    "dataProds=np.column_stack((productDataNorm,kmeans.labels_))"
   ]
  },
  {
   "cell_type": "code",
   "execution_count": null,
   "metadata": {
    "id": "KWut9n7eUmS7"
   },
   "outputs": [],
   "source": [
    "import seaborn as sns"
   ]
  },
  {
   "cell_type": "code",
   "execution_count": null,
   "metadata": {
    "colab": {
     "base_uri": "https://localhost:8080/",
     "height": 282
    },
    "id": "pPk7wgExUqyh",
    "outputId": "228c8386-7187-4bc5-d1e4-870d34c1308f"
   },
   "outputs": [
    {
     "data": {
      "text/plain": [
       "<matplotlib.axes._subplots.AxesSubplot at 0x7fd28dbcbe90>"
      ]
     },
     "execution_count": 47,
     "metadata": {
      "tags": []
     },
     "output_type": "execute_result"
    },
    {
     "data": {
      "image/png": "[encoded data removed]",
      "text/plain": [
       "<Figure size 432x288 with 1 Axes>"
      ]
     },
     "metadata": {
      "needs_background": "light",
      "tags": []
     },
     "output_type": "display_data"
    }
   ],
   "source": [
    "sns.countplot(dataUser[:,-1])"
   ]
  },
  {
   "cell_type": "code",
   "execution_count": null,
   "metadata": {
    "colab": {
     "base_uri": "https://localhost:8080/",
     "height": 500
    },
    "id": "F40VkJQeUGeR",
    "outputId": "973c4562-d39a-45f8-bca2-02d41e06d087"
   },
   "outputs": [
    {
     "data": {
      "text/plain": [
       "<matplotlib.axes._subplots.AxesSubplot at 0x7fd28e890b10>"
      ]
     },
     "execution_count": 57,
     "metadata": {
      "tags": []
     },
     "output_type": "execute_result"
    },
    {
     "data": {
      "image/png": "[encoded data removed]",
      "text/plain": [
       "<Figure size 576x576 with 1 Axes>"
      ]
     },
     "metadata": {
      "needs_background": "light",
      "tags": []
     },
     "output_type": "display_data"
    }
   ],
   "source": [
    "fig, ax = plt.subplots()\n",
    "fig.set_size_inches(8, 8)\n",
    "sns.countplot(dataProds[:,-1],ax=ax)"
   ]
  },
  {
   "cell_type": "markdown",
   "metadata": {
    "id": "-gyi_OspOfXm"
   },
   "source": [
    "# Popularity based recommender system"
   ]
  },
  {
   "cell_type": "code",
   "execution_count": null,
   "metadata": {
    "id": "ccPQhB42hdmN"
   },
   "outputs": [],
   "source": [
    "probs=getPopularProducts(20)"
   ]
  },
  {
   "cell_type": "code",
   "execution_count": null,
   "metadata": {
    "id": "i3sxBiT3UfCp"
   },
   "outputs": [],
   "source": [
    "topProds={}\n",
    "def getPopularProducts(n):\n",
    "  for i in range(4):\n",
    "    users=dataUser[:,-1]==i\n",
    "    uniqueProds=collabFiltering['MEMBERID'].isin(userData[users]['MEMBERID'].values)\n",
    "    topProds[i]=collabFiltering[uniqueProds].groupby('ProductID')['Count'].sum().reset_index().sort_values(by='Count',ascending=False)[:n]['ProductID'].values\n",
    "    probs=collabFiltering[uniqueProds].groupby('ProductID')['Count'].sum().reset_index().sort_values(by='Count',ascending=False)[:n]['Count'].values\n",
    "    probs=probs/probs.sum()\n",
    "  return probs"
   ]
  },
  {
   "cell_type": "code",
   "execution_count": null,
   "metadata": {
    "id": "p25luN_4Vcyr"
   },
   "outputs": [],
   "source": [
    "def getPredsForUser(topProds,user,probs,topN):\n",
    "  indx=userData['MEMBERID']==user\n",
    "  cluster=dataUser[indx,-1]\n",
    "  return np.random.choice(a=topProds[int(cluster)],size=topN,p=probs)"
   ]
  },
  {
   "cell_type": "code",
   "execution_count": null,
   "metadata": {
    "colab": {
     "base_uri": "https://localhost:8080/"
    },
    "id": "yxmu4cm9kEVt",
    "outputId": "65f4605c-41d2-4792-c513-223295e90c5b"
   },
   "outputs": [
    {
     "data": {
      "text/plain": [
       "array(['020EO1B314', '040EE1K418', '030EO1B310', '020EE1K308',\n",
       "       '020EE1K309'], dtype=object)"
      ]
     },
     "execution_count": 140,
     "metadata": {
      "tags": []
     },
     "output_type": "execute_result"
    }
   ],
   "source": [
    "getPredsForUser(topProds,178765,probs,5)"
   ]
  },
  {
   "cell_type": "code",
   "execution_count": null,
   "metadata": {
    "colab": {
     "base_uri": "https://localhost:8080/"
    },
    "id": "JSBWXyEyjUlH",
    "outputId": "a391d4b7-86c7-4622-8f8f-dd64e0c7e24c"
   },
   "outputs": [
    {
     "data": {
      "text/plain": [
       "array(['020EE1K311', '990EE1B303', '030EO1B308', '990EE1B303',\n",
       "       '040EE1K418'], dtype=object)"
      ]
     },
     "execution_count": 142,
     "metadata": {
      "tags": []
     },
     "output_type": "execute_result"
    }
   ],
   "source": [
    "getPredsForUser(topProds,771733,probs,5)"
   ]
  },
  {
   "cell_type": "code",
   "execution_count": null,
   "metadata": {
    "colab": {
     "base_uri": "https://localhost:8080/"
    },
    "id": "rc-AirmKnX92",
    "outputId": "ec85c8e0-539c-4289-d8b4-e32f214858b1"
   },
   "outputs": [
    {
     "name": "stdout",
     "output_type": "stream",
     "text": [
      "shell-init: error retrieving current directory: getcwd: cannot access parent directories: Transport endpoint is not connected\n",
      "The folder you are executing pip from can no longer be found.\n"
     ]
    }
   ],
   "source": [
    "!pip install wandb -q"
   ]
  },
  {
   "cell_type": "code",
   "execution_count": null,
   "metadata": {
    "colab": {
     "base_uri": "https://localhost:8080/"
    },
    "id": "BDqsq5R7gB87",
    "outputId": "392f2f65-2c67-4e59-d04c-d55799e1f850"
   },
   "outputs": [
    {
     "name": "stdout",
     "output_type": "stream",
     "text": [
      "<class 'pandas.core.frame.DataFrame'>\n",
      "Int64Index: 67872 entries, 0 to 786187\n",
      "Data columns (total 3 columns):\n",
      " #   Column    Non-Null Count  Dtype  \n",
      "---  ------    --------------  -----  \n",
      " 0   gender    67872 non-null  float64\n",
      " 1   age       67872 non-null  float64\n",
      " 2   MEMBERID  67872 non-null  float64\n",
      "dtypes: float64(3)\n",
      "memory usage: 2.1 MB\n"
     ]
    }
   ],
   "source": [
    "userData.info()"
   ]
  },
  {
   "cell_type": "code",
   "execution_count": 15,
   "metadata": {
    "id": "HVNu2WybX9bk"
   },
   "outputs": [],
   "source": [
    "combinedData=collabFiltering.set_index('MEMBERID').join(userData.drop(columns=['Buys', 'UniqueBuys'],axis=1).set_index('MEMBERID')).reset_index().set_index('ProductID').join(productData.drop(columns=['Buys', 'UniqueBuys'],axis=1).set_index('ProductID')).reset_index()"
   ]
  },
  {
   "cell_type": "markdown",
   "metadata": {
    "id": "fY6Mju7SO3eY"
   },
   "source": [
    "# xDeepFM"
   ]
  },
  {
   "cell_type": "markdown",
   "metadata": {
    "id": "VvyG5LguTKxQ"
   },
   "source": [
    "Factorization based models, which measure\n",
    "interactions in terms of vector product, can learn patterns of combinatorial features automatically and generalize to unseen features\n",
    "as well. With the great success of deep neural networks (DNNs)\n",
    "in various fields, recently researchers have proposed several DNNbased factorization model to learn both low- and high-order feature\n",
    "interactions. Despite the powerful ability of learning an arbitrary\n",
    "function from data, plain DNNs generate feature interactions implicitly and at the bit-wise level. In this paper, we propose a novel\n",
    "Compressed Interaction Network (CIN), which aims to generate\n",
    "feature interactions in an explicit fashion and at the vector-wise\n",
    "level. We further combine a CIN and a classical DNN into one\n",
    "unified model, and named this new model eXtreme Deep Factorization Machine (xDeepFM). On one hand, the xDeepFM is able\n",
    "to learn certain bounded-degree feature interactions explicitly; on\n",
    "the other hand, it can learn arbitrary low- and high-order feature\n",
    "interactions implicitly"
   ]
  },
  {
   "cell_type": "code",
   "execution_count": 16,
   "metadata": {
    "colab": {
     "base_uri": "https://localhost:8080/"
    },
    "id": "7r44_xdkYkfT",
    "outputId": "2570b564-bad6-479f-b700-c78a53728ced"
   },
   "outputs": [
    {
     "name": "stdout",
     "output_type": "stream",
     "text": [
      "Collecting deepctr\n",
      "\u001b[?25l  Downloading https://files.pythonhosted.org/packages/b2/c5/c010195a2f1a7da5f373334584b44fd9fa8e7ca3ae7084c5ac98e3a5fb84/deepctr-0.8.4-py3-none-any.whl (113kB)\n",
      "\r",
      "\u001b[K     |██▉                             | 10kB 14.7MB/s eta 0:00:01\r",
      "\u001b[K     |█████▊                          | 20kB 9.1MB/s eta 0:00:01\r",
      "\u001b[K     |████████▋                       | 30kB 6.2MB/s eta 0:00:01\r",
      "\u001b[K     |███████████▌                    | 40kB 3.1MB/s eta 0:00:01\r",
      "\u001b[K     |██████████████▍                 | 51kB 3.8MB/s eta 0:00:01\r",
      "\u001b[K     |█████████████████▎              | 61kB 4.4MB/s eta 0:00:01\r",
      "\u001b[K     |████████████████████▏           | 71kB 4.5MB/s eta 0:00:01\r",
      "\u001b[K     |███████████████████████         | 81kB 4.9MB/s eta 0:00:01\r",
      "\u001b[K     |██████████████████████████      | 92kB 5.3MB/s eta 0:00:01\r",
      "\u001b[K     |████████████████████████████▉   | 102kB 5.3MB/s eta 0:00:01\r",
      "\u001b[K     |███████████████████████████████▊| 112kB 5.3MB/s eta 0:00:01\r",
      "\u001b[K     |████████████████████████████████| 122kB 5.3MB/s \n",
      "\u001b[?25hRequirement already satisfied: requests in /usr/local/lib/python3.7/dist-packages (from deepctr) (2.23.0)\n",
      "Requirement already satisfied: h5py==2.10.0 in /usr/local/lib/python3.7/dist-packages (from deepctr) (2.10.0)\n",
      "Requirement already satisfied: idna<3,>=2.5 in /usr/local/lib/python3.7/dist-packages (from requests->deepctr) (2.10)\n",
      "Requirement already satisfied: certifi>=2017.4.17 in /usr/local/lib/python3.7/dist-packages (from requests->deepctr) (2020.12.5)\n",
      "Requirement already satisfied: chardet<4,>=3.0.2 in /usr/local/lib/python3.7/dist-packages (from requests->deepctr) (3.0.4)\n",
      "Requirement already satisfied: urllib3!=1.25.0,!=1.25.1,<1.26,>=1.21.1 in /usr/local/lib/python3.7/dist-packages (from requests->deepctr) (1.24.3)\n",
      "Requirement already satisfied: numpy>=1.7 in /usr/local/lib/python3.7/dist-packages (from h5py==2.10.0->deepctr) (1.19.5)\n",
      "Requirement already satisfied: six in /usr/local/lib/python3.7/dist-packages (from h5py==2.10.0->deepctr) (1.15.0)\n",
      "Installing collected packages: deepctr\n",
      "Successfully installed deepctr-0.8.4\n"
     ]
    }
   ],
   "source": [
    "!pip install deepctr"
   ]
  },
  {
   "cell_type": "code",
   "execution_count": 17,
   "metadata": {
    "colab": {
     "base_uri": "https://localhost:8080/"
    },
    "id": "FouI9ezlzO91",
    "outputId": "2735d620-ff0a-4602-8aef-c7b317987ee8"
   },
   "outputs": [
    {
     "name": "stdout",
     "output_type": "stream",
     "text": [
      "Collecting pytorch-tabnet\n",
      "  Downloading https://files.pythonhosted.org/packages/94/e5/2a808d611a5d44e3c997c0d07362c04a56c70002208e00aec9eee3d923b5/pytorch_tabnet-3.1.1-py3-none-any.whl\n",
      "Requirement already satisfied: scipy>1.4 in /usr/local/lib/python3.7/dist-packages (from pytorch-tabnet) (1.4.1)\n",
      "Requirement already satisfied: torch<2.0,>=1.2 in /usr/local/lib/python3.7/dist-packages (from pytorch-tabnet) (1.7.1+cu101)\n",
      "Requirement already satisfied: numpy<2.0,>=1.17 in /usr/local/lib/python3.7/dist-packages (from pytorch-tabnet) (1.19.5)\n",
      "Requirement already satisfied: tqdm<5.0,>=4.36 in /usr/local/lib/python3.7/dist-packages (from pytorch-tabnet) (4.41.1)\n",
      "Requirement already satisfied: scikit_learn>0.21 in /usr/local/lib/python3.7/dist-packages (from pytorch-tabnet) (0.22.2.post1)\n",
      "Requirement already satisfied: typing-extensions in /usr/local/lib/python3.7/dist-packages (from torch<2.0,>=1.2->pytorch-tabnet) (3.7.4.3)\n",
      "Requirement already satisfied: joblib>=0.11 in /usr/local/lib/python3.7/dist-packages (from scikit_learn>0.21->pytorch-tabnet) (1.0.1)\n",
      "Installing collected packages: pytorch-tabnet\n",
      "Successfully installed pytorch-tabnet-3.1.1\n"
     ]
    }
   ],
   "source": [
    "!pip install pytorch-tabnet"
   ]
  },
  {
   "cell_type": "code",
   "execution_count": 18,
   "metadata": {
    "colab": {
     "base_uri": "https://localhost:8080/"
    },
    "id": "GdxUXOjRlcEj",
    "outputId": "cdc93d48-af34-4276-a4f0-bfc20ccf73bd"
   },
   "outputs": [
    {
     "data": {
      "text/plain": [
       "MEMBERID     67872\n",
       "ProductID     3302\n",
       "Count           14\n",
       "dtype: int64"
      ]
     },
     "execution_count": 18,
     "metadata": {
      "tags": []
     },
     "output_type": "execute_result"
    }
   ],
   "source": [
    "collabFiltering.nunique()"
   ]
  },
  {
   "cell_type": "code",
   "execution_count": 19,
   "metadata": {
    "colab": {
     "base_uri": "https://localhost:8080/"
    },
    "id": "WAu3IYDBlgLn",
    "outputId": "8546d4ee-9a4a-4d80-dc82-336f795ffd64"
   },
   "outputs": [
    {
     "data": {
      "text/plain": [
       "ProductID         3302\n",
       "MEMBERID         67872\n",
       "Count               14\n",
       "gender               3\n",
       "age                 74\n",
       "Colour              15\n",
       "matherial           42\n",
       "product_group        6\n",
       "target_group         6\n",
       "features            90\n",
       "Category            17\n",
       "Cluster             33\n",
       "dtype: int64"
      ]
     },
     "execution_count": 19,
     "metadata": {
      "tags": []
     },
     "output_type": "execute_result"
    }
   ],
   "source": [
    "combinedData.nunique()"
   ]
  },
  {
   "cell_type": "code",
   "execution_count": null,
   "metadata": {
    "colab": {
     "base_uri": "https://localhost:8080/"
    },
    "id": "qAuEAaSjkoEe",
    "outputId": "1e3242d5-649b-45f6-914a-93a72946a207"
   },
   "outputs": [
    {
     "data": {
      "text/plain": [
       "(178765, 771733)"
      ]
     },
     "execution_count": 24,
     "metadata": {
      "tags": []
     },
     "output_type": "execute_result"
    }
   ],
   "source": [
    "178765,771733"
   ]
  },
  {
   "cell_type": "code",
   "execution_count": 20,
   "metadata": {
    "id": "r1HhQHq_qJkw"
   },
   "outputs": [],
   "source": [
    "user178765=userData[userData['MEMBERID']==178765].drop(columns=['Buys', 'UniqueBuys'],axis=1).assign(foo=1).merge(productData.drop(columns=['Buys', 'UniqueBuys'],axis=1).assign(foo=1)).drop('foo', 1)"
   ]
  },
  {
   "cell_type": "code",
   "execution_count": 21,
   "metadata": {
    "id": "JcvVb6j1z5Fj"
   },
   "outputs": [],
   "source": [
    "preds178765=user178765.copy()"
   ]
  },
  {
   "cell_type": "code",
   "execution_count": 22,
   "metadata": {
    "id": "egg1DwSEqrGI"
   },
   "outputs": [],
   "source": [
    "user771733=userData[userData['MEMBERID']==771733].drop(columns=['Buys', 'UniqueBuys'],axis=1).assign(foo=1).merge(productData.drop(columns=['Buys', 'UniqueBuys'],axis=1).assign(foo=1)).drop('foo', 1)"
   ]
  },
  {
   "cell_type": "code",
   "execution_count": 23,
   "metadata": {
    "id": "7i0PCDDbq3Vs"
   },
   "outputs": [],
   "source": [
    "preds771733=user771733.copy()"
   ]
  },
  {
   "cell_type": "code",
   "execution_count": 24,
   "metadata": {
    "colab": {
     "base_uri": "https://localhost:8080/",
     "height": 204
    },
    "id": "dOoupRefY46D",
    "outputId": "61902d9f-4008-44b1-ea9e-bd6d73a60ca0"
   },
   "outputs": [
    {
     "data": {
      "text/html": [
       "<div>\n",
       "<style scoped>\n",
       "    .dataframe tbody tr th:only-of-type {\n",
       "        vertical-align: middle;\n",
       "    }\n",
       "\n",
       "    .dataframe tbody tr th {\n",
       "        vertical-align: top;\n",
       "    }\n",
       "\n",
       "    .dataframe thead th {\n",
       "        text-align: right;\n",
       "    }\n",
       "</style>\n",
       "<table border=\"1\" class=\"dataframe\">\n",
       "  <thead>\n",
       "    <tr style=\"text-align: right;\">\n",
       "      <th></th>\n",
       "      <th>ProductID</th>\n",
       "      <th>MEMBERID</th>\n",
       "      <th>Count</th>\n",
       "      <th>gender</th>\n",
       "      <th>age</th>\n",
       "      <th>Colour</th>\n",
       "      <th>matherial</th>\n",
       "      <th>product_group</th>\n",
       "      <th>target_group</th>\n",
       "      <th>features</th>\n",
       "      <th>Category</th>\n",
       "      <th>Cluster</th>\n",
       "    </tr>\n",
       "  </thead>\n",
       "  <tbody>\n",
       "    <tr>\n",
       "      <th>0</th>\n",
       "      <td>010CA1O304</td>\n",
       "      <td>147522.0</td>\n",
       "      <td>3</td>\n",
       "      <td>2.0</td>\n",
       "      <td>43.0</td>\n",
       "      <td>OTHER</td>\n",
       "      <td>Cotton</td>\n",
       "      <td>Accessories</td>\n",
       "      <td>Women</td>\n",
       "      <td>backpack</td>\n",
       "      <td>Accessories hard</td>\n",
       "      <td>Bags Non-Leather</td>\n",
       "    </tr>\n",
       "    <tr>\n",
       "      <th>1</th>\n",
       "      <td>010CA1O304</td>\n",
       "      <td>3755899.0</td>\n",
       "      <td>3</td>\n",
       "      <td>2.0</td>\n",
       "      <td>58.0</td>\n",
       "      <td>OTHER</td>\n",
       "      <td>Cotton</td>\n",
       "      <td>Accessories</td>\n",
       "      <td>Women</td>\n",
       "      <td>backpack</td>\n",
       "      <td>Accessories hard</td>\n",
       "      <td>Bags Non-Leather</td>\n",
       "    </tr>\n",
       "    <tr>\n",
       "      <th>2</th>\n",
       "      <td>010CA1O304</td>\n",
       "      <td>6273937.0</td>\n",
       "      <td>3</td>\n",
       "      <td>2.0</td>\n",
       "      <td>40.0</td>\n",
       "      <td>OTHER</td>\n",
       "      <td>Cotton</td>\n",
       "      <td>Accessories</td>\n",
       "      <td>Women</td>\n",
       "      <td>backpack</td>\n",
       "      <td>Accessories hard</td>\n",
       "      <td>Bags Non-Leather</td>\n",
       "    </tr>\n",
       "    <tr>\n",
       "      <th>3</th>\n",
       "      <td>010CA1O304</td>\n",
       "      <td>6326114.0</td>\n",
       "      <td>3</td>\n",
       "      <td>2.0</td>\n",
       "      <td>52.0</td>\n",
       "      <td>OTHER</td>\n",
       "      <td>Cotton</td>\n",
       "      <td>Accessories</td>\n",
       "      <td>Women</td>\n",
       "      <td>backpack</td>\n",
       "      <td>Accessories hard</td>\n",
       "      <td>Bags Non-Leather</td>\n",
       "    </tr>\n",
       "    <tr>\n",
       "      <th>4</th>\n",
       "      <td>010CA1Q302</td>\n",
       "      <td>828374.0</td>\n",
       "      <td>2</td>\n",
       "      <td>2.0</td>\n",
       "      <td>33.0</td>\n",
       "      <td>BLUE</td>\n",
       "      <td>Polyester</td>\n",
       "      <td>Accessories</td>\n",
       "      <td>Women</td>\n",
       "      <td>shawls</td>\n",
       "      <td>Accessories soft</td>\n",
       "      <td>Shawls/Scarves</td>\n",
       "    </tr>\n",
       "  </tbody>\n",
       "</table>\n",
       "</div>"
      ],
      "text/plain": [
       "    ProductID   MEMBERID  Count  ...  features          Category           Cluster\n",
       "0  010CA1O304   147522.0      3  ...  backpack  Accessories hard  Bags Non-Leather\n",
       "1  010CA1O304  3755899.0      3  ...  backpack  Accessories hard  Bags Non-Leather\n",
       "2  010CA1O304  6273937.0      3  ...  backpack  Accessories hard  Bags Non-Leather\n",
       "3  010CA1O304  6326114.0      3  ...  backpack  Accessories hard  Bags Non-Leather\n",
       "4  010CA1Q302   828374.0      2  ...    shawls  Accessories soft    Shawls/Scarves\n",
       "\n",
       "[5 rows x 12 columns]"
      ]
     },
     "execution_count": 24,
     "metadata": {
      "tags": []
     },
     "output_type": "execute_result"
    }
   ],
   "source": [
    "combinedData.head()"
   ]
  },
  {
   "cell_type": "code",
   "execution_count": 25,
   "metadata": {
    "id": "d8rVIfuuYw3q"
   },
   "outputs": [],
   "source": [
    "import pandas as pd\n",
    "from sklearn.metrics import mean_squared_error\n",
    "from sklearn.model_selection import train_test_split\n",
    "from sklearn.preprocessing import LabelEncoder,MinMaxScaler\n",
    "\n",
    "from deepctr.models import xDeepFM\n",
    "from deepctr.feature_column import SparseFeat,get_feature_names,DenseFeat"
   ]
  },
  {
   "cell_type": "code",
   "execution_count": 26,
   "metadata": {
    "id": "Y1AA83iU0PTy"
   },
   "outputs": [],
   "source": [
    "lbegender = LabelEncoder()\n",
    "mnmxAge=MinMaxScaler(feature_range=(0, 1))\n",
    "lbeMEMBERID = LabelEncoder()\n",
    "lbeProductID = LabelEncoder()\n",
    "lbeColour = LabelEncoder()\n",
    "lbematherial = LabelEncoder()\n",
    "lbeproduct_group = LabelEncoder()\n",
    "lbetarget_group = LabelEncoder()\n",
    "lbefeatures = LabelEncoder()\n",
    "lbeCategory = LabelEncoder()\n",
    "lbeCluster = LabelEncoder()"
   ]
  },
  {
   "cell_type": "code",
   "execution_count": 27,
   "metadata": {
    "id": "uVyjx1j_7MS-"
   },
   "outputs": [],
   "source": [
    "categorical_dims =  {}"
   ]
  },
  {
   "cell_type": "code",
   "execution_count": 28,
   "metadata": {
    "id": "CpKKLbq-z_ds"
   },
   "outputs": [],
   "source": [
    "def feature_encoding(lbegender,mnmxAge,lbeMEMBERID,lbeProductID,lbeColour,lbematherial,lbeproduct_group,lbetarget_group,lbefeatures,lbeCategory,lbeCluster,fit,data,categorical_dims):\n",
    "    if(fit==1):\n",
    "      data['gender']=data['gender'].astype(str)\n",
    "      lbegender.fit(data[['gender']].values)\n",
    "      data['gender'] = lbegender.transform(data[['gender']].values)\n",
    "      categorical_dims['gender'] = len(lbegender.classes_)\n",
    "\n",
    "      mnmxAge.fit(data[['age']].values)\n",
    "      data['age'] = mnmxAge.transform(data[['age']].values)\n",
    "\n",
    "      data['MEMBERID']=data['MEMBERID'].astype(str)\n",
    "      lbeMEMBERID.fit(data[['MEMBERID']].values)\n",
    "      data['MEMBERID'] = lbeMEMBERID.transform(data[['MEMBERID']].values)\n",
    "      categorical_dims['MEMBERID'] = len(lbeMEMBERID.classes_)\n",
    "\n",
    "      data['ProductID']=data['ProductID'].astype(str)\n",
    "      lbeProductID.fit(data[['ProductID']].values)\n",
    "      data['ProductID'] = lbeProductID.transform(data[['ProductID']].values)\n",
    "      categorical_dims['ProductID'] = len(lbeProductID.classes_)\n",
    "\n",
    "      data['Colour']=data['Colour'].astype(str)\n",
    "      lbeColour.fit(data[['Colour']].values)\n",
    "      data['Colour'] = lbeColour.transform(data[['Colour']].values)\n",
    "      categorical_dims['Colour'] = len(lbeColour.classes_)\n",
    "\n",
    "      data['matherial']=data['matherial'].astype(str)\n",
    "      lbematherial.fit(data[['matherial']].values)\n",
    "      data['matherial'] = lbematherial.transform(data[['matherial']].values)\n",
    "      categorical_dims['matherial'] = len(lbematherial.classes_)\n",
    "\n",
    "      data['product_group']=data['product_group'].astype(str)\n",
    "      lbeproduct_group.fit(data[['product_group']].values)\n",
    "      data['product_group'] = lbeproduct_group.transform(data[['product_group']].values)\n",
    "      categorical_dims['product_group'] = len(lbeproduct_group.classes_)\n",
    "\n",
    "\n",
    "      data['target_group']=data['target_group'].astype(str)\n",
    "      lbetarget_group.fit(data[['target_group']].values)\n",
    "      data['target_group'] = lbetarget_group.transform(data[['target_group']].values)\n",
    "      categorical_dims['target_group'] = len(lbetarget_group.classes_)\n",
    "\n",
    "      data['features']=data['features'].astype(str)\n",
    "      lbefeatures.fit(data[['features']].values)\n",
    "      data['features'] = lbefeatures.transform(data[['features']].values)\n",
    "      categorical_dims['features'] = len(lbefeatures.classes_)\n",
    "\n",
    "      data['Category']=data['Category'].astype(str)\n",
    "      lbeCategory.fit(data[['Category']].values)\n",
    "      data['Category'] = lbeCategory.transform(data[['Category']].values)\n",
    "      categorical_dims['Category'] = len(lbeCategory.classes_)\n",
    "\n",
    "      data['Cluster']=data['Cluster'].astype(str)\n",
    "      lbeCluster.fit(data[['Cluster']].values)\n",
    "      data['Cluster'] = lbeCluster.transform(data[['Cluster']].values)\n",
    "      categorical_dims['Cluster'] = len(lbeCluster.classes_)\n",
    "\n",
    "    else:\n",
    "      data['gender']=data['gender'].astype(str)\n",
    "      data['gender'] = lbegender.transform(data[['gender']].values)\n",
    "      data['age']=data['age'].astype(int)\n",
    "      data['age'] = mnmxAge.transform(data[['age']].values)\n",
    "      data['MEMBERID']=data['MEMBERID'].astype(str)\n",
    "      data['MEMBERID'] = lbeMEMBERID.transform(data[['MEMBERID']].values)\n",
    "      data['ProductID']=data['ProductID'].astype(str)\n",
    "      data['ProductID'] = lbeProductID.transform(data[['ProductID']].values)\n",
    "      data['Colour']=data['Colour'].astype(str)\n",
    "      data['Colour'] = lbeColour.transform(data[['Colour']].values)\n",
    "      data['matherial']=data['matherial'].astype(str)\n",
    "      data['matherial'] = lbematherial.transform(data[['matherial']].values)\n",
    "      data['product_group']=data['product_group'].astype(str)\n",
    "      data['product_group'] = lbeproduct_group.transform(data[['product_group']].values)\n",
    "      data['target_group']=data['target_group'].astype(str)\n",
    "      data['target_group'] = lbetarget_group.transform(data[['target_group']].values)\n",
    "      data['features']=data['features'].astype(str)\n",
    "      data['features'] = lbefeatures.transform(data[['features']].values)\n",
    "      data['Category']=data['Category'].astype(str)\n",
    "      data['Category'] = lbeCategory.transform(data[['Category']].values)\n",
    "      data['Cluster']=data['Cluster'].astype(str)\n",
    "      data['Cluster'] = lbeCluster.transform(data[['Cluster']].values)\n"
   ]
  },
  {
   "cell_type": "code",
   "execution_count": 29,
   "metadata": {
    "id": "4fk_hOTu3FGm"
   },
   "outputs": [],
   "source": [
    "data=combinedData.copy()"
   ]
  },
  {
   "cell_type": "code",
   "execution_count": 30,
   "metadata": {
    "colab": {
     "base_uri": "https://localhost:8080/"
    },
    "id": "Q0BlcbNR2-vT",
    "outputId": "af462f93-f730-4513-dcc4-fe8c28c104a7"
   },
   "outputs": [
    {
     "name": "stderr",
     "output_type": "stream",
     "text": [
      "/usr/local/lib/python3.7/dist-packages/sklearn/preprocessing/_label.py:235: DataConversionWarning: A column-vector y was passed when a 1d array was expected. Please change the shape of y to (n_samples, ), for example using ravel().\n",
      "  y = column_or_1d(y, warn=True)\n",
      "/usr/local/lib/python3.7/dist-packages/sklearn/preprocessing/_label.py:268: DataConversionWarning: A column-vector y was passed when a 1d array was expected. Please change the shape of y to (n_samples, ), for example using ravel().\n",
      "  y = column_or_1d(y, warn=True)\n",
      "/usr/local/lib/python3.7/dist-packages/sklearn/preprocessing/_label.py:235: DataConversionWarning: A column-vector y was passed when a 1d array was expected. Please change the shape of y to (n_samples, ), for example using ravel().\n",
      "  y = column_or_1d(y, warn=True)\n",
      "/usr/local/lib/python3.7/dist-packages/sklearn/preprocessing/_label.py:268: DataConversionWarning: A column-vector y was passed when a 1d array was expected. Please change the shape of y to (n_samples, ), for example using ravel().\n",
      "  y = column_or_1d(y, warn=True)\n"
     ]
    }
   ],
   "source": [
    "feature_encoding(lbegender,mnmxAge,lbeMEMBERID,lbeProductID,lbeColour,lbematherial,lbeproduct_group,lbetarget_group,lbefeatures,lbeCategory,lbeCluster,1,data,categorical_dims)"
   ]
  },
  {
   "cell_type": "code",
   "execution_count": 31,
   "metadata": {
    "id": "BobKLxmv_E_j"
   },
   "outputs": [],
   "source": [
    "from keras.optimizers import Adam"
   ]
  },
  {
   "cell_type": "code",
   "execution_count": 32,
   "metadata": {
    "colab": {
     "base_uri": "https://localhost:8080/"
    },
    "id": "NKJLFLMfYnYt",
    "outputId": "39e74c45-6245-418c-9af0-bb578a6cdc74"
   },
   "outputs": [
    {
     "name": "stdout",
     "output_type": "stream",
     "text": [
      "Epoch 1/2\n",
      "710/710 [==============================] - 36s 38ms/step - loss: 6.6033 - mse: 6.6033 - val_loss: 1.5627 - val_mse: 1.5626\n",
      "Epoch 2/2\n",
      "710/710 [==============================] - 26s 36ms/step - loss: 1.4131 - mse: 1.4130 - val_loss: 1.5554 - val_mse: 1.5552\n",
      "test MSE 1.6104\n"
     ]
    }
   ],
   "source": [
    "sparse_features = [\"MEMBERID\", \"ProductID\",\"gender\",  \"Colour\", \"matherial\",'product_group','target_group','features','Category','Cluster']\n",
    "dense_features = ['age']\n",
    "target = ['Count']\n",
    "fixlen_feature_columns = [SparseFeat(feat, data[feat].nunique(),embedding_dim=16) for feat in sparse_features]+[DenseFeat(feat, 1,) for feat in dense_features]\n",
    "\n",
    "linear_feature_columns = fixlen_feature_columns\n",
    "dnn_feature_columns = fixlen_feature_columns\n",
    "feature_names = get_feature_names(linear_feature_columns + dnn_feature_columns)\n",
    "\n",
    "train, test = train_test_split(data, test_size=0.05, random_state=28)\n",
    "train_model_input = {name:train[name].values for name in feature_names}\n",
    "test_model_input = {name:test[name].values for name in feature_names}\n",
    "\n",
    "model = xDeepFM(linear_feature_columns, dnn_feature_columns, task='regression')\n",
    "model.compile(Adam(learning_rate=1e-4), \"mse\", metrics=['mse'])\n",
    "\n",
    "history = model.fit(train_model_input, train[target].values,batch_size=256, epochs=2, verbose=1, validation_split=0.1)\n",
    "pred_ans = model.predict(test_model_input, batch_size=256)\n",
    "print(\"test MSE\", round(mean_squared_error(test[target].values, pred_ans), 4))"
   ]
  },
  {
   "cell_type": "code",
   "execution_count": null,
   "metadata": {
    "colab": {
     "base_uri": "https://localhost:8080/"
    },
    "id": "gw1CU5N6AtbM",
    "outputId": "5390de02-1bf4-44c4-88b7-297a720ab5f0"
   },
   "outputs": [
    {
     "data": {
      "text/plain": [
       "{'Category': array([ 3,  3, 15, ...,  7,  3,  3]),\n",
       " 'Cluster': array([28, 28, 30, ...,  8, 28, 28]),\n",
       " 'Colour': array([ 0,  6,  6, ...,  5,  8, 13]),\n",
       " 'MEMBERID': array([55865, 48168, 66464, ...,  1085, 29943,  4402]),\n",
       " 'ProductID': array([ 398, 1642, 1374, ...,  833,  395, 1810]),\n",
       " 'age': array([0.6       , 0.46666667, 0.71111111, ..., 0.55555556, 0.4       ,\n",
       "        0.37777778]),\n",
       " 'features': array([66,  1, 71, ..., 42, 66, 66]),\n",
       " 'gender': array([2, 2, 2, ..., 2, 2, 2]),\n",
       " 'matherial': array([ 4,  4, 23, ..., 14,  4,  4]),\n",
       " 'product_group': array([5, 5, 1, ..., 5, 5, 5]),\n",
       " 'target_group': array([5, 5, 5, ..., 5, 5, 5])}"
      ]
     },
     "execution_count": 29,
     "metadata": {
      "tags": []
     },
     "output_type": "execute_result"
    }
   ],
   "source": [
    "test_model_input"
   ]
  },
  {
   "cell_type": "code",
   "execution_count": 33,
   "metadata": {
    "colab": {
     "base_uri": "https://localhost:8080/"
    },
    "id": "tAtaER725zB0",
    "outputId": "fe654d76-85db-4079-a867-811015835173"
   },
   "outputs": [
    {
     "name": "stderr",
     "output_type": "stream",
     "text": [
      "/usr/local/lib/python3.7/dist-packages/sklearn/preprocessing/_label.py:268: DataConversionWarning: A column-vector y was passed when a 1d array was expected. Please change the shape of y to (n_samples, ), for example using ravel().\n",
      "  y = column_or_1d(y, warn=True)\n",
      "/usr/local/lib/python3.7/dist-packages/sklearn/preprocessing/_label.py:268: DataConversionWarning: A column-vector y was passed when a 1d array was expected. Please change the shape of y to (n_samples, ), for example using ravel().\n",
      "  y = column_or_1d(y, warn=True)\n",
      "/usr/local/lib/python3.7/dist-packages/sklearn/preprocessing/_label.py:268: DataConversionWarning: A column-vector y was passed when a 1d array was expected. Please change the shape of y to (n_samples, ), for example using ravel().\n",
      "  y = column_or_1d(y, warn=True)\n"
     ]
    }
   ],
   "source": [
    "feature_encoding(lbegender,mnmxAge,lbeMEMBERID,lbeProductID,lbeColour,lbematherial,lbeproduct_group,lbetarget_group,lbefeatures,lbeCategory,lbeCluster,0,user178765,categorical_dims)\n",
    "feature_encoding(lbegender,mnmxAge,lbeMEMBERID,lbeProductID,lbeColour,lbematherial,lbeproduct_group,lbetarget_group,lbefeatures,lbeCategory,lbeCluster,0,user771733,categorical_dims)"
   ]
  },
  {
   "cell_type": "code",
   "execution_count": 34,
   "metadata": {
    "id": "N6o2AcGs_fNq"
   },
   "outputs": [],
   "source": [
    "test_model_input178765 = {name:user178765[name].values for name in feature_names}\n",
    "results178765=model.predict(test_model_input178765)\n",
    "test_model_input771733 = {name:user771733[name].values for name in feature_names}\n",
    "results771733=model.predict(test_model_input771733)"
   ]
  },
  {
   "cell_type": "code",
   "execution_count": 35,
   "metadata": {
    "id": "Jb2VlqMIBRlG"
   },
   "outputs": [],
   "source": [
    "preds178765['PredsxDeepFM']=results178765"
   ]
  },
  {
   "cell_type": "code",
   "execution_count": 36,
   "metadata": {
    "id": "Umb3n74CBe4i"
   },
   "outputs": [],
   "source": [
    "preds771733['PredsxDeepFM']=results771733"
   ]
  },
  {
   "cell_type": "code",
   "execution_count": 37,
   "metadata": {
    "colab": {
     "base_uri": "https://localhost:8080/",
     "height": 204
    },
    "id": "NJN7OISWEFLb",
    "outputId": "ca62e78d-f73c-4c68-c251-f18ba2f2562f"
   },
   "outputs": [
    {
     "data": {
      "text/html": [
       "<div>\n",
       "<style scoped>\n",
       "    .dataframe tbody tr th:only-of-type {\n",
       "        vertical-align: middle;\n",
       "    }\n",
       "\n",
       "    .dataframe tbody tr th {\n",
       "        vertical-align: top;\n",
       "    }\n",
       "\n",
       "    .dataframe thead th {\n",
       "        text-align: right;\n",
       "    }\n",
       "</style>\n",
       "<table border=\"1\" class=\"dataframe\">\n",
       "  <thead>\n",
       "    <tr style=\"text-align: right;\">\n",
       "      <th></th>\n",
       "      <th>gender</th>\n",
       "      <th>age</th>\n",
       "      <th>MEMBERID</th>\n",
       "      <th>ProductID</th>\n",
       "      <th>Colour</th>\n",
       "      <th>matherial</th>\n",
       "      <th>product_group</th>\n",
       "      <th>target_group</th>\n",
       "      <th>features</th>\n",
       "      <th>Category</th>\n",
       "      <th>Cluster</th>\n",
       "      <th>PredsxDeepFM</th>\n",
       "    </tr>\n",
       "  </thead>\n",
       "  <tbody>\n",
       "    <tr>\n",
       "      <th>0</th>\n",
       "      <td>2.0</td>\n",
       "      <td>51.0</td>\n",
       "      <td>178765.0</td>\n",
       "      <td>010CA1O304</td>\n",
       "      <td>OTHER</td>\n",
       "      <td>Cotton</td>\n",
       "      <td>Accessories</td>\n",
       "      <td>Women</td>\n",
       "      <td>backpack</td>\n",
       "      <td>Accessories hard</td>\n",
       "      <td>Bags Non-Leather</td>\n",
       "      <td>2.237521</td>\n",
       "    </tr>\n",
       "    <tr>\n",
       "      <th>1</th>\n",
       "      <td>2.0</td>\n",
       "      <td>51.0</td>\n",
       "      <td>178765.0</td>\n",
       "      <td>010CA1Q302</td>\n",
       "      <td>BLUE</td>\n",
       "      <td>Polyester</td>\n",
       "      <td>Accessories</td>\n",
       "      <td>Women</td>\n",
       "      <td>shawls</td>\n",
       "      <td>Accessories soft</td>\n",
       "      <td>Shawls/Scarves</td>\n",
       "      <td>2.225422</td>\n",
       "    </tr>\n",
       "    <tr>\n",
       "      <th>2</th>\n",
       "      <td>2.0</td>\n",
       "      <td>51.0</td>\n",
       "      <td>178765.0</td>\n",
       "      <td>010CA1S301</td>\n",
       "      <td>BLUE</td>\n",
       "      <td>Buffalo Split Leather</td>\n",
       "      <td>Accessories</td>\n",
       "      <td>Women</td>\n",
       "      <td>belts cm</td>\n",
       "      <td>Accessories hard</td>\n",
       "      <td>Belts</td>\n",
       "      <td>2.104673</td>\n",
       "    </tr>\n",
       "    <tr>\n",
       "      <th>3</th>\n",
       "      <td>2.0</td>\n",
       "      <td>51.0</td>\n",
       "      <td>178765.0</td>\n",
       "      <td>010CC1B302</td>\n",
       "      <td>GREY</td>\n",
       "      <td>Cotton</td>\n",
       "      <td>Women</td>\n",
       "      <td>Women</td>\n",
       "      <td>length service</td>\n",
       "      <td>Denim</td>\n",
       "      <td>Pants Denim</td>\n",
       "      <td>1.536121</td>\n",
       "    </tr>\n",
       "    <tr>\n",
       "      <th>4</th>\n",
       "      <td>2.0</td>\n",
       "      <td>51.0</td>\n",
       "      <td>178765.0</td>\n",
       "      <td>010CC1B305</td>\n",
       "      <td>OTHER</td>\n",
       "      <td>Cotton</td>\n",
       "      <td>Women</td>\n",
       "      <td>Women</td>\n",
       "      <td>length service</td>\n",
       "      <td>Denim</td>\n",
       "      <td>Pants Denim</td>\n",
       "      <td>1.562388</td>\n",
       "    </tr>\n",
       "  </tbody>\n",
       "</table>\n",
       "</div>"
      ],
      "text/plain": [
       "   gender   age  MEMBERID  ...          Category           Cluster PredsxDeepFM\n",
       "0     2.0  51.0  178765.0  ...  Accessories hard  Bags Non-Leather     2.237521\n",
       "1     2.0  51.0  178765.0  ...  Accessories soft    Shawls/Scarves     2.225422\n",
       "2     2.0  51.0  178765.0  ...  Accessories hard             Belts     2.104673\n",
       "3     2.0  51.0  178765.0  ...             Denim       Pants Denim     1.536121\n",
       "4     2.0  51.0  178765.0  ...             Denim       Pants Denim     1.562388\n",
       "\n",
       "[5 rows x 12 columns]"
      ]
     },
     "execution_count": 37,
     "metadata": {
      "tags": []
     },
     "output_type": "execute_result"
    }
   ],
   "source": [
    "preds178765.head()"
   ]
  },
  {
   "cell_type": "code",
   "execution_count": 38,
   "metadata": {
    "colab": {
     "base_uri": "https://localhost:8080/",
     "height": 204
    },
    "id": "F1c0FiLNrnjS",
    "outputId": "16089817-c704-4f72-ad89-afe08234e0b2"
   },
   "outputs": [
    {
     "data": {
      "text/html": [
       "<div>\n",
       "<style scoped>\n",
       "    .dataframe tbody tr th:only-of-type {\n",
       "        vertical-align: middle;\n",
       "    }\n",
       "\n",
       "    .dataframe tbody tr th {\n",
       "        vertical-align: top;\n",
       "    }\n",
       "\n",
       "    .dataframe thead th {\n",
       "        text-align: right;\n",
       "    }\n",
       "</style>\n",
       "<table border=\"1\" class=\"dataframe\">\n",
       "  <thead>\n",
       "    <tr style=\"text-align: right;\">\n",
       "      <th></th>\n",
       "      <th>gender</th>\n",
       "      <th>age</th>\n",
       "      <th>MEMBERID</th>\n",
       "      <th>ProductID</th>\n",
       "      <th>Colour</th>\n",
       "      <th>matherial</th>\n",
       "      <th>product_group</th>\n",
       "      <th>target_group</th>\n",
       "      <th>features</th>\n",
       "      <th>Category</th>\n",
       "      <th>Cluster</th>\n",
       "      <th>PredsxDeepFM</th>\n",
       "    </tr>\n",
       "  </thead>\n",
       "  <tbody>\n",
       "    <tr>\n",
       "      <th>0</th>\n",
       "      <td>2.0</td>\n",
       "      <td>42.0</td>\n",
       "      <td>771733.0</td>\n",
       "      <td>010CA1O304</td>\n",
       "      <td>OTHER</td>\n",
       "      <td>Cotton</td>\n",
       "      <td>Accessories</td>\n",
       "      <td>Women</td>\n",
       "      <td>backpack</td>\n",
       "      <td>Accessories hard</td>\n",
       "      <td>Bags Non-Leather</td>\n",
       "      <td>2.737335</td>\n",
       "    </tr>\n",
       "    <tr>\n",
       "      <th>1</th>\n",
       "      <td>2.0</td>\n",
       "      <td>42.0</td>\n",
       "      <td>771733.0</td>\n",
       "      <td>010CA1Q302</td>\n",
       "      <td>BLUE</td>\n",
       "      <td>Polyester</td>\n",
       "      <td>Accessories</td>\n",
       "      <td>Women</td>\n",
       "      <td>shawls</td>\n",
       "      <td>Accessories soft</td>\n",
       "      <td>Shawls/Scarves</td>\n",
       "      <td>2.690987</td>\n",
       "    </tr>\n",
       "    <tr>\n",
       "      <th>2</th>\n",
       "      <td>2.0</td>\n",
       "      <td>42.0</td>\n",
       "      <td>771733.0</td>\n",
       "      <td>010CA1S301</td>\n",
       "      <td>BLUE</td>\n",
       "      <td>Buffalo Split Leather</td>\n",
       "      <td>Accessories</td>\n",
       "      <td>Women</td>\n",
       "      <td>belts cm</td>\n",
       "      <td>Accessories hard</td>\n",
       "      <td>Belts</td>\n",
       "      <td>2.557454</td>\n",
       "    </tr>\n",
       "    <tr>\n",
       "      <th>3</th>\n",
       "      <td>2.0</td>\n",
       "      <td>42.0</td>\n",
       "      <td>771733.0</td>\n",
       "      <td>010CC1B302</td>\n",
       "      <td>GREY</td>\n",
       "      <td>Cotton</td>\n",
       "      <td>Women</td>\n",
       "      <td>Women</td>\n",
       "      <td>length service</td>\n",
       "      <td>Denim</td>\n",
       "      <td>Pants Denim</td>\n",
       "      <td>1.694690</td>\n",
       "    </tr>\n",
       "    <tr>\n",
       "      <th>4</th>\n",
       "      <td>2.0</td>\n",
       "      <td>42.0</td>\n",
       "      <td>771733.0</td>\n",
       "      <td>010CC1B305</td>\n",
       "      <td>OTHER</td>\n",
       "      <td>Cotton</td>\n",
       "      <td>Women</td>\n",
       "      <td>Women</td>\n",
       "      <td>length service</td>\n",
       "      <td>Denim</td>\n",
       "      <td>Pants Denim</td>\n",
       "      <td>1.722045</td>\n",
       "    </tr>\n",
       "  </tbody>\n",
       "</table>\n",
       "</div>"
      ],
      "text/plain": [
       "   gender   age  MEMBERID  ...          Category           Cluster PredsxDeepFM\n",
       "0     2.0  42.0  771733.0  ...  Accessories hard  Bags Non-Leather     2.737335\n",
       "1     2.0  42.0  771733.0  ...  Accessories soft    Shawls/Scarves     2.690987\n",
       "2     2.0  42.0  771733.0  ...  Accessories hard             Belts     2.557454\n",
       "3     2.0  42.0  771733.0  ...             Denim       Pants Denim     1.694690\n",
       "4     2.0  42.0  771733.0  ...             Denim       Pants Denim     1.722045\n",
       "\n",
       "[5 rows x 12 columns]"
      ]
     },
     "execution_count": 38,
     "metadata": {
      "tags": []
     },
     "output_type": "execute_result"
    }
   ],
   "source": [
    "preds771733.head()"
   ]
  },
  {
   "cell_type": "markdown",
   "metadata": {
    "id": "w6f_dtT6WBW0"
   },
   "source": [
    "\n",
    "# TABNET"
   ]
  },
  {
   "cell_type": "markdown",
   "metadata": {
    "id": "q7RvgNgMWGvO"
   },
   "source": [
    "TabNet uses sequential attention to choose which features to reason\n",
    "from at each decision step, enabling interpretability and more\n",
    "efficient learning as the learning capacity is used for the most\n",
    "salient features."
   ]
  },
  {
   "cell_type": "markdown",
   "metadata": {
    "id": "tTOTxJkZWWpZ"
   },
   "source": [
    "We pretrain the model then using it we train our regressor."
   ]
  },
  {
   "cell_type": "code",
   "execution_count": 39,
   "metadata": {
    "id": "huf2_ZM3E7tV"
   },
   "outputs": [],
   "source": [
    "X_train = train.drop('Count',axis=1)\n",
    "y_train = train['Count'].values.reshape(-1, 1)\n",
    "\n",
    "X_valid = test.drop('Count',axis=1)\n",
    "y_valid = test['Count'].values.reshape(-1, 1)"
   ]
  },
  {
   "cell_type": "code",
   "execution_count": 40,
   "metadata": {
    "id": "AcuUpj2NBqlL"
   },
   "outputs": [],
   "source": [
    "features = [ col for col in X_train.columns ] \n",
    "\n",
    "cat_idxs = [ i for i, f in enumerate(features) if f in sparse_features]\n",
    "\n",
    "cat_dims = [ categorical_dims[f] for i, f in enumerate(features) if f in sparse_features]\n"
   ]
  },
  {
   "cell_type": "code",
   "execution_count": 41,
   "metadata": {
    "id": "eL0z9BC8EoWT"
   },
   "outputs": [],
   "source": [
    "import torch"
   ]
  },
  {
   "cell_type": "code",
   "execution_count": 42,
   "metadata": {
    "id": "zP9zvoE9EZTx"
   },
   "outputs": [],
   "source": [
    "from pytorch_tabnet.pretraining import TabNetPretrainer\n",
    "from pytorch_tabnet.tab_model import TabNetRegressor"
   ]
  },
  {
   "cell_type": "code",
   "execution_count": 43,
   "metadata": {
    "colab": {
     "base_uri": "https://localhost:8080/"
    },
    "id": "e5hXYRjAdF6q",
    "outputId": "f01d407d-94b7-4721-f25d-14bd4b4edc3d"
   },
   "outputs": [
    {
     "data": {
      "text/plain": [
       "[3302, 67872, 3, 16, 43, 7, 7, 91, 18, 34]"
      ]
     },
     "execution_count": 43,
     "metadata": {
      "tags": []
     },
     "output_type": "execute_result"
    }
   ],
   "source": [
    "cat_dims"
   ]
  },
  {
   "cell_type": "code",
   "execution_count": 44,
   "metadata": {
    "id": "FEWT88dYdEL4"
   },
   "outputs": [],
   "source": [
    "cat_emb_dim = [32, 64,2, 8, 8, 2,2,8, 8, 8]"
   ]
  },
  {
   "cell_type": "code",
   "execution_count": 45,
   "metadata": {
    "colab": {
     "base_uri": "https://localhost:8080/"
    },
    "id": "wrTmRTZiEONY",
    "outputId": "2d9d0560-d5d0-4f23-9e83-882327d05d71"
   },
   "outputs": [
    {
     "name": "stdout",
     "output_type": "stream",
     "text": [
      "Device used : cuda\n"
     ]
    }
   ],
   "source": [
    "unsupervised_model = TabNetPretrainer(\n",
    "    cat_idxs=cat_idxs,\n",
    "    cat_dims=cat_dims,\n",
    "    cat_emb_dim=cat_emb_dim,\n",
    "    optimizer_fn=torch.optim.Adam,\n",
    "    optimizer_params=dict(lr=1e-3),\n",
    "    mask_type='entmax' # \"sparsemax\"\n",
    ")"
   ]
  },
  {
   "cell_type": "code",
   "execution_count": 46,
   "metadata": {
    "colab": {
     "base_uri": "https://localhost:8080/"
    },
    "id": "gKz5ieOHEwhJ",
    "outputId": "0dee10c5-6b94-4584-8e73-95ae42b2c4f4"
   },
   "outputs": [
    {
     "name": "stdout",
     "output_type": "stream",
     "text": [
      "epoch 0  | loss: 1.38828 | val_0_unsup_loss: 1.02841 |  0:00:51s\n",
      "epoch 1  | loss: 1.01323 | val_0_unsup_loss: 1.00654 |  0:01:42s\n",
      "epoch 2  | loss: 1.00342 | val_0_unsup_loss: 1.00144 |  0:02:34s\n",
      "epoch 3  | loss: 1.00083 | val_0_unsup_loss: 0.9965  |  0:03:26s\n",
      "epoch 4  | loss: 0.99586 | val_0_unsup_loss: 0.96427 |  0:04:18s\n",
      "epoch 5  | loss: 0.95759 | val_0_unsup_loss: 0.91266 |  0:05:10s\n",
      "epoch 6  | loss: 0.8998  | val_0_unsup_loss: 0.86415 |  0:06:01s\n",
      "epoch 7  | loss: 0.85387 | val_0_unsup_loss: 0.82604 |  0:06:53s\n",
      "epoch 8  | loss: 0.82051 | val_0_unsup_loss: 0.7972  |  0:07:45s\n",
      "epoch 9  | loss: 0.80024 | val_0_unsup_loss: 0.7797  |  0:08:37s\n",
      "Stop training because you reached max_epochs = 10 with best_epoch = 9 and best_val_0_unsup_loss = 0.7797\n",
      "Best weights from best epoch are automatically used!\n"
     ]
    }
   ],
   "source": [
    "unsupervised_model.fit(\n",
    "    X_train=X_train.values,\n",
    "    eval_set=[X_valid.values],\n",
    "    max_epochs=10 , patience=2,\n",
    "    batch_size=256, virtual_batch_size=128,\n",
    "    num_workers=4,\n",
    "    drop_last=False,\n",
    "    pretraining_ratio=0.8\n",
    ")"
   ]
  },
  {
   "cell_type": "code",
   "execution_count": 47,
   "metadata": {
    "colab": {
     "base_uri": "https://localhost:8080/"
    },
    "id": "3PQUgLddDGU4",
    "outputId": "5a4fc749-5734-4128-c130-73bdd50ca13c"
   },
   "outputs": [
    {
     "name": "stdout",
     "output_type": "stream",
     "text": [
      "Device used : cuda\n"
     ]
    }
   ],
   "source": [
    "batch_size=512\n",
    "max_epochs=20\n",
    "reg = TabNetRegressor(cat_dims=cat_dims, cat_emb_dim=cat_emb_dim, cat_idxs=cat_idxs,\n",
    "                       optimizer_fn=torch.optim.Adam, # Any optimizer works here\n",
    "                       optimizer_params=dict(lr=1e-3),\n",
    "                       scheduler_fn=torch.optim.lr_scheduler.OneCycleLR,\n",
    "                       scheduler_params={\"is_batch_level\":True,\n",
    "                                         \"max_lr\":1e-3,\n",
    "                                         \"steps_per_epoch\":int(train.shape[0] / batch_size)+1,\n",
    "                                         \"epochs\":max_epochs\n",
    "                                          },\n",
    "                       mask_type='entmax')"
   ]
  },
  {
   "cell_type": "code",
   "execution_count": 48,
   "metadata": {
    "colab": {
     "base_uri": "https://localhost:8080/"
    },
    "id": "zpEhAeqyIQd8",
    "outputId": "3369e089-0089-4937-cc99-6d66957791f6"
   },
   "outputs": [
    {
     "name": "stdout",
     "output_type": "stream",
     "text": [
      "epoch 0  | loss: 18.91781| train_rmsle: 1.73712 | train_mae: 3.59658 | train_rmse: 4.0807  | train_mse: 16.65214| valid_rmsle: 1.75556 | valid_mae: 3.62313 | valid_rmse: 4.11499 | valid_mse: 16.93316|  0:00:38s\n",
      "epoch 1  | loss: 13.38149| train_rmsle: 0.76863 | train_mae: 2.55413 | train_rmse: 3.1432  | train_mse: 9.87968 | valid_rmsle: 0.78853 | valid_mae: 2.58328 | valid_rmse: 3.18618 | valid_mse: 10.15175|  0:01:16s\n",
      "epoch 2  | loss: 6.40709 | train_rmsle: 0.15214 | train_mae: 1.45646 | train_rmse: 2.01241 | train_mse: 4.04979 | valid_rmsle: 0.16117 | valid_mae: 1.50294 | valid_rmse: 2.07335 | valid_mse: 4.29876 |  0:01:54s\n",
      "epoch 3  | loss: 3.42005 | train_rmsle: 0.10997 | train_mae: 1.33221 | train_rmse: 1.73908 | train_mse: 3.02439 | valid_rmsle: 0.11643 | valid_mae: 1.37679 | valid_rmse: 1.78973 | valid_mse: 3.20313 |  0:02:33s\n",
      "epoch 4  | loss: 2.96976 | train_rmsle: 0.10122 | train_mae: 1.29924 | train_rmse: 1.66859 | train_mse: 2.78418 | valid_rmsle: 0.10706 | valid_mae: 1.34399 | valid_rmse: 1.7164  | valid_mse: 2.94602 |  0:03:11s\n",
      "epoch 5  | loss: 2.76463 | train_rmsle: 0.09288 | train_mae: 1.23827 | train_rmse: 1.61293 | train_mse: 2.60154 | valid_rmsle: 0.09778 | valid_mae: 1.27246 | valid_rmse: 1.65709 | valid_mse: 2.74594 |  0:03:49s\n",
      "epoch 6  | loss: 2.59255 | train_rmsle: 0.08666 | train_mae: 1.19129 | train_rmse: 1.55841 | train_mse: 2.42864 | valid_rmsle: 0.09154 | valid_mae: 1.22796 | valid_rmse: 1.60419 | valid_mse: 2.57343 |  0:04:28s\n",
      "epoch 7  | loss: 2.42255 | train_rmsle: 0.08022 | train_mae: 1.13112 | train_rmse: 1.49973 | train_mse: 2.2492  | valid_rmsle: 0.08488 | valid_mae: 1.16719 | valid_rmse: 1.54575 | valid_mse: 2.38936 |  0:05:07s\n",
      "epoch 8  | loss: 2.2491  | train_rmsle: 0.07397 | train_mae: 1.06325 | train_rmse: 1.44302 | train_mse: 2.08232 | valid_rmsle: 0.07898 | valid_mae: 1.10247 | valid_rmse: 1.4936  | valid_mse: 2.23084 |  0:05:45s\n",
      "epoch 9  | loss: 2.10232 | train_rmsle: 0.06991 | train_mae: 1.02234 | train_rmse: 1.3956  | train_mse: 1.94769 | valid_rmsle: 0.07519 | valid_mae: 1.06527 | valid_rmse: 1.45225 | valid_mse: 2.10904 |  0:06:25s\n",
      "epoch 10 | loss: 1.98005 | train_rmsle: 0.06516 | train_mae: 0.96813 | train_rmse: 1.354   | train_mse: 1.83332 | valid_rmsle: 0.07111 | valid_mae: 1.01548 | valid_rmse: 1.41675 | valid_mse: 2.00718 |  0:07:03s\n",
      "epoch 11 | loss: 1.88307 | train_rmsle: 0.06161 | train_mae: 0.92746 | train_rmse: 1.32272 | train_mse: 1.74959 | valid_rmsle: 0.06829 | valid_mae: 0.98188 | valid_rmse: 1.39611 | valid_mse: 1.94911 |  0:07:41s\n",
      "epoch 12 | loss: 1.81564 | train_rmsle: 0.05951 | train_mae: 0.90368 | train_rmse: 1.29977 | train_mse: 1.6894  | valid_rmsle: 0.06692 | valid_mae: 0.96348 | valid_rmse: 1.38232 | valid_mse: 1.91082 |  0:08:20s\n",
      "epoch 13 | loss: 1.7623  | train_rmsle: 0.05815 | train_mae: 0.8886  | train_rmse: 1.28229 | train_mse: 1.64426 | valid_rmsle: 0.06626 | valid_mae: 0.95412 | valid_rmse: 1.37399 | valid_mse: 1.88784 |  0:08:59s\n",
      "epoch 14 | loss: 1.7204  | train_rmsle: 0.05675 | train_mae: 0.8714  | train_rmse: 1.2689  | train_mse: 1.61012 | valid_rmsle: 0.06547 | valid_mae: 0.94226 | valid_rmse: 1.36823 | valid_mse: 1.87206 |  0:09:38s\n",
      "epoch 15 | loss: 1.69646 | train_rmsle: 0.05622 | train_mae: 0.86579 | train_rmse: 1.25996 | train_mse: 1.58751 | valid_rmsle: 0.06524 | valid_mae: 0.93952 | valid_rmse: 1.36312 | valid_mse: 1.85811 |  0:10:16s\n",
      "epoch 16 | loss: 1.67365 | train_rmsle: 0.05552 | train_mae: 0.85691 | train_rmse: 1.25431 | train_mse: 1.57331 | valid_rmsle: 0.0649  | valid_mae: 0.9339  | valid_rmse: 1.36164 | valid_mse: 1.85406 |  0:10:55s\n",
      "epoch 17 | loss: 1.65818 | train_rmsle: 0.05516 | train_mae: 0.85292 | train_rmse: 1.25156 | train_mse: 1.5664  | valid_rmsle: 0.06477 | valid_mae: 0.93165 | valid_rmse: 1.36125 | valid_mse: 1.853   |  0:11:34s\n",
      "epoch 18 | loss: 1.65606 | train_rmsle: 0.05519 | train_mae: 0.85284 | train_rmse: 1.24985 | train_mse: 1.56212 | valid_rmsle: 0.06487 | valid_mae: 0.9324  | valid_rmse: 1.36101 | valid_mse: 1.85236 |  0:12:12s\n",
      "epoch 19 | loss: 1.6564  | train_rmsle: 0.05506 | train_mae: 0.85151 | train_rmse: 1.25005 | train_mse: 1.56262 | valid_rmsle: 0.06473 | valid_mae: 0.93091 | valid_rmse: 1.36118 | valid_mse: 1.85281 |  0:12:51s\n",
      "Stop training because you reached max_epochs = 20 with best_epoch = 18 and best_valid_mse = 1.85236\n",
      "Best weights from best epoch are automatically used!\n"
     ]
    }
   ],
   "source": [
    "reg.fit(\n",
    "    X_train=X_train.values, y_train=y_train,\n",
    "    eval_set=[(X_train.values, y_train), (X_valid.values, y_valid)],\n",
    "    eval_name=['train', 'valid'],\n",
    "    eval_metric=['rmsle', 'mae', 'rmse', 'mse'],\n",
    "    max_epochs=max_epochs,\n",
    "    patience=2,\n",
    "    batch_size=batch_size, virtual_batch_size=128,\n",
    "    num_workers=4,\n",
    "    drop_last=False\n",
    ")"
   ]
  },
  {
   "cell_type": "code",
   "execution_count": null,
   "metadata": {
    "id": "mV0j3GVBj8A_"
   },
   "outputs": [],
   "source": [
    "imp=dict(zip(features, reg.feature_importances_))"
   ]
  },
  {
   "cell_type": "code",
   "execution_count": null,
   "metadata": {
    "id": "UDAXNwX7kMyK"
   },
   "outputs": [],
   "source": [
    "imp={k: v for k, v in sorted(imp.items(), key=lambda item: item[1])}"
   ]
  },
  {
   "cell_type": "code",
   "execution_count": null,
   "metadata": {
    "colab": {
     "base_uri": "https://localhost:8080/",
     "height": 609
    },
    "id": "SFEfyIX_KclY",
    "outputId": "1582bf13-5da8-4ab8-87c0-0ae169150c35"
   },
   "outputs": [
    {
     "data": {
      "text/plain": [
       "<BarContainer object of 11 artists>"
      ]
     },
     "execution_count": 92,
     "metadata": {
      "tags": []
     },
     "output_type": "execute_result"
    },
    {
     "data": {
      "image/png": "[encoded data removed]",
      "text/plain": [
       "<Figure size 720x720 with 1 Axes>"
      ]
     },
     "metadata": {
      "needs_background": "light",
      "tags": []
     },
     "output_type": "display_data"
    }
   ],
   "source": [
    "plt.barh(list(imp.keys()), list(imp.values()), align='center')"
   ]
  },
  {
   "cell_type": "code",
   "execution_count": 49,
   "metadata": {
    "colab": {
     "base_uri": "https://localhost:8080/",
     "height": 419
    },
    "id": "4ugcUhnayrur",
    "outputId": "b666472e-0b9a-4566-8376-7d96147cec94"
   },
   "outputs": [
    {
     "data": {
      "text/html": [
       "<div>\n",
       "<style scoped>\n",
       "    .dataframe tbody tr th:only-of-type {\n",
       "        vertical-align: middle;\n",
       "    }\n",
       "\n",
       "    .dataframe tbody tr th {\n",
       "        vertical-align: top;\n",
       "    }\n",
       "\n",
       "    .dataframe thead th {\n",
       "        text-align: right;\n",
       "    }\n",
       "</style>\n",
       "<table border=\"1\" class=\"dataframe\">\n",
       "  <thead>\n",
       "    <tr style=\"text-align: right;\">\n",
       "      <th></th>\n",
       "      <th>ProductID</th>\n",
       "      <th>MEMBERID</th>\n",
       "      <th>gender</th>\n",
       "      <th>age</th>\n",
       "      <th>Colour</th>\n",
       "      <th>matherial</th>\n",
       "      <th>product_group</th>\n",
       "      <th>target_group</th>\n",
       "      <th>features</th>\n",
       "      <th>Category</th>\n",
       "      <th>Cluster</th>\n",
       "    </tr>\n",
       "  </thead>\n",
       "  <tbody>\n",
       "    <tr>\n",
       "      <th>0</th>\n",
       "      <td>0</td>\n",
       "      <td>8968</td>\n",
       "      <td>2</td>\n",
       "      <td>0.566667</td>\n",
       "      <td>8</td>\n",
       "      <td>4</td>\n",
       "      <td>0</td>\n",
       "      <td>5</td>\n",
       "      <td>7</td>\n",
       "      <td>0</td>\n",
       "      <td>3</td>\n",
       "    </tr>\n",
       "    <tr>\n",
       "      <th>1</th>\n",
       "      <td>1</td>\n",
       "      <td>8968</td>\n",
       "      <td>2</td>\n",
       "      <td>0.566667</td>\n",
       "      <td>2</td>\n",
       "      <td>24</td>\n",
       "      <td>0</td>\n",
       "      <td>5</td>\n",
       "      <td>64</td>\n",
       "      <td>1</td>\n",
       "      <td>20</td>\n",
       "    </tr>\n",
       "    <tr>\n",
       "      <th>2</th>\n",
       "      <td>2</td>\n",
       "      <td>8968</td>\n",
       "      <td>2</td>\n",
       "      <td>0.566667</td>\n",
       "      <td>2</td>\n",
       "      <td>2</td>\n",
       "      <td>0</td>\n",
       "      <td>5</td>\n",
       "      <td>14</td>\n",
       "      <td>0</td>\n",
       "      <td>5</td>\n",
       "    </tr>\n",
       "    <tr>\n",
       "      <th>3</th>\n",
       "      <td>3</td>\n",
       "      <td>8968</td>\n",
       "      <td>2</td>\n",
       "      <td>0.566667</td>\n",
       "      <td>5</td>\n",
       "      <td>4</td>\n",
       "      <td>5</td>\n",
       "      <td>5</td>\n",
       "      <td>34</td>\n",
       "      <td>4</td>\n",
       "      <td>16</td>\n",
       "    </tr>\n",
       "    <tr>\n",
       "      <th>4</th>\n",
       "      <td>4</td>\n",
       "      <td>8968</td>\n",
       "      <td>2</td>\n",
       "      <td>0.566667</td>\n",
       "      <td>8</td>\n",
       "      <td>4</td>\n",
       "      <td>5</td>\n",
       "      <td>5</td>\n",
       "      <td>34</td>\n",
       "      <td>4</td>\n",
       "      <td>16</td>\n",
       "    </tr>\n",
       "    <tr>\n",
       "      <th>...</th>\n",
       "      <td>...</td>\n",
       "      <td>...</td>\n",
       "      <td>...</td>\n",
       "      <td>...</td>\n",
       "      <td>...</td>\n",
       "      <td>...</td>\n",
       "      <td>...</td>\n",
       "      <td>...</td>\n",
       "      <td>...</td>\n",
       "      <td>...</td>\n",
       "      <td>...</td>\n",
       "    </tr>\n",
       "    <tr>\n",
       "      <th>3172</th>\n",
       "      <td>3297</td>\n",
       "      <td>8968</td>\n",
       "      <td>2</td>\n",
       "      <td>0.566667</td>\n",
       "      <td>9</td>\n",
       "      <td>24</td>\n",
       "      <td>5</td>\n",
       "      <td>5</td>\n",
       "      <td>56</td>\n",
       "      <td>8</td>\n",
       "      <td>11</td>\n",
       "    </tr>\n",
       "    <tr>\n",
       "      <th>3173</th>\n",
       "      <td>3298</td>\n",
       "      <td>8968</td>\n",
       "      <td>2</td>\n",
       "      <td>0.566667</td>\n",
       "      <td>8</td>\n",
       "      <td>34</td>\n",
       "      <td>5</td>\n",
       "      <td>5</td>\n",
       "      <td>66</td>\n",
       "      <td>3</td>\n",
       "      <td>28</td>\n",
       "    </tr>\n",
       "    <tr>\n",
       "      <th>3174</th>\n",
       "      <td>3299</td>\n",
       "      <td>8968</td>\n",
       "      <td>2</td>\n",
       "      <td>0.566667</td>\n",
       "      <td>2</td>\n",
       "      <td>4</td>\n",
       "      <td>5</td>\n",
       "      <td>5</td>\n",
       "      <td>38</td>\n",
       "      <td>3</td>\n",
       "      <td>28</td>\n",
       "    </tr>\n",
       "    <tr>\n",
       "      <th>3175</th>\n",
       "      <td>3300</td>\n",
       "      <td>8968</td>\n",
       "      <td>2</td>\n",
       "      <td>0.566667</td>\n",
       "      <td>5</td>\n",
       "      <td>24</td>\n",
       "      <td>5</td>\n",
       "      <td>5</td>\n",
       "      <td>56</td>\n",
       "      <td>3</td>\n",
       "      <td>15</td>\n",
       "    </tr>\n",
       "    <tr>\n",
       "      <th>3176</th>\n",
       "      <td>3301</td>\n",
       "      <td>8968</td>\n",
       "      <td>2</td>\n",
       "      <td>0.566667</td>\n",
       "      <td>2</td>\n",
       "      <td>4</td>\n",
       "      <td>2</td>\n",
       "      <td>4</td>\n",
       "      <td>38</td>\n",
       "      <td>7</td>\n",
       "      <td>21</td>\n",
       "    </tr>\n",
       "  </tbody>\n",
       "</table>\n",
       "<p>3177 rows × 11 columns</p>\n",
       "</div>"
      ],
      "text/plain": [
       "      ProductID  MEMBERID  gender  ...  features  Category  Cluster\n",
       "0             0      8968       2  ...         7         0        3\n",
       "1             1      8968       2  ...        64         1       20\n",
       "2             2      8968       2  ...        14         0        5\n",
       "3             3      8968       2  ...        34         4       16\n",
       "4             4      8968       2  ...        34         4       16\n",
       "...         ...       ...     ...  ...       ...       ...      ...\n",
       "3172       3297      8968       2  ...        56         8       11\n",
       "3173       3298      8968       2  ...        66         3       28\n",
       "3174       3299      8968       2  ...        38         3       28\n",
       "3175       3300      8968       2  ...        56         3       15\n",
       "3176       3301      8968       2  ...        38         7       21\n",
       "\n",
       "[3177 rows x 11 columns]"
      ]
     },
     "execution_count": 49,
     "metadata": {
      "tags": []
     },
     "output_type": "execute_result"
    }
   ],
   "source": [
    "userTAB178765=user178765[['ProductID','MEMBERID','gender','age','Colour','matherial','product_group','target_group','features','Category','Cluster']]\n",
    "userTAB178765"
   ]
  },
  {
   "cell_type": "code",
   "execution_count": 55,
   "metadata": {
    "id": "iP8s3WZSKRc0"
   },
   "outputs": [],
   "source": [
    "import matplotlib.pyplot as plt\n"
   ]
  },
  {
   "cell_type": "code",
   "execution_count": 56,
   "metadata": {
    "colab": {
     "base_uri": "https://localhost:8080/",
     "height": 213
    },
    "id": "HAor-Ff7Tvt2",
    "outputId": "2c08943d-d54b-44a8-a6e9-af2946a07544"
   },
   "outputs": [
    {
     "data": {
      "image/png": "[encoded data removed]",
      "text/plain": [
       "<Figure size 720x720 with 3 Axes>"
      ]
     },
     "metadata": {
      "needs_background": "light",
      "tags": []
     },
     "output_type": "display_data"
    }
   ],
   "source": [
    "explain_matrix, masks = reg.explain(userTAB178765.values)\n",
    "fig, axs = plt.subplots(1, 3, figsize=(10,10))\n",
    "\n",
    "for i in range(3):\n",
    "    axs[i].imshow(masks[i][:10])\n",
    "    axs[i].set_title(f\"mask {i}\")"
   ]
  },
  {
   "cell_type": "code",
   "execution_count": 50,
   "metadata": {
    "id": "uJBbkHDZvO_N"
   },
   "outputs": [],
   "source": [
    "preds178765['TABNET']=reg.predict(userTAB178765.values)"
   ]
  },
  {
   "cell_type": "code",
   "execution_count": null,
   "metadata": {
    "colab": {
     "base_uri": "https://localhost:8080/",
     "height": 309
    },
    "id": "oheXPists6ZB",
    "outputId": "1dc365a1-5e8c-4973-dfd5-9c9acc0b9177"
   },
   "outputs": [
    {
     "data": {
      "text/html": [
       "<div>\n",
       "<style scoped>\n",
       "    .dataframe tbody tr th:only-of-type {\n",
       "        vertical-align: middle;\n",
       "    }\n",
       "\n",
       "    .dataframe tbody tr th {\n",
       "        vertical-align: top;\n",
       "    }\n",
       "\n",
       "    .dataframe thead th {\n",
       "        text-align: right;\n",
       "    }\n",
       "</style>\n",
       "<table border=\"1\" class=\"dataframe\">\n",
       "  <thead>\n",
       "    <tr style=\"text-align: right;\">\n",
       "      <th></th>\n",
       "      <th>gender</th>\n",
       "      <th>age</th>\n",
       "      <th>MEMBERID</th>\n",
       "      <th>ProductID</th>\n",
       "      <th>Colour</th>\n",
       "      <th>matherial</th>\n",
       "      <th>product_group</th>\n",
       "      <th>target_group</th>\n",
       "      <th>features</th>\n",
       "      <th>Category</th>\n",
       "      <th>Cluster</th>\n",
       "      <th>PredsxDeepFM</th>\n",
       "      <th>TABNET</th>\n",
       "    </tr>\n",
       "  </thead>\n",
       "  <tbody>\n",
       "    <tr>\n",
       "      <th>0</th>\n",
       "      <td>2.0</td>\n",
       "      <td>51.0</td>\n",
       "      <td>178765.0</td>\n",
       "      <td>010CA1O304</td>\n",
       "      <td>OTHER</td>\n",
       "      <td>Cotton</td>\n",
       "      <td>Accessories</td>\n",
       "      <td>Women</td>\n",
       "      <td>backpack</td>\n",
       "      <td>Accessories hard</td>\n",
       "      <td>Bags Non-Leather</td>\n",
       "      <td>2.253060</td>\n",
       "      <td>3.220370</td>\n",
       "    </tr>\n",
       "    <tr>\n",
       "      <th>1</th>\n",
       "      <td>2.0</td>\n",
       "      <td>51.0</td>\n",
       "      <td>178765.0</td>\n",
       "      <td>010CA1Q302</td>\n",
       "      <td>BLUE</td>\n",
       "      <td>Polyester</td>\n",
       "      <td>Accessories</td>\n",
       "      <td>Women</td>\n",
       "      <td>shawls</td>\n",
       "      <td>Accessories soft</td>\n",
       "      <td>Shawls/Scarves</td>\n",
       "      <td>2.323148</td>\n",
       "      <td>3.112500</td>\n",
       "    </tr>\n",
       "    <tr>\n",
       "      <th>2</th>\n",
       "      <td>2.0</td>\n",
       "      <td>51.0</td>\n",
       "      <td>178765.0</td>\n",
       "      <td>010CA1S301</td>\n",
       "      <td>BLUE</td>\n",
       "      <td>Buffalo Split Leather</td>\n",
       "      <td>Accessories</td>\n",
       "      <td>Women</td>\n",
       "      <td>belts cm</td>\n",
       "      <td>Accessories hard</td>\n",
       "      <td>Belts</td>\n",
       "      <td>2.206944</td>\n",
       "      <td>2.699850</td>\n",
       "    </tr>\n",
       "    <tr>\n",
       "      <th>3</th>\n",
       "      <td>2.0</td>\n",
       "      <td>51.0</td>\n",
       "      <td>178765.0</td>\n",
       "      <td>010CC1B302</td>\n",
       "      <td>GREY</td>\n",
       "      <td>Cotton</td>\n",
       "      <td>Women</td>\n",
       "      <td>Women</td>\n",
       "      <td>length service</td>\n",
       "      <td>Denim</td>\n",
       "      <td>Pants Denim</td>\n",
       "      <td>1.583255</td>\n",
       "      <td>2.939901</td>\n",
       "    </tr>\n",
       "    <tr>\n",
       "      <th>4</th>\n",
       "      <td>2.0</td>\n",
       "      <td>51.0</td>\n",
       "      <td>178765.0</td>\n",
       "      <td>010CC1B305</td>\n",
       "      <td>OTHER</td>\n",
       "      <td>Cotton</td>\n",
       "      <td>Women</td>\n",
       "      <td>Women</td>\n",
       "      <td>length service</td>\n",
       "      <td>Denim</td>\n",
       "      <td>Pants Denim</td>\n",
       "      <td>1.607694</td>\n",
       "      <td>2.143070</td>\n",
       "    </tr>\n",
       "  </tbody>\n",
       "</table>\n",
       "</div>"
      ],
      "text/plain": [
       "   gender   age  MEMBERID  ...           Cluster PredsxDeepFM    TABNET\n",
       "0     2.0  51.0  178765.0  ...  Bags Non-Leather     2.253060  3.220370\n",
       "1     2.0  51.0  178765.0  ...    Shawls/Scarves     2.323148  3.112500\n",
       "2     2.0  51.0  178765.0  ...             Belts     2.206944  2.699850\n",
       "3     2.0  51.0  178765.0  ...       Pants Denim     1.583255  2.939901\n",
       "4     2.0  51.0  178765.0  ...       Pants Denim     1.607694  2.143070\n",
       "\n",
       "[5 rows x 13 columns]"
      ]
     },
     "execution_count": 98,
     "metadata": {
      "tags": []
     },
     "output_type": "execute_result"
    }
   ],
   "source": [
    "preds178765.head()"
   ]
  },
  {
   "cell_type": "code",
   "execution_count": 51,
   "metadata": {
    "id": "h0pYlwGa42DQ"
   },
   "outputs": [],
   "source": [
    "userTAB771733=user771733[['ProductID','MEMBERID','gender','age','Colour','matherial','product_group','target_group','features','Category','Cluster']]"
   ]
  },
  {
   "cell_type": "code",
   "execution_count": 57,
   "metadata": {
    "colab": {
     "base_uri": "https://localhost:8080/",
     "height": 213
    },
    "id": "_o5gs8tST6dP",
    "outputId": "43d0b673-687d-4519-9346-dd6d5265e0be"
   },
   "outputs": [
    {
     "data": {
      "image/png": "[encoded data removed]",
      "text/plain": [
       "<Figure size 720x720 with 3 Axes>"
      ]
     },
     "metadata": {
      "needs_background": "light",
      "tags": []
     },
     "output_type": "display_data"
    }
   ],
   "source": [
    "explain_matrix, masks = reg.explain(userTAB771733.values)\n",
    "fig, axs = plt.subplots(1, 3, figsize=(10,10))\n",
    "\n",
    "for i in range(3):\n",
    "    axs[i].imshow(masks[i][:10])\n",
    "    axs[i].set_title(f\"mask {i}\")"
   ]
  },
  {
   "cell_type": "code",
   "execution_count": 52,
   "metadata": {
    "id": "izVKIi8Ws9gC"
   },
   "outputs": [],
   "source": [
    "preds771733['TABNET']=reg.predict(userTAB771733.values)"
   ]
  },
  {
   "cell_type": "code",
   "execution_count": 53,
   "metadata": {
    "colab": {
     "base_uri": "https://localhost:8080/",
     "height": 204
    },
    "id": "rX1CjlqO5AtI",
    "outputId": "babb0020-9071-4f1b-d377-f23e7e2cb43b"
   },
   "outputs": [
    {
     "data": {
      "text/html": [
       "<div>\n",
       "<style scoped>\n",
       "    .dataframe tbody tr th:only-of-type {\n",
       "        vertical-align: middle;\n",
       "    }\n",
       "\n",
       "    .dataframe tbody tr th {\n",
       "        vertical-align: top;\n",
       "    }\n",
       "\n",
       "    .dataframe thead th {\n",
       "        text-align: right;\n",
       "    }\n",
       "</style>\n",
       "<table border=\"1\" class=\"dataframe\">\n",
       "  <thead>\n",
       "    <tr style=\"text-align: right;\">\n",
       "      <th></th>\n",
       "      <th>gender</th>\n",
       "      <th>age</th>\n",
       "      <th>MEMBERID</th>\n",
       "      <th>ProductID</th>\n",
       "      <th>Colour</th>\n",
       "      <th>matherial</th>\n",
       "      <th>product_group</th>\n",
       "      <th>target_group</th>\n",
       "      <th>features</th>\n",
       "      <th>Category</th>\n",
       "      <th>Cluster</th>\n",
       "      <th>PredsxDeepFM</th>\n",
       "      <th>TABNET</th>\n",
       "    </tr>\n",
       "  </thead>\n",
       "  <tbody>\n",
       "    <tr>\n",
       "      <th>0</th>\n",
       "      <td>2.0</td>\n",
       "      <td>42.0</td>\n",
       "      <td>771733.0</td>\n",
       "      <td>010CA1O304</td>\n",
       "      <td>OTHER</td>\n",
       "      <td>Cotton</td>\n",
       "      <td>Accessories</td>\n",
       "      <td>Women</td>\n",
       "      <td>backpack</td>\n",
       "      <td>Accessories hard</td>\n",
       "      <td>Bags Non-Leather</td>\n",
       "      <td>2.737335</td>\n",
       "      <td>4.995235</td>\n",
       "    </tr>\n",
       "    <tr>\n",
       "      <th>1</th>\n",
       "      <td>2.0</td>\n",
       "      <td>42.0</td>\n",
       "      <td>771733.0</td>\n",
       "      <td>010CA1Q302</td>\n",
       "      <td>BLUE</td>\n",
       "      <td>Polyester</td>\n",
       "      <td>Accessories</td>\n",
       "      <td>Women</td>\n",
       "      <td>shawls</td>\n",
       "      <td>Accessories soft</td>\n",
       "      <td>Shawls/Scarves</td>\n",
       "      <td>2.690987</td>\n",
       "      <td>3.850037</td>\n",
       "    </tr>\n",
       "    <tr>\n",
       "      <th>2</th>\n",
       "      <td>2.0</td>\n",
       "      <td>42.0</td>\n",
       "      <td>771733.0</td>\n",
       "      <td>010CA1S301</td>\n",
       "      <td>BLUE</td>\n",
       "      <td>Buffalo Split Leather</td>\n",
       "      <td>Accessories</td>\n",
       "      <td>Women</td>\n",
       "      <td>belts cm</td>\n",
       "      <td>Accessories hard</td>\n",
       "      <td>Belts</td>\n",
       "      <td>2.557454</td>\n",
       "      <td>3.507605</td>\n",
       "    </tr>\n",
       "    <tr>\n",
       "      <th>3</th>\n",
       "      <td>2.0</td>\n",
       "      <td>42.0</td>\n",
       "      <td>771733.0</td>\n",
       "      <td>010CC1B302</td>\n",
       "      <td>GREY</td>\n",
       "      <td>Cotton</td>\n",
       "      <td>Women</td>\n",
       "      <td>Women</td>\n",
       "      <td>length service</td>\n",
       "      <td>Denim</td>\n",
       "      <td>Pants Denim</td>\n",
       "      <td>1.694690</td>\n",
       "      <td>2.068795</td>\n",
       "    </tr>\n",
       "    <tr>\n",
       "      <th>4</th>\n",
       "      <td>2.0</td>\n",
       "      <td>42.0</td>\n",
       "      <td>771733.0</td>\n",
       "      <td>010CC1B305</td>\n",
       "      <td>OTHER</td>\n",
       "      <td>Cotton</td>\n",
       "      <td>Women</td>\n",
       "      <td>Women</td>\n",
       "      <td>length service</td>\n",
       "      <td>Denim</td>\n",
       "      <td>Pants Denim</td>\n",
       "      <td>1.722045</td>\n",
       "      <td>2.161431</td>\n",
       "    </tr>\n",
       "  </tbody>\n",
       "</table>\n",
       "</div>"
      ],
      "text/plain": [
       "   gender   age  MEMBERID  ...           Cluster PredsxDeepFM    TABNET\n",
       "0     2.0  42.0  771733.0  ...  Bags Non-Leather     2.737335  4.995235\n",
       "1     2.0  42.0  771733.0  ...    Shawls/Scarves     2.690987  3.850037\n",
       "2     2.0  42.0  771733.0  ...             Belts     2.557454  3.507605\n",
       "3     2.0  42.0  771733.0  ...       Pants Denim     1.694690  2.068795\n",
       "4     2.0  42.0  771733.0  ...       Pants Denim     1.722045  2.161431\n",
       "\n",
       "[5 rows x 13 columns]"
      ]
     },
     "execution_count": 53,
     "metadata": {
      "tags": []
     },
     "output_type": "execute_result"
    }
   ],
   "source": [
    "preds771733.head()"
   ]
  },
  {
   "cell_type": "markdown",
   "metadata": {
    "id": "OqVtigJsWffh"
   },
   "source": [
    "\n",
    "\n",
    "\n",
    "# XGBOOST"
   ]
  },
  {
   "cell_type": "markdown",
   "metadata": {
    "id": "ru32w8deWipE"
   },
   "source": [
    "XGBoost is an optimized distributed gradient boosting library designed to be highly efficient, flexible and portable. We use xgboost on GPU here."
   ]
  },
  {
   "cell_type": "code",
   "execution_count": 58,
   "metadata": {
    "id": "Gl5HAPqwMX3M"
   },
   "outputs": [],
   "source": [
    "import xgboost as xgb"
   ]
  },
  {
   "cell_type": "code",
   "execution_count": 59,
   "metadata": {
    "id": "rIk-itlQMi8K"
   },
   "outputs": [],
   "source": [
    "xg_train = xgb.DMatrix(X_train.values,y_train)\n",
    "xg_valid = xgb.DMatrix(X_valid.values,y_valid)   "
   ]
  },
  {
   "cell_type": "code",
   "execution_count": 60,
   "metadata": {
    "id": "o6lTQp38N9bT"
   },
   "outputs": [],
   "source": [
    "params = {'tree_method': 'gpu_hist', 'max_depth': 10, 'alpha': 0.1, 'subsample': 0.6, 'scale_pos_weight': 1, 'learning_rate': 0.01, 'silent': 1, 'objective':'reg:linear', 'eval_metric': 'rmse','n_gpus': 1}"
   ]
  },
  {
   "cell_type": "code",
   "execution_count": 61,
   "metadata": {
    "colab": {
     "base_uri": "https://localhost:8080/"
    },
    "id": "W4yKgM6NNsaG",
    "outputId": "f6e94cb1-e769-4fb3-b132-f6109554fb11"
   },
   "outputs": [
    {
     "name": "stdout",
     "output_type": "stream",
     "text": [
      "[0]\ttrain-rmse:3.68321\teval-rmse:3.70524\n",
      "Multiple eval metrics have been passed: 'eval-rmse' will be used for early stopping.\n",
      "\n",
      "Will train until eval-rmse hasn't improved in 5 rounds.\n",
      "[1]\ttrain-rmse:3.65164\teval-rmse:3.67372\n",
      "[2]\ttrain-rmse:3.62054\teval-rmse:3.64268\n",
      "[3]\ttrain-rmse:3.5898\teval-rmse:3.61194\n",
      "[4]\ttrain-rmse:3.5593\teval-rmse:3.58151\n",
      "[5]\ttrain-rmse:3.5292\teval-rmse:3.55144\n",
      "[6]\ttrain-rmse:3.49945\teval-rmse:3.5218\n",
      "[7]\ttrain-rmse:3.47003\teval-rmse:3.49245\n",
      "[8]\ttrain-rmse:3.44088\teval-rmse:3.46335\n",
      "[9]\ttrain-rmse:3.41215\teval-rmse:3.43473\n",
      "[10]\ttrain-rmse:3.38379\teval-rmse:3.40643\n",
      "[11]\ttrain-rmse:3.35568\teval-rmse:3.37841\n",
      "[12]\ttrain-rmse:3.32792\teval-rmse:3.35072\n",
      "[13]\ttrain-rmse:3.30051\teval-rmse:3.32336\n",
      "[14]\ttrain-rmse:3.27342\teval-rmse:3.29633\n",
      "[15]\ttrain-rmse:3.24658\teval-rmse:3.26951\n",
      "[16]\ttrain-rmse:3.22009\teval-rmse:3.2431\n",
      "[17]\ttrain-rmse:3.1938\teval-rmse:3.2169\n",
      "[18]\ttrain-rmse:3.16796\teval-rmse:3.19112\n",
      "[19]\ttrain-rmse:3.14241\teval-rmse:3.16558\n",
      "[20]\ttrain-rmse:3.1171\teval-rmse:3.14034\n",
      "[21]\ttrain-rmse:3.09209\teval-rmse:3.11538\n",
      "[22]\ttrain-rmse:3.06739\teval-rmse:3.09079\n",
      "[23]\ttrain-rmse:3.04291\teval-rmse:3.06639\n",
      "[24]\ttrain-rmse:3.01878\teval-rmse:3.04232\n",
      "[25]\ttrain-rmse:2.99501\teval-rmse:3.01862\n",
      "[26]\ttrain-rmse:2.97145\teval-rmse:2.99514\n",
      "[27]\ttrain-rmse:2.94813\teval-rmse:2.97186\n",
      "[28]\ttrain-rmse:2.92514\teval-rmse:2.94896\n",
      "[29]\ttrain-rmse:2.90235\teval-rmse:2.92619\n",
      "[30]\ttrain-rmse:2.87994\teval-rmse:2.90385\n",
      "[31]\ttrain-rmse:2.85769\teval-rmse:2.8817\n",
      "[32]\ttrain-rmse:2.83574\teval-rmse:2.85977\n",
      "[33]\ttrain-rmse:2.81406\teval-rmse:2.83821\n",
      "[34]\ttrain-rmse:2.79271\teval-rmse:2.81692\n",
      "[35]\ttrain-rmse:2.77162\teval-rmse:2.79592\n",
      "[36]\ttrain-rmse:2.75066\teval-rmse:2.77505\n",
      "[37]\ttrain-rmse:2.72997\teval-rmse:2.75444\n",
      "[38]\ttrain-rmse:2.70965\teval-rmse:2.73414\n",
      "[39]\ttrain-rmse:2.68947\teval-rmse:2.71408\n",
      "[40]\ttrain-rmse:2.66947\teval-rmse:2.69418\n",
      "[41]\ttrain-rmse:2.64986\teval-rmse:2.67461\n",
      "[42]\ttrain-rmse:2.6304\teval-rmse:2.65517\n",
      "[43]\ttrain-rmse:2.61112\teval-rmse:2.63597\n",
      "[44]\ttrain-rmse:2.59219\teval-rmse:2.61711\n",
      "[45]\ttrain-rmse:2.57347\teval-rmse:2.59843\n",
      "[46]\ttrain-rmse:2.5549\teval-rmse:2.58005\n",
      "[47]\ttrain-rmse:2.53655\teval-rmse:2.56178\n",
      "[48]\ttrain-rmse:2.51846\teval-rmse:2.54374\n",
      "[49]\ttrain-rmse:2.50056\teval-rmse:2.52595\n",
      "[50]\ttrain-rmse:2.48277\teval-rmse:2.50821\n",
      "[51]\ttrain-rmse:2.46537\teval-rmse:2.49088\n",
      "[52]\ttrain-rmse:2.44829\teval-rmse:2.47388\n",
      "[53]\ttrain-rmse:2.43131\teval-rmse:2.45701\n",
      "[54]\ttrain-rmse:2.41452\teval-rmse:2.44029\n",
      "[55]\ttrain-rmse:2.39795\teval-rmse:2.42381\n",
      "[56]\ttrain-rmse:2.38171\teval-rmse:2.40763\n",
      "[57]\ttrain-rmse:2.36551\teval-rmse:2.39147\n",
      "[58]\ttrain-rmse:2.34953\teval-rmse:2.37558\n",
      "[59]\ttrain-rmse:2.33373\teval-rmse:2.35982\n",
      "[60]\ttrain-rmse:2.31816\teval-rmse:2.34436\n",
      "[61]\ttrain-rmse:2.30285\teval-rmse:2.32916\n",
      "[62]\ttrain-rmse:2.28779\teval-rmse:2.31418\n",
      "[63]\ttrain-rmse:2.27284\teval-rmse:2.29933\n",
      "[64]\ttrain-rmse:2.25816\teval-rmse:2.28468\n",
      "[65]\ttrain-rmse:2.24366\teval-rmse:2.27025\n",
      "[66]\ttrain-rmse:2.22926\teval-rmse:2.25597\n",
      "[67]\ttrain-rmse:2.21507\teval-rmse:2.24187\n",
      "[68]\ttrain-rmse:2.20109\teval-rmse:2.22796\n",
      "[69]\ttrain-rmse:2.18732\teval-rmse:2.21426\n",
      "[70]\ttrain-rmse:2.17366\teval-rmse:2.20064\n",
      "[71]\ttrain-rmse:2.16024\teval-rmse:2.18728\n",
      "[72]\ttrain-rmse:2.147\teval-rmse:2.17415\n",
      "[73]\ttrain-rmse:2.13381\teval-rmse:2.16104\n",
      "[74]\ttrain-rmse:2.12086\teval-rmse:2.14813\n",
      "[75]\ttrain-rmse:2.10814\teval-rmse:2.13555\n",
      "[76]\ttrain-rmse:2.09556\teval-rmse:2.12303\n",
      "[77]\ttrain-rmse:2.08313\teval-rmse:2.11067\n",
      "[78]\ttrain-rmse:2.0709\teval-rmse:2.09848\n",
      "[79]\ttrain-rmse:2.05881\teval-rmse:2.08643\n",
      "[80]\ttrain-rmse:2.04697\teval-rmse:2.07469\n",
      "[81]\ttrain-rmse:2.03518\teval-rmse:2.06301\n",
      "[82]\ttrain-rmse:2.02358\teval-rmse:2.0515\n",
      "[83]\ttrain-rmse:2.01217\teval-rmse:2.04017\n",
      "[84]\ttrain-rmse:2.00083\teval-rmse:2.02891\n",
      "[85]\ttrain-rmse:1.98963\teval-rmse:2.01776\n",
      "[86]\ttrain-rmse:1.97861\teval-rmse:2.00675\n",
      "[87]\ttrain-rmse:1.96781\teval-rmse:1.99602\n",
      "[88]\ttrain-rmse:1.95706\teval-rmse:1.98532\n",
      "[89]\ttrain-rmse:1.94641\teval-rmse:1.97473\n",
      "[90]\ttrain-rmse:1.93594\teval-rmse:1.96433\n",
      "[91]\ttrain-rmse:1.92567\teval-rmse:1.9541\n",
      "[92]\ttrain-rmse:1.9155\teval-rmse:1.94402\n",
      "[93]\ttrain-rmse:1.90552\teval-rmse:1.93416\n",
      "[94]\ttrain-rmse:1.89582\teval-rmse:1.9246\n",
      "[95]\ttrain-rmse:1.88613\teval-rmse:1.91494\n",
      "[96]\ttrain-rmse:1.87654\teval-rmse:1.90538\n",
      "[97]\ttrain-rmse:1.86714\teval-rmse:1.89603\n",
      "[98]\ttrain-rmse:1.85781\teval-rmse:1.88681\n",
      "[99]\ttrain-rmse:1.84869\teval-rmse:1.87773\n",
      "[100]\ttrain-rmse:1.83954\teval-rmse:1.86864\n",
      "[101]\ttrain-rmse:1.83067\teval-rmse:1.8599\n",
      "[102]\ttrain-rmse:1.82188\teval-rmse:1.85122\n",
      "[103]\ttrain-rmse:1.81325\teval-rmse:1.84262\n",
      "[104]\ttrain-rmse:1.80466\teval-rmse:1.8341\n",
      "[105]\ttrain-rmse:1.79637\teval-rmse:1.8258\n",
      "[106]\ttrain-rmse:1.78806\teval-rmse:1.81754\n",
      "[107]\ttrain-rmse:1.77983\teval-rmse:1.80932\n",
      "[108]\ttrain-rmse:1.7718\teval-rmse:1.80131\n",
      "[109]\ttrain-rmse:1.7638\teval-rmse:1.79342\n",
      "[110]\ttrain-rmse:1.75588\teval-rmse:1.78552\n",
      "[111]\ttrain-rmse:1.74818\teval-rmse:1.77784\n",
      "[112]\ttrain-rmse:1.74051\teval-rmse:1.77019\n",
      "[113]\ttrain-rmse:1.73304\teval-rmse:1.76279\n",
      "[114]\ttrain-rmse:1.7256\teval-rmse:1.75536\n",
      "[115]\ttrain-rmse:1.71835\teval-rmse:1.74817\n",
      "[116]\ttrain-rmse:1.71128\teval-rmse:1.74112\n",
      "[117]\ttrain-rmse:1.70413\teval-rmse:1.73398\n",
      "[118]\ttrain-rmse:1.69715\teval-rmse:1.72702\n",
      "[119]\ttrain-rmse:1.69025\teval-rmse:1.72014\n",
      "[120]\ttrain-rmse:1.68345\teval-rmse:1.71335\n",
      "[121]\ttrain-rmse:1.67689\teval-rmse:1.70689\n",
      "[122]\ttrain-rmse:1.67035\teval-rmse:1.70044\n",
      "[123]\ttrain-rmse:1.66396\teval-rmse:1.69416\n",
      "[124]\ttrain-rmse:1.65766\teval-rmse:1.688\n",
      "[125]\ttrain-rmse:1.65143\teval-rmse:1.68183\n",
      "[126]\ttrain-rmse:1.64522\teval-rmse:1.67576\n",
      "[127]\ttrain-rmse:1.63916\teval-rmse:1.66974\n",
      "[128]\ttrain-rmse:1.63313\teval-rmse:1.66379\n",
      "[129]\ttrain-rmse:1.62717\teval-rmse:1.65788\n",
      "[130]\ttrain-rmse:1.62133\teval-rmse:1.65216\n",
      "[131]\ttrain-rmse:1.6156\teval-rmse:1.64649\n",
      "[132]\ttrain-rmse:1.60994\teval-rmse:1.64093\n",
      "[133]\ttrain-rmse:1.60451\teval-rmse:1.6356\n",
      "[134]\ttrain-rmse:1.59905\teval-rmse:1.63018\n",
      "[135]\ttrain-rmse:1.59365\teval-rmse:1.62479\n",
      "[136]\ttrain-rmse:1.58837\teval-rmse:1.61957\n",
      "[137]\ttrain-rmse:1.58314\teval-rmse:1.61437\n",
      "[138]\ttrain-rmse:1.57802\teval-rmse:1.60932\n",
      "[139]\ttrain-rmse:1.57297\teval-rmse:1.60439\n",
      "[140]\ttrain-rmse:1.56798\teval-rmse:1.59946\n",
      "[141]\ttrain-rmse:1.56312\teval-rmse:1.59465\n",
      "[142]\ttrain-rmse:1.55837\teval-rmse:1.59002\n",
      "[143]\ttrain-rmse:1.55362\teval-rmse:1.58532\n",
      "[144]\ttrain-rmse:1.54893\teval-rmse:1.58069\n",
      "[145]\ttrain-rmse:1.54427\teval-rmse:1.57612\n",
      "[146]\ttrain-rmse:1.53975\teval-rmse:1.57168\n",
      "[147]\ttrain-rmse:1.53537\teval-rmse:1.56744\n",
      "[148]\ttrain-rmse:1.53091\teval-rmse:1.5631\n",
      "[149]\ttrain-rmse:1.52663\teval-rmse:1.55887\n",
      "[150]\ttrain-rmse:1.52249\teval-rmse:1.55481\n",
      "[151]\ttrain-rmse:1.51836\teval-rmse:1.55076\n",
      "[152]\ttrain-rmse:1.51424\teval-rmse:1.54677\n",
      "[153]\ttrain-rmse:1.51016\teval-rmse:1.54279\n",
      "[154]\ttrain-rmse:1.50617\teval-rmse:1.53885\n",
      "[155]\ttrain-rmse:1.50222\teval-rmse:1.53497\n",
      "[156]\ttrain-rmse:1.49822\teval-rmse:1.53101\n",
      "[157]\ttrain-rmse:1.49439\teval-rmse:1.52726\n",
      "[158]\ttrain-rmse:1.49062\teval-rmse:1.52353\n",
      "[159]\ttrain-rmse:1.48695\teval-rmse:1.51988\n",
      "[160]\ttrain-rmse:1.48333\teval-rmse:1.51631\n",
      "[161]\ttrain-rmse:1.47972\teval-rmse:1.51279\n",
      "[162]\ttrain-rmse:1.47631\teval-rmse:1.50945\n",
      "[163]\ttrain-rmse:1.47286\teval-rmse:1.50604\n",
      "[164]\ttrain-rmse:1.46945\teval-rmse:1.50269\n",
      "[165]\ttrain-rmse:1.46613\teval-rmse:1.49946\n",
      "[166]\ttrain-rmse:1.46283\teval-rmse:1.49625\n",
      "[167]\ttrain-rmse:1.45967\teval-rmse:1.49322\n",
      "[168]\ttrain-rmse:1.45659\teval-rmse:1.49023\n",
      "[169]\ttrain-rmse:1.45335\teval-rmse:1.48707\n",
      "[170]\ttrain-rmse:1.45029\teval-rmse:1.48411\n",
      "[171]\ttrain-rmse:1.44732\teval-rmse:1.48121\n",
      "[172]\ttrain-rmse:1.44436\teval-rmse:1.47835\n",
      "[173]\ttrain-rmse:1.44141\teval-rmse:1.47551\n",
      "[174]\ttrain-rmse:1.4386\teval-rmse:1.47279\n",
      "[175]\ttrain-rmse:1.43573\teval-rmse:1.47004\n",
      "[176]\ttrain-rmse:1.43295\teval-rmse:1.46741\n",
      "[177]\ttrain-rmse:1.43015\teval-rmse:1.46467\n",
      "[178]\ttrain-rmse:1.42749\teval-rmse:1.46214\n",
      "[179]\ttrain-rmse:1.42475\teval-rmse:1.45946\n",
      "[180]\ttrain-rmse:1.42207\teval-rmse:1.45685\n",
      "[181]\ttrain-rmse:1.41949\teval-rmse:1.45434\n",
      "[182]\ttrain-rmse:1.41693\teval-rmse:1.45187\n",
      "[183]\ttrain-rmse:1.41453\teval-rmse:1.44961\n",
      "[184]\ttrain-rmse:1.41208\teval-rmse:1.44721\n",
      "[185]\ttrain-rmse:1.40949\teval-rmse:1.44472\n",
      "[186]\ttrain-rmse:1.40717\teval-rmse:1.44247\n",
      "[187]\ttrain-rmse:1.40481\teval-rmse:1.44018\n",
      "[188]\ttrain-rmse:1.40239\teval-rmse:1.43784\n",
      "[189]\ttrain-rmse:1.40013\teval-rmse:1.43563\n",
      "[190]\ttrain-rmse:1.39796\teval-rmse:1.43355\n",
      "[191]\ttrain-rmse:1.39582\teval-rmse:1.43152\n",
      "[192]\ttrain-rmse:1.39363\teval-rmse:1.42941\n",
      "[193]\ttrain-rmse:1.3915\teval-rmse:1.42738\n",
      "[194]\ttrain-rmse:1.38936\teval-rmse:1.42536\n",
      "[195]\ttrain-rmse:1.38731\teval-rmse:1.42337\n",
      "[196]\ttrain-rmse:1.38516\teval-rmse:1.42129\n",
      "[197]\ttrain-rmse:1.38314\teval-rmse:1.41935\n",
      "[198]\ttrain-rmse:1.38118\teval-rmse:1.41751\n",
      "[199]\ttrain-rmse:1.37923\teval-rmse:1.41564\n",
      "[200]\ttrain-rmse:1.37732\teval-rmse:1.41387\n",
      "[201]\ttrain-rmse:1.37546\teval-rmse:1.41211\n",
      "[202]\ttrain-rmse:1.37352\teval-rmse:1.41028\n",
      "[203]\ttrain-rmse:1.37176\teval-rmse:1.40861\n",
      "[204]\ttrain-rmse:1.37\teval-rmse:1.40692\n",
      "[205]\ttrain-rmse:1.36827\teval-rmse:1.40524\n",
      "[206]\ttrain-rmse:1.36647\teval-rmse:1.4035\n",
      "[207]\ttrain-rmse:1.36478\teval-rmse:1.40193\n",
      "[208]\ttrain-rmse:1.36318\teval-rmse:1.40043\n",
      "[209]\ttrain-rmse:1.36149\teval-rmse:1.39885\n",
      "[210]\ttrain-rmse:1.35988\teval-rmse:1.39732\n",
      "[211]\ttrain-rmse:1.35831\teval-rmse:1.39586\n",
      "[212]\ttrain-rmse:1.35675\teval-rmse:1.39441\n",
      "[213]\ttrain-rmse:1.35516\teval-rmse:1.39295\n",
      "[214]\ttrain-rmse:1.35362\teval-rmse:1.3915\n",
      "[215]\ttrain-rmse:1.35207\teval-rmse:1.39007\n",
      "[216]\ttrain-rmse:1.35062\teval-rmse:1.38868\n",
      "[217]\ttrain-rmse:1.34906\teval-rmse:1.38725\n",
      "[218]\ttrain-rmse:1.34756\teval-rmse:1.38584\n",
      "[219]\ttrain-rmse:1.34603\teval-rmse:1.38439\n",
      "[220]\ttrain-rmse:1.34449\teval-rmse:1.38298\n",
      "[221]\ttrain-rmse:1.3431\teval-rmse:1.38165\n",
      "[222]\ttrain-rmse:1.34169\teval-rmse:1.38037\n",
      "[223]\ttrain-rmse:1.34035\teval-rmse:1.37908\n",
      "[224]\ttrain-rmse:1.33909\teval-rmse:1.37791\n",
      "[225]\ttrain-rmse:1.33775\teval-rmse:1.37669\n",
      "[226]\ttrain-rmse:1.33629\teval-rmse:1.37532\n",
      "[227]\ttrain-rmse:1.33509\teval-rmse:1.3742\n",
      "[228]\ttrain-rmse:1.33394\teval-rmse:1.37314\n",
      "[229]\ttrain-rmse:1.33263\teval-rmse:1.37192\n",
      "[230]\ttrain-rmse:1.33142\teval-rmse:1.37078\n",
      "[231]\ttrain-rmse:1.33015\teval-rmse:1.36959\n",
      "[232]\ttrain-rmse:1.32898\teval-rmse:1.36848\n",
      "[233]\ttrain-rmse:1.32787\teval-rmse:1.36745\n",
      "[234]\ttrain-rmse:1.32666\teval-rmse:1.36633\n",
      "[235]\ttrain-rmse:1.32562\teval-rmse:1.36536\n",
      "[236]\ttrain-rmse:1.3245\teval-rmse:1.36435\n",
      "[237]\ttrain-rmse:1.32342\teval-rmse:1.36336\n",
      "[238]\ttrain-rmse:1.32229\teval-rmse:1.36231\n",
      "[239]\ttrain-rmse:1.32124\teval-rmse:1.36132\n",
      "[240]\ttrain-rmse:1.32016\teval-rmse:1.36036\n",
      "[241]\ttrain-rmse:1.31915\teval-rmse:1.35944\n",
      "[242]\ttrain-rmse:1.31811\teval-rmse:1.35848\n",
      "[243]\ttrain-rmse:1.31716\teval-rmse:1.3576\n",
      "[244]\ttrain-rmse:1.31623\teval-rmse:1.35675\n",
      "[245]\ttrain-rmse:1.31526\teval-rmse:1.35588\n",
      "[246]\ttrain-rmse:1.31434\teval-rmse:1.35502\n",
      "[247]\ttrain-rmse:1.31338\teval-rmse:1.35416\n",
      "[248]\ttrain-rmse:1.31244\teval-rmse:1.35331\n",
      "[249]\ttrain-rmse:1.31144\teval-rmse:1.35244\n",
      "[250]\ttrain-rmse:1.31055\teval-rmse:1.35162\n",
      "[251]\ttrain-rmse:1.30974\teval-rmse:1.35089\n",
      "[252]\ttrain-rmse:1.3088\teval-rmse:1.35\n",
      "[253]\ttrain-rmse:1.30789\teval-rmse:1.34919\n",
      "[254]\ttrain-rmse:1.30714\teval-rmse:1.34851\n",
      "[255]\ttrain-rmse:1.30632\teval-rmse:1.3478\n",
      "[256]\ttrain-rmse:1.3055\teval-rmse:1.34704\n",
      "[257]\ttrain-rmse:1.30455\teval-rmse:1.34621\n",
      "[258]\ttrain-rmse:1.30367\teval-rmse:1.34542\n",
      "[259]\ttrain-rmse:1.30282\teval-rmse:1.34471\n",
      "[260]\ttrain-rmse:1.302\teval-rmse:1.34398\n",
      "[261]\ttrain-rmse:1.30123\teval-rmse:1.34328\n",
      "[262]\ttrain-rmse:1.30038\teval-rmse:1.34254\n",
      "[263]\ttrain-rmse:1.29949\teval-rmse:1.34177\n",
      "[264]\ttrain-rmse:1.2986\teval-rmse:1.34095\n",
      "[265]\ttrain-rmse:1.29771\teval-rmse:1.34016\n",
      "[266]\ttrain-rmse:1.29689\teval-rmse:1.33945\n",
      "[267]\ttrain-rmse:1.29615\teval-rmse:1.33884\n",
      "[268]\ttrain-rmse:1.29544\teval-rmse:1.33822\n",
      "[269]\ttrain-rmse:1.29472\teval-rmse:1.33755\n",
      "[270]\ttrain-rmse:1.29399\teval-rmse:1.33691\n",
      "[271]\ttrain-rmse:1.29328\teval-rmse:1.33624\n",
      "[272]\ttrain-rmse:1.29259\teval-rmse:1.33565\n",
      "[273]\ttrain-rmse:1.292\teval-rmse:1.33511\n",
      "[274]\ttrain-rmse:1.29127\teval-rmse:1.33452\n",
      "[275]\ttrain-rmse:1.29054\teval-rmse:1.33386\n",
      "[276]\ttrain-rmse:1.28998\teval-rmse:1.33337\n",
      "[277]\ttrain-rmse:1.28927\teval-rmse:1.33272\n",
      "[278]\ttrain-rmse:1.2886\teval-rmse:1.33211\n",
      "[279]\ttrain-rmse:1.28802\teval-rmse:1.33164\n",
      "[280]\ttrain-rmse:1.28739\teval-rmse:1.33115\n",
      "[281]\ttrain-rmse:1.28679\teval-rmse:1.3306\n",
      "[282]\ttrain-rmse:1.28627\teval-rmse:1.33014\n",
      "[283]\ttrain-rmse:1.28568\teval-rmse:1.32965\n",
      "[284]\ttrain-rmse:1.28502\teval-rmse:1.32905\n",
      "[285]\ttrain-rmse:1.28445\teval-rmse:1.3286\n",
      "[286]\ttrain-rmse:1.28385\teval-rmse:1.32805\n",
      "[287]\ttrain-rmse:1.2833\teval-rmse:1.32757\n",
      "[288]\ttrain-rmse:1.28265\teval-rmse:1.32695\n",
      "[289]\ttrain-rmse:1.28217\teval-rmse:1.32664\n",
      "[290]\ttrain-rmse:1.28159\teval-rmse:1.32613\n",
      "[291]\ttrain-rmse:1.28111\teval-rmse:1.32573\n",
      "[292]\ttrain-rmse:1.28053\teval-rmse:1.32528\n",
      "[293]\ttrain-rmse:1.28004\teval-rmse:1.32482\n",
      "[294]\ttrain-rmse:1.27954\teval-rmse:1.32443\n",
      "[295]\ttrain-rmse:1.27896\teval-rmse:1.32387\n",
      "[296]\ttrain-rmse:1.2784\teval-rmse:1.32338\n",
      "[297]\ttrain-rmse:1.27785\teval-rmse:1.32297\n",
      "[298]\ttrain-rmse:1.27742\teval-rmse:1.32267\n",
      "[299]\ttrain-rmse:1.27693\teval-rmse:1.32228\n",
      "[300]\ttrain-rmse:1.27643\teval-rmse:1.32189\n",
      "[301]\ttrain-rmse:1.27583\teval-rmse:1.32136\n",
      "[302]\ttrain-rmse:1.27542\teval-rmse:1.32099\n",
      "[303]\ttrain-rmse:1.27495\teval-rmse:1.32059\n",
      "[304]\ttrain-rmse:1.27443\teval-rmse:1.32022\n",
      "[305]\ttrain-rmse:1.27399\teval-rmse:1.31984\n",
      "[306]\ttrain-rmse:1.27342\teval-rmse:1.31933\n",
      "[307]\ttrain-rmse:1.273\teval-rmse:1.31899\n",
      "[308]\ttrain-rmse:1.27259\teval-rmse:1.31867\n",
      "[309]\ttrain-rmse:1.27213\teval-rmse:1.31831\n",
      "[310]\ttrain-rmse:1.27169\teval-rmse:1.31798\n",
      "[311]\ttrain-rmse:1.27117\teval-rmse:1.31754\n",
      "[312]\ttrain-rmse:1.27067\teval-rmse:1.31713\n",
      "[313]\ttrain-rmse:1.27018\teval-rmse:1.31672\n",
      "[314]\ttrain-rmse:1.26981\teval-rmse:1.31638\n",
      "[315]\ttrain-rmse:1.2694\teval-rmse:1.31608\n",
      "[316]\ttrain-rmse:1.26899\teval-rmse:1.3158\n",
      "[317]\ttrain-rmse:1.26861\teval-rmse:1.31556\n",
      "[318]\ttrain-rmse:1.26822\teval-rmse:1.31523\n",
      "[319]\ttrain-rmse:1.26778\teval-rmse:1.31493\n",
      "[320]\ttrain-rmse:1.26728\teval-rmse:1.31453\n",
      "[321]\ttrain-rmse:1.26692\teval-rmse:1.31425\n",
      "[322]\ttrain-rmse:1.26648\teval-rmse:1.31393\n",
      "[323]\ttrain-rmse:1.26605\teval-rmse:1.31362\n",
      "[324]\ttrain-rmse:1.26568\teval-rmse:1.31334\n",
      "[325]\ttrain-rmse:1.26533\teval-rmse:1.3131\n",
      "[326]\ttrain-rmse:1.26492\teval-rmse:1.3128\n",
      "[327]\ttrain-rmse:1.26442\teval-rmse:1.31237\n",
      "[328]\ttrain-rmse:1.26407\teval-rmse:1.31206\n",
      "[329]\ttrain-rmse:1.26374\teval-rmse:1.31182\n",
      "[330]\ttrain-rmse:1.26326\teval-rmse:1.31143\n",
      "[331]\ttrain-rmse:1.26292\teval-rmse:1.31121\n",
      "[332]\ttrain-rmse:1.26256\teval-rmse:1.31093\n",
      "[333]\ttrain-rmse:1.2622\teval-rmse:1.31065\n",
      "[334]\ttrain-rmse:1.26185\teval-rmse:1.31041\n",
      "[335]\ttrain-rmse:1.2615\teval-rmse:1.31016\n",
      "[336]\ttrain-rmse:1.26099\teval-rmse:1.30972\n",
      "[337]\ttrain-rmse:1.26066\teval-rmse:1.3095\n",
      "[338]\ttrain-rmse:1.26025\teval-rmse:1.30914\n",
      "[339]\ttrain-rmse:1.25999\teval-rmse:1.30895\n",
      "[340]\ttrain-rmse:1.25967\teval-rmse:1.30872\n",
      "[341]\ttrain-rmse:1.25934\teval-rmse:1.30845\n",
      "[342]\ttrain-rmse:1.25909\teval-rmse:1.30834\n",
      "[343]\ttrain-rmse:1.25873\teval-rmse:1.30805\n",
      "[344]\ttrain-rmse:1.25838\teval-rmse:1.30776\n",
      "[345]\ttrain-rmse:1.25803\teval-rmse:1.30749\n",
      "[346]\ttrain-rmse:1.25775\teval-rmse:1.30724\n",
      "[347]\ttrain-rmse:1.25748\teval-rmse:1.30706\n",
      "[348]\ttrain-rmse:1.25716\teval-rmse:1.30688\n",
      "[349]\ttrain-rmse:1.25687\teval-rmse:1.30669\n",
      "[350]\ttrain-rmse:1.25658\teval-rmse:1.30646\n",
      "[351]\ttrain-rmse:1.25632\teval-rmse:1.30624\n",
      "[352]\ttrain-rmse:1.25602\teval-rmse:1.30603\n",
      "[353]\ttrain-rmse:1.25572\teval-rmse:1.30578\n",
      "[354]\ttrain-rmse:1.25541\teval-rmse:1.30553\n",
      "[355]\ttrain-rmse:1.25513\teval-rmse:1.30535\n",
      "[356]\ttrain-rmse:1.25486\teval-rmse:1.30517\n",
      "[357]\ttrain-rmse:1.25459\teval-rmse:1.30502\n",
      "[358]\ttrain-rmse:1.25436\teval-rmse:1.30486\n",
      "[359]\ttrain-rmse:1.25401\teval-rmse:1.30459\n",
      "[360]\ttrain-rmse:1.25372\teval-rmse:1.30442\n",
      "[361]\ttrain-rmse:1.25342\teval-rmse:1.30418\n",
      "[362]\ttrain-rmse:1.25319\teval-rmse:1.30401\n",
      "[363]\ttrain-rmse:1.25286\teval-rmse:1.30379\n",
      "[364]\ttrain-rmse:1.25258\teval-rmse:1.30356\n",
      "[365]\ttrain-rmse:1.25233\teval-rmse:1.30342\n",
      "[366]\ttrain-rmse:1.25213\teval-rmse:1.30327\n",
      "[367]\ttrain-rmse:1.25182\teval-rmse:1.30307\n",
      "[368]\ttrain-rmse:1.25147\teval-rmse:1.30278\n",
      "[369]\ttrain-rmse:1.2512\teval-rmse:1.30257\n",
      "[370]\ttrain-rmse:1.25087\teval-rmse:1.30235\n",
      "[371]\ttrain-rmse:1.25061\teval-rmse:1.3022\n",
      "[372]\ttrain-rmse:1.25026\teval-rmse:1.30192\n",
      "[373]\ttrain-rmse:1.24998\teval-rmse:1.3017\n",
      "[374]\ttrain-rmse:1.24979\teval-rmse:1.30161\n",
      "[375]\ttrain-rmse:1.24956\teval-rmse:1.3015\n",
      "[376]\ttrain-rmse:1.24923\teval-rmse:1.30136\n",
      "[377]\ttrain-rmse:1.24897\teval-rmse:1.30117\n",
      "[378]\ttrain-rmse:1.24864\teval-rmse:1.30102\n",
      "[379]\ttrain-rmse:1.24843\teval-rmse:1.3009\n",
      "[380]\ttrain-rmse:1.24822\teval-rmse:1.30074\n",
      "[381]\ttrain-rmse:1.24799\teval-rmse:1.30066\n",
      "[382]\ttrain-rmse:1.24774\teval-rmse:1.30047\n",
      "[383]\ttrain-rmse:1.24746\teval-rmse:1.30033\n",
      "[384]\ttrain-rmse:1.24718\teval-rmse:1.30013\n",
      "[385]\ttrain-rmse:1.24691\teval-rmse:1.29996\n",
      "[386]\ttrain-rmse:1.24669\teval-rmse:1.29988\n",
      "[387]\ttrain-rmse:1.24642\teval-rmse:1.29974\n",
      "[388]\ttrain-rmse:1.2462\teval-rmse:1.29954\n",
      "[389]\ttrain-rmse:1.246\teval-rmse:1.29947\n",
      "[390]\ttrain-rmse:1.24582\teval-rmse:1.29939\n",
      "[391]\ttrain-rmse:1.24561\teval-rmse:1.29925\n",
      "[392]\ttrain-rmse:1.24546\teval-rmse:1.2992\n",
      "[393]\ttrain-rmse:1.24518\teval-rmse:1.29898\n",
      "[394]\ttrain-rmse:1.24499\teval-rmse:1.29888\n",
      "[395]\ttrain-rmse:1.24473\teval-rmse:1.29868\n",
      "[396]\ttrain-rmse:1.24452\teval-rmse:1.29855\n",
      "[397]\ttrain-rmse:1.2443\teval-rmse:1.29842\n",
      "[398]\ttrain-rmse:1.24406\teval-rmse:1.29824\n",
      "[399]\ttrain-rmse:1.24389\teval-rmse:1.29817\n",
      "[400]\ttrain-rmse:1.24369\teval-rmse:1.29811\n",
      "[401]\ttrain-rmse:1.24353\teval-rmse:1.29803\n",
      "[402]\ttrain-rmse:1.24331\teval-rmse:1.29789\n",
      "[403]\ttrain-rmse:1.24311\teval-rmse:1.29779\n",
      "[404]\ttrain-rmse:1.2429\teval-rmse:1.29767\n",
      "[405]\ttrain-rmse:1.24265\teval-rmse:1.29756\n",
      "[406]\ttrain-rmse:1.24242\teval-rmse:1.29739\n",
      "[407]\ttrain-rmse:1.24221\teval-rmse:1.29734\n",
      "[408]\ttrain-rmse:1.24201\teval-rmse:1.29719\n",
      "[409]\ttrain-rmse:1.24189\teval-rmse:1.29716\n",
      "[410]\ttrain-rmse:1.2417\teval-rmse:1.29708\n",
      "[411]\ttrain-rmse:1.24142\teval-rmse:1.29695\n",
      "[412]\ttrain-rmse:1.24118\teval-rmse:1.29683\n",
      "[413]\ttrain-rmse:1.24107\teval-rmse:1.29676\n",
      "[414]\ttrain-rmse:1.24092\teval-rmse:1.29667\n",
      "[415]\ttrain-rmse:1.24074\teval-rmse:1.29656\n",
      "[416]\ttrain-rmse:1.24041\teval-rmse:1.29632\n",
      "[417]\ttrain-rmse:1.24014\teval-rmse:1.29614\n",
      "[418]\ttrain-rmse:1.23993\teval-rmse:1.29605\n",
      "[419]\ttrain-rmse:1.23972\teval-rmse:1.29593\n",
      "[420]\ttrain-rmse:1.23955\teval-rmse:1.29579\n",
      "[421]\ttrain-rmse:1.23941\teval-rmse:1.29574\n",
      "[422]\ttrain-rmse:1.2393\teval-rmse:1.29565\n",
      "[423]\ttrain-rmse:1.23903\teval-rmse:1.29554\n",
      "[424]\ttrain-rmse:1.23886\teval-rmse:1.2955\n",
      "[425]\ttrain-rmse:1.23862\teval-rmse:1.29541\n",
      "[426]\ttrain-rmse:1.23835\teval-rmse:1.29525\n",
      "[427]\ttrain-rmse:1.23823\teval-rmse:1.29516\n",
      "[428]\ttrain-rmse:1.23798\teval-rmse:1.29506\n",
      "[429]\ttrain-rmse:1.23788\teval-rmse:1.29498\n",
      "[430]\ttrain-rmse:1.23773\teval-rmse:1.29486\n",
      "[431]\ttrain-rmse:1.23759\teval-rmse:1.29481\n",
      "[432]\ttrain-rmse:1.23747\teval-rmse:1.29476\n",
      "[433]\ttrain-rmse:1.2373\teval-rmse:1.29469\n",
      "[434]\ttrain-rmse:1.2372\teval-rmse:1.29465\n",
      "[435]\ttrain-rmse:1.23693\teval-rmse:1.2945\n",
      "[436]\ttrain-rmse:1.23676\teval-rmse:1.29439\n",
      "[437]\ttrain-rmse:1.23659\teval-rmse:1.29434\n",
      "[438]\ttrain-rmse:1.23643\teval-rmse:1.29427\n",
      "[439]\ttrain-rmse:1.23619\teval-rmse:1.29416\n",
      "[440]\ttrain-rmse:1.23599\teval-rmse:1.29398\n",
      "[441]\ttrain-rmse:1.23575\teval-rmse:1.29385\n",
      "[442]\ttrain-rmse:1.2356\teval-rmse:1.2938\n",
      "[443]\ttrain-rmse:1.23549\teval-rmse:1.29377\n",
      "[444]\ttrain-rmse:1.23535\teval-rmse:1.29375\n",
      "[445]\ttrain-rmse:1.2352\teval-rmse:1.29372\n",
      "[446]\ttrain-rmse:1.23504\teval-rmse:1.2936\n",
      "[447]\ttrain-rmse:1.23489\teval-rmse:1.29349\n",
      "[448]\ttrain-rmse:1.23479\teval-rmse:1.29346\n",
      "[449]\ttrain-rmse:1.23465\teval-rmse:1.29341\n",
      "[450]\ttrain-rmse:1.2345\teval-rmse:1.29336\n",
      "[451]\ttrain-rmse:1.23429\teval-rmse:1.29324\n",
      "[452]\ttrain-rmse:1.23415\teval-rmse:1.29322\n",
      "[453]\ttrain-rmse:1.23402\teval-rmse:1.29315\n",
      "[454]\ttrain-rmse:1.23388\teval-rmse:1.29307\n",
      "[455]\ttrain-rmse:1.23369\teval-rmse:1.29303\n",
      "[456]\ttrain-rmse:1.23351\teval-rmse:1.29292\n",
      "[457]\ttrain-rmse:1.23335\teval-rmse:1.29287\n",
      "[458]\ttrain-rmse:1.23321\teval-rmse:1.29281\n",
      "[459]\ttrain-rmse:1.23306\teval-rmse:1.29276\n",
      "[460]\ttrain-rmse:1.2329\teval-rmse:1.29266\n",
      "[461]\ttrain-rmse:1.23278\teval-rmse:1.29261\n",
      "[462]\ttrain-rmse:1.23262\teval-rmse:1.29257\n",
      "[463]\ttrain-rmse:1.23244\teval-rmse:1.29244\n",
      "[464]\ttrain-rmse:1.23231\teval-rmse:1.29237\n",
      "[465]\ttrain-rmse:1.23209\teval-rmse:1.29222\n",
      "[466]\ttrain-rmse:1.23189\teval-rmse:1.29218\n",
      "[467]\ttrain-rmse:1.23179\teval-rmse:1.29212\n",
      "[468]\ttrain-rmse:1.23157\teval-rmse:1.29202\n",
      "[469]\ttrain-rmse:1.23139\teval-rmse:1.29193\n",
      "[470]\ttrain-rmse:1.23128\teval-rmse:1.29189\n",
      "[471]\ttrain-rmse:1.23116\teval-rmse:1.29184\n",
      "[472]\ttrain-rmse:1.23103\teval-rmse:1.29181\n",
      "[473]\ttrain-rmse:1.23086\teval-rmse:1.29175\n",
      "[474]\ttrain-rmse:1.23076\teval-rmse:1.2917\n",
      "[475]\ttrain-rmse:1.23059\teval-rmse:1.2916\n",
      "[476]\ttrain-rmse:1.23048\teval-rmse:1.29152\n",
      "[477]\ttrain-rmse:1.23038\teval-rmse:1.29151\n",
      "[478]\ttrain-rmse:1.23012\teval-rmse:1.29134\n",
      "[479]\ttrain-rmse:1.2299\teval-rmse:1.29125\n",
      "[480]\ttrain-rmse:1.22971\teval-rmse:1.29122\n",
      "[481]\ttrain-rmse:1.22965\teval-rmse:1.2912\n",
      "[482]\ttrain-rmse:1.22954\teval-rmse:1.29112\n",
      "[483]\ttrain-rmse:1.2294\teval-rmse:1.29106\n",
      "[484]\ttrain-rmse:1.22925\teval-rmse:1.29099\n",
      "[485]\ttrain-rmse:1.22903\teval-rmse:1.29088\n",
      "[486]\ttrain-rmse:1.22885\teval-rmse:1.2908\n",
      "[487]\ttrain-rmse:1.22873\teval-rmse:1.29075\n",
      "[488]\ttrain-rmse:1.22863\teval-rmse:1.29073\n",
      "[489]\ttrain-rmse:1.2285\teval-rmse:1.29067\n",
      "[490]\ttrain-rmse:1.22829\teval-rmse:1.29055\n",
      "[491]\ttrain-rmse:1.22815\teval-rmse:1.29048\n",
      "[492]\ttrain-rmse:1.22809\teval-rmse:1.29047\n",
      "[493]\ttrain-rmse:1.22792\teval-rmse:1.29039\n",
      "[494]\ttrain-rmse:1.22782\teval-rmse:1.29034\n",
      "[495]\ttrain-rmse:1.22768\teval-rmse:1.29027\n",
      "[496]\ttrain-rmse:1.22748\teval-rmse:1.2902\n",
      "[497]\ttrain-rmse:1.22736\teval-rmse:1.29012\n",
      "[498]\ttrain-rmse:1.22722\teval-rmse:1.29005\n",
      "[499]\ttrain-rmse:1.22696\teval-rmse:1.28986\n",
      "[500]\ttrain-rmse:1.22682\teval-rmse:1.28988\n",
      "[501]\ttrain-rmse:1.22652\teval-rmse:1.28965\n",
      "[502]\ttrain-rmse:1.22632\teval-rmse:1.28956\n",
      "[503]\ttrain-rmse:1.22615\teval-rmse:1.28946\n",
      "[504]\ttrain-rmse:1.22602\teval-rmse:1.2894\n",
      "[505]\ttrain-rmse:1.2259\teval-rmse:1.28933\n",
      "[506]\ttrain-rmse:1.22573\teval-rmse:1.28924\n",
      "[507]\ttrain-rmse:1.22561\teval-rmse:1.28924\n",
      "[508]\ttrain-rmse:1.22545\teval-rmse:1.28913\n",
      "[509]\ttrain-rmse:1.22535\teval-rmse:1.28914\n",
      "[510]\ttrain-rmse:1.22516\teval-rmse:1.28904\n",
      "[511]\ttrain-rmse:1.22501\teval-rmse:1.28893\n",
      "[512]\ttrain-rmse:1.22489\teval-rmse:1.28888\n",
      "[513]\ttrain-rmse:1.22482\teval-rmse:1.28886\n",
      "[514]\ttrain-rmse:1.22467\teval-rmse:1.28877\n",
      "[515]\ttrain-rmse:1.22445\teval-rmse:1.28861\n",
      "[516]\ttrain-rmse:1.22434\teval-rmse:1.28857\n",
      "[517]\ttrain-rmse:1.22412\teval-rmse:1.28844\n",
      "[518]\ttrain-rmse:1.22396\teval-rmse:1.28839\n",
      "[519]\ttrain-rmse:1.22383\teval-rmse:1.28834\n",
      "[520]\ttrain-rmse:1.22367\teval-rmse:1.28828\n",
      "[521]\ttrain-rmse:1.22351\teval-rmse:1.28823\n",
      "[522]\ttrain-rmse:1.22334\teval-rmse:1.28816\n",
      "[523]\ttrain-rmse:1.22321\teval-rmse:1.28811\n",
      "[524]\ttrain-rmse:1.22309\teval-rmse:1.28808\n",
      "[525]\ttrain-rmse:1.22299\teval-rmse:1.28804\n",
      "[526]\ttrain-rmse:1.22283\teval-rmse:1.28798\n",
      "[527]\ttrain-rmse:1.22269\teval-rmse:1.28787\n",
      "[528]\ttrain-rmse:1.22252\teval-rmse:1.28781\n",
      "[529]\ttrain-rmse:1.22235\teval-rmse:1.28776\n",
      "[530]\ttrain-rmse:1.22227\teval-rmse:1.28777\n",
      "[531]\ttrain-rmse:1.22217\teval-rmse:1.28775\n",
      "[532]\ttrain-rmse:1.22203\teval-rmse:1.28768\n",
      "[533]\ttrain-rmse:1.22192\teval-rmse:1.28767\n",
      "[534]\ttrain-rmse:1.22177\teval-rmse:1.28763\n",
      "[535]\ttrain-rmse:1.22169\teval-rmse:1.28759\n",
      "[536]\ttrain-rmse:1.22151\teval-rmse:1.28744\n",
      "[537]\ttrain-rmse:1.22139\teval-rmse:1.28738\n",
      "[538]\ttrain-rmse:1.22121\teval-rmse:1.28729\n",
      "[539]\ttrain-rmse:1.22116\teval-rmse:1.28728\n",
      "[540]\ttrain-rmse:1.22104\teval-rmse:1.28729\n",
      "[541]\ttrain-rmse:1.221\teval-rmse:1.28729\n",
      "[542]\ttrain-rmse:1.2209\teval-rmse:1.28727\n",
      "[543]\ttrain-rmse:1.22076\teval-rmse:1.28724\n",
      "[544]\ttrain-rmse:1.22059\teval-rmse:1.28721\n",
      "[545]\ttrain-rmse:1.22052\teval-rmse:1.28719\n",
      "[546]\ttrain-rmse:1.22039\teval-rmse:1.28718\n",
      "[547]\ttrain-rmse:1.22022\teval-rmse:1.28721\n",
      "[548]\ttrain-rmse:1.22005\teval-rmse:1.28716\n",
      "[549]\ttrain-rmse:1.21994\teval-rmse:1.28715\n",
      "[550]\ttrain-rmse:1.21985\teval-rmse:1.28711\n",
      "[551]\ttrain-rmse:1.21975\teval-rmse:1.28707\n",
      "[552]\ttrain-rmse:1.21967\teval-rmse:1.28705\n",
      "[553]\ttrain-rmse:1.21951\teval-rmse:1.28697\n",
      "[554]\ttrain-rmse:1.21934\teval-rmse:1.28689\n",
      "[555]\ttrain-rmse:1.2192\teval-rmse:1.28681\n",
      "[556]\ttrain-rmse:1.21905\teval-rmse:1.28672\n",
      "[557]\ttrain-rmse:1.21892\teval-rmse:1.28666\n",
      "[558]\ttrain-rmse:1.21882\teval-rmse:1.28664\n",
      "[559]\ttrain-rmse:1.21864\teval-rmse:1.28651\n",
      "[560]\ttrain-rmse:1.21854\teval-rmse:1.28655\n",
      "[561]\ttrain-rmse:1.21843\teval-rmse:1.28651\n",
      "[562]\ttrain-rmse:1.21831\teval-rmse:1.28644\n",
      "[563]\ttrain-rmse:1.21825\teval-rmse:1.28644\n",
      "[564]\ttrain-rmse:1.21803\teval-rmse:1.2863\n",
      "[565]\ttrain-rmse:1.21793\teval-rmse:1.2863\n",
      "[566]\ttrain-rmse:1.21785\teval-rmse:1.28627\n",
      "[567]\ttrain-rmse:1.21772\teval-rmse:1.28626\n",
      "[568]\ttrain-rmse:1.21749\teval-rmse:1.28614\n",
      "[569]\ttrain-rmse:1.21739\teval-rmse:1.28613\n",
      "[570]\ttrain-rmse:1.21728\teval-rmse:1.28608\n",
      "[571]\ttrain-rmse:1.21717\teval-rmse:1.28605\n",
      "[572]\ttrain-rmse:1.21702\teval-rmse:1.28598\n",
      "[573]\ttrain-rmse:1.21693\teval-rmse:1.28595\n",
      "[574]\ttrain-rmse:1.21683\teval-rmse:1.28591\n",
      "[575]\ttrain-rmse:1.21673\teval-rmse:1.28588\n",
      "[576]\ttrain-rmse:1.21665\teval-rmse:1.28586\n",
      "[577]\ttrain-rmse:1.2165\teval-rmse:1.2858\n",
      "[578]\ttrain-rmse:1.21636\teval-rmse:1.28574\n",
      "[579]\ttrain-rmse:1.21614\teval-rmse:1.28559\n",
      "[580]\ttrain-rmse:1.21606\teval-rmse:1.28557\n",
      "[581]\ttrain-rmse:1.21595\teval-rmse:1.28551\n",
      "[582]\ttrain-rmse:1.21574\teval-rmse:1.28538\n",
      "[583]\ttrain-rmse:1.21553\teval-rmse:1.28523\n",
      "[584]\ttrain-rmse:1.21541\teval-rmse:1.28522\n",
      "[585]\ttrain-rmse:1.21528\teval-rmse:1.28519\n",
      "[586]\ttrain-rmse:1.21509\teval-rmse:1.28518\n",
      "[587]\ttrain-rmse:1.21491\teval-rmse:1.28508\n",
      "[588]\ttrain-rmse:1.2148\teval-rmse:1.28503\n",
      "[589]\ttrain-rmse:1.21473\teval-rmse:1.28503\n",
      "[590]\ttrain-rmse:1.21452\teval-rmse:1.28489\n",
      "[591]\ttrain-rmse:1.21435\teval-rmse:1.2848\n",
      "[592]\ttrain-rmse:1.2142\teval-rmse:1.28474\n",
      "[593]\ttrain-rmse:1.21411\teval-rmse:1.28472\n",
      "[594]\ttrain-rmse:1.2139\teval-rmse:1.2846\n",
      "[595]\ttrain-rmse:1.21378\teval-rmse:1.28456\n",
      "[596]\ttrain-rmse:1.21371\teval-rmse:1.28453\n",
      "[597]\ttrain-rmse:1.21355\teval-rmse:1.28447\n",
      "[598]\ttrain-rmse:1.21347\teval-rmse:1.28446\n",
      "[599]\ttrain-rmse:1.21338\teval-rmse:1.28444\n",
      "[600]\ttrain-rmse:1.21319\teval-rmse:1.28442\n",
      "[601]\ttrain-rmse:1.21305\teval-rmse:1.28438\n",
      "[602]\ttrain-rmse:1.21292\teval-rmse:1.28436\n",
      "[603]\ttrain-rmse:1.21278\teval-rmse:1.28433\n",
      "[604]\ttrain-rmse:1.21265\teval-rmse:1.28426\n",
      "[605]\ttrain-rmse:1.21256\teval-rmse:1.28425\n",
      "[606]\ttrain-rmse:1.21245\teval-rmse:1.28426\n",
      "[607]\ttrain-rmse:1.21232\teval-rmse:1.28422\n",
      "[608]\ttrain-rmse:1.21226\teval-rmse:1.28422\n",
      "[609]\ttrain-rmse:1.21213\teval-rmse:1.2842\n",
      "[610]\ttrain-rmse:1.21205\teval-rmse:1.2842\n",
      "[611]\ttrain-rmse:1.2119\teval-rmse:1.28413\n",
      "[612]\ttrain-rmse:1.21175\teval-rmse:1.28409\n",
      "[613]\ttrain-rmse:1.21169\teval-rmse:1.28409\n",
      "[614]\ttrain-rmse:1.21155\teval-rmse:1.28402\n",
      "[615]\ttrain-rmse:1.21146\teval-rmse:1.28399\n",
      "[616]\ttrain-rmse:1.21132\teval-rmse:1.28394\n",
      "[617]\ttrain-rmse:1.21118\teval-rmse:1.28394\n",
      "[618]\ttrain-rmse:1.21103\teval-rmse:1.28388\n",
      "[619]\ttrain-rmse:1.21083\teval-rmse:1.28388\n",
      "[620]\ttrain-rmse:1.21074\teval-rmse:1.28385\n",
      "[621]\ttrain-rmse:1.2106\teval-rmse:1.28378\n",
      "[622]\ttrain-rmse:1.21045\teval-rmse:1.28372\n",
      "[623]\ttrain-rmse:1.21036\teval-rmse:1.28373\n",
      "[624]\ttrain-rmse:1.21018\teval-rmse:1.28368\n",
      "[625]\ttrain-rmse:1.21009\teval-rmse:1.28365\n",
      "[626]\ttrain-rmse:1.20999\teval-rmse:1.28363\n",
      "[627]\ttrain-rmse:1.20983\teval-rmse:1.28356\n",
      "[628]\ttrain-rmse:1.20972\teval-rmse:1.28352\n",
      "[629]\ttrain-rmse:1.20961\teval-rmse:1.28349\n",
      "[630]\ttrain-rmse:1.20949\teval-rmse:1.28348\n",
      "[631]\ttrain-rmse:1.20939\teval-rmse:1.28347\n",
      "[632]\ttrain-rmse:1.20928\teval-rmse:1.28344\n",
      "[633]\ttrain-rmse:1.20915\teval-rmse:1.28338\n",
      "[634]\ttrain-rmse:1.20904\teval-rmse:1.28338\n",
      "[635]\ttrain-rmse:1.20889\teval-rmse:1.28331\n",
      "[636]\ttrain-rmse:1.20873\teval-rmse:1.28332\n",
      "[637]\ttrain-rmse:1.20863\teval-rmse:1.28329\n",
      "[638]\ttrain-rmse:1.20853\teval-rmse:1.28323\n",
      "[639]\ttrain-rmse:1.20837\teval-rmse:1.28314\n",
      "[640]\ttrain-rmse:1.20825\teval-rmse:1.28307\n",
      "[641]\ttrain-rmse:1.20812\teval-rmse:1.28303\n",
      "[642]\ttrain-rmse:1.20802\teval-rmse:1.28304\n",
      "[643]\ttrain-rmse:1.20788\teval-rmse:1.283\n",
      "[644]\ttrain-rmse:1.20772\teval-rmse:1.28297\n",
      "[645]\ttrain-rmse:1.20761\teval-rmse:1.28296\n",
      "[646]\ttrain-rmse:1.20741\teval-rmse:1.28287\n",
      "[647]\ttrain-rmse:1.20729\teval-rmse:1.28289\n",
      "[648]\ttrain-rmse:1.20711\teval-rmse:1.28281\n",
      "[649]\ttrain-rmse:1.20695\teval-rmse:1.28274\n",
      "[650]\ttrain-rmse:1.20684\teval-rmse:1.28269\n",
      "[651]\ttrain-rmse:1.20676\teval-rmse:1.28266\n",
      "[652]\ttrain-rmse:1.20671\teval-rmse:1.28266\n",
      "[653]\ttrain-rmse:1.20663\teval-rmse:1.28265\n",
      "[654]\ttrain-rmse:1.20653\teval-rmse:1.28263\n",
      "[655]\ttrain-rmse:1.20639\teval-rmse:1.28258\n",
      "[656]\ttrain-rmse:1.20629\teval-rmse:1.28254\n",
      "[657]\ttrain-rmse:1.2062\teval-rmse:1.2825\n",
      "[658]\ttrain-rmse:1.20609\teval-rmse:1.28245\n",
      "[659]\ttrain-rmse:1.206\teval-rmse:1.28245\n",
      "[660]\ttrain-rmse:1.2059\teval-rmse:1.28245\n",
      "[661]\ttrain-rmse:1.20575\teval-rmse:1.28238\n",
      "[662]\ttrain-rmse:1.20562\teval-rmse:1.28232\n",
      "[663]\ttrain-rmse:1.20551\teval-rmse:1.28229\n",
      "[664]\ttrain-rmse:1.20535\teval-rmse:1.28223\n",
      "[665]\ttrain-rmse:1.20521\teval-rmse:1.28217\n",
      "[666]\ttrain-rmse:1.20509\teval-rmse:1.28214\n",
      "[667]\ttrain-rmse:1.20501\teval-rmse:1.28217\n",
      "[668]\ttrain-rmse:1.20493\teval-rmse:1.28216\n",
      "[669]\ttrain-rmse:1.20484\teval-rmse:1.28215\n",
      "[670]\ttrain-rmse:1.20476\teval-rmse:1.28213\n",
      "[671]\ttrain-rmse:1.20464\teval-rmse:1.28211\n",
      "[672]\ttrain-rmse:1.20451\teval-rmse:1.28209\n",
      "[673]\ttrain-rmse:1.20443\teval-rmse:1.28207\n",
      "[674]\ttrain-rmse:1.20426\teval-rmse:1.28201\n",
      "[675]\ttrain-rmse:1.20416\teval-rmse:1.282\n",
      "[676]\ttrain-rmse:1.20403\teval-rmse:1.28198\n",
      "[677]\ttrain-rmse:1.20388\teval-rmse:1.28195\n",
      "[678]\ttrain-rmse:1.20377\teval-rmse:1.28191\n",
      "[679]\ttrain-rmse:1.20361\teval-rmse:1.28184\n",
      "[680]\ttrain-rmse:1.20352\teval-rmse:1.28182\n",
      "[681]\ttrain-rmse:1.20338\teval-rmse:1.28176\n",
      "[682]\ttrain-rmse:1.20327\teval-rmse:1.28169\n",
      "[683]\ttrain-rmse:1.20311\teval-rmse:1.28168\n",
      "[684]\ttrain-rmse:1.20297\teval-rmse:1.28163\n",
      "[685]\ttrain-rmse:1.20292\teval-rmse:1.28162\n",
      "[686]\ttrain-rmse:1.20283\teval-rmse:1.28163\n",
      "[687]\ttrain-rmse:1.20272\teval-rmse:1.28161\n",
      "[688]\ttrain-rmse:1.20255\teval-rmse:1.28154\n",
      "[689]\ttrain-rmse:1.20242\teval-rmse:1.2815\n",
      "[690]\ttrain-rmse:1.2022\teval-rmse:1.28135\n",
      "[691]\ttrain-rmse:1.20208\teval-rmse:1.28132\n",
      "[692]\ttrain-rmse:1.20197\teval-rmse:1.28129\n",
      "[693]\ttrain-rmse:1.20186\teval-rmse:1.28124\n",
      "[694]\ttrain-rmse:1.20173\teval-rmse:1.28122\n",
      "[695]\ttrain-rmse:1.20161\teval-rmse:1.2812\n",
      "[696]\ttrain-rmse:1.20144\teval-rmse:1.28111\n",
      "[697]\ttrain-rmse:1.2014\teval-rmse:1.28111\n",
      "[698]\ttrain-rmse:1.20127\teval-rmse:1.28111\n",
      "[699]\ttrain-rmse:1.20119\teval-rmse:1.28106\n",
      "[700]\ttrain-rmse:1.20108\teval-rmse:1.28103\n",
      "[701]\ttrain-rmse:1.20097\teval-rmse:1.28096\n",
      "[702]\ttrain-rmse:1.20092\teval-rmse:1.28096\n",
      "[703]\ttrain-rmse:1.20082\teval-rmse:1.28098\n",
      "[704]\ttrain-rmse:1.20077\teval-rmse:1.28093\n",
      "[705]\ttrain-rmse:1.20073\teval-rmse:1.28093\n",
      "[706]\ttrain-rmse:1.2006\teval-rmse:1.28094\n",
      "[707]\ttrain-rmse:1.20045\teval-rmse:1.2809\n",
      "[708]\ttrain-rmse:1.20033\teval-rmse:1.28084\n",
      "[709]\ttrain-rmse:1.20024\teval-rmse:1.28084\n",
      "[710]\ttrain-rmse:1.20001\teval-rmse:1.28073\n",
      "[711]\ttrain-rmse:1.19985\teval-rmse:1.28072\n",
      "[712]\ttrain-rmse:1.19974\teval-rmse:1.28074\n",
      "[713]\ttrain-rmse:1.19961\teval-rmse:1.28071\n",
      "[714]\ttrain-rmse:1.19949\teval-rmse:1.28067\n",
      "[715]\ttrain-rmse:1.19931\teval-rmse:1.28068\n",
      "[716]\ttrain-rmse:1.19924\teval-rmse:1.28066\n",
      "[717]\ttrain-rmse:1.19911\teval-rmse:1.28066\n",
      "[718]\ttrain-rmse:1.199\teval-rmse:1.28065\n",
      "[719]\ttrain-rmse:1.19889\teval-rmse:1.28062\n",
      "[720]\ttrain-rmse:1.19875\teval-rmse:1.28058\n",
      "[721]\ttrain-rmse:1.1986\teval-rmse:1.28054\n",
      "[722]\ttrain-rmse:1.19852\teval-rmse:1.28048\n",
      "[723]\ttrain-rmse:1.19834\teval-rmse:1.28044\n",
      "[724]\ttrain-rmse:1.19823\teval-rmse:1.28043\n",
      "[725]\ttrain-rmse:1.19811\teval-rmse:1.28039\n",
      "[726]\ttrain-rmse:1.19802\teval-rmse:1.28036\n",
      "[727]\ttrain-rmse:1.19791\teval-rmse:1.28037\n",
      "[728]\ttrain-rmse:1.19775\teval-rmse:1.28036\n",
      "[729]\ttrain-rmse:1.19762\teval-rmse:1.28035\n",
      "[730]\ttrain-rmse:1.19748\teval-rmse:1.28029\n",
      "[731]\ttrain-rmse:1.19739\teval-rmse:1.2803\n",
      "[732]\ttrain-rmse:1.19724\teval-rmse:1.28025\n",
      "[733]\ttrain-rmse:1.19716\teval-rmse:1.28023\n",
      "[734]\ttrain-rmse:1.19707\teval-rmse:1.2802\n",
      "[735]\ttrain-rmse:1.19697\teval-rmse:1.28019\n",
      "[736]\ttrain-rmse:1.19685\teval-rmse:1.28018\n",
      "[737]\ttrain-rmse:1.19674\teval-rmse:1.28018\n",
      "[738]\ttrain-rmse:1.19667\teval-rmse:1.28018\n",
      "[739]\ttrain-rmse:1.19658\teval-rmse:1.28015\n",
      "[740]\ttrain-rmse:1.19646\teval-rmse:1.28015\n",
      "[741]\ttrain-rmse:1.19636\teval-rmse:1.28011\n",
      "[742]\ttrain-rmse:1.1963\teval-rmse:1.2801\n",
      "[743]\ttrain-rmse:1.19616\teval-rmse:1.28004\n",
      "[744]\ttrain-rmse:1.19606\teval-rmse:1.28003\n",
      "[745]\ttrain-rmse:1.19591\teval-rmse:1.28003\n",
      "[746]\ttrain-rmse:1.19581\teval-rmse:1.28002\n",
      "[747]\ttrain-rmse:1.19571\teval-rmse:1.27998\n",
      "[748]\ttrain-rmse:1.19556\teval-rmse:1.27997\n",
      "[749]\ttrain-rmse:1.19539\teval-rmse:1.27988\n",
      "[750]\ttrain-rmse:1.19533\teval-rmse:1.27988\n",
      "[751]\ttrain-rmse:1.19524\teval-rmse:1.27985\n",
      "[752]\ttrain-rmse:1.19518\teval-rmse:1.27981\n",
      "[753]\ttrain-rmse:1.19514\teval-rmse:1.27981\n",
      "[754]\ttrain-rmse:1.19507\teval-rmse:1.27982\n",
      "[755]\ttrain-rmse:1.19498\teval-rmse:1.27984\n",
      "[756]\ttrain-rmse:1.19488\teval-rmse:1.27987\n",
      "[757]\ttrain-rmse:1.19474\teval-rmse:1.27979\n",
      "[758]\ttrain-rmse:1.19458\teval-rmse:1.27975\n",
      "[759]\ttrain-rmse:1.19443\teval-rmse:1.27975\n",
      "[760]\ttrain-rmse:1.19428\teval-rmse:1.27973\n",
      "[761]\ttrain-rmse:1.19413\teval-rmse:1.2797\n",
      "[762]\ttrain-rmse:1.19401\teval-rmse:1.27967\n",
      "[763]\ttrain-rmse:1.1939\teval-rmse:1.27963\n",
      "[764]\ttrain-rmse:1.19382\teval-rmse:1.27959\n",
      "[765]\ttrain-rmse:1.19371\teval-rmse:1.27957\n",
      "[766]\ttrain-rmse:1.19356\teval-rmse:1.27954\n",
      "[767]\ttrain-rmse:1.19349\teval-rmse:1.27955\n",
      "[768]\ttrain-rmse:1.19335\teval-rmse:1.27954\n",
      "[769]\ttrain-rmse:1.19324\teval-rmse:1.27954\n",
      "[770]\ttrain-rmse:1.19312\teval-rmse:1.27959\n",
      "[771]\ttrain-rmse:1.19305\teval-rmse:1.27956\n",
      "[772]\ttrain-rmse:1.19291\teval-rmse:1.27953\n",
      "[773]\ttrain-rmse:1.19286\teval-rmse:1.27954\n",
      "[774]\ttrain-rmse:1.19276\teval-rmse:1.27952\n",
      "[775]\ttrain-rmse:1.19261\teval-rmse:1.27949\n",
      "[776]\ttrain-rmse:1.19252\teval-rmse:1.27947\n",
      "[777]\ttrain-rmse:1.19245\teval-rmse:1.27946\n",
      "[778]\ttrain-rmse:1.19232\teval-rmse:1.2795\n",
      "[779]\ttrain-rmse:1.1922\teval-rmse:1.27947\n",
      "[780]\ttrain-rmse:1.1921\teval-rmse:1.27946\n",
      "[781]\ttrain-rmse:1.19202\teval-rmse:1.27944\n",
      "[782]\ttrain-rmse:1.1919\teval-rmse:1.27937\n",
      "[783]\ttrain-rmse:1.19176\teval-rmse:1.27937\n",
      "[784]\ttrain-rmse:1.19161\teval-rmse:1.2793\n",
      "[785]\ttrain-rmse:1.19153\teval-rmse:1.2793\n",
      "[786]\ttrain-rmse:1.19143\teval-rmse:1.27929\n",
      "[787]\ttrain-rmse:1.1913\teval-rmse:1.27927\n",
      "[788]\ttrain-rmse:1.19115\teval-rmse:1.27927\n",
      "[789]\ttrain-rmse:1.19104\teval-rmse:1.27926\n",
      "[790]\ttrain-rmse:1.19097\teval-rmse:1.27926\n",
      "[791]\ttrain-rmse:1.19087\teval-rmse:1.27928\n",
      "[792]\ttrain-rmse:1.19075\teval-rmse:1.2792\n",
      "[793]\ttrain-rmse:1.19064\teval-rmse:1.27918\n",
      "[794]\ttrain-rmse:1.19054\teval-rmse:1.2792\n",
      "[795]\ttrain-rmse:1.19046\teval-rmse:1.27918\n",
      "[796]\ttrain-rmse:1.19027\teval-rmse:1.27912\n",
      "[797]\ttrain-rmse:1.19016\teval-rmse:1.27911\n",
      "[798]\ttrain-rmse:1.19001\teval-rmse:1.27909\n",
      "[799]\ttrain-rmse:1.1899\teval-rmse:1.27904\n",
      "[800]\ttrain-rmse:1.18979\teval-rmse:1.279\n",
      "[801]\ttrain-rmse:1.18967\teval-rmse:1.27891\n",
      "[802]\ttrain-rmse:1.18953\teval-rmse:1.27887\n",
      "[803]\ttrain-rmse:1.18944\teval-rmse:1.2789\n",
      "[804]\ttrain-rmse:1.18928\teval-rmse:1.27889\n",
      "[805]\ttrain-rmse:1.18918\teval-rmse:1.27885\n",
      "[806]\ttrain-rmse:1.18905\teval-rmse:1.27878\n",
      "[807]\ttrain-rmse:1.18894\teval-rmse:1.27879\n",
      "[808]\ttrain-rmse:1.18884\teval-rmse:1.27873\n",
      "[809]\ttrain-rmse:1.18874\teval-rmse:1.2787\n",
      "[810]\ttrain-rmse:1.18861\teval-rmse:1.27867\n",
      "[811]\ttrain-rmse:1.1885\teval-rmse:1.27863\n",
      "[812]\ttrain-rmse:1.18842\teval-rmse:1.27862\n",
      "[813]\ttrain-rmse:1.1883\teval-rmse:1.27858\n",
      "[814]\ttrain-rmse:1.18819\teval-rmse:1.27851\n",
      "[815]\ttrain-rmse:1.18814\teval-rmse:1.2785\n",
      "[816]\ttrain-rmse:1.18799\teval-rmse:1.27845\n",
      "[817]\ttrain-rmse:1.18787\teval-rmse:1.27843\n",
      "[818]\ttrain-rmse:1.18779\teval-rmse:1.27844\n",
      "[819]\ttrain-rmse:1.18768\teval-rmse:1.2784\n",
      "[820]\ttrain-rmse:1.18756\teval-rmse:1.27841\n",
      "[821]\ttrain-rmse:1.18743\teval-rmse:1.27842\n",
      "[822]\ttrain-rmse:1.18729\teval-rmse:1.27837\n",
      "[823]\ttrain-rmse:1.18719\teval-rmse:1.27836\n",
      "[824]\ttrain-rmse:1.18708\teval-rmse:1.27837\n",
      "[825]\ttrain-rmse:1.18698\teval-rmse:1.27836\n",
      "[826]\ttrain-rmse:1.18682\teval-rmse:1.2784\n",
      "[827]\ttrain-rmse:1.18671\teval-rmse:1.27841\n",
      "[828]\ttrain-rmse:1.18659\teval-rmse:1.27844\n",
      "Stopping. Best iteration:\n",
      "[823]\ttrain-rmse:1.18719\teval-rmse:1.27836\n",
      "\n"
     ]
    }
   ],
   "source": [
    "regXGB = xgb.train(params, xg_train, 1000, evals=[(xg_train, \"train\"), (xg_valid, \"eval\")],early_stopping_rounds=5, verbose_eval=True)"
   ]
  },
  {
   "cell_type": "code",
   "execution_count": null,
   "metadata": {
    "id": "2UjrGQjCQzKZ"
   },
   "outputs": [],
   "source": [
    "imps=regXGB.get_score(importance_type=\"gain\")"
   ]
  },
  {
   "cell_type": "code",
   "execution_count": null,
   "metadata": {
    "colab": {
     "base_uri": "https://localhost:8080/"
    },
    "id": "X3H5gKi5SYDn",
    "outputId": "57236754-9aa4-48bc-8c89-e624aa241b39"
   },
   "outputs": [
    {
     "data": {
      "text/plain": [
       "{'Category': 86.01106266338357,\n",
       " 'Cluster': 62.58328920975717,\n",
       " 'Colour': 62.59635477396971,\n",
       " 'MEMBERID': 6.438786473627468,\n",
       " 'ProductID': 28.5300310862712,\n",
       " 'age': 6.448272046050587,\n",
       " 'features': 28.406104707330893,\n",
       " 'gender': 5.317592519525576,\n",
       " 'matherial': 42.912575481483564,\n",
       " 'product_group': 29.446970483139104,\n",
       " 'target_group': 26.31013688098456}"
      ]
     },
     "execution_count": 110,
     "metadata": {
      "tags": []
     },
     "output_type": "execute_result"
    }
   ],
   "source": [
    "mapper = {'f{0}'.format(i): v for i, v in enumerate(X_train.columns)}\n",
    "mapped = {mapper[k]: v for k, v in imps.items()}\n",
    "mapped"
   ]
  },
  {
   "cell_type": "code",
   "execution_count": null,
   "metadata": {
    "id": "2lMSCml6jqS5"
   },
   "outputs": [],
   "source": [
    "mapped={k: v for k, v in sorted(mapped.items(), key=lambda item: item[1])}"
   ]
  },
  {
   "cell_type": "code",
   "execution_count": null,
   "metadata": {
    "colab": {
     "base_uri": "https://localhost:8080/",
     "height": 609
    },
    "id": "LSdGrwXhTjrH",
    "outputId": "95220c02-bfe6-4033-9c08-3d3f01117a70"
   },
   "outputs": [
    {
     "data": {
      "text/plain": [
       "<BarContainer object of 11 artists>"
      ]
     },
     "execution_count": 112,
     "metadata": {
      "tags": []
     },
     "output_type": "execute_result"
    },
    {
     "data": {
      "image/png": "[encoded data removed]",
      "text/plain": [
       "<Figure size 720x720 with 1 Axes>"
      ]
     },
     "metadata": {
      "needs_background": "light",
      "tags": []
     },
     "output_type": "display_data"
    }
   ],
   "source": [
    "plt.barh(list(mapped.keys()), list(mapped.values()), align='center')"
   ]
  },
  {
   "cell_type": "code",
   "execution_count": 62,
   "metadata": {
    "id": "sdntn1S05T_Z"
   },
   "outputs": [],
   "source": [
    "preds178765['XGBOOST']=regXGB.predict(xgb.DMatrix(userTAB178765.values))"
   ]
  },
  {
   "cell_type": "code",
   "execution_count": 63,
   "metadata": {
    "colab": {
     "base_uri": "https://localhost:8080/",
     "height": 204
    },
    "id": "4_YXtHvN585V",
    "outputId": "ed89af1a-6d62-4411-ff68-1b3359ff479f"
   },
   "outputs": [
    {
     "data": {
      "text/html": [
       "<div>\n",
       "<style scoped>\n",
       "    .dataframe tbody tr th:only-of-type {\n",
       "        vertical-align: middle;\n",
       "    }\n",
       "\n",
       "    .dataframe tbody tr th {\n",
       "        vertical-align: top;\n",
       "    }\n",
       "\n",
       "    .dataframe thead th {\n",
       "        text-align: right;\n",
       "    }\n",
       "</style>\n",
       "<table border=\"1\" class=\"dataframe\">\n",
       "  <thead>\n",
       "    <tr style=\"text-align: right;\">\n",
       "      <th></th>\n",
       "      <th>gender</th>\n",
       "      <th>age</th>\n",
       "      <th>MEMBERID</th>\n",
       "      <th>ProductID</th>\n",
       "      <th>Colour</th>\n",
       "      <th>matherial</th>\n",
       "      <th>product_group</th>\n",
       "      <th>target_group</th>\n",
       "      <th>features</th>\n",
       "      <th>Category</th>\n",
       "      <th>Cluster</th>\n",
       "      <th>PredsxDeepFM</th>\n",
       "      <th>TABNET</th>\n",
       "      <th>XGBOOST</th>\n",
       "    </tr>\n",
       "  </thead>\n",
       "  <tbody>\n",
       "    <tr>\n",
       "      <th>0</th>\n",
       "      <td>2.0</td>\n",
       "      <td>51.0</td>\n",
       "      <td>178765.0</td>\n",
       "      <td>010CA1O304</td>\n",
       "      <td>OTHER</td>\n",
       "      <td>Cotton</td>\n",
       "      <td>Accessories</td>\n",
       "      <td>Women</td>\n",
       "      <td>backpack</td>\n",
       "      <td>Accessories hard</td>\n",
       "      <td>Bags Non-Leather</td>\n",
       "      <td>2.237521</td>\n",
       "      <td>3.222044</td>\n",
       "      <td>3.357754</td>\n",
       "    </tr>\n",
       "    <tr>\n",
       "      <th>1</th>\n",
       "      <td>2.0</td>\n",
       "      <td>51.0</td>\n",
       "      <td>178765.0</td>\n",
       "      <td>010CA1Q302</td>\n",
       "      <td>BLUE</td>\n",
       "      <td>Polyester</td>\n",
       "      <td>Accessories</td>\n",
       "      <td>Women</td>\n",
       "      <td>shawls</td>\n",
       "      <td>Accessories soft</td>\n",
       "      <td>Shawls/Scarves</td>\n",
       "      <td>2.225422</td>\n",
       "      <td>4.481304</td>\n",
       "      <td>2.631370</td>\n",
       "    </tr>\n",
       "    <tr>\n",
       "      <th>2</th>\n",
       "      <td>2.0</td>\n",
       "      <td>51.0</td>\n",
       "      <td>178765.0</td>\n",
       "      <td>010CA1S301</td>\n",
       "      <td>BLUE</td>\n",
       "      <td>Buffalo Split Leather</td>\n",
       "      <td>Accessories</td>\n",
       "      <td>Women</td>\n",
       "      <td>belts cm</td>\n",
       "      <td>Accessories hard</td>\n",
       "      <td>Belts</td>\n",
       "      <td>2.104673</td>\n",
       "      <td>3.699023</td>\n",
       "      <td>3.218219</td>\n",
       "    </tr>\n",
       "    <tr>\n",
       "      <th>3</th>\n",
       "      <td>2.0</td>\n",
       "      <td>51.0</td>\n",
       "      <td>178765.0</td>\n",
       "      <td>010CC1B302</td>\n",
       "      <td>GREY</td>\n",
       "      <td>Cotton</td>\n",
       "      <td>Women</td>\n",
       "      <td>Women</td>\n",
       "      <td>length service</td>\n",
       "      <td>Denim</td>\n",
       "      <td>Pants Denim</td>\n",
       "      <td>1.536121</td>\n",
       "      <td>2.612721</td>\n",
       "      <td>2.006189</td>\n",
       "    </tr>\n",
       "    <tr>\n",
       "      <th>4</th>\n",
       "      <td>2.0</td>\n",
       "      <td>51.0</td>\n",
       "      <td>178765.0</td>\n",
       "      <td>010CC1B305</td>\n",
       "      <td>OTHER</td>\n",
       "      <td>Cotton</td>\n",
       "      <td>Women</td>\n",
       "      <td>Women</td>\n",
       "      <td>length service</td>\n",
       "      <td>Denim</td>\n",
       "      <td>Pants Denim</td>\n",
       "      <td>1.562388</td>\n",
       "      <td>2.135189</td>\n",
       "      <td>1.997912</td>\n",
       "    </tr>\n",
       "  </tbody>\n",
       "</table>\n",
       "</div>"
      ],
      "text/plain": [
       "   gender   age  MEMBERID  ... PredsxDeepFM    TABNET   XGBOOST\n",
       "0     2.0  51.0  178765.0  ...     2.237521  3.222044  3.357754\n",
       "1     2.0  51.0  178765.0  ...     2.225422  4.481304  2.631370\n",
       "2     2.0  51.0  178765.0  ...     2.104673  3.699023  3.218219\n",
       "3     2.0  51.0  178765.0  ...     1.536121  2.612721  2.006189\n",
       "4     2.0  51.0  178765.0  ...     1.562388  2.135189  1.997912\n",
       "\n",
       "[5 rows x 14 columns]"
      ]
     },
     "execution_count": 63,
     "metadata": {
      "tags": []
     },
     "output_type": "execute_result"
    }
   ],
   "source": [
    "preds178765.head()"
   ]
  },
  {
   "cell_type": "code",
   "execution_count": 64,
   "metadata": {
    "id": "2sMi0_GK5dG5"
   },
   "outputs": [],
   "source": [
    "preds771733['XGBOOST']=regXGB.predict(xgb.DMatrix(userTAB771733.values))"
   ]
  },
  {
   "cell_type": "code",
   "execution_count": 65,
   "metadata": {
    "colab": {
     "base_uri": "https://localhost:8080/",
     "height": 204
    },
    "id": "xfSAg8b76AyH",
    "outputId": "f166637b-f1df-4c5d-d820-b01975b83642"
   },
   "outputs": [
    {
     "data": {
      "text/html": [
       "<div>\n",
       "<style scoped>\n",
       "    .dataframe tbody tr th:only-of-type {\n",
       "        vertical-align: middle;\n",
       "    }\n",
       "\n",
       "    .dataframe tbody tr th {\n",
       "        vertical-align: top;\n",
       "    }\n",
       "\n",
       "    .dataframe thead th {\n",
       "        text-align: right;\n",
       "    }\n",
       "</style>\n",
       "<table border=\"1\" class=\"dataframe\">\n",
       "  <thead>\n",
       "    <tr style=\"text-align: right;\">\n",
       "      <th></th>\n",
       "      <th>gender</th>\n",
       "      <th>age</th>\n",
       "      <th>MEMBERID</th>\n",
       "      <th>ProductID</th>\n",
       "      <th>Colour</th>\n",
       "      <th>matherial</th>\n",
       "      <th>product_group</th>\n",
       "      <th>target_group</th>\n",
       "      <th>features</th>\n",
       "      <th>Category</th>\n",
       "      <th>Cluster</th>\n",
       "      <th>PredsxDeepFM</th>\n",
       "      <th>TABNET</th>\n",
       "      <th>XGBOOST</th>\n",
       "    </tr>\n",
       "  </thead>\n",
       "  <tbody>\n",
       "    <tr>\n",
       "      <th>0</th>\n",
       "      <td>2.0</td>\n",
       "      <td>42.0</td>\n",
       "      <td>771733.0</td>\n",
       "      <td>010CA1O304</td>\n",
       "      <td>OTHER</td>\n",
       "      <td>Cotton</td>\n",
       "      <td>Accessories</td>\n",
       "      <td>Women</td>\n",
       "      <td>backpack</td>\n",
       "      <td>Accessories hard</td>\n",
       "      <td>Bags Non-Leather</td>\n",
       "      <td>2.737335</td>\n",
       "      <td>4.995235</td>\n",
       "      <td>3.339263</td>\n",
       "    </tr>\n",
       "    <tr>\n",
       "      <th>1</th>\n",
       "      <td>2.0</td>\n",
       "      <td>42.0</td>\n",
       "      <td>771733.0</td>\n",
       "      <td>010CA1Q302</td>\n",
       "      <td>BLUE</td>\n",
       "      <td>Polyester</td>\n",
       "      <td>Accessories</td>\n",
       "      <td>Women</td>\n",
       "      <td>shawls</td>\n",
       "      <td>Accessories soft</td>\n",
       "      <td>Shawls/Scarves</td>\n",
       "      <td>2.690987</td>\n",
       "      <td>3.850037</td>\n",
       "      <td>2.423147</td>\n",
       "    </tr>\n",
       "    <tr>\n",
       "      <th>2</th>\n",
       "      <td>2.0</td>\n",
       "      <td>42.0</td>\n",
       "      <td>771733.0</td>\n",
       "      <td>010CA1S301</td>\n",
       "      <td>BLUE</td>\n",
       "      <td>Buffalo Split Leather</td>\n",
       "      <td>Accessories</td>\n",
       "      <td>Women</td>\n",
       "      <td>belts cm</td>\n",
       "      <td>Accessories hard</td>\n",
       "      <td>Belts</td>\n",
       "      <td>2.557454</td>\n",
       "      <td>3.507605</td>\n",
       "      <td>3.074020</td>\n",
       "    </tr>\n",
       "    <tr>\n",
       "      <th>3</th>\n",
       "      <td>2.0</td>\n",
       "      <td>42.0</td>\n",
       "      <td>771733.0</td>\n",
       "      <td>010CC1B302</td>\n",
       "      <td>GREY</td>\n",
       "      <td>Cotton</td>\n",
       "      <td>Women</td>\n",
       "      <td>Women</td>\n",
       "      <td>length service</td>\n",
       "      <td>Denim</td>\n",
       "      <td>Pants Denim</td>\n",
       "      <td>1.694690</td>\n",
       "      <td>2.068795</td>\n",
       "      <td>2.013976</td>\n",
       "    </tr>\n",
       "    <tr>\n",
       "      <th>4</th>\n",
       "      <td>2.0</td>\n",
       "      <td>42.0</td>\n",
       "      <td>771733.0</td>\n",
       "      <td>010CC1B305</td>\n",
       "      <td>OTHER</td>\n",
       "      <td>Cotton</td>\n",
       "      <td>Women</td>\n",
       "      <td>Women</td>\n",
       "      <td>length service</td>\n",
       "      <td>Denim</td>\n",
       "      <td>Pants Denim</td>\n",
       "      <td>1.722045</td>\n",
       "      <td>2.161431</td>\n",
       "      <td>2.018070</td>\n",
       "    </tr>\n",
       "  </tbody>\n",
       "</table>\n",
       "</div>"
      ],
      "text/plain": [
       "   gender   age  MEMBERID  ... PredsxDeepFM    TABNET   XGBOOST\n",
       "0     2.0  42.0  771733.0  ...     2.737335  4.995235  3.339263\n",
       "1     2.0  42.0  771733.0  ...     2.690987  3.850037  2.423147\n",
       "2     2.0  42.0  771733.0  ...     2.557454  3.507605  3.074020\n",
       "3     2.0  42.0  771733.0  ...     1.694690  2.068795  2.013976\n",
       "4     2.0  42.0  771733.0  ...     1.722045  2.161431  2.018070\n",
       "\n",
       "[5 rows x 14 columns]"
      ]
     },
     "execution_count": 65,
     "metadata": {
      "tags": []
     },
     "output_type": "execute_result"
    }
   ],
   "source": [
    "preds771733.head()"
   ]
  },
  {
   "cell_type": "code",
   "execution_count": 66,
   "metadata": {
    "colab": {
     "base_uri": "https://localhost:8080/"
    },
    "id": "lSgQv-NrxN-d",
    "outputId": "65e8ff05-2533-4d13-e3be-3e1bbfe87192"
   },
   "outputs": [
    {
     "name": "stdout",
     "output_type": "stream",
     "text": [
      "Collecting surprise\n",
      "  Downloading https://files.pythonhosted.org/packages/61/de/e5cba8682201fcf9c3719a6fdda95693468ed061945493dea2dd37c5618b/surprise-0.1-py2.py3-none-any.whl\n",
      "Collecting scikit-surprise\n",
      "\u001b[?25l  Downloading https://files.pythonhosted.org/packages/97/37/5d334adaf5ddd65da99fc65f6507e0e4599d092ba048f4302fe8775619e8/scikit-surprise-1.1.1.tar.gz (11.8MB)\n",
      "\u001b[K     |████████████████████████████████| 11.8MB 262kB/s \n",
      "\u001b[?25hRequirement already satisfied: joblib>=0.11 in /usr/local/lib/python3.7/dist-packages (from scikit-surprise->surprise) (1.0.1)\n",
      "Requirement already satisfied: numpy>=1.11.2 in /usr/local/lib/python3.7/dist-packages (from scikit-surprise->surprise) (1.19.5)\n",
      "Requirement already satisfied: scipy>=1.0.0 in /usr/local/lib/python3.7/dist-packages (from scikit-surprise->surprise) (1.4.1)\n",
      "Requirement already satisfied: six>=1.10.0 in /usr/local/lib/python3.7/dist-packages (from scikit-surprise->surprise) (1.15.0)\n",
      "Building wheels for collected packages: scikit-surprise\n",
      "  Building wheel for scikit-surprise (setup.py) ... \u001b[?25l\u001b[?25hdone\n",
      "  Created wheel for scikit-surprise: filename=scikit_surprise-1.1.1-cp37-cp37m-linux_x86_64.whl size=1617534 sha256=7e11dd7f3a669259b0c1ef1b661db9bf98970f8a70b79bad1f00a675ee00137f\n",
      "  Stored in directory: /root/.cache/pip/wheels/78/9c/3d/41b419c9d2aff5b6e2b4c0fc8d25c538202834058f9ed110d0\n",
      "Successfully built scikit-surprise\n",
      "Installing collected packages: scikit-surprise, surprise\n",
      "Successfully installed scikit-surprise-1.1.1 surprise-0.1\n"
     ]
    }
   ],
   "source": [
    "!pip install surprise"
   ]
  },
  {
   "cell_type": "markdown",
   "metadata": {
    "id": "3AVIcHiJWyHl"
   },
   "source": [
    "# SVD"
   ]
  },
  {
   "cell_type": "markdown",
   "metadata": {
    "id": "XCC3qXK3XGqw"
   },
   "source": [
    "A latent factor model involving parameter estimation by stochastic gradient descent."
   ]
  },
  {
   "cell_type": "code",
   "execution_count": 67,
   "metadata": {
    "id": "CBiQuu1KyGru"
   },
   "outputs": [],
   "source": [
    "from surprise import SVD,KNNWithMeans\n",
    "from surprise import Dataset,Reader\n",
    "from surprise.model_selection import cross_validate"
   ]
  },
  {
   "cell_type": "code",
   "execution_count": 68,
   "metadata": {
    "id": "zXGWNzzqx8-1"
   },
   "outputs": [],
   "source": [
    "reader = Reader(rating_scale=(0, 15))\n",
    "data = Dataset.load_from_df(collabFiltering[['MEMBERID', 'ProductID', 'Count']], reader).build_full_trainset()"
   ]
  },
  {
   "cell_type": "code",
   "execution_count": 69,
   "metadata": {
    "id": "KIbF3ljYFfl2"
   },
   "outputs": [],
   "source": [
    "dataCV = Dataset.load_from_df(collabFiltering[['MEMBERID', 'ProductID', 'Count']], reader)"
   ]
  },
  {
   "cell_type": "code",
   "execution_count": 70,
   "metadata": {
    "colab": {
     "base_uri": "https://localhost:8080/"
    },
    "id": "47xdx9TByTc0",
    "outputId": "ae28762d-1390-4b79-848e-4e50b0cf1fef"
   },
   "outputs": [
    {
     "name": "stdout",
     "output_type": "stream",
     "text": [
      "CPU times: user 8.1 s, sys: 9.67 ms, total: 8.11 s\n",
      "Wall time: 8.11 s\n"
     ]
    }
   ],
   "source": [
    "%%time\n",
    "algo = SVD(n_factors=50)\n",
    "algo.fit(data)"
   ]
  },
  {
   "cell_type": "code",
   "execution_count": null,
   "metadata": {
    "colab": {
     "base_uri": "https://localhost:8080/"
    },
    "id": "jNBmr5ujjH1I",
    "outputId": "8e35e02b-fcf6-4382-c8c6-50028e052035"
   },
   "outputs": [
    {
     "name": "stdout",
     "output_type": "stream",
     "text": [
      "Evaluating RMSE, MAE of algorithm SVD on 3 split(s).\n",
      "\n",
      "                  Fold 1  Fold 2  Fold 3  Mean    Std     \n",
      "RMSE (testset)    1.2679  1.2663  1.2623  1.2655  0.0024  \n",
      "MAE (testset)     0.8322  0.8293  0.8265  0.8293  0.0023  \n",
      "Fit time          4.97    4.97    5.01    4.99    0.02    \n",
      "Test time         0.47    0.47    0.48    0.47    0.01    \n"
     ]
    },
    {
     "data": {
      "text/plain": [
       "{'fit_time': (4.97152304649353, 4.9744813442230225, 5.013360500335693),\n",
       " 'test_mae': array([0.83217444, 0.82932375, 0.82649174]),\n",
       " 'test_rmse': array([1.26786387, 1.26630617, 1.26225603]),\n",
       " 'test_time': (0.4653141498565674, 0.4667832851409912, 0.47748875617980957)}"
      ]
     },
     "execution_count": 125,
     "metadata": {
      "tags": []
     },
     "output_type": "execute_result"
    }
   ],
   "source": [
    "cross_validate(algo, dataCV, measures=['RMSE', 'MAE'], cv=3, verbose=True)"
   ]
  },
  {
   "cell_type": "code",
   "execution_count": 71,
   "metadata": {
    "id": "UhFi8VcBYHYF"
   },
   "outputs": [],
   "source": [
    "est771733=[]"
   ]
  },
  {
   "cell_type": "code",
   "execution_count": 72,
   "metadata": {
    "id": "NJrwOz5DHoe7"
   },
   "outputs": [],
   "source": [
    "x=data.to_inner_uid(771733.0)\n",
    "uid=data.to_raw_uid(x)\n",
    "for prod in preds771733['ProductID'].values:\n",
    "  x=data.to_inner_iid(prod)\n",
    "  iid=data.to_raw_iid(x)  \n",
    "  iid = str(prod)  \n",
    "  pred = algo.predict(uid, iid, verbose=False)\n",
    "  est771733.append(pred.est)"
   ]
  },
  {
   "cell_type": "code",
   "execution_count": 76,
   "metadata": {
    "id": "0DXhkdmD8HDC"
   },
   "outputs": [],
   "source": [
    "preds771733['SVD']=est771733"
   ]
  },
  {
   "cell_type": "code",
   "execution_count": null,
   "metadata": {
    "colab": {
     "base_uri": "https://localhost:8080/",
     "height": 309
    },
    "id": "HhysZE_r79Mg",
    "outputId": "84126606-d60e-435a-8af0-2400cb7f0bd6"
   },
   "outputs": [
    {
     "data": {
      "text/html": [
       "<div>\n",
       "<style scoped>\n",
       "    .dataframe tbody tr th:only-of-type {\n",
       "        vertical-align: middle;\n",
       "    }\n",
       "\n",
       "    .dataframe tbody tr th {\n",
       "        vertical-align: top;\n",
       "    }\n",
       "\n",
       "    .dataframe thead th {\n",
       "        text-align: right;\n",
       "    }\n",
       "</style>\n",
       "<table border=\"1\" class=\"dataframe\">\n",
       "  <thead>\n",
       "    <tr style=\"text-align: right;\">\n",
       "      <th></th>\n",
       "      <th>gender</th>\n",
       "      <th>age</th>\n",
       "      <th>MEMBERID</th>\n",
       "      <th>ProductID</th>\n",
       "      <th>Colour</th>\n",
       "      <th>matherial</th>\n",
       "      <th>product_group</th>\n",
       "      <th>target_group</th>\n",
       "      <th>features</th>\n",
       "      <th>Category</th>\n",
       "      <th>Cluster</th>\n",
       "      <th>PredsxDeepFM</th>\n",
       "      <th>TABNET</th>\n",
       "      <th>XGBOOST</th>\n",
       "      <th>SVD</th>\n",
       "    </tr>\n",
       "  </thead>\n",
       "  <tbody>\n",
       "    <tr>\n",
       "      <th>0</th>\n",
       "      <td>2.0</td>\n",
       "      <td>42.0</td>\n",
       "      <td>771733.0</td>\n",
       "      <td>010CA1O304</td>\n",
       "      <td>OTHER</td>\n",
       "      <td>Cotton</td>\n",
       "      <td>Accessories</td>\n",
       "      <td>Women</td>\n",
       "      <td>backpack</td>\n",
       "      <td>Accessories hard</td>\n",
       "      <td>Bags Non-Leather</td>\n",
       "      <td>2.591115</td>\n",
       "      <td>4.669821</td>\n",
       "      <td>3.406367</td>\n",
       "      <td>3.432931</td>\n",
       "    </tr>\n",
       "    <tr>\n",
       "      <th>1</th>\n",
       "      <td>2.0</td>\n",
       "      <td>42.0</td>\n",
       "      <td>771733.0</td>\n",
       "      <td>010CA1Q302</td>\n",
       "      <td>BLUE</td>\n",
       "      <td>Polyester</td>\n",
       "      <td>Accessories</td>\n",
       "      <td>Women</td>\n",
       "      <td>shawls</td>\n",
       "      <td>Accessories soft</td>\n",
       "      <td>Shawls/Scarves</td>\n",
       "      <td>2.679366</td>\n",
       "      <td>2.420033</td>\n",
       "      <td>2.445273</td>\n",
       "      <td>3.162018</td>\n",
       "    </tr>\n",
       "    <tr>\n",
       "      <th>2</th>\n",
       "      <td>2.0</td>\n",
       "      <td>42.0</td>\n",
       "      <td>771733.0</td>\n",
       "      <td>010CA1S301</td>\n",
       "      <td>BLUE</td>\n",
       "      <td>Buffalo Split Leather</td>\n",
       "      <td>Accessories</td>\n",
       "      <td>Women</td>\n",
       "      <td>belts cm</td>\n",
       "      <td>Accessories hard</td>\n",
       "      <td>Belts</td>\n",
       "      <td>2.559642</td>\n",
       "      <td>2.765619</td>\n",
       "      <td>3.083060</td>\n",
       "      <td>2.822812</td>\n",
       "    </tr>\n",
       "    <tr>\n",
       "      <th>3</th>\n",
       "      <td>2.0</td>\n",
       "      <td>42.0</td>\n",
       "      <td>771733.0</td>\n",
       "      <td>010CC1B302</td>\n",
       "      <td>GREY</td>\n",
       "      <td>Cotton</td>\n",
       "      <td>Women</td>\n",
       "      <td>Women</td>\n",
       "      <td>length service</td>\n",
       "      <td>Denim</td>\n",
       "      <td>Pants Denim</td>\n",
       "      <td>1.665021</td>\n",
       "      <td>2.798069</td>\n",
       "      <td>2.005585</td>\n",
       "      <td>1.503755</td>\n",
       "    </tr>\n",
       "    <tr>\n",
       "      <th>4</th>\n",
       "      <td>2.0</td>\n",
       "      <td>42.0</td>\n",
       "      <td>771733.0</td>\n",
       "      <td>010CC1B305</td>\n",
       "      <td>OTHER</td>\n",
       "      <td>Cotton</td>\n",
       "      <td>Women</td>\n",
       "      <td>Women</td>\n",
       "      <td>length service</td>\n",
       "      <td>Denim</td>\n",
       "      <td>Pants Denim</td>\n",
       "      <td>1.688125</td>\n",
       "      <td>2.021320</td>\n",
       "      <td>2.014450</td>\n",
       "      <td>1.695521</td>\n",
       "    </tr>\n",
       "  </tbody>\n",
       "</table>\n",
       "</div>"
      ],
      "text/plain": [
       "   gender   age  MEMBERID  ...    TABNET   XGBOOST       SVD\n",
       "0     2.0  42.0  771733.0  ...  4.669821  3.406367  3.432931\n",
       "1     2.0  42.0  771733.0  ...  2.420033  2.445273  3.162018\n",
       "2     2.0  42.0  771733.0  ...  2.765619  3.083060  2.822812\n",
       "3     2.0  42.0  771733.0  ...  2.798069  2.005585  1.503755\n",
       "4     2.0  42.0  771733.0  ...  2.021320  2.014450  1.695521\n",
       "\n",
       "[5 rows x 15 columns]"
      ]
     },
     "execution_count": 134,
     "metadata": {
      "tags": []
     },
     "output_type": "execute_result"
    }
   ],
   "source": [
    "preds771733.head()"
   ]
  },
  {
   "cell_type": "code",
   "execution_count": 73,
   "metadata": {
    "id": "W1X11Fno7Wbo"
   },
   "outputs": [],
   "source": [
    "est178765=[]"
   ]
  },
  {
   "cell_type": "code",
   "execution_count": 74,
   "metadata": {
    "id": "DW22uTp2FPKw"
   },
   "outputs": [],
   "source": [
    "x=data.to_inner_uid(178765.0)\n",
    "uid=data.to_raw_uid(x)\n",
    "for prod in preds178765['ProductID'].values:\n",
    "  x=data.to_inner_iid(prod)\n",
    "  iid=data.to_raw_iid(x)  \n",
    "  iid = str(prod)  \n",
    "  pred = algo.predict(uid, iid, verbose=False)\n",
    "  est178765.append(pred.est)"
   ]
  },
  {
   "cell_type": "code",
   "execution_count": 75,
   "metadata": {
    "id": "376YGUyb7pQ2"
   },
   "outputs": [],
   "source": [
    "preds178765['SVD']=est178765"
   ]
  },
  {
   "cell_type": "markdown",
   "metadata": {
    "id": "xpLRCelNYcew"
   },
   "source": [
    "# FASTAI"
   ]
  },
  {
   "cell_type": "markdown",
   "metadata": {
    "id": "m86598YxYe-I"
   },
   "source": [
    "Deep learing based method using sigmoid in the output."
   ]
  },
  {
   "cell_type": "code",
   "execution_count": 77,
   "metadata": {
    "colab": {
     "base_uri": "https://localhost:8080/"
    },
    "id": "AhMIR9mOnHeG",
    "outputId": "de485fb3-1fee-4d8f-8eb1-4a41c7db0020"
   },
   "outputs": [
    {
     "name": "stdout",
     "output_type": "stream",
     "text": [
      "\u001b[K     |████████████████████████████████| 194kB 5.3MB/s \n",
      "\u001b[K     |████████████████████████████████| 61kB 7.4MB/s \n",
      "\u001b[?25h"
     ]
    }
   ],
   "source": [
    "! [ -e /content ] && pip install -Uqq fastai "
   ]
  },
  {
   "cell_type": "code",
   "execution_count": 78,
   "metadata": {
    "id": "vCDlcSCfr_zK"
   },
   "outputs": [],
   "source": [
    "from fastai.tabular.all import *\n",
    "from fastai.collab import *"
   ]
  },
  {
   "cell_type": "code",
   "execution_count": 79,
   "metadata": {
    "colab": {
     "base_uri": "https://localhost:8080/",
     "height": 359
    },
    "id": "lK5YpmEJsRi3",
    "outputId": "49ff385d-e4fd-44f6-cc24-c5e25c2e29af"
   },
   "outputs": [
    {
     "data": {
      "text/html": [
       "<table border=\"1\" class=\"dataframe\">\n",
       "  <thead>\n",
       "    <tr style=\"text-align: right;\">\n",
       "      <th></th>\n",
       "      <th>MEMBERID</th>\n",
       "      <th>ProductID</th>\n",
       "      <th>Count</th>\n",
       "    </tr>\n",
       "  </thead>\n",
       "  <tbody>\n",
       "    <tr>\n",
       "      <th>0</th>\n",
       "      <td>603212</td>\n",
       "      <td>020EE1K309</td>\n",
       "      <td>4</td>\n",
       "    </tr>\n",
       "    <tr>\n",
       "      <th>1</th>\n",
       "      <td>399045</td>\n",
       "      <td>040EE1C314</td>\n",
       "      <td>2</td>\n",
       "    </tr>\n",
       "    <tr>\n",
       "      <th>2</th>\n",
       "      <td>6.65067e+06</td>\n",
       "      <td>069CC2K029</td>\n",
       "      <td>3</td>\n",
       "    </tr>\n",
       "    <tr>\n",
       "      <th>3</th>\n",
       "      <td>790358</td>\n",
       "      <td>050EE1D302</td>\n",
       "      <td>2</td>\n",
       "    </tr>\n",
       "    <tr>\n",
       "      <th>4</th>\n",
       "      <td>2.05658e+06</td>\n",
       "      <td>030EE1E306</td>\n",
       "      <td>4</td>\n",
       "    </tr>\n",
       "    <tr>\n",
       "      <th>5</th>\n",
       "      <td>2.07586e+06</td>\n",
       "      <td>030EE2B303</td>\n",
       "      <td>3</td>\n",
       "    </tr>\n",
       "    <tr>\n",
       "      <th>6</th>\n",
       "      <td>2.54369e+06</td>\n",
       "      <td>040EE1F319</td>\n",
       "      <td>3</td>\n",
       "    </tr>\n",
       "    <tr>\n",
       "      <th>7</th>\n",
       "      <td>8.44458e+06</td>\n",
       "      <td>040EE1C307</td>\n",
       "      <td>2</td>\n",
       "    </tr>\n",
       "    <tr>\n",
       "      <th>8</th>\n",
       "      <td>1.59278e+06</td>\n",
       "      <td>040EE2K302</td>\n",
       "      <td>3</td>\n",
       "    </tr>\n",
       "    <tr>\n",
       "      <th>9</th>\n",
       "      <td>819114</td>\n",
       "      <td>020EE1G315</td>\n",
       "      <td>3</td>\n",
       "    </tr>\n",
       "  </tbody>\n",
       "</table>"
      ],
      "text/plain": [
       "<IPython.core.display.HTML object>"
      ]
     },
     "metadata": {
      "tags": []
     },
     "output_type": "display_data"
    }
   ],
   "source": [
    "dls = CollabDataLoaders.from_df(collabFiltering, bs=512,valid_pct=0.05)\n",
    "dls.show_batch()"
   ]
  },
  {
   "cell_type": "code",
   "execution_count": 80,
   "metadata": {
    "id": "DOT361jJs2uc"
   },
   "outputs": [],
   "source": [
    "learn = collab_learner(dls, n_factors=64, y_range=(0, 15),use_nn=True,loss_func=MSELossFlat())"
   ]
  },
  {
   "cell_type": "code",
   "execution_count": null,
   "metadata": {
    "colab": {
     "base_uri": "https://localhost:8080/",
     "height": 626
    },
    "id": "Vo0Dc5o51cqs",
    "outputId": "cd4accdd-05ae-4fee-c8b1-42fb6b100faf"
   },
   "outputs": [
    {
     "data": {
      "text/html": [],
      "text/plain": [
       "<IPython.core.display.HTML object>"
      ]
     },
     "metadata": {
      "tags": []
     },
     "output_type": "display_data"
    },
    {
     "data": {
      "text/plain": [
       "SuggestedLRs(lr_min=0.012022644281387329, lr_steep=0.004365158267319202)"
      ]
     },
     "execution_count": 142,
     "metadata": {
      "tags": []
     },
     "output_type": "execute_result"
    },
    {
     "data": {
      "image/png": "[encoded data removed]",
      "text/plain": [
       "<Figure size 720x720 with 1 Axes>"
      ]
     },
     "metadata": {
      "needs_background": "light",
      "tags": []
     },
     "output_type": "display_data"
    }
   ],
   "source": [
    "learn.lr_find()"
   ]
  },
  {
   "cell_type": "code",
   "execution_count": 81,
   "metadata": {
    "colab": {
     "base_uri": "https://localhost:8080/",
     "height": 111
    },
    "id": "1LpPwJPder6p",
    "outputId": "a964fb28-7522-495c-8e72-61204de26a3c"
   },
   "outputs": [
    {
     "data": {
      "text/html": [
       "<table border=\"1\" class=\"dataframe\">\n",
       "  <thead>\n",
       "    <tr style=\"text-align: left;\">\n",
       "      <th>epoch</th>\n",
       "      <th>train_loss</th>\n",
       "      <th>valid_loss</th>\n",
       "      <th>time</th>\n",
       "    </tr>\n",
       "  </thead>\n",
       "  <tbody>\n",
       "    <tr>\n",
       "      <td>0</td>\n",
       "      <td>1.706153</td>\n",
       "      <td>1.658415</td>\n",
       "      <td>00:14</td>\n",
       "    </tr>\n",
       "    <tr>\n",
       "      <td>1</td>\n",
       "      <td>1.044258</td>\n",
       "      <td>1.655310</td>\n",
       "      <td>00:14</td>\n",
       "    </tr>\n",
       "  </tbody>\n",
       "</table>"
      ],
      "text/plain": [
       "<IPython.core.display.HTML object>"
      ]
     },
     "metadata": {
      "tags": []
     },
     "output_type": "display_data"
    }
   ],
   "source": [
    "learn.fit_one_cycle(2, 5e-3, wd=0.1, cbs=[ReduceLROnPlateau(monitor='valid_loss', min_delta=0.1, patience=2,factor=0.5,min_lr=1e-6)])"
   ]
  },
  {
   "cell_type": "code",
   "execution_count": 82,
   "metadata": {
    "id": "X27g1qmlaMTo"
   },
   "outputs": [],
   "source": [
    "dl771733=learn.dls.test_dl(preds771733[['MEMBERID','ProductID']])"
   ]
  },
  {
   "cell_type": "code",
   "execution_count": 83,
   "metadata": {
    "colab": {
     "base_uri": "https://localhost:8080/",
     "height": 17
    },
    "id": "-Yi0NyWEckJk",
    "outputId": "b72f2d44-fa2c-4c66-f5c6-42da95ccae27"
   },
   "outputs": [
    {
     "data": {
      "text/html": [],
      "text/plain": [
       "<IPython.core.display.HTML object>"
      ]
     },
     "metadata": {
      "tags": []
     },
     "output_type": "display_data"
    }
   ],
   "source": [
    "res771733=learn.get_preds(dl=dl771733)"
   ]
  },
  {
   "cell_type": "code",
   "execution_count": null,
   "metadata": {
    "colab": {
     "base_uri": "https://localhost:8080/"
    },
    "id": "lBWU5BOKZIg7",
    "outputId": "20fd90dc-eb54-45f7-e0d0-d4514677d15e"
   },
   "outputs": [
    {
     "data": {
      "text/plain": [
       "(tensor([[1.8110],\n",
       "         [1.6873],\n",
       "         [2.2668],\n",
       "         ...,\n",
       "         [2.0824],\n",
       "         [3.7344],\n",
       "         [2.0430]]), None)"
      ]
     },
     "execution_count": 162,
     "metadata": {
      "tags": []
     },
     "output_type": "execute_result"
    }
   ],
   "source": [
    "res771733"
   ]
  },
  {
   "cell_type": "code",
   "execution_count": 84,
   "metadata": {
    "id": "BFNbmXiAG6bK"
   },
   "outputs": [],
   "source": [
    "preds771733['FASTAI']=res771733[0].squeeze().numpy()"
   ]
  },
  {
   "cell_type": "code",
   "execution_count": null,
   "metadata": {
    "colab": {
     "base_uri": "https://localhost:8080/",
     "height": 309
    },
    "id": "qxSvj52SHgP0",
    "outputId": "637addeb-6bf1-487c-a522-f38c916b1786"
   },
   "outputs": [
    {
     "data": {
      "text/html": [
       "<div>\n",
       "<style scoped>\n",
       "    .dataframe tbody tr th:only-of-type {\n",
       "        vertical-align: middle;\n",
       "    }\n",
       "\n",
       "    .dataframe tbody tr th {\n",
       "        vertical-align: top;\n",
       "    }\n",
       "\n",
       "    .dataframe thead th {\n",
       "        text-align: right;\n",
       "    }\n",
       "</style>\n",
       "<table border=\"1\" class=\"dataframe\">\n",
       "  <thead>\n",
       "    <tr style=\"text-align: right;\">\n",
       "      <th></th>\n",
       "      <th>gender</th>\n",
       "      <th>age</th>\n",
       "      <th>MEMBERID</th>\n",
       "      <th>ProductID</th>\n",
       "      <th>Colour</th>\n",
       "      <th>matherial</th>\n",
       "      <th>product_group</th>\n",
       "      <th>target_group</th>\n",
       "      <th>features</th>\n",
       "      <th>Category</th>\n",
       "      <th>Cluster</th>\n",
       "      <th>PredsxDeepFM</th>\n",
       "      <th>TABNET</th>\n",
       "      <th>XGBOOST</th>\n",
       "      <th>SVD</th>\n",
       "      <th>FASTAI</th>\n",
       "    </tr>\n",
       "  </thead>\n",
       "  <tbody>\n",
       "    <tr>\n",
       "      <th>0</th>\n",
       "      <td>2.0</td>\n",
       "      <td>42.0</td>\n",
       "      <td>771733.0</td>\n",
       "      <td>010CA1O304</td>\n",
       "      <td>OTHER</td>\n",
       "      <td>Cotton</td>\n",
       "      <td>Accessories</td>\n",
       "      <td>Women</td>\n",
       "      <td>backpack</td>\n",
       "      <td>Accessories hard</td>\n",
       "      <td>Bags Non-Leather</td>\n",
       "      <td>2.591115</td>\n",
       "      <td>4.669821</td>\n",
       "      <td>3.406367</td>\n",
       "      <td>3.432931</td>\n",
       "      <td>1.811049</td>\n",
       "    </tr>\n",
       "    <tr>\n",
       "      <th>1</th>\n",
       "      <td>2.0</td>\n",
       "      <td>42.0</td>\n",
       "      <td>771733.0</td>\n",
       "      <td>010CA1Q302</td>\n",
       "      <td>BLUE</td>\n",
       "      <td>Polyester</td>\n",
       "      <td>Accessories</td>\n",
       "      <td>Women</td>\n",
       "      <td>shawls</td>\n",
       "      <td>Accessories soft</td>\n",
       "      <td>Shawls/Scarves</td>\n",
       "      <td>2.679366</td>\n",
       "      <td>2.420033</td>\n",
       "      <td>2.445273</td>\n",
       "      <td>3.162018</td>\n",
       "      <td>1.687348</td>\n",
       "    </tr>\n",
       "    <tr>\n",
       "      <th>2</th>\n",
       "      <td>2.0</td>\n",
       "      <td>42.0</td>\n",
       "      <td>771733.0</td>\n",
       "      <td>010CA1S301</td>\n",
       "      <td>BLUE</td>\n",
       "      <td>Buffalo Split Leather</td>\n",
       "      <td>Accessories</td>\n",
       "      <td>Women</td>\n",
       "      <td>belts cm</td>\n",
       "      <td>Accessories hard</td>\n",
       "      <td>Belts</td>\n",
       "      <td>2.559642</td>\n",
       "      <td>2.765619</td>\n",
       "      <td>3.083060</td>\n",
       "      <td>2.822812</td>\n",
       "      <td>2.266758</td>\n",
       "    </tr>\n",
       "    <tr>\n",
       "      <th>3</th>\n",
       "      <td>2.0</td>\n",
       "      <td>42.0</td>\n",
       "      <td>771733.0</td>\n",
       "      <td>010CC1B302</td>\n",
       "      <td>GREY</td>\n",
       "      <td>Cotton</td>\n",
       "      <td>Women</td>\n",
       "      <td>Women</td>\n",
       "      <td>length service</td>\n",
       "      <td>Denim</td>\n",
       "      <td>Pants Denim</td>\n",
       "      <td>1.665021</td>\n",
       "      <td>2.798069</td>\n",
       "      <td>2.005585</td>\n",
       "      <td>1.503755</td>\n",
       "      <td>1.543742</td>\n",
       "    </tr>\n",
       "    <tr>\n",
       "      <th>4</th>\n",
       "      <td>2.0</td>\n",
       "      <td>42.0</td>\n",
       "      <td>771733.0</td>\n",
       "      <td>010CC1B305</td>\n",
       "      <td>OTHER</td>\n",
       "      <td>Cotton</td>\n",
       "      <td>Women</td>\n",
       "      <td>Women</td>\n",
       "      <td>length service</td>\n",
       "      <td>Denim</td>\n",
       "      <td>Pants Denim</td>\n",
       "      <td>1.688125</td>\n",
       "      <td>2.021320</td>\n",
       "      <td>2.014450</td>\n",
       "      <td>1.695521</td>\n",
       "      <td>1.496837</td>\n",
       "    </tr>\n",
       "  </tbody>\n",
       "</table>\n",
       "</div>"
      ],
      "text/plain": [
       "   gender   age  MEMBERID   ProductID  ...    TABNET   XGBOOST       SVD    FASTAI\n",
       "0     2.0  42.0  771733.0  010CA1O304  ...  4.669821  3.406367  3.432931  1.811049\n",
       "1     2.0  42.0  771733.0  010CA1Q302  ...  2.420033  2.445273  3.162018  1.687348\n",
       "2     2.0  42.0  771733.0  010CA1S301  ...  2.765619  3.083060  2.822812  2.266758\n",
       "3     2.0  42.0  771733.0  010CC1B302  ...  2.798069  2.005585  1.503755  1.543742\n",
       "4     2.0  42.0  771733.0  010CC1B305  ...  2.021320  2.014450  1.695521  1.496837\n",
       "\n",
       "[5 rows x 16 columns]"
      ]
     },
     "execution_count": 164,
     "metadata": {
      "tags": []
     },
     "output_type": "execute_result"
    }
   ],
   "source": [
    "preds771733.head()"
   ]
  },
  {
   "cell_type": "code",
   "execution_count": 85,
   "metadata": {
    "id": "DqSo8ruRbjzy"
   },
   "outputs": [],
   "source": [
    "dl178765=learn.dls.test_dl(preds178765[['MEMBERID','ProductID']])"
   ]
  },
  {
   "cell_type": "code",
   "execution_count": 86,
   "metadata": {
    "colab": {
     "base_uri": "https://localhost:8080/",
     "height": 17
    },
    "id": "o2Rij_Ela1nT",
    "outputId": "5d848014-eb81-4433-cc1e-4bdc408bdc33"
   },
   "outputs": [
    {
     "data": {
      "text/html": [],
      "text/plain": [
       "<IPython.core.display.HTML object>"
      ]
     },
     "metadata": {
      "tags": []
     },
     "output_type": "display_data"
    }
   ],
   "source": [
    "res178765=learn.get_preds(dl=dl178765)"
   ]
  },
  {
   "cell_type": "code",
   "execution_count": 87,
   "metadata": {
    "id": "1USTdlBSG_Cu"
   },
   "outputs": [],
   "source": [
    "preds178765['FASTAI']=res178765[0].squeeze().numpy()"
   ]
  },
  {
   "cell_type": "code",
   "execution_count": null,
   "metadata": {
    "colab": {
     "base_uri": "https://localhost:8080/",
     "height": 309
    },
    "id": "5J6ba6iHJNRE",
    "outputId": "8bdbb3bb-7593-405a-c366-3f64e472a244"
   },
   "outputs": [
    {
     "data": {
      "text/html": [
       "<div>\n",
       "<style scoped>\n",
       "    .dataframe tbody tr th:only-of-type {\n",
       "        vertical-align: middle;\n",
       "    }\n",
       "\n",
       "    .dataframe tbody tr th {\n",
       "        vertical-align: top;\n",
       "    }\n",
       "\n",
       "    .dataframe thead th {\n",
       "        text-align: right;\n",
       "    }\n",
       "</style>\n",
       "<table border=\"1\" class=\"dataframe\">\n",
       "  <thead>\n",
       "    <tr style=\"text-align: right;\">\n",
       "      <th></th>\n",
       "      <th>gender</th>\n",
       "      <th>age</th>\n",
       "      <th>MEMBERID</th>\n",
       "      <th>ProductID</th>\n",
       "      <th>Colour</th>\n",
       "      <th>matherial</th>\n",
       "      <th>product_group</th>\n",
       "      <th>target_group</th>\n",
       "      <th>features</th>\n",
       "      <th>Category</th>\n",
       "      <th>Cluster</th>\n",
       "      <th>PredsxDeepFM</th>\n",
       "      <th>TABNET</th>\n",
       "      <th>XGBOOST</th>\n",
       "      <th>SVD</th>\n",
       "      <th>FASTAI</th>\n",
       "    </tr>\n",
       "  </thead>\n",
       "  <tbody>\n",
       "    <tr>\n",
       "      <th>0</th>\n",
       "      <td>2.0</td>\n",
       "      <td>51.0</td>\n",
       "      <td>178765.0</td>\n",
       "      <td>010CA1O304</td>\n",
       "      <td>OTHER</td>\n",
       "      <td>Cotton</td>\n",
       "      <td>Accessories</td>\n",
       "      <td>Women</td>\n",
       "      <td>backpack</td>\n",
       "      <td>Accessories hard</td>\n",
       "      <td>Bags Non-Leather</td>\n",
       "      <td>2.253060</td>\n",
       "      <td>3.220370</td>\n",
       "      <td>3.414702</td>\n",
       "      <td>2.528516</td>\n",
       "      <td>2.809034</td>\n",
       "    </tr>\n",
       "    <tr>\n",
       "      <th>1</th>\n",
       "      <td>2.0</td>\n",
       "      <td>51.0</td>\n",
       "      <td>178765.0</td>\n",
       "      <td>010CA1Q302</td>\n",
       "      <td>BLUE</td>\n",
       "      <td>Polyester</td>\n",
       "      <td>Accessories</td>\n",
       "      <td>Women</td>\n",
       "      <td>shawls</td>\n",
       "      <td>Accessories soft</td>\n",
       "      <td>Shawls/Scarves</td>\n",
       "      <td>2.323148</td>\n",
       "      <td>3.112500</td>\n",
       "      <td>2.658072</td>\n",
       "      <td>2.479034</td>\n",
       "      <td>2.186305</td>\n",
       "    </tr>\n",
       "    <tr>\n",
       "      <th>2</th>\n",
       "      <td>2.0</td>\n",
       "      <td>51.0</td>\n",
       "      <td>178765.0</td>\n",
       "      <td>010CA1S301</td>\n",
       "      <td>BLUE</td>\n",
       "      <td>Buffalo Split Leather</td>\n",
       "      <td>Accessories</td>\n",
       "      <td>Women</td>\n",
       "      <td>belts cm</td>\n",
       "      <td>Accessories hard</td>\n",
       "      <td>Belts</td>\n",
       "      <td>2.206944</td>\n",
       "      <td>2.699850</td>\n",
       "      <td>3.202499</td>\n",
       "      <td>2.243059</td>\n",
       "      <td>3.152376</td>\n",
       "    </tr>\n",
       "    <tr>\n",
       "      <th>3</th>\n",
       "      <td>2.0</td>\n",
       "      <td>51.0</td>\n",
       "      <td>178765.0</td>\n",
       "      <td>010CC1B302</td>\n",
       "      <td>GREY</td>\n",
       "      <td>Cotton</td>\n",
       "      <td>Women</td>\n",
       "      <td>Women</td>\n",
       "      <td>length service</td>\n",
       "      <td>Denim</td>\n",
       "      <td>Pants Denim</td>\n",
       "      <td>1.583255</td>\n",
       "      <td>2.939901</td>\n",
       "      <td>1.989041</td>\n",
       "      <td>0.944824</td>\n",
       "      <td>1.777302</td>\n",
       "    </tr>\n",
       "    <tr>\n",
       "      <th>4</th>\n",
       "      <td>2.0</td>\n",
       "      <td>51.0</td>\n",
       "      <td>178765.0</td>\n",
       "      <td>010CC1B305</td>\n",
       "      <td>OTHER</td>\n",
       "      <td>Cotton</td>\n",
       "      <td>Women</td>\n",
       "      <td>Women</td>\n",
       "      <td>length service</td>\n",
       "      <td>Denim</td>\n",
       "      <td>Pants Denim</td>\n",
       "      <td>1.607694</td>\n",
       "      <td>2.143070</td>\n",
       "      <td>1.998453</td>\n",
       "      <td>0.977214</td>\n",
       "      <td>1.883812</td>\n",
       "    </tr>\n",
       "  </tbody>\n",
       "</table>\n",
       "</div>"
      ],
      "text/plain": [
       "   gender   age  MEMBERID   ProductID  ...    TABNET   XGBOOST       SVD    FASTAI\n",
       "0     2.0  51.0  178765.0  010CA1O304  ...  3.220370  3.414702  2.528516  2.809034\n",
       "1     2.0  51.0  178765.0  010CA1Q302  ...  3.112500  2.658072  2.479034  2.186305\n",
       "2     2.0  51.0  178765.0  010CA1S301  ...  2.699850  3.202499  2.243059  3.152376\n",
       "3     2.0  51.0  178765.0  010CC1B302  ...  2.939901  1.989041  0.944824  1.777302\n",
       "4     2.0  51.0  178765.0  010CC1B305  ...  2.143070  1.998453  0.977214  1.883812\n",
       "\n",
       "[5 rows x 16 columns]"
      ]
     },
     "execution_count": 168,
     "metadata": {
      "tags": []
     },
     "output_type": "execute_result"
    }
   ],
   "source": [
    "preds178765.head()"
   ]
  },
  {
   "cell_type": "markdown",
   "metadata": {
    "id": "nzo5NgR4bJB7"
   },
   "source": [
    "# ENSEMBLE"
   ]
  },
  {
   "cell_type": "markdown",
   "metadata": {
    "id": "M8uY_8A2bNPQ"
   },
   "source": [
    "We combine all model and make prediction in probabilitic sense."
   ]
  },
  {
   "cell_type": "code",
   "execution_count": 88,
   "metadata": {
    "id": "SyQGZS_BY2_9"
   },
   "outputs": [],
   "source": [
    "results771733=preds771733[['MEMBERID','ProductID','PredsxDeepFM','TABNET','XGBOOST','SVD','FASTAI']]"
   ]
  },
  {
   "cell_type": "code",
   "execution_count": 89,
   "metadata": {
    "id": "55WW5pUwZrv5"
   },
   "outputs": [],
   "source": [
    "results178765=preds178765[['MEMBERID','ProductID','PredsxDeepFM','TABNET','XGBOOST','SVD','FASTAI']]"
   ]
  },
  {
   "cell_type": "code",
   "execution_count": 95,
   "metadata": {
    "id": "SxwOUFI3ZvN-"
   },
   "outputs": [],
   "source": [
    "ens178765=results178765['PredsxDeepFM']*0.3+0.2*results178765['TABNET']+0.2*results178765['XGBOOST']+0.2*results178765['FASTAI']+0.1*results178765['SVD']"
   ]
  },
  {
   "cell_type": "code",
   "execution_count": 98,
   "metadata": {
    "id": "EPajVpiiMhX7"
   },
   "outputs": [],
   "source": [
    "mixup178765=preds178765[['MEMBERID','ProductID']].copy()"
   ]
  },
  {
   "cell_type": "code",
   "execution_count": 99,
   "metadata": {
    "id": "-6z3hhv1NONC"
   },
   "outputs": [],
   "source": [
    "mixup178765['ENS']=ens178765"
   ]
  },
  {
   "cell_type": "code",
   "execution_count": 103,
   "metadata": {
    "id": "-5Tk-JQzNT7f"
   },
   "outputs": [],
   "source": [
    "prods178765=mixup178765.sort_values(by='ENS',ascending=False)['ProductID'][:20].values"
   ]
  },
  {
   "cell_type": "code",
   "execution_count": 104,
   "metadata": {
    "id": "CuoaQc3DNl2B"
   },
   "outputs": [],
   "source": [
    "weights178765=mixup178765.sort_values(by='ENS',ascending=False)['ENS'][:20].values/(mixup178765.sort_values(by='ENS',ascending=False)['ENS'][:20].sum())"
   ]
  },
  {
   "cell_type": "markdown",
   "metadata": {
    "id": "zWhUQbPiO5-k"
   },
   "source": [
    "only sampling from top 20."
   ]
  },
  {
   "cell_type": "code",
   "execution_count": 106,
   "metadata": {
    "colab": {
     "base_uri": "https://localhost:8080/"
    },
    "id": "l1sy90uTNwhf",
    "outputId": "ec1ac50d-7146-4ef5-9ca9-9b5cb9ecf18c"
   },
   "outputs": [
    {
     "data": {
      "text/plain": [
       "array(['990EF1A342', '990EF1A338', '990EF1A342', '128EO1E003',\n",
       "       '990EF1A343'], dtype=object)"
      ]
     },
     "execution_count": 106,
     "metadata": {
      "tags": []
     },
     "output_type": "execute_result"
    }
   ],
   "source": [
    "np.random.choice(a=prods178765,p=weights178765,size=5)"
   ]
  },
  {
   "cell_type": "code",
   "execution_count": null,
   "metadata": {
    "id": "K3L2rZdPadDK"
   },
   "outputs": [],
   "source": [
    "ens178765=ens178765/ens178765.sum()"
   ]
  },
  {
   "cell_type": "markdown",
   "metadata": {
    "id": "cHA_FSdgbTlE"
   },
   "source": [
    "MEMBER = 178765"
   ]
  },
  {
   "cell_type": "markdown",
   "metadata": {
    "id": "5z6Xg4VXPD2e"
   },
   "source": [
    "Samling from all."
   ]
  },
  {
   "cell_type": "code",
   "execution_count": null,
   "metadata": {
    "colab": {
     "base_uri": "https://localhost:8080/"
    },
    "id": "EbR7mnrvagnu",
    "outputId": "eb79bd46-579f-4d94-ae21-0fa670fae3ef"
   },
   "outputs": [
    {
     "data": {
      "text/plain": [
       "array(['069EO1E021', '020EO2F304', '088CA1Q005', '060EE1E334',\n",
       "       '069EF1A022', '040EF7A319', '050EE1F351', '050EE2K354',\n",
       "       '058EE1K077', '079EI1B014'], dtype=object)"
      ]
     },
     "execution_count": 183,
     "metadata": {
      "tags": []
     },
     "output_type": "execute_result"
    }
   ],
   "source": [
    "np.random.choice(a=results178765['ProductID'].values,p=ens178765,size=10)"
   ]
  },
  {
   "cell_type": "code",
   "execution_count": 107,
   "metadata": {
    "id": "ng-TWjwcOM6N"
   },
   "outputs": [],
   "source": [
    "mixup771733=preds771733[['MEMBERID','ProductID']].copy()"
   ]
  },
  {
   "cell_type": "code",
   "execution_count": 108,
   "metadata": {
    "id": "8ZSVI66aas0Z"
   },
   "outputs": [],
   "source": [
    "ens771733=results771733['PredsxDeepFM']*0.3+0.2*results771733['TABNET']+0.2*results771733['XGBOOST']+0.2*results771733['FASTAI']+0.1*results771733['SVD']"
   ]
  },
  {
   "cell_type": "code",
   "execution_count": 109,
   "metadata": {
    "id": "r8-vUUCAOIBa"
   },
   "outputs": [],
   "source": [
    "mixup771733['ENS']=ens771733"
   ]
  },
  {
   "cell_type": "markdown",
   "metadata": {
    "id": "ZvSfJle1O0zC"
   },
   "source": [
    "Only sampling from top 20."
   ]
  },
  {
   "cell_type": "markdown",
   "metadata": {
    "id": "QNkY3mWlbX_X"
   },
   "source": [
    "MEMBER = 771733"
   ]
  },
  {
   "cell_type": "code",
   "execution_count": 110,
   "metadata": {
    "colab": {
     "base_uri": "https://localhost:8080/"
    },
    "id": "AzyysjayN6uX",
    "outputId": "a2eb2867-c447-4873-c78d-df125983aca8"
   },
   "outputs": [
    {
     "data": {
      "text/plain": [
       "array(['990EF1A343', '999EO1B805', '990EF1A342', '999EO1B805',\n",
       "       '999EF1A836'], dtype=object)"
      ]
     },
     "execution_count": 110,
     "metadata": {
      "tags": []
     },
     "output_type": "execute_result"
    }
   ],
   "source": [
    "prods771733=mixup771733.sort_values(by='ENS',ascending=False)['ProductID'][:20].values\n",
    "weights771733=mixup771733.sort_values(by='ENS',ascending=False)['ENS'][:20].values/(mixup771733.sort_values(by='ENS',ascending=False)['ENS'][:20].sum())\n",
    "np.random.choice(a=prods771733,p=weights771733,size=5)"
   ]
  },
  {
   "cell_type": "code",
   "execution_count": null,
   "metadata": {
    "id": "XZ3Oa0tjOD2_"
   },
   "outputs": [],
   "source": [
    "ens771733=ens771733/ens771733.sum()"
   ]
  },
  {
   "cell_type": "markdown",
   "metadata": {
    "id": "Fgr8N9KmO3yR"
   },
   "source": [
    "sampling from all"
   ]
  },
  {
   "cell_type": "code",
   "execution_count": null,
   "metadata": {
    "colab": {
     "base_uri": "https://localhost:8080/"
    },
    "id": "vbunckt0arjk",
    "outputId": "b63237e9-449a-4f66-c35a-6f4e6a253a57"
   },
   "outputs": [
    {
     "data": {
      "text/plain": [
       "array(['069EA1Q004', '998EF1A824', '050EE2K308', '020EF8A304',\n",
       "       '040EE2K313', '069EE1B023', '049EF1A092', '030EO1G304',\n",
       "       '119EG1T007', '099EF1T063'], dtype=object)"
      ]
     },
     "execution_count": 184,
     "metadata": {
      "tags": []
     },
     "output_type": "execute_result"
    }
   ],
   "source": [
    "np.random.choice(a=results771733['ProductID'].values,p=ens771733,size=10)"
   ]
  }
 ],
 "metadata": {
  "accelerator": "GPU",
  "colab": {
   "collapsed_sections": [],
   "name": "EspritFinal.ipynb",
   "provenance": []
  },
  "kernelspec": {
   "display_name": "Python 3",
   "language": "python",
   "name": "python3"
  },
  "language_info": {
   "codemirror_mode": {
    "name": "ipython",
    "version": 3
   },
   "file_extension": ".py",
   "mimetype": "text/x-python",
   "name": "python",
   "nbconvert_exporter": "python",
   "pygments_lexer": "ipython3",
   "version": "3.7.3"
  }
 },
 "nbformat": 4,
 "nbformat_minor": 1
}
