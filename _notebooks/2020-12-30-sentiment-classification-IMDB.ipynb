{
 "cells": [
  {
   "cell_type": "markdown",
   "metadata": {},
   "source": [
    "# Sentiment classification\n",
    "> The task of classifying sentiments of texts (for example movie or product reviews) has high practical significance in online marketing as well as financial prediction. This is a non-trivial task, since the concept of sentiment is not easily captured. [IMDB sentiment](https://ai.stanford.edu/~amaas/data/sentiment/aclImdb_v1.tar.gz) benchmark dataset from Stanford is used.\n",
    "\n",
    "- toc: true \n",
    "- badges: true\n",
    "- comments: true\n",
    "- categories: [jupyter]\n",
    "- image: images/chart-preview.png"
   ]
  },
  {
   "cell_type": "markdown",
   "metadata": {
    "id": "QpCsyyH2AoEu"
   },
   "source": [
    "# Data download"
   ]
  },
  {
   "cell_type": "code",
   "execution_count": null,
   "metadata": {
    "colab": {
     "base_uri": "https://localhost:8080/"
    },
    "id": "gEwjTzd8rqjR",
    "outputId": "b795909b-4404-4776-ce1c-466b6ab01f2a"
   },
   "outputs": [
    {
     "name": "stdout",
     "output_type": "stream",
     "text": [
      "--2020-12-04 12:11:02--  https://ai.stanford.edu/~amaas/data/sentiment/aclImdb_v1.tar.gz\n",
      "Resolving ai.stanford.edu (ai.stanford.edu)... 171.64.68.10\n",
      "Connecting to ai.stanford.edu (ai.stanford.edu)|171.64.68.10|:443... connected.\n",
      "HTTP request sent, awaiting response... 200 OK\n",
      "Length: 84125825 (80M) [application/x-gzip]\n",
      "Saving to: ‘aclImdb_v1.tar.gz’\n",
      "\n",
      "aclImdb_v1.tar.gz   100%[===================>]  80.23M  20.3MB/s    in 7.1s    \n",
      "\n",
      "2020-12-04 12:11:09 (11.3 MB/s) - ‘aclImdb_v1.tar.gz’ saved [84125825/84125825]\n",
      "\n",
      "aclImdb  aclImdb_v1.tar.gz  sample_data\n"
     ]
    }
   ],
   "source": [
    "!wget https://ai.stanford.edu/~amaas/data/sentiment/aclImdb_v1.tar.gz\n",
    "!tar -xzf aclImdb_v1.tar.gz\n",
    "!ls"
   ]
  },
  {
   "cell_type": "markdown",
   "metadata": {
    "id": "x1yn618mAoFH"
   },
   "source": [
    "# Alternative with tf.datasets"
   ]
  },
  {
   "cell_type": "markdown",
   "metadata": {
    "id": "yxTR0p9siwLR"
   },
   "source": [
    "I imported data in my own way since i thought it would be a good idea to do semi supervised traiing also using the unsupervised text."
   ]
  },
  {
   "cell_type": "code",
   "execution_count": null,
   "metadata": {
    "ExecuteTime": {
     "end_time": "2020-10-11T13:26:27.027262Z",
     "start_time": "2020-10-11T13:26:27.020258Z"
    },
    "id": "apTjqy8VAoFo",
    "scrolled": true
   },
   "outputs": [],
   "source": [
    "def read_file(path):\n",
    "    with open(path, 'rt', encoding='utf-8') as file:\n",
    "        lines = file.readlines()\n",
    "        text = \" \".join(lines)\n",
    "\n",
    "    return text"
   ]
  },
  {
   "cell_type": "code",
   "execution_count": null,
   "metadata": {
    "id": "D2o1J3uOAixV"
   },
   "outputs": [],
   "source": [
    "import glob\n",
    "import os"
   ]
  },
  {
   "cell_type": "code",
   "execution_count": null,
   "metadata": {
    "id": "wVQiTh4oAZaP"
   },
   "outputs": [],
   "source": [
    "def getData():\n",
    "    path_posttrain = os.path.join('aclImdb/train/', \"pos\", \"*.txt\")\n",
    "    path_negtrain = os.path.join('aclImdb/train/', \"neg\", \"*.txt\")\n",
    "    postrain = glob.glob(path_posttrain)\n",
    "    negtrain = glob.glob(path_negtrain)\n",
    "    data_pos_train = [read_file(path) for path in postrain]\n",
    "    data_neg_train = [read_file(path) for path in negtrain]  \n",
    "    \n",
    "\n",
    "    path_unsup = os.path.join('aclImdb/train/', \"unsup\", \"*.txt\")\n",
    "    unsup = glob.glob(path_unsup)\n",
    "    unsup_train = [read_file(path) for path in unsup]  \n",
    "\n",
    "\n",
    "    path_postest = os.path.join('aclImdb/test/', \"pos\", \"*.txt\")\n",
    "    path_negtest = os.path.join('aclImdb/test/', \"neg\", \"*.txt\")\n",
    "    postest = glob.glob(path_postest)\n",
    "    negtest = glob.glob(path_negtest)\n",
    "\n",
    "    data_pos_test = [read_file(path) for path in postest]\n",
    "    data_neg_test = [read_file(path) for path in negtest]  \n",
    "\n",
    "\n",
    "    return data_pos_train+data_neg_train,[1.0] * len(data_pos_train) + [0.0] * len(data_neg_train),data_pos_test+data_neg_test,[1.0] * len(data_pos_test) + [0.0] * len(data_neg_test),unsup_train"
   ]
  },
  {
   "cell_type": "code",
   "execution_count": null,
   "metadata": {
    "id": "sN1kFPTLBspi"
   },
   "outputs": [],
   "source": [
    "trainX,trainY,testX,testY,unsup=getData()"
   ]
  },
  {
   "cell_type": "code",
   "execution_count": null,
   "metadata": {
    "colab": {
     "base_uri": "https://localhost:8080/"
    },
    "id": "TBO56oVEAUs6",
    "outputId": "138a6aa2-871d-4477-87c6-bd30f6249b94"
   },
   "outputs": [
    {
     "data": {
      "text/plain": [
       "(\"A couple(Janet and Richard) go camping out in the woods near a giant swamp. After camping and enjoying nature, the couple takes shelter in what they think is an abandoned farm house. Soon, a pair of escaped convicts show up and, after much delaying of the inevitable, they proceed to rape Janet and lock Richard in a birdcage.<br /><br />This LAST HOUSE ON THE LEFT-like film has to be one of the most underrated horror films ever made. It's one of the more sick and twisted early 70s shockers. Moreover, I found this to be quite enchanting and beautiful in it's perverse tone. I love CAGED TERROR. The music definitely helps lend a sense of personality to the film as well as a lot of beauty. I found the film to be quite creepy.<br /><br />The flaws mainly have to do with the pacing of the film, which is to say that the film is rather slow and meandering. While I didn't mind the pacing due to the beauty and suspense of the film in question, I do think that it will both most people. The acting isn't too good nor is the dialogue, at least in the early scenes. This film takes a little more patience than usual, and it's really not for everyone.<br /><br />In short, this was a good film. Not the greatest horror film I've ever seen, but it is certainly a lot of fun. It's not exactly the easiest film to find. It's possible to find it in the USED section of a lot of stores if you look hard enough. It's not for everyone, but if you're a fan of trash cinema then it's definitely worth checking out.\",\n",
       " 1.0)"
      ]
     },
     "execution_count": 7,
     "metadata": {
      "tags": []
     },
     "output_type": "execute_result"
    }
   ],
   "source": [
    "trainX[0],trainY[0]"
   ]
  },
  {
   "cell_type": "code",
   "execution_count": null,
   "metadata": {
    "colab": {
     "base_uri": "https://localhost:8080/"
    },
    "id": "z5Kv3ZzTT4yx",
    "outputId": "2ae0899a-dd2f-4338-8d50-92d39116347d"
   },
   "outputs": [
    {
     "data": {
      "text/plain": [
       "(\"This Metro film is episodic, but nearly a constant series of chases, mainly trying to escape police, whether real or imagined, as Buster is mistaken for an escaped criminal. It is consistently inventive and entertaining. Its greatest value is in its documenting what Hollywood looked like in the early twenties, since 95% of it is shot outside among the streets and building exteriors of the time. One gem moment and one gem sequence are present here.<br /><br />The great moment is when a train at a great distance quickly approaches the camera and finally stops just short of it - with Buster glumly sitting on the cowcatcher and thus moving from a long shot to a close-up within seconds.<br /><br />The great sequence is with the phone booth next to the elevator - one constantly being mistaken for the other with races from floor to floor - one of the great Keaton gags.<br /><br />Kino's print is sharp and clear - almost pristine. There is a violin/piano score accompaniment. This is one to seek out and enjoy.\",\n",
       " 1.0)"
      ]
     },
     "execution_count": 8,
     "metadata": {
      "tags": []
     },
     "output_type": "execute_result"
    }
   ],
   "source": [
    "testX[0],testY[0]"
   ]
  },
  {
   "cell_type": "code",
   "execution_count": null,
   "metadata": {
    "id": "hFjhb_qyFAb7"
   },
   "outputs": [],
   "source": [
    "import pandas as pd"
   ]
  },
  {
   "cell_type": "code",
   "execution_count": null,
   "metadata": {
    "id": "iNl2riYvcMs7"
   },
   "outputs": [],
   "source": [
    "unsupDf=pd.DataFrame(unsup,columns=['Text'])"
   ]
  },
  {
   "cell_type": "code",
   "execution_count": null,
   "metadata": {
    "id": "aFcCnebu_vPX"
   },
   "outputs": [],
   "source": [
    "trainDf=pd.DataFrame(trainX,columns=['Text'])"
   ]
  },
  {
   "cell_type": "code",
   "execution_count": null,
   "metadata": {
    "id": "hhNpkLtHXeo7"
   },
   "outputs": [],
   "source": [
    "testDf=pd.DataFrame(testX,columns=['Text'])"
   ]
  },
  {
   "cell_type": "code",
   "execution_count": null,
   "metadata": {
    "id": "OFD2fN7EF1Gs"
   },
   "outputs": [],
   "source": [
    "trainDf['Label']=trainY"
   ]
  },
  {
   "cell_type": "code",
   "execution_count": null,
   "metadata": {
    "id": "UcHt5qOLXlEV"
   },
   "outputs": [],
   "source": [
    "testDf['Label']=testY"
   ]
  },
  {
   "cell_type": "code",
   "execution_count": null,
   "metadata": {
    "id": "rakEtBs3GTgu"
   },
   "outputs": [],
   "source": [
    "trainDf=trainDf.sample(frac=1).reset_index(drop=True)"
   ]
  },
  {
   "cell_type": "code",
   "execution_count": null,
   "metadata": {
    "id": "-qIPyfISXqGa"
   },
   "outputs": [],
   "source": [
    "testDf=testDf.sample(frac=1).reset_index(drop=True)"
   ]
  },
  {
   "cell_type": "code",
   "execution_count": null,
   "metadata": {
    "id": "AOa5OlAwGv4n"
   },
   "outputs": [],
   "source": [
    "trainDf.to_csv('train.csv')\n",
    "testDf.to_csv('test.csv')"
   ]
  },
  {
   "cell_type": "code",
   "execution_count": null,
   "metadata": {
    "id": "4-B6EjEGBXrq"
   },
   "outputs": [],
   "source": [
    "trainPlusUnsupDf=pd.concat([unsupDf['Text'],trainDf['Text']])"
   ]
  },
  {
   "cell_type": "code",
   "execution_count": null,
   "metadata": {
    "id": "AkQviHuyCoD5"
   },
   "outputs": [],
   "source": [
    "trainPlusUnsupDf=pd.DataFrame(trainPlusUnsupDf,columns=['Text'])"
   ]
  },
  {
   "cell_type": "markdown",
   "metadata": {
    "id": "NnQWwJS9i8y4"
   },
   "source": [
    "I use spacy here for text preprocessing for bag  of words based model which i use as a tokenizer in the input of tfidf vectorizer. So spacy here toenizes and cleans as well."
   ]
  },
  {
   "cell_type": "code",
   "execution_count": null,
   "metadata": {
    "id": "trdOImt7HsJN"
   },
   "outputs": [],
   "source": [
    "%%capture\n",
    "!pip install spacy\n",
    "!pip install en_core_web_sm\n",
    "!pip install optuna"
   ]
  },
  {
   "cell_type": "code",
   "execution_count": null,
   "metadata": {
    "id": "QU2HMSrAG0hM"
   },
   "outputs": [],
   "source": [
    "import spacy"
   ]
  },
  {
   "cell_type": "markdown",
   "metadata": {
    "id": "EzTJwouVjKjq"
   },
   "source": [
    "Diabled tagger and other part of pipelines since they take it takes a lot of time to run or else."
   ]
  },
  {
   "cell_type": "code",
   "execution_count": null,
   "metadata": {
    "id": "_QTwDXhJIB7C"
   },
   "outputs": [],
   "source": [
    "nlp = spacy.load(\"en_core_web_sm\", disable=['parser', 'ner','tagger'])"
   ]
  },
  {
   "cell_type": "code",
   "execution_count": null,
   "metadata": {
    "id": "BANL6TDZIjVn"
   },
   "outputs": [],
   "source": [
    "nlp.Defaults.stop_words.update(['from', 'subject', 're', 'edu', 'use', 'not', \n",
    "                               'would', 'say', 'could', '_', 'be', 'know', 'good', \n",
    "                               'go', 'get', 'do', 'done', 'try', 'many', 'some',\n",
    "                               'nice', 'thank', 'think', 'see', 'rather', 'easy', 'easily',\n",
    "                               'lot', 'lack', 'make', 'want', 'seem', 'run', 'need', 'even',\n",
    "                               'right', 'line', 'even', 'also', 'may', 'take', 'come'])"
   ]
  },
  {
   "cell_type": "code",
   "execution_count": null,
   "metadata": {
    "id": "VJQ78ZqqJ8c7"
   },
   "outputs": [],
   "source": [
    "import string"
   ]
  },
  {
   "cell_type": "markdown",
   "metadata": {
    "id": "ybCREd_ljTzg"
   },
   "source": [
    "also using regex for basic text preprocessing for deep learning and fastext models. which i just clearing html texts ensuring only alphanumeric characters are there and replacing number with  num tag."
   ]
  },
  {
   "cell_type": "code",
   "execution_count": null,
   "metadata": {
    "id": "YlncmkKGPlV4"
   },
   "outputs": [],
   "source": [
    "from bs4 import BeautifulSoup"
   ]
  },
  {
   "cell_type": "markdown",
   "metadata": {},
   "source": [
    "# Cleaning"
   ]
  },
  {
   "cell_type": "code",
   "execution_count": null,
   "metadata": {
    "id": "9djAh-58QisC"
   },
   "outputs": [],
   "source": [
    "import re\n",
    "def alpha_num(text):\n",
    "    return re.sub(r'[^A-Za-z0-9 ]', '', text)\n",
    "    \n",
    "#a good idea to replace all the numbers with a special token\n",
    "def replace_num(text):\n",
    "    return re.sub(r'[0-9]', '__NUM__', text)\n"
   ]
  },
  {
   "cell_type": "code",
   "execution_count": null,
   "metadata": {
    "id": "HiGTlJSbPYDs"
   },
   "outputs": [],
   "source": [
    "trainPlusUnsupDf['Text'] = trainPlusUnsupDf['Text'].str.lower()\n",
    "trainPlusUnsupDf['Text']=  trainPlusUnsupDf['Text'].apply(lambda x:BeautifulSoup(x,'html.parser').get_text())\n",
    "trainPlusUnsupDf['Text'] = trainPlusUnsupDf['Text'].apply(alpha_num)\n",
    "trainPlusUnsupDf['Text'] = trainPlusUnsupDf['Text'].apply(replace_num)"
   ]
  },
  {
   "cell_type": "code",
   "execution_count": null,
   "metadata": {
    "id": "C1kwATS8NOIc"
   },
   "outputs": [],
   "source": [
    "def spacyTokenize(text):\n",
    "  doc = nlp(text)\n",
    "  text_words = [token for token in doc]\n",
    "  return text_words"
   ]
  },
  {
   "cell_type": "code",
   "execution_count": null,
   "metadata": {
    "id": "aHpQptY7H0tQ"
   },
   "outputs": [],
   "source": [
    "def tokenizerBOW(text):\n",
    "  doc = nlp(text)\n",
    "  text_words = [token for token in doc if token.is_alpha and not token.is_stop and not token.is_digit and token.text not in string.punctuation]\n",
    "  text_words = [ token.lemma_.lower().strip() if token.lemma_ != \"-PRON-\" else token.lower_  for token in text_words ]\n",
    "  return text_words"
   ]
  },
  {
   "cell_type": "markdown",
   "metadata": {
    "id": "1Dh-KZQZn8tV"
   },
   "source": [
    "The tokenizer also automatically lemmatise and removes stop words and puncuations and other basic checks using spacy."
   ]
  },
  {
   "cell_type": "code",
   "execution_count": null,
   "metadata": {
    "colab": {
     "base_uri": "https://localhost:8080/"
    },
    "id": "Dqxry4DBPCfA",
    "outputId": "f42aba30-3283-4691-fb66-9c464a11278c"
   },
   "outputs": [
    {
     "name": "stdout",
     "output_type": "stream",
     "text": [
      "CPU times: user 1min 12s, sys: 681 ms, total: 1min 13s\n",
      "Wall time: 1min 13s\n"
     ]
    }
   ],
   "source": [
    "%%time\n",
    "trainPlusUnsupDf['TextTOK']=trainPlusUnsupDf['Text'].apply(spacyTokenize)\n",
    "trainPlusUnsupDf['length']=trainPlusUnsupDf['TextTOK'].apply(lambda x:len(x))"
   ]
  },
  {
   "cell_type": "code",
   "execution_count": null,
   "metadata": {
    "colab": {
     "base_uri": "https://localhost:8080/"
    },
    "id": "dKaiVmUsRJ3R",
    "outputId": "af760a4e-43a0-4319-a9ed-9340b68a3cb7"
   },
   "outputs": [
    {
     "data": {
      "text/plain": [
       "count    75000.000000\n",
       "mean       237.455867\n",
       "std        175.447057\n",
       "min          9.000000\n",
       "25%        129.000000\n",
       "50%        178.000000\n",
       "75%        288.000000\n",
       "max       2503.000000\n",
       "Name: length, dtype: float64"
      ]
     },
     "execution_count": 68,
     "metadata": {
      "tags": []
     },
     "output_type": "execute_result"
    }
   ],
   "source": [
    "trainPlusUnsupDf['length'].describe()"
   ]
  },
  {
   "cell_type": "code",
   "execution_count": null,
   "metadata": {
    "id": "pte53F8RQxB8"
   },
   "outputs": [],
   "source": [
    "import seaborn as sns"
   ]
  },
  {
   "cell_type": "code",
   "execution_count": null,
   "metadata": {
    "colab": {
     "base_uri": "https://localhost:8080/",
     "height": 350
    },
    "id": "RJ2irqkJPF5O",
    "outputId": "cabccebb-edf5-4199-fd18-6227046a5929"
   },
   "outputs": [
    {
     "name": "stderr",
     "output_type": "stream",
     "text": [
      "/usr/local/lib/python3.6/dist-packages/seaborn/distributions.py:2551: FutureWarning: `distplot` is a deprecated function and will be removed in a future version. Please adapt your code to use either `displot` (a figure-level function with similar flexibility) or `histplot` (an axes-level function for histograms).\n",
      "  warnings.warn(msg, FutureWarning)\n"
     ]
    },
    {
     "data": {
      "text/plain": [
       "<matplotlib.axes._subplots.AxesSubplot at 0x7f0f383a8c18>"
      ]
     },
     "execution_count": 70,
     "metadata": {
      "tags": []
     },
     "output_type": "execute_result"
    },
    {
     "data": {
      "image/png": "[encoded data removed]",
      "text/plain": [
       "<Figure size 432x288 with 1 Axes>"
      ]
     },
     "metadata": {
      "needs_background": "light",
      "tags": []
     },
     "output_type": "display_data"
    }
   ],
   "source": [
    "sns.distplot(trainPlusUnsupDf['length'],kde=False)"
   ]
  },
  {
   "cell_type": "markdown",
   "metadata": {
    "id": "nQMOAk1sjqmZ"
   },
   "source": [
    "here we can see the distribution of length of input text mostly here i guess maxlen of 300 will be a good idea which kind of cover approx till 75 percentile of all the texts."
   ]
  },
  {
   "cell_type": "code",
   "execution_count": null,
   "metadata": {
    "id": "pthYoWBrKZLW"
   },
   "outputs": [],
   "source": [
    "from sklearn.feature_extraction.text import TfidfVectorizer\n",
    "from sklearn.decomposition import TruncatedSVD\n",
    "from sklearn.preprocessing import StandardScaler"
   ]
  },
  {
   "cell_type": "code",
   "execution_count": null,
   "metadata": {
    "id": "NYroIOjADc2V"
   },
   "outputs": [],
   "source": [
    "from scipy import sparse"
   ]
  },
  {
   "cell_type": "code",
   "execution_count": null,
   "metadata": {
    "id": "noInQdIrV21r"
   },
   "outputs": [],
   "source": [
    "def pipelineBOW(data):\n",
    "  tfidfVectorizer = TfidfVectorizer(tokenizer = tokenizerBOW,ngram_range=(1,3),sublinear_tf=1,strip_accents='unicode',max_features = 40000) \n",
    "  data=data.apply(lambda x:x.lower())\n",
    "  data=data.apply(lambda x:BeautifulSoup(x,'html.parser').get_text())\n",
    "  tfidfVectorizer.fit(data.values)\n",
    "  print('TFIDF Done')\n",
    "  return tfidfVectorizer"
   ]
  },
  {
   "cell_type": "code",
   "execution_count": null,
   "metadata": {
    "id": "Ygyc6tOvYmuV"
   },
   "outputs": [],
   "source": [
    "def processData(data,tfidfVectorizer):\n",
    "  data=data.apply(lambda x:x.lower())\n",
    "  data=tfidfVectorizer.transform(data.values)\n",
    "  return data"
   ]
  },
  {
   "cell_type": "markdown",
   "metadata": {},
   "source": [
    "# Modelling"
   ]
  },
  {
   "cell_type": "code",
   "execution_count": null,
   "metadata": {
    "id": "nYI_CF42rJQA"
   },
   "outputs": [],
   "source": [
    "from sklearn import model_selection"
   ]
  },
  {
   "cell_type": "code",
   "execution_count": null,
   "metadata": {
    "id": "EdKme1nA_8DF"
   },
   "outputs": [],
   "source": [
    "from sklearn.model_selection import cross_val_score"
   ]
  },
  {
   "cell_type": "code",
   "execution_count": null,
   "metadata": {
    "id": "J_qf66gD-3VA"
   },
   "outputs": [],
   "source": [
    "import numpy as np"
   ]
  },
  {
   "cell_type": "code",
   "execution_count": null,
   "metadata": {
    "colab": {
     "base_uri": "https://localhost:8080/",
     "height": 204
    },
    "id": "p5MzfNZs8FjX",
    "outputId": "68462b53-2d21-4aa2-824d-ede0242c9556"
   },
   "outputs": [
    {
     "data": {
      "text/html": [
       "<div>\n",
       "<style scoped>\n",
       "    .dataframe tbody tr th:only-of-type {\n",
       "        vertical-align: middle;\n",
       "    }\n",
       "\n",
       "    .dataframe tbody tr th {\n",
       "        vertical-align: top;\n",
       "    }\n",
       "\n",
       "    .dataframe thead th {\n",
       "        text-align: right;\n",
       "    }\n",
       "</style>\n",
       "<table border=\"1\" class=\"dataframe\">\n",
       "  <thead>\n",
       "    <tr style=\"text-align: right;\">\n",
       "      <th></th>\n",
       "      <th>Text</th>\n",
       "      <th>TextTOK</th>\n",
       "      <th>length</th>\n",
       "    </tr>\n",
       "  </thead>\n",
       "  <tbody>\n",
       "    <tr>\n",
       "      <th>0</th>\n",
       "      <td>oil industrialist leonard dawson had a __NUM__...</td>\n",
       "      <td>[oil, industrialist, leonard, dawson, had, a, ...</td>\n",
       "      <td>213</td>\n",
       "    </tr>\n",
       "    <tr>\n",
       "      <th>1</th>\n",
       "      <td>having recently revisited my old van damme col...</td>\n",
       "      <td>[having, recently, revisited, my, old, van, da...</td>\n",
       "      <td>940</td>\n",
       "    </tr>\n",
       "    <tr>\n",
       "      <th>2</th>\n",
       "      <td>i thought this might be funny going in and tay...</td>\n",
       "      <td>[i, thought, this, might, be, funny, going, in...</td>\n",
       "      <td>210</td>\n",
       "    </tr>\n",
       "    <tr>\n",
       "      <th>3</th>\n",
       "      <td>one of the many movies that mistakes profanity...</td>\n",
       "      <td>[one, of, the, many, movies, that, mistakes, p...</td>\n",
       "      <td>132</td>\n",
       "    </tr>\n",
       "    <tr>\n",
       "      <th>4</th>\n",
       "      <td>god will forgive them etc this is the best lin...</td>\n",
       "      <td>[god, will, forgive, them, etc, this, is, the,...</td>\n",
       "      <td>245</td>\n",
       "    </tr>\n",
       "  </tbody>\n",
       "</table>\n",
       "</div>"
      ],
      "text/plain": [
       "                                                Text  ... length\n",
       "0  oil industrialist leonard dawson had a __NUM__...  ...    213\n",
       "1  having recently revisited my old van damme col...  ...    940\n",
       "2  i thought this might be funny going in and tay...  ...    210\n",
       "3  one of the many movies that mistakes profanity...  ...    132\n",
       "4  god will forgive them etc this is the best lin...  ...    245\n",
       "\n",
       "[5 rows x 3 columns]"
      ]
     },
     "execution_count": 79,
     "metadata": {
      "tags": []
     },
     "output_type": "execute_result"
    }
   ],
   "source": [
    "trainPlusUnsupDf.head()"
   ]
  },
  {
   "cell_type": "code",
   "execution_count": null,
   "metadata": {
    "colab": {
     "base_uri": "https://localhost:8080/"
    },
    "id": "HvoLzkhVYuXU",
    "outputId": "90c69b93-b069-49fa-f83b-b74c3a36433e"
   },
   "outputs": [
    {
     "name": "stderr",
     "output_type": "stream",
     "text": [
      "/usr/local/lib/python3.6/dist-packages/sklearn/feature_extraction/text.py:507: UserWarning: The parameter 'token_pattern' will not be used since 'tokenizer' is not None'\n",
      "  warnings.warn(\"The parameter 'token_pattern' will not be used\"\n"
     ]
    },
    {
     "name": "stdout",
     "output_type": "stream",
     "text": [
      "TFIDF Done\n",
      "CPU times: user 3min 11s, sys: 366 ms, total: 3min 11s\n",
      "Wall time: 3min 11s\n"
     ]
    }
   ],
   "source": [
    "%%time\n",
    "tfidfVectorizer=pipelineBOW(trainPlusUnsupDf['Text'])"
   ]
  },
  {
   "cell_type": "code",
   "execution_count": null,
   "metadata": {
    "colab": {
     "base_uri": "https://localhost:8080/"
    },
    "id": "eXj6TwVBrOvg",
    "outputId": "c26f27ab-9fbc-452f-9eb7-0ddbc286f103"
   },
   "outputs": [
    {
     "name": "stdout",
     "output_type": "stream",
     "text": [
      "CPU times: user 45.7 s, sys: 0 ns, total: 45.7 s\n",
      "Wall time: 45.7 s\n"
     ]
    }
   ],
   "source": [
    "%%time\n",
    "train=processData(trainDf['Text'],tfidfVectorizer)"
   ]
  },
  {
   "cell_type": "code",
   "execution_count": null,
   "metadata": {
    "colab": {
     "base_uri": "https://localhost:8080/"
    },
    "id": "o9d1tOLh5bL1",
    "outputId": "52fcdbac-79a6-4a04-bb3a-5174aa6358f3"
   },
   "outputs": [
    {
     "name": "stdout",
     "output_type": "stream",
     "text": [
      "CPU times: user 43.9 s, sys: 0 ns, total: 43.9 s\n",
      "Wall time: 43.9 s\n"
     ]
    }
   ],
   "source": [
    "%%time\n",
    "test=processData(testDf['Text'],tfidfVectorizer)"
   ]
  },
  {
   "cell_type": "code",
   "execution_count": null,
   "metadata": {
    "id": "2f87aw2eela9"
   },
   "outputs": [],
   "source": [
    "from sklearn.metrics import classification_report\n",
    "from sklearn.linear_model import LogisticRegression\n",
    "from sklearn.ensemble import RandomForestClassifier\n",
    "from sklearn.svm import LinearSVC"
   ]
  },
  {
   "cell_type": "code",
   "execution_count": null,
   "metadata": {
    "id": "Ou1iYBJyOw5f"
   },
   "outputs": [],
   "source": [
    "import optuna"
   ]
  },
  {
   "cell_type": "markdown",
   "metadata": {
    "id": "kSCplp-Tj1Hz"
   },
   "source": [
    "Instead of handpickin parameter by myselfi automated the whole process using opuna where he choice of models are linear support vector machines, random forest and logistic regression."
   ]
  },
  {
   "cell_type": "markdown",
   "metadata": {
    "id": "ZxL8bsCZ-viA"
   },
   "source": [
    "Optuna by default uses TPE sampler.\n",
    "\n",
    "According to the documentation:\n",
    "\n",
    "This sampler is based on independent sampling. See also BaseSampler for more details of ‘independent sampling’.\n",
    "\n",
    "On each trial, for each parameter, TPE fits one Gaussian Mixture Model (GMM) l(x) to the set of parameter values associated with the best objective values, and another GMM g(x) to the remaining parameter values. It chooses the parameter value x that maximizes the ratio l(x)/g(x)."
   ]
  },
  {
   "cell_type": "code",
   "execution_count": null,
   "metadata": {
    "colab": {
     "base_uri": "https://localhost:8080/"
    },
    "id": "Qay_bmW8uT0c",
    "outputId": "3e0bdd97-96e0-4cd2-a510-2a6f845399c4"
   },
   "outputs": [
    {
     "name": "stderr",
     "output_type": "stream",
     "text": [
      "\u001b[32m[I 2020-12-04 13:28:48,002]\u001b[0m A new study created in memory with name: no-name-1b77f598-6c55-4079-b4cf-c6288f590dbe\u001b[0m\n",
      "\u001b[32m[I 2020-12-04 13:29:14,304]\u001b[0m Trial 0 finished with value: 0.8346396922831557 and parameters: {'classifier': 'LogReg', 'loss': 'l2', 'rf_max_depth': 12, 'n_estimator': 400}. Best is trial 0 with value: 0.8346396922831557.\u001b[0m\n",
      "\u001b[32m[I 2020-12-04 13:29:22,459]\u001b[0m Trial 1 finished with value: 0.8660798555772325 and parameters: {'classifier': 'SVC', 'c': 1112.8121932926088}. Best is trial 1 with value: 0.8660798555772325.\u001b[0m\n",
      "\u001b[32m[I 2020-12-04 13:29:24,040]\u001b[0m Trial 2 finished with value: 0.870639869991248 and parameters: {'classifier': 'SVC', 'c': 6.091001448466234}. Best is trial 2 with value: 0.870639869991248.\u001b[0m\n",
      "\u001b[32m[I 2020-12-04 13:29:37,624]\u001b[0m Trial 3 finished with value: 0.8310396010752837 and parameters: {'classifier': 'LogReg', 'loss': 'l1', 'rf_max_depth': 6, 'n_estimator': 400}. Best is trial 2 with value: 0.870639869991248.\u001b[0m\n",
      "\u001b[32m[I 2020-12-04 13:29:43,109]\u001b[0m Trial 4 finished with value: 0.8146395882233177 and parameters: {'classifier': 'RandomForest', 'rf_max_depth': 4, 'n_estimator': 200}. Best is trial 2 with value: 0.870639869991248.\u001b[0m\n",
      "\u001b[32m[I 2020-12-04 13:30:11,168]\u001b[0m Trial 5 finished with value: 0.8359996170905152 and parameters: {'classifier': 'RandomForest', 'rf_max_depth': 11, 'n_estimator': 500}. Best is trial 2 with value: 0.870639869991248.\u001b[0m\n",
      "\u001b[32m[I 2020-12-04 13:30:12,967]\u001b[0m Trial 6 finished with value: 0.8660398539771684 and parameters: {'classifier': 'SVC', 'c': 34653.80363906542}. Best is trial 2 with value: 0.870639869991248.\u001b[0m\n",
      "\u001b[32m[I 2020-12-04 13:30:14,739]\u001b[0m Trial 7 finished with value: 0.8660398539771684 and parameters: {'classifier': 'SVC', 'c': 6089723.822115924}. Best is trial 2 with value: 0.870639869991248.\u001b[0m\n",
      "\u001b[32m[I 2020-12-04 13:30:28,199]\u001b[0m Trial 8 finished with value: 0.827719765858069 and parameters: {'classifier': 'RandomForest', 'rf_max_depth': 6, 'n_estimator': 400}. Best is trial 2 with value: 0.870639869991248.\u001b[0m\n",
      "\u001b[32m[I 2020-12-04 13:30:41,732]\u001b[0m Trial 9 finished with value: 0.8342797162810438 and parameters: {'classifier': 'LogReg', 'loss': 'elasticnet', 'rf_max_depth': 13, 'n_estimator': 200}. Best is trial 2 with value: 0.870639869991248.\u001b[0m\n",
      "\u001b[32m[I 2020-12-04 13:30:42,019]\u001b[0m Trial 10 finished with value: 0.821519594645077 and parameters: {'classifier': 'SVC', 'c': 3.640261501310243e-07}. Best is trial 2 with value: 0.870639869991248.\u001b[0m\n",
      "\u001b[32m[I 2020-12-04 13:30:42,450]\u001b[0m Trial 11 finished with value: 0.8631596859746721 and parameters: {'classifier': 'SVC', 'c': 0.019657026783969394}. Best is trial 2 with value: 0.870639869991248.\u001b[0m\n",
      "\u001b[32m[I 2020-12-04 13:30:44,891]\u001b[0m Trial 12 finished with value: 0.8689198827852321 and parameters: {'classifier': 'SVC', 'c': 11.204722563404262}. Best is trial 2 with value: 0.870639869991248.\u001b[0m\n",
      "\u001b[32m[I 2020-12-04 13:30:45,325]\u001b[0m Trial 13 finished with value: 0.8796797996229905 and parameters: {'classifier': 'SVC', 'c': 0.08395483786035728}. Best is trial 13 with value: 0.8796797996229905.\u001b[0m\n",
      "\u001b[32m[I 2020-12-04 13:30:45,637]\u001b[0m Trial 14 finished with value: 0.8316796266763077 and parameters: {'classifier': 'SVC', 'c': 0.00016477035976404718}. Best is trial 13 with value: 0.8796797996229905.\u001b[0m\n",
      "\u001b[32m[I 2020-12-04 13:30:45,876]\u001b[0m Trial 15 finished with value: 0.820759588242901 and parameters: {'classifier': 'SVC', 'c': 1.6781273218095836e-10}. Best is trial 13 with value: 0.8796797996229905.\u001b[0m\n",
      "\u001b[32m[I 2020-12-04 13:30:47,688]\u001b[0m Trial 16 finished with value: 0.8660398539771684 and parameters: {'classifier': 'SVC', 'c': 3470240422.013036}. Best is trial 13 with value: 0.8796797996229905.\u001b[0m\n",
      "\u001b[32m[I 2020-12-04 13:30:48,115]\u001b[0m Trial 17 finished with value: 0.8726396620059665 and parameters: {'classifier': 'SVC', 'c': 0.041590138298862295}. Best is trial 13 with value: 0.8796797996229905.\u001b[0m\n",
      "\u001b[32m[I 2020-12-04 13:30:48,454]\u001b[0m Trial 18 finished with value: 0.8322796026791875 and parameters: {'classifier': 'SVC', 'c': 3.794433800671928e-05}. Best is trial 13 with value: 0.8796797996229905.\u001b[0m\n",
      "\u001b[32m[I 2020-12-04 13:30:48,881]\u001b[0m Trial 19 finished with value: 0.8632396747753758 and parameters: {'classifier': 'SVC', 'c': 0.02024212363284256}. Best is trial 13 with value: 0.8796797996229905.\u001b[0m\n",
      "\u001b[32m[I 2020-12-04 13:30:57,113]\u001b[0m Trial 20 finished with value: 0.8250796650536528 and parameters: {'classifier': 'RandomForest', 'rf_max_depth': 15, 'n_estimator': 100}. Best is trial 13 with value: 0.8796797996229905.\u001b[0m\n",
      "\u001b[32m[I 2020-12-04 13:30:58,166]\u001b[0m Trial 21 finished with value: 0.8745198428047513 and parameters: {'classifier': 'SVC', 'c': 2.8141429666154796}. Best is trial 13 with value: 0.8796797996229905.\u001b[0m\n",
      "\u001b[32m[I 2020-12-04 13:30:58,588]\u001b[0m Trial 22 finished with value: 0.8779197484194065 and parameters: {'classifier': 'SVC', 'c': 0.06403159117739417}. Best is trial 13 with value: 0.8796797996229905.\u001b[0m\n",
      "\u001b[32m[I 2020-12-04 13:31:06,631]\u001b[0m Trial 23 finished with value: 0.8662398619774884 and parameters: {'classifier': 'SVC', 'c': 322.3759012574662}. Best is trial 13 with value: 0.8796797996229905.\u001b[0m\n",
      "\u001b[32m[I 2020-12-04 13:31:06,967]\u001b[0m Trial 24 finished with value: 0.8316396010772037 and parameters: {'classifier': 'SVC', 'c': 6.562613218751375e-05}. Best is trial 13 with value: 0.8796797996229905.\u001b[0m\n",
      "\u001b[32m[I 2020-12-04 13:31:19,668]\u001b[0m Trial 25 finished with value: 0.8295197706636367 and parameters: {'classifier': 'LogReg', 'loss': 'l2', 'rf_max_depth': 8, 'n_estimator': 300}. Best is trial 13 with value: 0.8796797996229905.\u001b[0m\n",
      "\u001b[32m[I 2020-12-04 13:31:20,207]\u001b[0m Trial 26 finished with value: 0.8853198188402698 and parameters: {'classifier': 'SVC', 'c': 0.46782324148727283}. Best is trial 26 with value: 0.8853198188402698.\u001b[0m\n",
      "\u001b[32m[I 2020-12-04 13:31:20,442]\u001b[0m Trial 27 finished with value: 0.820759593042709 and parameters: {'classifier': 'SVC', 'c': 5.226694743474181e-08}. Best is trial 26 with value: 0.8853198188402698.\u001b[0m\n",
      "\u001b[32m[I 2020-12-04 13:31:20,802]\u001b[0m Trial 28 finished with value: 0.8414796443069626 and parameters: {'classifier': 'SVC', 'c': 0.003193234097835833}. Best is trial 26 with value: 0.8853198188402698.\u001b[0m\n",
      "\u001b[32m[I 2020-12-04 13:31:32,070]\u001b[0m Trial 29 finished with value: 0.8235597290462292 and parameters: {'classifier': 'LogReg', 'loss': 'elasticnet', 'rf_max_depth': 3, 'n_estimator': 500}. Best is trial 26 with value: 0.8853198188402698.\u001b[0m\n"
     ]
    },
    {
     "name": "stdout",
     "output_type": "stream",
     "text": [
      "CPU times: user 1.49 s, sys: 136 ms, total: 1.62 s\n",
      "Wall time: 2min 44s\n"
     ]
    }
   ],
   "source": [
    "%%time\n",
    "def objectiveSklearn(trial):\n",
    "\n",
    "    classifier_name = trial.suggest_categorical('classifier', ['LogReg','SVC','RandomForest'])\n",
    "    if classifier_name == 'LogReg':\n",
    "         loss=trial.suggest_categorical(\"loss\", ['l1', 'l2', 'elasticnet'])\n",
    "         classifier_obj = LogisticRegression(class_weight='balanced',n_jobs=-1)\n",
    "    if (classifier_name == 'SVC'):\n",
    "        svc_c = trial.suggest_float(\"c\", 1e-10, 1e10, log=True)\n",
    "        classifier_obj = LinearSVC(C=svc_c)\n",
    "    else:\n",
    "        rf_max_depth = int(trial.suggest_int('rf_max_depth', 3, 15))\n",
    "        n_est=int(trial.suggest_categorical(\"n_estimator\", [100,200,300,400,500]))\n",
    "        classifier_obj = RandomForestClassifier(max_depth=rf_max_depth, n_estimators=n_est,n_jobs=-1)\n",
    "\n",
    "    accuracy=cross_val_score(classifier_obj, train, trainDf['Label'].values, cv=3,n_jobs=-1)\n",
    "\n",
    "    return np.mean(accuracy)\n",
    "\n",
    "studySK = optuna.create_study(direction='maximize')\n",
    "studySK.optimize(objectiveSklearn, n_trials=30)"
   ]
  },
  {
   "cell_type": "code",
   "execution_count": null,
   "metadata": {
    "colab": {
     "base_uri": "https://localhost:8080/"
    },
    "id": "f8Wl2ZXsTDdp",
    "outputId": "1d199086-e2c5-4d27-a8fe-a7bf2e9d50a9"
   },
   "outputs": [
    {
     "data": {
      "text/plain": [
       "{'c': 0.46782324148727283, 'classifier': 'SVC'}"
      ]
     },
     "execution_count": 88,
     "metadata": {
      "tags": []
     },
     "output_type": "execute_result"
    }
   ],
   "source": [
    "studySK.best_params"
   ]
  },
  {
   "cell_type": "code",
   "execution_count": null,
   "metadata": {
    "colab": {
     "base_uri": "https://localhost:8080/"
    },
    "id": "RM3j7My2eSfc",
    "outputId": "893c4c82-ffd9-4f43-fc73-1d4f7aa13c0f"
   },
   "outputs": [
    {
     "data": {
      "text/plain": [
       "LinearSVC(C=0.46782324148727283, class_weight=None, dual=True,\n",
       "          fit_intercept=True, intercept_scaling=1, loss='squared_hinge',\n",
       "          max_iter=1000, multi_class='ovr', penalty='l2', random_state=None,\n",
       "          tol=0.0001, verbose=0)"
      ]
     },
     "execution_count": 89,
     "metadata": {
      "tags": []
     },
     "output_type": "execute_result"
    }
   ],
   "source": [
    "svc=LinearSVC(C=studySK.best_params['c'])\n",
    "svc.fit(train, trainDf['Label'].values)"
   ]
  },
  {
   "cell_type": "code",
   "execution_count": null,
   "metadata": {
    "colab": {
     "base_uri": "https://localhost:8080/"
    },
    "id": "nUD2_Sg2XEX0",
    "outputId": "837ccea2-549f-44f8-e890-9e216b9ba777"
   },
   "outputs": [
    {
     "name": "stdout",
     "output_type": "stream",
     "text": [
      "              precision    recall  f1-score   support\n",
      "\n",
      "         0.0       0.88      0.87      0.87     12646\n",
      "         1.0       0.87      0.88      0.87     12354\n",
      "\n",
      "    accuracy                           0.87     25000\n",
      "   macro avg       0.87      0.87      0.87     25000\n",
      "weighted avg       0.87      0.87      0.87     25000\n",
      "\n"
     ]
    }
   ],
   "source": [
    "print(classification_report(svc.predict(test),testDf['Label']))"
   ]
  },
  {
   "cell_type": "markdown",
   "metadata": {
    "id": "F4fA8OHGo5YB"
   },
   "source": [
    "The BOW models performs well infact one could use the unsupervised data also for TFIDF which gives us good result. Another imporvement could have been using truncated SVD in the pipeline to make it even more easier for models to fit. Since fitting models was not time taking much we could do an exhaustive search for hyperparameters and find good one for these models."
   ]
  },
  {
   "cell_type": "markdown",
   "metadata": {
    "id": "rUkSTKbPmTPo"
   },
   "source": [
    "# FAST TEXT"
   ]
  },
  {
   "cell_type": "markdown",
   "metadata": {
    "id": "bKsPx33SmWqV"
   },
   "source": [
    "Fast text expect inout data to be of a certain form hence we need to preprocess our data accordingly. It is a method for cpu utilisation and seems to be quite robust and compact"
   ]
  },
  {
   "cell_type": "code",
   "execution_count": null,
   "metadata": {
    "colab": {
     "base_uri": "https://localhost:8080/"
    },
    "id": "ZEDVwT3meCtI",
    "outputId": "c6fcbc08-30f5-4255-f870-6abf661f7807"
   },
   "outputs": [
    {
     "name": "stdout",
     "output_type": "stream",
     "text": [
      "Collecting fasttext\n",
      "\u001b[?25l  Downloading https://files.pythonhosted.org/packages/f8/85/e2b368ab6d3528827b147fdb814f8189acc981a4bc2f99ab894650e05c40/fasttext-0.9.2.tar.gz (68kB)\n",
      "\r",
      "\u001b[K     |████▊                           | 10kB 26.0MB/s eta 0:00:01\r",
      "\u001b[K     |█████████▌                      | 20kB 14.0MB/s eta 0:00:01\r",
      "\u001b[K     |██████████████▎                 | 30kB 7.2MB/s eta 0:00:01\r",
      "\u001b[K     |███████████████████             | 40kB 6.5MB/s eta 0:00:01\r",
      "\u001b[K     |███████████████████████▉        | 51kB 4.2MB/s eta 0:00:01\r",
      "\u001b[K     |████████████████████████████▋   | 61kB 4.8MB/s eta 0:00:01\r",
      "\u001b[K     |████████████████████████████████| 71kB 3.8MB/s \n",
      "\u001b[?25hRequirement already satisfied: pybind11>=2.2 in /usr/local/lib/python3.6/dist-packages (from fasttext) (2.6.1)\n",
      "Requirement already satisfied: setuptools>=0.7.0 in /usr/local/lib/python3.6/dist-packages (from fasttext) (50.3.2)\n",
      "Requirement already satisfied: numpy in /usr/local/lib/python3.6/dist-packages (from fasttext) (1.18.5)\n",
      "Building wheels for collected packages: fasttext\n",
      "  Building wheel for fasttext (setup.py) ... \u001b[?25l\u001b[?25hdone\n",
      "  Created wheel for fasttext: filename=fasttext-0.9.2-cp36-cp36m-linux_x86_64.whl size=3038678 sha256=402134e5718634d7967fe276865bdb4c7c97360bb7bb1ebc28bc25e836f1e89c\n",
      "  Stored in directory: /root/.cache/pip/wheels/98/ba/7f/b154944a1cf5a8cee91c154b75231136cc3a3321ab0e30f592\n",
      "Successfully built fasttext\n",
      "Installing collected packages: fasttext\n",
      "Successfully installed fasttext-0.9.2\n"
     ]
    }
   ],
   "source": [
    "!pip install fasttext"
   ]
  },
  {
   "cell_type": "markdown",
   "metadata": {
    "id": "5heUNcmLdbG3"
   },
   "source": [
    "We clean minimally for deep learning models."
   ]
  },
  {
   "cell_type": "code",
   "execution_count": null,
   "metadata": {
    "id": "beSwfpx2qoMi"
   },
   "outputs": [],
   "source": [
    "trainDf['Text']=  trainDf['Text'].apply(lambda x:BeautifulSoup(x,'html.parser').get_text())\n",
    "trainDf['Text'] = trainDf['Text'].str.lower()\n",
    "trainDf['Text'] = trainDf['Text'].apply(alpha_num)\n",
    "trainDf['Text'] = trainDf['Text'].apply(replace_num)"
   ]
  },
  {
   "cell_type": "code",
   "execution_count": null,
   "metadata": {
    "id": "eA1jMhP1p5R4"
   },
   "outputs": [],
   "source": [
    "testDf['Text']=  testDf['Text'].apply(lambda x:BeautifulSoup(x,'html.parser').get_text())\n",
    "testDf['Text'] = testDf['Text'].str.lower()\n",
    "testDf['Text'] = testDf['Text'].apply(alpha_num)\n",
    "testDf['Text'] = testDf['Text'].apply(replace_num)"
   ]
  },
  {
   "cell_type": "code",
   "execution_count": null,
   "metadata": {
    "id": "wAW3RxSG8i9R"
   },
   "outputs": [],
   "source": [
    "def makeFastextData(data,dataset):\n",
    "    with open('fasttext_input_imdb_'+dataset +'.txt', 'w') as f:\n",
    "        for text,label in zip(data['Text'],data['Label']):\n",
    "            f.writelines(f'__label__{label} {text}\\n')"
   ]
  },
  {
   "cell_type": "code",
   "execution_count": null,
   "metadata": {
    "id": "BB-j1nm_iFUf"
   },
   "outputs": [],
   "source": [
    "makeFastextData(trainDf,'train')"
   ]
  },
  {
   "cell_type": "code",
   "execution_count": null,
   "metadata": {
    "id": "PKhFxtzHmolz"
   },
   "outputs": [],
   "source": [
    "makeFastextData(testDf,'test')"
   ]
  },
  {
   "cell_type": "code",
   "execution_count": null,
   "metadata": {
    "colab": {
     "base_uri": "https://localhost:8080/"
    },
    "id": "c9P-rhMnA6gI",
    "outputId": "979e2bf3-2fb3-47ea-de8d-4eee3ff5dfab"
   },
   "outputs": [
    {
     "name": "stdout",
     "output_type": "stream",
     "text": [
      "   25000  5744161 32330565 fasttext_input_imdb_train.txt\n"
     ]
    }
   ],
   "source": [
    "!wc fasttext_input_imdb_train.txt"
   ]
  },
  {
   "cell_type": "code",
   "execution_count": null,
   "metadata": {
    "colab": {
     "base_uri": "https://localhost:8080/"
    },
    "id": "TuJMoVUlkMil",
    "outputId": "181698ec-9826-4b78-e31e-c4a51eea747e"
   },
   "outputs": [
    {
     "name": "stdout",
     "output_type": "stream",
     "text": [
      "   25000  5615443 31564214 fasttext_input_imdb_test.txt\n"
     ]
    }
   ],
   "source": [
    "!wc fasttext_input_imdb_test.txt"
   ]
  },
  {
   "cell_type": "markdown",
   "metadata": {
    "id": "6eURKu93-ONX"
   },
   "source": [
    "Some extra preprocessing "
   ]
  },
  {
   "cell_type": "code",
   "execution_count": null,
   "metadata": {
    "id": "reI--BM7prNJ"
   },
   "outputs": [],
   "source": [
    "!cat fasttext_input_imdb_train.txt | sed -e \"s/\\([.\\!?,'/()]\\)/ \\1 /g\" | tr \"[:upper:]\" \"[:lower:]\" > fasttext_input_imdb_train_proc.txt"
   ]
  },
  {
   "cell_type": "code",
   "execution_count": null,
   "metadata": {
    "id": "34zUTRd1qKlb"
   },
   "outputs": [],
   "source": [
    "!cat fasttext_input_imdb_test.txt | sed -e \"s/\\([.\\!?,'/()]\\)/ \\1 /g\" | tr \"[:upper:]\" \"[:lower:]\" > fasttext_input_imdb_test_proc.txt"
   ]
  },
  {
   "cell_type": "code",
   "execution_count": null,
   "metadata": {
    "id": "FwRnajRRjgMP"
   },
   "outputs": [],
   "source": [
    "!head -n 24000 fasttext_input_imdb_train_proc.txt > imdb_train.bin"
   ]
  },
  {
   "cell_type": "code",
   "execution_count": null,
   "metadata": {
    "id": "zOO1hTCvo6cU"
   },
   "outputs": [],
   "source": [
    "!tail -n 1000 fasttext_input_imdb_train_proc.txt > imdb_valid.bin"
   ]
  },
  {
   "cell_type": "code",
   "execution_count": null,
   "metadata": {
    "id": "G5RisL9En3IN"
   },
   "outputs": [],
   "source": [
    "!head -n 25000 fasttext_input_imdb_test_proc.txt > imdb_test.bin"
   ]
  },
  {
   "cell_type": "code",
   "execution_count": null,
   "metadata": {
    "id": "K_HeWJwhj-vM"
   },
   "outputs": [],
   "source": [
    "import fasttext"
   ]
  },
  {
   "cell_type": "markdown",
   "metadata": {
    "id": "aANSLHeVkFzN"
   },
   "source": [
    "Here we use autotune funcionality of fasttext to find a perfect model for us by doing changes based on validation data. limited the duration to 100 for fast execution and also limit the size of the output model. For faster convergence we use hierarchical softmax as the loss."
   ]
  },
  {
   "cell_type": "code",
   "execution_count": null,
   "metadata": {
    "colab": {
     "base_uri": "https://localhost:8080/"
    },
    "id": "te4Syk98i3f0",
    "outputId": "11ef4c3e-9e81-466b-d40c-f8c6b64030c2"
   },
   "outputs": [
    {
     "name": "stdout",
     "output_type": "stream",
     "text": [
      "CPU times: user 2min 22s, sys: 31.1 ms, total: 2min 22s\n",
      "Wall time: 2min 22s\n"
     ]
    }
   ],
   "source": [
    "%%time\n",
    "model = fasttext.train_supervised(input='imdb_train.bin',autotuneValidationFile='imdb_valid.bin',autotuneModelSize=\"2M\", autotuneDuration=100, loss='hs')"
   ]
  },
  {
   "cell_type": "code",
   "execution_count": null,
   "metadata": {
    "id": "DjAmOG_1j80u"
   },
   "outputs": [],
   "source": [
    "_,precision,recall=model.test('imdb_test.bin')"
   ]
  },
  {
   "cell_type": "code",
   "execution_count": null,
   "metadata": {
    "colab": {
     "base_uri": "https://localhost:8080/"
    },
    "id": "8Y_lvdWFogao",
    "outputId": "049eabc3-b006-41c8-f9e8-db1c533273f6"
   },
   "outputs": [
    {
     "name": "stdout",
     "output_type": "stream",
     "text": [
      "Precision: 0.87892 recall: 0.87892\n"
     ]
    }
   ],
   "source": [
    "print('Precision:',precision,'recall:',recall)"
   ]
  },
  {
   "cell_type": "markdown",
   "metadata": {
    "id": "7vk9NeZ8kVvO"
   },
   "source": [
    "saved the model here in compact quantized form so that it can be use later."
   ]
  },
  {
   "cell_type": "code",
   "execution_count": null,
   "metadata": {
    "id": "X99rlp960QFv"
   },
   "outputs": [],
   "source": [
    "model.quantize(retrain=False)\n",
    "model.save_model(\"model_filename.ftz\")"
   ]
  },
  {
   "cell_type": "markdown",
   "metadata": {
    "id": "FC_d-Kmb_Euc"
   },
   "source": [
    "Fast text is a very good easy to use and very well engineered solution which give great results too. i tried to search for a way to learn representation present in text and use it as a start for classification but could not find that bridge although one can learn the representation easily by using function learn_unsupervised "
   ]
  },
  {
   "cell_type": "markdown",
   "metadata": {
    "id": "VoFnhFs-mPvL"
   },
   "source": [
    "# Sequence RNN"
   ]
  },
  {
   "cell_type": "markdown",
   "metadata": {
    "id": "wk5E5fX6kcd6"
   },
   "source": [
    "we use keras tokenizer trained on the unsupervised+training test and then transform test data using it as well as train. i experiment with 2 layer lstm structure for which we select hyperparameters using optuna again. used a 2 layer lstm structure for which we find optimal hyperparameter due to resource content and time needed by models to run we dont choose many trials."
   ]
  },
  {
   "cell_type": "code",
   "execution_count": null,
   "metadata": {
    "id": "jgn3XZ4fS1_n"
   },
   "outputs": [],
   "source": [
    "import tensorflow"
   ]
  },
  {
   "cell_type": "code",
   "execution_count": null,
   "metadata": {
    "id": "3gAIMTdt5hwi"
   },
   "outputs": [],
   "source": [
    "from tensorflow.keras.preprocessing.text import Tokenizer"
   ]
  },
  {
   "cell_type": "code",
   "execution_count": null,
   "metadata": {
    "id": "hb14zOIV5ky6"
   },
   "outputs": [],
   "source": [
    "t = Tokenizer()\n",
    "t.fit_on_texts(trainPlusUnsupDf['Text'].values)"
   ]
  },
  {
   "cell_type": "code",
   "execution_count": null,
   "metadata": {
    "id": "-QavnAyq5sjC"
   },
   "outputs": [],
   "source": [
    "trainText = t.texts_to_sequences(trainDf['Text'].values)"
   ]
  },
  {
   "cell_type": "code",
   "execution_count": null,
   "metadata": {
    "id": "tfDQIj_754ZM"
   },
   "outputs": [],
   "source": [
    "testText = t.texts_to_sequences(testDf['Text'].values)"
   ]
  },
  {
   "cell_type": "code",
   "execution_count": null,
   "metadata": {
    "id": "zUAtYxQlLqZQ"
   },
   "outputs": [],
   "source": [
    "trainTextPadded=tensorflow.keras.preprocessing.sequence.pad_sequences(trainText, maxlen=300, dtype='int32', padding='post', truncating='post')"
   ]
  },
  {
   "cell_type": "code",
   "execution_count": null,
   "metadata": {
    "id": "_egWBFGgScr4"
   },
   "outputs": [],
   "source": [
    "testTextPadded=tensorflow.keras.preprocessing.sequence.pad_sequences(testText, maxlen=300, dtype='int32', padding='post', truncating='post')"
   ]
  },
  {
   "cell_type": "code",
   "execution_count": null,
   "metadata": {
    "id": "uMk7jFfNUGPg"
   },
   "outputs": [],
   "source": [
    "from sklearn.model_selection import train_test_split"
   ]
  },
  {
   "cell_type": "code",
   "execution_count": null,
   "metadata": {
    "id": "9TjMzgDhUlMn"
   },
   "outputs": [],
   "source": [
    "from tensorflow.keras.layers import LSTM,Embedding,GRU,Dense,Input,Dropout,Bidirectional\n",
    "from tensorflow.keras import Model\n",
    "from tensorflow.keras.optimizers import RMSprop,Adam\n"
   ]
  },
  {
   "cell_type": "code",
   "execution_count": null,
   "metadata": {
    "id": "MfFmlxBCTj5Y"
   },
   "outputs": [],
   "source": [
    "X_train, X_test, y_train, y_test = train_test_split(trainTextPadded, trainDf['Label'], test_size=0.2, random_state=42)"
   ]
  },
  {
   "cell_type": "code",
   "execution_count": null,
   "metadata": {
    "colab": {
     "base_uri": "https://localhost:8080/"
    },
    "id": "FqJzdicLMRWA",
    "outputId": "5a9b86e4-2f46-45a1-cb1e-eeeebe189608"
   },
   "outputs": [
    {
     "name": "stderr",
     "output_type": "stream",
     "text": [
      "\u001b[32m[I 2020-12-04 15:56:48,108]\u001b[0m A new study created in memory with name: no-name-63df6f6a-b44a-48ca-9ae5-105f9e61f3a7\u001b[0m\n"
     ]
    },
    {
     "name": "stdout",
     "output_type": "stream",
     "text": [
      "Epoch 1/10\n",
      "36/36 [==============================] - 14s 377ms/step - loss: 0.6842 - accuracy: 0.6080 - val_loss: 0.6049 - val_accuracy: 0.6760\n",
      "Epoch 2/10\n",
      "36/36 [==============================] - 9s 259ms/step - loss: 0.5117 - accuracy: 0.7650 - val_loss: 0.4550 - val_accuracy: 0.7850\n",
      "Epoch 3/10\n",
      "36/36 [==============================] - 9s 259ms/step - loss: 0.3579 - accuracy: 0.8429 - val_loss: 0.5821 - val_accuracy: 0.7550\n",
      "Epoch 4/10\n",
      "36/36 [==============================] - 9s 259ms/step - loss: 0.2589 - accuracy: 0.8945 - val_loss: 0.5419 - val_accuracy: 0.7770\n",
      "Epoch 5/10\n",
      "36/36 [==============================] - 9s 258ms/step - loss: 0.1753 - accuracy: 0.9327 - val_loss: 0.6102 - val_accuracy: 0.7345\n",
      "Epoch 6/10\n",
      "36/36 [==============================] - 9s 259ms/step - loss: 0.1415 - accuracy: 0.9468 - val_loss: 0.5000 - val_accuracy: 0.8165\n",
      "Epoch 7/10\n",
      "36/36 [==============================] - 9s 259ms/step - loss: 0.0930 - accuracy: 0.9638 - val_loss: 0.9224 - val_accuracy: 0.6855\n",
      "Epoch 8/10\n",
      "36/36 [==============================] - 9s 260ms/step - loss: 0.1016 - accuracy: 0.9628 - val_loss: 0.6156 - val_accuracy: 0.7845\n",
      "Epoch 9/10\n",
      "36/36 [==============================] - 9s 258ms/step - loss: 0.0511 - accuracy: 0.9852 - val_loss: 0.5967 - val_accuracy: 0.7960\n",
      "Epoch 10/10\n",
      "36/36 [==============================] - 9s 259ms/step - loss: 0.0460 - accuracy: 0.9824 - val_loss: 0.7120 - val_accuracy: 0.8050\n",
      "157/157 [==============================] - 3s 22ms/step - loss: 0.6811 - accuracy: 0.8076\n"
     ]
    },
    {
     "name": "stderr",
     "output_type": "stream",
     "text": [
      "\u001b[32m[I 2020-12-04 15:58:59,365]\u001b[0m Trial 0 finished with value: 0.6811148524284363 and parameters: {'embedding': 50, 'units1': 64, 'dropout': 0.22504036672028457, 'units2': 32, 'lr': 0.008674885296861211}. Best is trial 0 with value: 0.6811148524284363.\u001b[0m\n"
     ]
    },
    {
     "name": "stdout",
     "output_type": "stream",
     "text": [
      "Epoch 1/10\n",
      "36/36 [==============================] - 14s 385ms/step - loss: 0.6923 - accuracy: 0.5211 - val_loss: 0.6897 - val_accuracy: 0.5410\n",
      "Epoch 2/10\n",
      "36/36 [==============================] - 10s 274ms/step - loss: 0.6286 - accuracy: 0.6923 - val_loss: 0.4985 - val_accuracy: 0.7650\n",
      "Epoch 3/10\n",
      "36/36 [==============================] - 10s 274ms/step - loss: 0.4178 - accuracy: 0.8182 - val_loss: 0.4259 - val_accuracy: 0.8110\n",
      "Epoch 4/10\n",
      "36/36 [==============================] - 10s 273ms/step - loss: 0.3308 - accuracy: 0.8665 - val_loss: 0.3624 - val_accuracy: 0.8455\n",
      "Epoch 5/10\n",
      "36/36 [==============================] - 10s 273ms/step - loss: 0.2694 - accuracy: 0.8977 - val_loss: 0.3391 - val_accuracy: 0.8675\n",
      "Epoch 6/10\n",
      "36/36 [==============================] - 10s 272ms/step - loss: 0.2275 - accuracy: 0.9151 - val_loss: 0.3360 - val_accuracy: 0.8775\n",
      "Epoch 7/10\n",
      "36/36 [==============================] - 10s 273ms/step - loss: 0.1878 - accuracy: 0.9328 - val_loss: 0.4527 - val_accuracy: 0.8445\n",
      "Epoch 8/10\n",
      "36/36 [==============================] - 10s 274ms/step - loss: 0.1630 - accuracy: 0.9429 - val_loss: 0.3379 - val_accuracy: 0.8790\n",
      "Epoch 9/10\n",
      "36/36 [==============================] - 10s 273ms/step - loss: 0.1361 - accuracy: 0.9536 - val_loss: 0.3432 - val_accuracy: 0.8775\n",
      "Epoch 10/10\n",
      "36/36 [==============================] - 10s 275ms/step - loss: 0.1099 - accuracy: 0.9637 - val_loss: 0.3591 - val_accuracy: 0.8590\n",
      "157/157 [==============================] - 4s 23ms/step - loss: 0.3803 - accuracy: 0.8502\n"
     ]
    },
    {
     "name": "stderr",
     "output_type": "stream",
     "text": [
      "\u001b[32m[I 2020-12-04 16:01:04,098]\u001b[0m Trial 1 finished with value: 0.38028624653816223 and parameters: {'embedding': 50, 'units1': 64, 'dropout': 0.3706454194859867, 'units2': 64, 'lr': 0.00016189924268387887}. Best is trial 1 with value: 0.38028624653816223.\u001b[0m\n"
     ]
    },
    {
     "name": "stdout",
     "output_type": "stream",
     "text": [
      "Epoch 1/10\n",
      "36/36 [==============================] - 13s 374ms/step - loss: 0.6136 - accuracy: 0.6732 - val_loss: 0.4087 - val_accuracy: 0.8200\n",
      "Epoch 2/10\n",
      "36/36 [==============================] - 10s 274ms/step - loss: 0.3540 - accuracy: 0.8510 - val_loss: 0.4048 - val_accuracy: 0.8260\n",
      "Epoch 3/10\n",
      "36/36 [==============================] - 10s 274ms/step - loss: 0.2343 - accuracy: 0.9084 - val_loss: 0.3642 - val_accuracy: 0.8550\n",
      "Epoch 4/10\n",
      "36/36 [==============================] - 10s 273ms/step - loss: 0.1784 - accuracy: 0.9336 - val_loss: 0.3657 - val_accuracy: 0.8660\n",
      "Epoch 5/10\n",
      "36/36 [==============================] - 10s 273ms/step - loss: 0.1308 - accuracy: 0.9510 - val_loss: 0.4816 - val_accuracy: 0.8545\n",
      "Epoch 6/10\n",
      "36/36 [==============================] - 10s 272ms/step - loss: 0.0933 - accuracy: 0.9664 - val_loss: 0.4857 - val_accuracy: 0.7950\n",
      "Epoch 7/10\n",
      "36/36 [==============================] - 10s 273ms/step - loss: 0.0546 - accuracy: 0.9820 - val_loss: 0.5534 - val_accuracy: 0.8635\n",
      "Epoch 8/10\n",
      "36/36 [==============================] - 10s 274ms/step - loss: 0.0463 - accuracy: 0.9835 - val_loss: 0.5407 - val_accuracy: 0.8580\n",
      "Epoch 9/10\n",
      "36/36 [==============================] - 10s 273ms/step - loss: 0.0344 - accuracy: 0.9881 - val_loss: 0.5886 - val_accuracy: 0.8555\n",
      "Epoch 10/10\n",
      "36/36 [==============================] - 10s 274ms/step - loss: 0.0321 - accuracy: 0.9884 - val_loss: 0.5884 - val_accuracy: 0.8580\n",
      "157/157 [==============================] - 4s 22ms/step - loss: 0.5836 - accuracy: 0.8582\n"
     ]
    },
    {
     "name": "stderr",
     "output_type": "stream",
     "text": [
      "\u001b[32m[I 2020-12-04 16:03:08,472]\u001b[0m Trial 2 finished with value: 0.5836058855056763 and parameters: {'embedding': 50, 'units1': 64, 'dropout': 0.1275607257989057, 'units2': 64, 'lr': 0.0020301932674781486}. Best is trial 1 with value: 0.38028624653816223.\u001b[0m\n"
     ]
    },
    {
     "name": "stdout",
     "output_type": "stream",
     "text": [
      "Epoch 1/10\n",
      "36/36 [==============================] - 19s 514ms/step - loss: 0.6922 - accuracy: 0.5332 - val_loss: 0.6908 - val_accuracy: 0.5860\n",
      "Epoch 2/10\n",
      "36/36 [==============================] - 15s 415ms/step - loss: 0.6754 - accuracy: 0.6570 - val_loss: 0.5943 - val_accuracy: 0.7025\n",
      "Epoch 3/10\n",
      "36/36 [==============================] - 15s 414ms/step - loss: 0.5075 - accuracy: 0.7626 - val_loss: 0.4557 - val_accuracy: 0.7970\n",
      "Epoch 4/10\n",
      "36/36 [==============================] - 15s 415ms/step - loss: 0.3980 - accuracy: 0.8305 - val_loss: 0.4485 - val_accuracy: 0.8050\n",
      "Epoch 5/10\n",
      "36/36 [==============================] - 15s 412ms/step - loss: 0.3251 - accuracy: 0.8691 - val_loss: 0.4432 - val_accuracy: 0.8120\n",
      "Epoch 6/10\n",
      "36/36 [==============================] - 15s 417ms/step - loss: 0.2710 - accuracy: 0.8966 - val_loss: 0.3585 - val_accuracy: 0.8470\n",
      "Epoch 7/10\n",
      "36/36 [==============================] - 15s 415ms/step - loss: 0.2351 - accuracy: 0.9135 - val_loss: 0.3566 - val_accuracy: 0.8560\n",
      "Epoch 8/10\n",
      "36/36 [==============================] - 15s 414ms/step - loss: 0.1995 - accuracy: 0.9301 - val_loss: 0.4250 - val_accuracy: 0.8350\n",
      "Epoch 9/10\n",
      "36/36 [==============================] - 15s 415ms/step - loss: 0.1723 - accuracy: 0.9423 - val_loss: 0.3400 - val_accuracy: 0.8590\n",
      "Epoch 10/10\n",
      "36/36 [==============================] - 15s 415ms/step - loss: 0.1463 - accuracy: 0.9514 - val_loss: 0.4038 - val_accuracy: 0.8635\n",
      "157/157 [==============================] - 4s 24ms/step - loss: 0.4163 - accuracy: 0.8548\n"
     ]
    },
    {
     "name": "stderr",
     "output_type": "stream",
     "text": [
      "\u001b[32m[I 2020-12-04 16:06:05,257]\u001b[0m Trial 3 finished with value: 0.4163428843021393 and parameters: {'embedding': 100, 'units1': 128, 'dropout': 0.2709290810082003, 'units2': 64, 'lr': 9.041356047814194e-05}. Best is trial 1 with value: 0.38028624653816223.\u001b[0m\n"
     ]
    },
    {
     "name": "stdout",
     "output_type": "stream",
     "text": [
      "Epoch 1/10\n",
      "36/36 [==============================] - 16s 451ms/step - loss: 0.6749 - accuracy: 0.6149 - val_loss: 0.5397 - val_accuracy: 0.7425\n",
      "Epoch 2/10\n",
      "36/36 [==============================] - 12s 338ms/step - loss: 0.4680 - accuracy: 0.7923 - val_loss: 0.7116 - val_accuracy: 0.6825\n",
      "Epoch 3/10\n",
      "36/36 [==============================] - 12s 338ms/step - loss: 0.4096 - accuracy: 0.8179 - val_loss: 0.4056 - val_accuracy: 0.8115\n",
      "Epoch 4/10\n",
      "36/36 [==============================] - 12s 338ms/step - loss: 0.2572 - accuracy: 0.8961 - val_loss: 0.4227 - val_accuracy: 0.8235\n",
      "Epoch 5/10\n",
      "36/36 [==============================] - 12s 338ms/step - loss: 0.1988 - accuracy: 0.9237 - val_loss: 0.7829 - val_accuracy: 0.7080\n",
      "Epoch 6/10\n",
      "36/36 [==============================] - 12s 338ms/step - loss: 0.1731 - accuracy: 0.9328 - val_loss: 0.4729 - val_accuracy: 0.8015\n",
      "Epoch 7/10\n",
      "36/36 [==============================] - 12s 337ms/step - loss: 0.1406 - accuracy: 0.9492 - val_loss: 0.8127 - val_accuracy: 0.7070\n",
      "Epoch 8/10\n",
      "36/36 [==============================] - 12s 336ms/step - loss: 0.1125 - accuracy: 0.9569 - val_loss: 0.5266 - val_accuracy: 0.7965\n",
      "Epoch 9/10\n",
      "36/36 [==============================] - 12s 338ms/step - loss: 0.0567 - accuracy: 0.9808 - val_loss: 0.5345 - val_accuracy: 0.8400\n",
      "Epoch 10/10\n",
      "36/36 [==============================] - 12s 337ms/step - loss: 0.0791 - accuracy: 0.9735 - val_loss: 1.2125 - val_accuracy: 0.7055\n",
      "157/157 [==============================] - 4s 23ms/step - loss: 1.2458 - accuracy: 0.7060\n"
     ]
    },
    {
     "name": "stderr",
     "output_type": "stream",
     "text": [
      "\u001b[32m[I 2020-12-04 16:08:33,779]\u001b[0m Trial 4 finished with value: 1.2457996606826782 and parameters: {'embedding': 50, 'units1': 128, 'dropout': 0.3363530997614701, 'units2': 32, 'lr': 0.003724474987378308}. Best is trial 1 with value: 0.38028624653816223.\u001b[0m\n"
     ]
    },
    {
     "name": "stdout",
     "output_type": "stream",
     "text": [
      "CPU times: user 7min 47s, sys: 28.5 s, total: 8min 16s\n",
      "Wall time: 11min 45s\n"
     ]
    }
   ],
   "source": [
    "%%time\n",
    "def objectiveLSTM(trial):\n",
    "    inpt = Input(shape = (300,))\n",
    "    embedding = Embedding(len(t.word_index) + 1,output_dim=trial.suggest_categorical(\"embedding\", [50,100]), input_length=300, mask_zero=True)(inpt)\n",
    "    LSTM1=Bidirectional(LSTM(units=trial.suggest_categorical(\"units1\", [64,128,256]),return_sequences=True))(embedding)\n",
    "    dropout=Dropout(rate=trial.suggest_loguniform('dropout', 1e-1, 5e-1))(LSTM1)\n",
    "    LSTM2=Bidirectional(LSTM(units=trial.suggest_categorical(\"units2\", [32,64,128]),return_sequences=False))(dropout)\n",
    "    output=Dense(1, activation='sigmoid')(LSTM2)\n",
    "    model=Model(inpt,output)\n",
    "    lr = trial.suggest_loguniform('lr', 1e-5, 1e-2)\n",
    "    model.compile(loss='binary_crossentropy', optimizer=RMSprop(lr=lr), metrics=['accuracy'])\n",
    "    model.fit(X_train,y_train,validation_split=0.1,shuffle=True,batch_size=512,epochs=10,verbose=True)\n",
    "    accuracy=model.evaluate(X_test,y_test)\n",
    "    return accuracy[0]\n",
    "studyDL = optuna.create_study(direction='minimize')\n",
    "studyDL.optimize(objectiveLSTM, n_trials=5)"
   ]
  },
  {
   "cell_type": "code",
   "execution_count": null,
   "metadata": {
    "colab": {
     "base_uri": "https://localhost:8080/"
    },
    "id": "8KeJghTBVUGj",
    "outputId": "4972992a-c347-4f6a-9cb1-1a3d0b027da2"
   },
   "outputs": [
    {
     "data": {
      "text/plain": [
       "{'dropout': 0.3706454194859867,\n",
       " 'embedding': 50,\n",
       " 'lr': 0.00016189924268387887,\n",
       " 'units1': 64,\n",
       " 'units2': 64}"
      ]
     },
     "execution_count": 58,
     "metadata": {
      "tags": []
     },
     "output_type": "execute_result"
    }
   ],
   "source": [
    "studyDL.best_params"
   ]
  },
  {
   "cell_type": "code",
   "execution_count": null,
   "metadata": {
    "colab": {
     "base_uri": "https://localhost:8080/"
    },
    "id": "87V9-OXyPDZN",
    "outputId": "7311dd80-6cbd-4f45-a065-e492238960d1"
   },
   "outputs": [
    {
     "data": {
      "text/plain": [
       "FrozenTrial(number=1, value=0.38028624653816223, datetime_start=datetime.datetime(2020, 12, 4, 15, 58, 59, 366599), datetime_complete=datetime.datetime(2020, 12, 4, 16, 1, 4, 97783), params={'embedding': 50, 'units1': 64, 'dropout': 0.3706454194859867, 'units2': 64, 'lr': 0.00016189924268387887}, distributions={'embedding': CategoricalDistribution(choices=(50, 100)), 'units1': CategoricalDistribution(choices=(64, 128, 256)), 'dropout': LogUniformDistribution(high=0.5, low=0.1), 'units2': CategoricalDistribution(choices=(32, 64, 128)), 'lr': LogUniformDistribution(high=0.01, low=1e-05)}, user_attrs={}, system_attrs={}, intermediate_values={}, trial_id=1, state=TrialState.COMPLETE)"
      ]
     },
     "execution_count": 59,
     "metadata": {
      "tags": []
     },
     "output_type": "execute_result"
    }
   ],
   "source": [
    "studyDL.best_trial"
   ]
  },
  {
   "cell_type": "markdown",
   "metadata": {
    "id": "AIJGcguMkw1f"
   },
   "source": [
    "So for using pretrained embedding we used here glove and fasttext embeddign which initiliases the weights of our embedding layer and we set it trainable to false"
   ]
  },
  {
   "cell_type": "code",
   "execution_count": null,
   "metadata": {
    "colab": {
     "base_uri": "https://localhost:8080/"
    },
    "id": "nssLEmcdw_oO",
    "outputId": "278350ed-5da7-4fba-eb21-7a06e4e61b76"
   },
   "outputs": [
    {
     "name": "stdout",
     "output_type": "stream",
     "text": [
      "--2020-12-04 14:32:47--  http://nlp.stanford.edu/data/glove.twitter.27B.zip\n",
      "Resolving nlp.stanford.edu (nlp.stanford.edu)... 171.64.67.140\n",
      "Connecting to nlp.stanford.edu (nlp.stanford.edu)|171.64.67.140|:80... connected.\n",
      "HTTP request sent, awaiting response... 302 Found\n",
      "Location: https://nlp.stanford.edu/data/glove.twitter.27B.zip [following]\n",
      "--2020-12-04 14:32:48--  https://nlp.stanford.edu/data/glove.twitter.27B.zip\n",
      "Connecting to nlp.stanford.edu (nlp.stanford.edu)|171.64.67.140|:443... connected.\n",
      "HTTP request sent, awaiting response... 301 Moved Permanently\n",
      "Location: http://downloads.cs.stanford.edu/nlp/data/glove.twitter.27B.zip [following]\n",
      "--2020-12-04 14:32:48--  http://downloads.cs.stanford.edu/nlp/data/glove.twitter.27B.zip\n",
      "Resolving downloads.cs.stanford.edu (downloads.cs.stanford.edu)... 171.64.64.22\n",
      "Connecting to downloads.cs.stanford.edu (downloads.cs.stanford.edu)|171.64.64.22|:80... connected.\n",
      "HTTP request sent, awaiting response... 200 OK\n",
      "Length: 1520408563 (1.4G) [application/zip]\n",
      "Saving to: ‘glove.twitter.27B.zip’\n",
      "\n",
      "glove.twitter.27B.z 100%[===================>]   1.42G  2.18MB/s    in 11m 43s \n",
      "\n",
      "2020-12-04 14:44:31 (2.06 MB/s) - ‘glove.twitter.27B.zip’ saved [1520408563/1520408563]\n",
      "\n"
     ]
    }
   ],
   "source": [
    "!wget http://nlp.stanford.edu/data/glove.twitter.27B.zip"
   ]
  },
  {
   "cell_type": "code",
   "execution_count": null,
   "metadata": {
    "colab": {
     "base_uri": "https://localhost:8080/"
    },
    "id": "wy9dG1kuxdMQ",
    "outputId": "028db34c-1bd8-4dc5-c606-8ea227492b38"
   },
   "outputs": [
    {
     "name": "stdout",
     "output_type": "stream",
     "text": [
      "Archive:  glove.twitter.27B.zip\n",
      "  inflating: glove.twitter.27B.25d.txt  \n",
      "  inflating: glove.twitter.27B.50d.txt  \n",
      "replace glove.twitter.27B.100d.txt? [y]es, [n]o, [A]ll, [N]one, [r]ename: y\n",
      "  inflating: glove.twitter.27B.100d.txt  \n",
      "  inflating: glove.twitter.27B.200d.txt  \n"
     ]
    }
   ],
   "source": [
    "!unzip glove.twitter.27B.zip"
   ]
  },
  {
   "cell_type": "code",
   "execution_count": null,
   "metadata": {
    "colab": {
     "base_uri": "https://localhost:8080/"
    },
    "id": "OxyGTTcw0Ogo",
    "outputId": "4542f34f-9c9c-43b7-8339-ddbb8472f196"
   },
   "outputs": [
    {
     "name": "stdout",
     "output_type": "stream",
     "text": [
      "--2020-12-04 14:48:01--  https://dl.fbaipublicfiles.com/fasttext/vectors-english/wiki-news-300d-1M.vec.zip\n",
      "Resolving dl.fbaipublicfiles.com (dl.fbaipublicfiles.com)... 172.67.9.4, 104.22.75.142, 104.22.74.142, ...\n",
      "Connecting to dl.fbaipublicfiles.com (dl.fbaipublicfiles.com)|172.67.9.4|:443... connected.\n",
      "HTTP request sent, awaiting response... 200 OK\n",
      "Length: 681808098 (650M) [application/zip]\n",
      "Saving to: ‘wiki-news-300d-1M.vec.zip’\n",
      "\n",
      "wiki-news-300d-1M.v 100%[===================>] 650.22M  12.5MB/s    in 53s     \n",
      "\n",
      "2020-12-04 14:48:56 (12.2 MB/s) - ‘wiki-news-300d-1M.vec.zip’ saved [681808098/681808098]\n",
      "\n"
     ]
    }
   ],
   "source": [
    "!wget https://dl.fbaipublicfiles.com/fasttext/vectors-english/wiki-news-300d-1M.vec.zip"
   ]
  },
  {
   "cell_type": "code",
   "execution_count": null,
   "metadata": {
    "colab": {
     "base_uri": "https://localhost:8080/"
    },
    "id": "gDXUFBNX0Rkd",
    "outputId": "d65b6eba-eb5c-4b49-8d9f-97e962cd456d"
   },
   "outputs": [
    {
     "name": "stdout",
     "output_type": "stream",
     "text": [
      "Archive:  wiki-news-300d-1M.vec.zip\n",
      "  inflating: wiki-news-300d-1M.vec   \n"
     ]
    }
   ],
   "source": [
    "!unzip wiki-news-300d-1M.vec.zip"
   ]
  },
  {
   "cell_type": "code",
   "execution_count": null,
   "metadata": {
    "id": "dCfYbTVg2vVj"
   },
   "outputs": [],
   "source": [
    "import numpy as np"
   ]
  },
  {
   "cell_type": "code",
   "execution_count": null,
   "metadata": {
    "id": "L7IACPKhwgIF"
   },
   "outputs": [],
   "source": [
    "def embeddingWeights(embeddingType,word_index):\n",
    "  embeddings_index = {}\n",
    "  if(embeddingType=='glove'):\n",
    "    f = open('glove.twitter.27B.50d.txt')\n",
    "    EMBEDDING_DIM=50\n",
    "  else:\n",
    "    f = open('wiki-news-300d-1M.vec')\n",
    "    EMBEDDING_DIM=300\n",
    "  for line in f:\n",
    "      values = line.split()\n",
    "      word = values[0]\n",
    "      coefs = np.asarray(values[1:], dtype='float32')\n",
    "      embeddings_index[word] = coefs\n",
    "  f.close()\n",
    "\n",
    "  embedding_matrix = np.zeros((len(word_index) + 1, EMBEDDING_DIM))\n",
    "  for word, i in word_index.items():\n",
    "      embedding_vector = embeddings_index.get(word)\n",
    "      if embedding_vector is not None:\n",
    "          embedding_matrix[i] = embedding_vector\n",
    "  return embedding_matrix,EMBEDDING_DIM"
   ]
  },
  {
   "cell_type": "code",
   "execution_count": null,
   "metadata": {
    "colab": {
     "base_uri": "https://localhost:8080/"
    },
    "id": "tWIbCSiz2E9E",
    "outputId": "69d3ba25-9755-4b24-f678-ed6222f80578"
   },
   "outputs": [
    {
     "name": "stdout",
     "output_type": "stream",
     "text": [
      "CPU times: user 17.1 s, sys: 958 ms, total: 18 s\n",
      "Wall time: 18 s\n"
     ]
    }
   ],
   "source": [
    "%%time\n",
    "glove,emd=embeddingWeights('glove',t.word_index)"
   ]
  },
  {
   "cell_type": "code",
   "execution_count": null,
   "metadata": {
    "colab": {
     "base_uri": "https://localhost:8080/"
    },
    "id": "1xqivBCV3xMi",
    "outputId": "55914831-b2e3-4786-f985-65726bc87891"
   },
   "outputs": [
    {
     "name": "stdout",
     "output_type": "stream",
     "text": [
      "CPU times: user 1min 5s, sys: 3.01 s, total: 1min 8s\n",
      "Wall time: 1min 8s\n"
     ]
    }
   ],
   "source": [
    "%%time\n",
    "fasttext,embd=embeddingWeights('fasttext',t.word_index)"
   ]
  },
  {
   "cell_type": "code",
   "execution_count": null,
   "metadata": {
    "id": "KusCR2XifqAH"
   },
   "outputs": [],
   "source": [
    "def makeLSTM(embedding,dropout,lr,units1,units2,usePretrained,embedding_matrix):\n",
    "    inpt = Input(shape = (300,))\n",
    "    if(not usePretrained):\n",
    "      embedding = Embedding(len(t.word_index) + 1,output_dim=embedding, input_length=300, mask_zero=True)(inpt)\n",
    "    else:\n",
    "      embedding = Embedding(len(t.word_index) + 1,output_dim=embedding, input_length=300, mask_zero=True,weights=[embedding_matrix],trainable=False)(inpt)\n",
    "\n",
    "    LSTM1=Bidirectional(LSTM(units=units1,return_sequences=True))(embedding)\n",
    "    drop=Dropout(rate=dropout)(LSTM1)\n",
    "    LSTM2=Bidirectional(LSTM(units=units2,return_sequences=False))(drop)\n",
    "    output=Dense(1, activation='sigmoid')(LSTM2)\n",
    "    model=Model(inpt,output)\n",
    "    model.compile(loss='binary_crossentropy', optimizer=RMSprop(lr=lr), metrics=['accuracy'])\n",
    "    model.fit(trainTextPadded,trainDf['Label'].values,validation_split=0.1,shuffle=True,batch_size=512,epochs=10,verbose=True)\n",
    "    return model"
   ]
  },
  {
   "cell_type": "markdown",
   "metadata": {
    "id": "EtKhxi-xPwEc"
   },
   "source": [
    "Now we use the params we found using optuna for lstm based models.\n",
    "\n",
    "{'dropout': 0.3706454194859867,\n",
    " 'embedding': 50,\n",
    " 'lr': 0.00016189924268387887,\n",
    " 'units1': 64,\n",
    " 'units2': 64}"
   ]
  },
  {
   "cell_type": "code",
   "execution_count": null,
   "metadata": {
    "colab": {
     "base_uri": "https://localhost:8080/"
    },
    "id": "4W8Hhsm3gdqW",
    "outputId": "b43bbaca-77ad-4c29-ee3e-a4d9c1caf473"
   },
   "outputs": [
    {
     "name": "stdout",
     "output_type": "stream",
     "text": [
      "Epoch 1/10\n",
      "44/44 [==============================] - 16s 370ms/step - loss: 0.6898 - accuracy: 0.5742 - val_loss: 0.6753 - val_accuracy: 0.6944\n",
      "Epoch 2/10\n",
      "44/44 [==============================] - 12s 283ms/step - loss: 0.5134 - accuracy: 0.7696 - val_loss: 0.4666 - val_accuracy: 0.7824\n",
      "Epoch 3/10\n",
      "44/44 [==============================] - 12s 283ms/step - loss: 0.3553 - accuracy: 0.8519 - val_loss: 0.4220 - val_accuracy: 0.8084\n",
      "Epoch 4/10\n",
      "44/44 [==============================] - 12s 283ms/step - loss: 0.2882 - accuracy: 0.8859 - val_loss: 0.3599 - val_accuracy: 0.8428\n",
      "Epoch 5/10\n",
      "44/44 [==============================] - 12s 282ms/step - loss: 0.2342 - accuracy: 0.9120 - val_loss: 0.3435 - val_accuracy: 0.8568\n",
      "Epoch 6/10\n",
      "44/44 [==============================] - 12s 284ms/step - loss: 0.1997 - accuracy: 0.9261 - val_loss: 0.3219 - val_accuracy: 0.8772\n",
      "Epoch 7/10\n",
      "44/44 [==============================] - 12s 284ms/step - loss: 0.1648 - accuracy: 0.9422 - val_loss: 0.3309 - val_accuracy: 0.8776\n",
      "Epoch 8/10\n",
      "44/44 [==============================] - 12s 283ms/step - loss: 0.1391 - accuracy: 0.9528 - val_loss: 0.3400 - val_accuracy: 0.8784\n",
      "Epoch 9/10\n",
      "44/44 [==============================] - 12s 283ms/step - loss: 0.1175 - accuracy: 0.9609 - val_loss: 0.4453 - val_accuracy: 0.8628\n",
      "Epoch 10/10\n",
      "44/44 [==============================] - 12s 283ms/step - loss: 0.0993 - accuracy: 0.9683 - val_loss: 0.3774 - val_accuracy: 0.8764\n"
     ]
    }
   ],
   "source": [
    "modelLSTM=makeLSTM(50,0.37,0.00016,64,64,False,None)"
   ]
  },
  {
   "cell_type": "code",
   "execution_count": null,
   "metadata": {
    "colab": {
     "base_uri": "https://localhost:8080/"
    },
    "id": "ZENC0H8Kgl7E",
    "outputId": "af1ab112-6065-40ce-db5e-99dcc0711839"
   },
   "outputs": [
    {
     "name": "stdout",
     "output_type": "stream",
     "text": [
      "782/782 [==============================] - 18s 22ms/step - loss: 0.4298 - accuracy: 0.8522\n"
     ]
    },
    {
     "data": {
      "text/plain": [
       "[0.42976242303848267, 0.8522400259971619]"
      ]
     },
     "execution_count": 76,
     "metadata": {
      "tags": []
     },
     "output_type": "execute_result"
    }
   ],
   "source": [
    "modelLSTM.evaluate(testTextPadded,testDf['Label'])"
   ]
  },
  {
   "cell_type": "code",
   "execution_count": null,
   "metadata": {
    "colab": {
     "base_uri": "https://localhost:8080/"
    },
    "id": "DmN5qpxLhM_7",
    "outputId": "33448aba-210e-49f8-d042-b3abad9350aa"
   },
   "outputs": [
    {
     "name": "stdout",
     "output_type": "stream",
     "text": [
      "Epoch 1/10\n",
      "44/44 [==============================] - 14s 317ms/step - loss: 0.6733 - accuracy: 0.5908 - val_loss: 0.6399 - val_accuracy: 0.6396\n",
      "Epoch 2/10\n",
      "44/44 [==============================] - 10s 236ms/step - loss: 0.5996 - accuracy: 0.6828 - val_loss: 0.5484 - val_accuracy: 0.7224\n",
      "Epoch 3/10\n",
      "44/44 [==============================] - 10s 235ms/step - loss: 0.5605 - accuracy: 0.7183 - val_loss: 0.5308 - val_accuracy: 0.7412\n",
      "Epoch 4/10\n",
      "44/44 [==============================] - 10s 236ms/step - loss: 0.5487 - accuracy: 0.7259 - val_loss: 0.5198 - val_accuracy: 0.7500\n",
      "Epoch 5/10\n",
      "44/44 [==============================] - 10s 236ms/step - loss: 0.5344 - accuracy: 0.7363 - val_loss: 0.5922 - val_accuracy: 0.6804\n",
      "Epoch 6/10\n",
      "44/44 [==============================] - 10s 236ms/step - loss: 0.5264 - accuracy: 0.7410 - val_loss: 0.5494 - val_accuracy: 0.7336\n",
      "Epoch 7/10\n",
      "44/44 [==============================] - 10s 236ms/step - loss: 0.5217 - accuracy: 0.7460 - val_loss: 0.5292 - val_accuracy: 0.7356\n",
      "Epoch 8/10\n",
      "44/44 [==============================] - 10s 236ms/step - loss: 0.5115 - accuracy: 0.7504 - val_loss: 0.5728 - val_accuracy: 0.7120\n",
      "Epoch 9/10\n",
      "44/44 [==============================] - 10s 235ms/step - loss: 0.5113 - accuracy: 0.7527 - val_loss: 0.4952 - val_accuracy: 0.7668\n",
      "Epoch 10/10\n",
      "44/44 [==============================] - 10s 236ms/step - loss: 0.5005 - accuracy: 0.7584 - val_loss: 0.4992 - val_accuracy: 0.7672\n"
     ]
    }
   ],
   "source": [
    "modelLSTMGlove=makeLSTM(50,0.37,0.00016,64,64,True,glove)"
   ]
  },
  {
   "cell_type": "code",
   "execution_count": null,
   "metadata": {
    "colab": {
     "base_uri": "https://localhost:8080/"
    },
    "id": "opo_uXpS3827",
    "outputId": "8655aa20-5d52-478a-e35d-fe58698f82fb"
   },
   "outputs": [
    {
     "name": "stdout",
     "output_type": "stream",
     "text": [
      "782/782 [==============================] - 18s 23ms/step - loss: 0.5002 - accuracy: 0.7660\n"
     ]
    },
    {
     "data": {
      "text/plain": [
       "[0.5001837015151978, 0.766040027141571]"
      ]
     },
     "execution_count": 77,
     "metadata": {
      "tags": []
     },
     "output_type": "execute_result"
    }
   ],
   "source": [
    "modelLSTMGlove.evaluate(testTextPadded,testDf['Label'])"
   ]
  },
  {
   "cell_type": "markdown",
   "metadata": {
    "id": "8i159TSgkaxc"
   },
   "source": [
    "Keeping all the parameters same as that of simple lstm(flexible embedding layers)vs glove embedding layer we see the drop in performance which is quite explainable by the fact that text used train glove is different from the text here (even tho its text from twitter). Moreover can also see that the model takes more time to fit (train accuracy) but this could improve with more epoch or using high dimensional embedding of glove. could also have more complicated achitechtures and more intensive hyperparameter search but for now due to resource contraint we limit ourselves."
   ]
  },
  {
   "cell_type": "markdown",
   "metadata": {
    "id": "IKL8qm6ZjzP3"
   },
   "source": [
    "Since the embedding size offered by fasttext is bigger it might be good idea to use more units of lstm."
   ]
  },
  {
   "cell_type": "code",
   "execution_count": null,
   "metadata": {
    "colab": {
     "base_uri": "https://localhost:8080/"
    },
    "id": "4jPxqBy63-x_",
    "outputId": "0e3ef2eb-a896-4452-b6b9-794c50f21650"
   },
   "outputs": [
    {
     "name": "stdout",
     "output_type": "stream",
     "text": [
      "Epoch 1/10\n",
      "44/44 [==============================] - 23s 517ms/step - loss: 0.6563 - accuracy: 0.6223 - val_loss: 0.7108 - val_accuracy: 0.5560\n",
      "Epoch 2/10\n",
      "44/44 [==============================] - 19s 439ms/step - loss: 0.5511 - accuracy: 0.7198 - val_loss: 0.4735 - val_accuracy: 0.7880\n",
      "Epoch 3/10\n",
      "44/44 [==============================] - 19s 438ms/step - loss: 0.4919 - accuracy: 0.7630 - val_loss: 0.4836 - val_accuracy: 0.7688\n",
      "Epoch 4/10\n",
      "44/44 [==============================] - 19s 437ms/step - loss: 0.4570 - accuracy: 0.7896 - val_loss: 0.5255 - val_accuracy: 0.7464\n",
      "Epoch 5/10\n",
      "44/44 [==============================] - 19s 438ms/step - loss: 0.4453 - accuracy: 0.7941 - val_loss: 0.5087 - val_accuracy: 0.7656\n",
      "Epoch 6/10\n",
      "44/44 [==============================] - 19s 437ms/step - loss: 0.4302 - accuracy: 0.8054 - val_loss: 0.4884 - val_accuracy: 0.7596\n",
      "Epoch 7/10\n",
      "44/44 [==============================] - 19s 436ms/step - loss: 0.4207 - accuracy: 0.8088 - val_loss: 0.4005 - val_accuracy: 0.8200\n",
      "Epoch 8/10\n",
      "44/44 [==============================] - 19s 438ms/step - loss: 0.4111 - accuracy: 0.8140 - val_loss: 0.3988 - val_accuracy: 0.8300\n",
      "Epoch 9/10\n",
      "44/44 [==============================] - 19s 438ms/step - loss: 0.3991 - accuracy: 0.8220 - val_loss: 0.3714 - val_accuracy: 0.8384\n",
      "Epoch 10/10\n",
      "44/44 [==============================] - 19s 437ms/step - loss: 0.3999 - accuracy: 0.8192 - val_loss: 0.3683 - val_accuracy: 0.8460\n"
     ]
    }
   ],
   "source": [
    "modelLSTMfasttext=makeLSTM(300,0.37,0.00016,128,64,True,fasttext)"
   ]
  },
  {
   "cell_type": "code",
   "execution_count": null,
   "metadata": {
    "colab": {
     "base_uri": "https://localhost:8080/"
    },
    "id": "mtldxrzC4Gbt",
    "outputId": "6af48c70-5236-47d8-e5ab-1fb9e793cdb2"
   },
   "outputs": [
    {
     "name": "stdout",
     "output_type": "stream",
     "text": [
      "782/782 [==============================] - 21s 27ms/step - loss: 0.3705 - accuracy: 0.8396\n"
     ]
    },
    {
     "data": {
      "text/plain": [
       "[0.37046363949775696, 0.8396000266075134]"
      ]
     },
     "execution_count": 79,
     "metadata": {
      "tags": []
     },
     "output_type": "execute_result"
    }
   ],
   "source": [
    "modelLSTMfasttext.evaluate(testTextPadded,testDf['Label'])"
   ]
  },
  {
   "cell_type": "markdown",
   "metadata": {
    "id": "17C-74ZNlp0q"
   },
   "source": [
    "Here we get reasonable accuracy but we had to use a slightly bigger model. But since its a bigger size vectors it can accomodate somehow. But we can see still wiki news contains corpus which is different from casual commenting on imdb by people."
   ]
  },
  {
   "cell_type": "markdown",
   "metadata": {
    "id": "-Y2CZcLZ_8jO"
   },
   "source": [
    "contrasting performance of deep learning models with bag of words (fits faster to data aswell) model its interesting to notice that maybe indivisual words might play more role in determing the sentiment as compared to the full sequential structure. but one cannot say that with full certainity since didnt train our models for long enough neither explored more trials of hyperparameters."
   ]
  },
  {
   "cell_type": "markdown",
   "metadata": {
    "id": "8qthd1AtmAfg"
   },
   "source": [
    "# BERT BASED"
   ]
  },
  {
   "cell_type": "markdown",
   "metadata": {
    "id": "8UmcixhbmDUr"
   },
   "source": [
    "So we try 2 variants of bert based models first by using distil bert from hugging face an then using ktrain to train the bigger bert."
   ]
  },
  {
   "cell_type": "code",
   "execution_count": null,
   "metadata": {
    "colab": {
     "base_uri": "https://localhost:8080/"
    },
    "id": "zNquVD9fIYN2",
    "outputId": "2448f5ce-788b-4810-d170-ab91a5fa0aad"
   },
   "outputs": [
    {
     "name": "stdout",
     "output_type": "stream",
     "text": [
      "Collecting transformers\n",
      "\u001b[?25l  Downloading https://files.pythonhosted.org/packages/99/84/7bc03215279f603125d844bf81c3fb3f2d50fe8e511546eb4897e4be2067/transformers-4.0.0-py3-none-any.whl (1.4MB)\n",
      "\u001b[K     |████████████████████████████████| 1.4MB 5.6MB/s \n",
      "\u001b[?25hCollecting sacremoses\n",
      "\u001b[?25l  Downloading https://files.pythonhosted.org/packages/7d/34/09d19aff26edcc8eb2a01bed8e98f13a1537005d31e95233fd48216eed10/sacremoses-0.0.43.tar.gz (883kB)\n",
      "\u001b[K     |████████████████████████████████| 890kB 19.9MB/s \n",
      "\u001b[?25hRequirement already satisfied: packaging in /usr/local/lib/python3.6/dist-packages (from transformers) (20.4)\n",
      "Collecting tokenizers==0.9.4\n",
      "\u001b[?25l  Downloading https://files.pythonhosted.org/packages/0f/1c/e789a8b12e28be5bc1ce2156cf87cb522b379be9cadc7ad8091a4cc107c4/tokenizers-0.9.4-cp36-cp36m-manylinux2010_x86_64.whl (2.9MB)\n",
      "\u001b[K     |████████████████████████████████| 2.9MB 28.2MB/s \n",
      "\u001b[?25hRequirement already satisfied: numpy in /usr/local/lib/python3.6/dist-packages (from transformers) (1.18.5)\n",
      "Requirement already satisfied: tqdm>=4.27 in /usr/local/lib/python3.6/dist-packages (from transformers) (4.41.1)\n",
      "Requirement already satisfied: regex!=2019.12.17 in /usr/local/lib/python3.6/dist-packages (from transformers) (2019.12.20)\n",
      "Requirement already satisfied: filelock in /usr/local/lib/python3.6/dist-packages (from transformers) (3.0.12)\n",
      "Requirement already satisfied: requests in /usr/local/lib/python3.6/dist-packages (from transformers) (2.23.0)\n",
      "Requirement already satisfied: dataclasses; python_version < \"3.7\" in /usr/local/lib/python3.6/dist-packages (from transformers) (0.8)\n",
      "Requirement already satisfied: six in /usr/local/lib/python3.6/dist-packages (from sacremoses->transformers) (1.15.0)\n",
      "Requirement already satisfied: click in /usr/local/lib/python3.6/dist-packages (from sacremoses->transformers) (7.1.2)\n",
      "Requirement already satisfied: joblib in /usr/local/lib/python3.6/dist-packages (from sacremoses->transformers) (0.17.0)\n",
      "Requirement already satisfied: pyparsing>=2.0.2 in /usr/local/lib/python3.6/dist-packages (from packaging->transformers) (2.4.7)\n",
      "Requirement already satisfied: idna<3,>=2.5 in /usr/local/lib/python3.6/dist-packages (from requests->transformers) (2.10)\n",
      "Requirement already satisfied: urllib3!=1.25.0,!=1.25.1,<1.26,>=1.21.1 in /usr/local/lib/python3.6/dist-packages (from requests->transformers) (1.24.3)\n",
      "Requirement already satisfied: certifi>=2017.4.17 in /usr/local/lib/python3.6/dist-packages (from requests->transformers) (2020.11.8)\n",
      "Requirement already satisfied: chardet<4,>=3.0.2 in /usr/local/lib/python3.6/dist-packages (from requests->transformers) (3.0.4)\n",
      "Building wheels for collected packages: sacremoses\n",
      "  Building wheel for sacremoses (setup.py) ... \u001b[?25l\u001b[?25hdone\n",
      "  Created wheel for sacremoses: filename=sacremoses-0.0.43-cp36-none-any.whl size=893257 sha256=a1ec9e5910bcec29fdd40a087b5167a0a7839887e10711dce208e8319dfc82e2\n",
      "  Stored in directory: /root/.cache/pip/wheels/29/3c/fd/7ce5c3f0666dab31a50123635e6fb5e19ceb42ce38d4e58f45\n",
      "Successfully built sacremoses\n",
      "Installing collected packages: sacremoses, tokenizers, transformers\n",
      "Successfully installed sacremoses-0.0.43 tokenizers-0.9.4 transformers-4.0.0\n"
     ]
    }
   ],
   "source": [
    "!pip install transformers"
   ]
  },
  {
   "cell_type": "code",
   "execution_count": null,
   "metadata": {
    "id": "q-bF7XhFE0pg"
   },
   "outputs": [],
   "source": [
    "from transformers import DistilBertTokenizerFast, TFDistilBertModel"
   ]
  },
  {
   "cell_type": "markdown",
   "metadata": {
    "id": "rfDRM_zh96T0"
   },
   "source": [
    "We almost used unprocessed data due to the nature of bert tokenizer and also we set do lower case to true which convert data to lower case since we use distilbert base uncased"
   ]
  },
  {
   "cell_type": "code",
   "execution_count": null,
   "metadata": {
    "colab": {
     "base_uri": "https://localhost:8080/",
     "height": 115,
     "referenced_widgets": [
      "bfb4a03700b94d9c829ece9d69424ad6",
      "bc3bdd4f85a1487ebfc79c6e3284a4a1",
      "35c7ce391b1b4e93b4fe2bf5fa0bcf37",
      "d5ccc534b007469a809a3a353d8a8841",
      "cd28866452154f8ca69314a81498220a",
      "b2fc6c4e317a4e22a86d6f7828e55156",
      "81d52ccf5609481c8f3009b1a72d3ab4",
      "110b4276cae944ab971edf5325fd4cca",
      "a9c8fde5abbc447286380380274e6651",
      "22534a55b7e545ae8e71b6d0cf0b11f6",
      "2c7f8d4de73f43e9a6a49258fdde1564",
      "47be298a1d9d4c5ab94516f0d3212872",
      "85a0f4d73a6b40f98772f0961802cd06",
      "aefd11f2a6064021abe18bcabc1aea8f",
      "192e47ef101f466caaf27f1746a2c220",
      "5937d7a3444b407ea4c111a151cc5b92"
     ]
    },
    "id": "l5lClOc4uXh1",
    "outputId": "bd1606c4-c7bf-4f17-c4c0-41e7926b3c24"
   },
   "outputs": [
    {
     "data": {
      "application/vnd.jupyter.widget-view+json": {
       "model_id": "bfb4a03700b94d9c829ece9d69424ad6",
       "version_major": 2,
       "version_minor": 0
      },
      "text/plain": [
       "HBox(children=(FloatProgress(value=0.0, description='Downloading', max=231508.0, style=ProgressStyle(descripti…"
      ]
     },
     "metadata": {
      "tags": []
     },
     "output_type": "display_data"
    },
    {
     "name": "stdout",
     "output_type": "stream",
     "text": [
      "\n"
     ]
    },
    {
     "data": {
      "application/vnd.jupyter.widget-view+json": {
       "model_id": "a9c8fde5abbc447286380380274e6651",
       "version_major": 2,
       "version_minor": 0
      },
      "text/plain": [
       "HBox(children=(FloatProgress(value=0.0, description='Downloading', max=466062.0, style=ProgressStyle(descripti…"
      ]
     },
     "metadata": {
      "tags": []
     },
     "output_type": "display_data"
    },
    {
     "name": "stdout",
     "output_type": "stream",
     "text": [
      "\n"
     ]
    }
   ],
   "source": [
    "tokenizer = DistilBertTokenizerFast.from_pretrained('distilbert-base-uncased', do_lower_case=True)"
   ]
  },
  {
   "cell_type": "code",
   "execution_count": null,
   "metadata": {
    "id": "6eS2ztyOMege"
   },
   "outputs": [],
   "source": [
    "from tqdm.notebook import tqdm"
   ]
  },
  {
   "cell_type": "code",
   "execution_count": null,
   "metadata": {
    "colab": {
     "base_uri": "https://localhost:8080/",
     "height": 220,
     "referenced_widgets": [
      "cd6ed3656a964fdab5812f384d02c96f",
      "66c00b2818954e2786fa52b1b3e74a0b",
      "3008dbf77e714373949b46ac1c674f9f",
      "d28330616d4e4540b2d8f38b5029cb3e",
      "66603ee28dd44237826a6a4d490ea4cf",
      "c068b3c0e10c4c4682dda3c59a2f5a12",
      "24a58800efe5498296f2e0380c459196",
      "7638a5aba4304735bca4d9caf4c4aa9b",
      "570f5ce436af4467be44a4b328668212",
      "b8226170403c4a3d9fbc464e315e529a",
      "8d9e19a22f8f4cd19a33ae7c94e64263",
      "50c8cbc8531f488db54343805d09b31c",
      "0a2936c4a15a429a9db203e1e618705a",
      "26434913a55c4bda95863b72bb03c6f4",
      "84360a46055a4bc081b61aa0597d27fb",
      "efb4f7c4533e48dd9cc9e42abefc490e"
     ]
    },
    "id": "W1SlPUt9aBcN",
    "outputId": "8abf9796-3ed2-409d-c921-82ed887fa842"
   },
   "outputs": [
    {
     "data": {
      "application/vnd.jupyter.widget-view+json": {
       "model_id": "cd6ed3656a964fdab5812f384d02c96f",
       "version_major": 2,
       "version_minor": 0
      },
      "text/plain": [
       "HBox(children=(FloatProgress(value=0.0, description='Downloading', max=442.0, style=ProgressStyle(description_…"
      ]
     },
     "metadata": {
      "tags": []
     },
     "output_type": "display_data"
    },
    {
     "name": "stdout",
     "output_type": "stream",
     "text": [
      "\n"
     ]
    },
    {
     "data": {
      "application/vnd.jupyter.widget-view+json": {
       "model_id": "570f5ce436af4467be44a4b328668212",
       "version_major": 2,
       "version_minor": 0
      },
      "text/plain": [
       "HBox(children=(FloatProgress(value=0.0, description='Downloading', max=363423424.0, style=ProgressStyle(descri…"
      ]
     },
     "metadata": {
      "tags": []
     },
     "output_type": "display_data"
    },
    {
     "name": "stdout",
     "output_type": "stream",
     "text": [
      "\n"
     ]
    },
    {
     "name": "stderr",
     "output_type": "stream",
     "text": [
      "Some layers from the model checkpoint at distilbert-base-uncased were not used when initializing TFDistilBertModel: ['vocab_projector', 'activation_13', 'vocab_transform', 'vocab_layer_norm']\n",
      "- This IS expected if you are initializing TFDistilBertModel from the checkpoint of a model trained on another task or with another architecture (e.g. initializing a BertForSequenceClassification model from a BertForPreTraining model).\n",
      "- This IS NOT expected if you are initializing TFDistilBertModel from the checkpoint of a model that you expect to be exactly identical (initializing a BertForSequenceClassification model from a BertForSequenceClassification model).\n",
      "All the layers of TFDistilBertModel were initialized from the model checkpoint at distilbert-base-uncased.\n",
      "If your task is similar to the task the model of the checkpoint was trained on, you can already use TFDistilBertModel for predictions without further training.\n"
     ]
    }
   ],
   "source": [
    "bert = TFDistilBertModel.from_pretrained('distilbert-base-uncased')"
   ]
  },
  {
   "cell_type": "code",
   "execution_count": null,
   "metadata": {
    "colab": {
     "base_uri": "https://localhost:8080/"
    },
    "id": "2-vZzOozFGH_",
    "outputId": "0f83c9b4-f439-446e-d1ad-35f22a52d013"
   },
   "outputs": [
    {
     "name": "stdout",
     "output_type": "stream",
     "text": [
      "Model: \"tf_distil_bert_model\"\n",
      "_________________________________________________________________\n",
      "Layer (type)                 Output Shape              Param #   \n",
      "=================================================================\n",
      "distilbert (TFDistilBertMain multiple                  66362880  \n",
      "=================================================================\n",
      "Total params: 66,362,880\n",
      "Trainable params: 66,362,880\n",
      "Non-trainable params: 0\n",
      "_________________________________________________________________\n"
     ]
    }
   ],
   "source": [
    "bert.summary()"
   ]
  },
  {
   "cell_type": "markdown",
   "metadata": {
    "id": "MDYZuDoGnewO"
   },
   "source": [
    "For tokenisation we use fast encoder batch for distil bert which works very fast and automatically adds special tokens and does padding and truncation according to the max length."
   ]
  },
  {
   "cell_type": "code",
   "execution_count": null,
   "metadata": {
    "id": "iZZ7DidFNQ4s"
   },
   "outputs": [],
   "source": [
    "import numpy as np"
   ]
  },
  {
   "cell_type": "code",
   "execution_count": null,
   "metadata": {
    "id": "ie9hYYqLGRvk"
   },
   "outputs": [],
   "source": [
    "def fast_encode(texts, tokenizer, chunk_size=256, maxlen=512):\n",
    "    all_ids = []\n",
    "    \n",
    "    for i in tqdm(range(0, len(texts), chunk_size)):\n",
    "        text_chunk = texts[i:i+chunk_size].tolist()\n",
    "        encs = tokenizer.batch_encode_plus(text_chunk,add_special_tokens=True,max_length=maxlen,padding=True,truncation=True)\n",
    "        all_ids.extend(np.asarray(encs['input_ids']))\n",
    "    return all_ids"
   ]
  },
  {
   "cell_type": "code",
   "execution_count": null,
   "metadata": {
    "colab": {
     "base_uri": "https://localhost:8080/",
     "height": 66,
     "referenced_widgets": [
      "c17adb97bc994ad18c7d7ddd4d5802df",
      "3e1e116560e64f70a47cde0f53a6422e",
      "a2ad2928a490410c92ef0672e8837e29",
      "1fad94ebb7d34d519b541460d0fc2cb2",
      "ae4b66e36f404d82b48690dfdc203651",
      "68d77352054f444687c719251f706c7f",
      "65ee33631bda4d579be3b5215ff13aff",
      "e526a70702ef4c4c9c67389891ba5309"
     ]
    },
    "id": "rBI5lUP_QawN",
    "outputId": "4c2bc7a2-4f76-435e-98c7-747125bab35b"
   },
   "outputs": [
    {
     "data": {
      "application/vnd.jupyter.widget-view+json": {
       "model_id": "c17adb97bc994ad18c7d7ddd4d5802df",
       "version_major": 2,
       "version_minor": 0
      },
      "text/plain": [
       "HBox(children=(FloatProgress(value=0.0, max=98.0), HTML(value='')))"
      ]
     },
     "metadata": {
      "tags": []
     },
     "output_type": "display_data"
    },
    {
     "name": "stdout",
     "output_type": "stream",
     "text": [
      "\n"
     ]
    }
   ],
   "source": [
    "x_train = fast_encode(trainDf['Text'].astype(str), tokenizer, maxlen=300)\n",
    "x_train=np.stack(x_train, axis=0)"
   ]
  },
  {
   "cell_type": "code",
   "execution_count": null,
   "metadata": {
    "colab": {
     "base_uri": "https://localhost:8080/",
     "height": 66,
     "referenced_widgets": [
      "9a991830d54c49cd8c930406342d1d03",
      "8de9d3eaeff448ffa2f15e853cf64884",
      "0ce0e1cd79a245f1b08a42f072ba7ccb",
      "5cbc808680924217a7fbd4a947984024",
      "d065e050632946c2848a7d2adc851dfd",
      "d5a6f36eb4e849bfb1ab700ae09e404e",
      "81bb9fa6e6964fe39cf77df8fca20343",
      "ad447e0b2b8545da8b7ce13ab655871e"
     ]
    },
    "id": "VUdI13ByWc8y",
    "outputId": "f3990410-120c-42d5-815b-fb18b3ba9a90"
   },
   "outputs": [
    {
     "data": {
      "application/vnd.jupyter.widget-view+json": {
       "model_id": "9a991830d54c49cd8c930406342d1d03",
       "version_major": 2,
       "version_minor": 0
      },
      "text/plain": [
       "HBox(children=(FloatProgress(value=0.0, max=98.0), HTML(value='')))"
      ]
     },
     "metadata": {
      "tags": []
     },
     "output_type": "display_data"
    },
    {
     "name": "stdout",
     "output_type": "stream",
     "text": [
      "\n"
     ]
    }
   ],
   "source": [
    "x_test = fast_encode(testDf['Text'].astype(str), tokenizer, maxlen=300)\n",
    "x_test=np.stack(x_test, axis=0)"
   ]
  },
  {
   "cell_type": "code",
   "execution_count": null,
   "metadata": {
    "id": "nTcvKnqcGWCO"
   },
   "outputs": [],
   "source": [
    "y_train = trainDf['Label'].values\n",
    "y_test = testDf['Label'].values"
   ]
  },
  {
   "cell_type": "code",
   "execution_count": null,
   "metadata": {
    "id": "ifBs46TWIU63"
   },
   "outputs": [],
   "source": [
    "from transformers import AdamWeightDecay,get_cosine_schedule_with_warmup"
   ]
  },
  {
   "cell_type": "code",
   "execution_count": null,
   "metadata": {
    "id": "F8rV9MyuE_V6"
   },
   "outputs": [],
   "source": [
    "def modelDBERT():\n",
    "    input = Input(shape=(300,),dtype='int32')\n",
    "    bert.trainable=True\n",
    "    bertOp = bert(input)[0]\n",
    "    cls_token = bertOp[:, 0, :]\n",
    "    dropout=Dropout(0.1)(cls_token)\n",
    "    dense1=Dense(128,activation='relu')(dropout)\n",
    "    out = Dense(1, activation='sigmoid')(dense1)\n",
    "    model = Model(inputs=input, outputs=out)\n",
    "    model.compile(Adam(lr=3e-5), loss='binary_crossentropy', metrics=['accuracy'])\n",
    "    \n",
    "    return model"
   ]
  },
  {
   "cell_type": "markdown",
   "metadata": {
    "id": "DZqTWH5ZnUeD"
   },
   "source": [
    "Here we just add a bit of dropout to somehow avoid overfiting and a dense layer to fine tune."
   ]
  },
  {
   "cell_type": "code",
   "execution_count": null,
   "metadata": {
    "id": "MnoBXApFGiqM"
   },
   "outputs": [],
   "source": [
    "modelbert=modelDBERT()"
   ]
  },
  {
   "cell_type": "code",
   "execution_count": null,
   "metadata": {
    "colab": {
     "base_uri": "https://localhost:8080/"
    },
    "id": "gqSkkrUEXsp5",
    "outputId": "db91d7a8-5873-45b2-abc6-d14477b8695a"
   },
   "outputs": [
    {
     "name": "stdout",
     "output_type": "stream",
     "text": [
      "Model: \"functional_5\"\n",
      "_________________________________________________________________\n",
      "Layer (type)                 Output Shape              Param #   \n",
      "=================================================================\n",
      "input_3 (InputLayer)         [(None, 300)]             0         \n",
      "_________________________________________________________________\n",
      "tf_distil_bert_model (TFDist multiple                  66362880  \n",
      "_________________________________________________________________\n",
      "tf_op_layer_strided_slice_2  [(None, 768)]             0         \n",
      "_________________________________________________________________\n",
      "dropout_21 (Dropout)         (None, 768)               0         \n",
      "_________________________________________________________________\n",
      "dense_4 (Dense)              (None, 128)               98432     \n",
      "_________________________________________________________________\n",
      "dense_5 (Dense)              (None, 1)                 129       \n",
      "=================================================================\n",
      "Total params: 66,461,441\n",
      "Trainable params: 66,461,441\n",
      "Non-trainable params: 0\n",
      "_________________________________________________________________\n"
     ]
    }
   ],
   "source": [
    "modelbert.summary()"
   ]
  },
  {
   "cell_type": "code",
   "execution_count": null,
   "metadata": {
    "colab": {
     "base_uri": "https://localhost:8080/"
    },
    "id": "xqOit8y7HTBq",
    "outputId": "55e254db-e51e-4430-d38c-6f4269d59a85"
   },
   "outputs": [
    {
     "name": "stdout",
     "output_type": "stream",
     "text": [
      "WARNING:tensorflow:Model was constructed with shape (None, 300) for input Tensor(\"input_3:0\", shape=(None, 300), dtype=int32), but it was called on an input with incompatible shape (None, 400).\n",
      "WARNING:tensorflow:Model was constructed with shape (None, 300) for input Tensor(\"input_3:0\", shape=(None, 300), dtype=int32), but it was called on an input with incompatible shape (None, 400).\n",
      "1407/1407 [==============================] - ETA: 0s - loss: 0.2798 - accuracy: 0.8800WARNING:tensorflow:Model was constructed with shape (None, 300) for input Tensor(\"input_3:0\", shape=(None, 300), dtype=int32), but it was called on an input with incompatible shape (None, 400).\n",
      "1407/1407 [==============================] - 587s 418ms/step - loss: 0.2798 - accuracy: 0.8800 - val_loss: 0.1992 - val_accuracy: 0.9228\n"
     ]
    },
    {
     "data": {
      "text/plain": [
       "<tensorflow.python.keras.callbacks.History at 0x7f1180c0efd0>"
      ]
     },
     "execution_count": 52,
     "metadata": {
      "tags": []
     },
     "output_type": "execute_result"
    }
   ],
   "source": [
    "modelbert.fit(x_train,y_train,validation_split=0.1,epochs=1,batch_size=16,verbose=1,shuffle=True)"
   ]
  },
  {
   "cell_type": "code",
   "execution_count": null,
   "metadata": {
    "colab": {
     "base_uri": "https://localhost:8080/"
    },
    "id": "36VLKrsN3JWf",
    "outputId": "025cf757-f916-4a92-a569-fdfa1d194c48"
   },
   "outputs": [
    {
     "name": "stdout",
     "output_type": "stream",
     "text": [
      "782/782 [==============================] - 196s 250ms/step - loss: 0.1960 - accuracy: 0.9227\n"
     ]
    },
    {
     "data": {
      "text/plain": [
       "[0.19601084291934967, 0.9226800203323364]"
      ]
     },
     "execution_count": 53,
     "metadata": {
      "tags": []
     },
     "output_type": "execute_result"
    }
   ],
   "source": [
    "modelbert.evaluate(x_test,y_test)"
   ]
  },
  {
   "cell_type": "markdown",
   "metadata": {
    "id": "hUQxcEygm4y5"
   },
   "source": [
    "Accuracy wise we get the best results for bert. But one thing which i noticed was that pure fine tuning (freezing the bert layer) and tuning extra added layers doesnt work very well. what works is we update the whole model with a small learning rate so that the weights of bert are not disturbed much"
   ]
  }
 ],
 "metadata": {
  "accelerator": "GPU",
  "colab": {
   "collapsed_sections": [],
   "name": "Copy_of_IMDB_with_multiple_models_handout (3).ipynb",
   "provenance": [],
   "toc_visible": true
  },
  "kernelspec": {
   "display_name": "Python 3",
   "language": "python",
   "name": "python3"
  },
  "language_info": {
   "codemirror_mode": {
    "name": "ipython",
    "version": 3
   },
   "file_extension": ".py",
   "mimetype": "text/x-python",
   "name": "python",
   "nbconvert_exporter": "python",
   "pygments_lexer": "ipython3",
   "version": "3.7.3"
  },
  "toc": {
   "base_numbering": 1,
   "nav_menu": {},
   "number_sections": true,
   "sideBar": true,
   "skip_h1_title": false,
   "title_cell": "Table of Contents",
   "title_sidebar": "Contents",
   "toc_cell": false,
   "toc_position": {},
   "toc_section_display": true,
   "toc_window_display": false
  },
  "varInspector": {
   "cols": {
    "lenName": 16,
    "lenType": 16,
    "lenVar": 40
   },
   "kernels_config": {
    "python": {
     "delete_cmd_postfix": "",
     "delete_cmd_prefix": "del ",
     "library": "var_list.py",
     "varRefreshCmd": "print(var_dic_list())"
    },
    "r": {
     "delete_cmd_postfix": ") ",
     "delete_cmd_prefix": "rm(",
     "library": "var_list.r",
     "varRefreshCmd": "cat(var_dic_list()) "
    }
   },
   "types_to_exclude": [
    "module",
    "function",
    "builtin_function_or_method",
    "instance",
    "_Feature"
   ],
   "window_display": false
  },
  "widgets": {
   "application/vnd.jupyter.widget-state+json": {
    "0a2936c4a15a429a9db203e1e618705a": {
     "model_module": "@jupyter-widgets/controls",
     "model_name": "ProgressStyleModel",
     "state": {
      "_model_module": "@jupyter-widgets/controls",
      "_model_module_version": "1.5.0",
      "_model_name": "ProgressStyleModel",
      "_view_count": null,
      "_view_module": "@jupyter-widgets/base",
      "_view_module_version": "1.2.0",
      "_view_name": "StyleView",
      "bar_color": null,
      "description_width": "initial"
     }
    },
    "0ce0e1cd79a245f1b08a42f072ba7ccb": {
     "model_module": "@jupyter-widgets/controls",
     "model_name": "FloatProgressModel",
     "state": {
      "_dom_classes": [],
      "_model_module": "@jupyter-widgets/controls",
      "_model_module_version": "1.5.0",
      "_model_name": "FloatProgressModel",
      "_view_count": null,
      "_view_module": "@jupyter-widgets/controls",
      "_view_module_version": "1.5.0",
      "_view_name": "ProgressView",
      "bar_style": "success",
      "description": "100%",
      "description_tooltip": null,
      "layout": "IPY_MODEL_d5a6f36eb4e849bfb1ab700ae09e404e",
      "max": 98,
      "min": 0,
      "orientation": "horizontal",
      "style": "IPY_MODEL_d065e050632946c2848a7d2adc851dfd",
      "value": 98
     }
    },
    "110b4276cae944ab971edf5325fd4cca": {
     "model_module": "@jupyter-widgets/base",
     "model_name": "LayoutModel",
     "state": {
      "_model_module": "@jupyter-widgets/base",
      "_model_module_version": "1.2.0",
      "_model_name": "LayoutModel",
      "_view_count": null,
      "_view_module": "@jupyter-widgets/base",
      "_view_module_version": "1.2.0",
      "_view_name": "LayoutView",
      "align_content": null,
      "align_items": null,
      "align_self": null,
      "border": null,
      "bottom": null,
      "display": null,
      "flex": null,
      "flex_flow": null,
      "grid_area": null,
      "grid_auto_columns": null,
      "grid_auto_flow": null,
      "grid_auto_rows": null,
      "grid_column": null,
      "grid_gap": null,
      "grid_row": null,
      "grid_template_areas": null,
      "grid_template_columns": null,
      "grid_template_rows": null,
      "height": null,
      "justify_content": null,
      "justify_items": null,
      "left": null,
      "margin": null,
      "max_height": null,
      "max_width": null,
      "min_height": null,
      "min_width": null,
      "object_fit": null,
      "object_position": null,
      "order": null,
      "overflow": null,
      "overflow_x": null,
      "overflow_y": null,
      "padding": null,
      "right": null,
      "top": null,
      "visibility": null,
      "width": null
     }
    },
    "192e47ef101f466caaf27f1746a2c220": {
     "model_module": "@jupyter-widgets/controls",
     "model_name": "DescriptionStyleModel",
     "state": {
      "_model_module": "@jupyter-widgets/controls",
      "_model_module_version": "1.5.0",
      "_model_name": "DescriptionStyleModel",
      "_view_count": null,
      "_view_module": "@jupyter-widgets/base",
      "_view_module_version": "1.2.0",
      "_view_name": "StyleView",
      "description_width": ""
     }
    },
    "1fad94ebb7d34d519b541460d0fc2cb2": {
     "model_module": "@jupyter-widgets/controls",
     "model_name": "HTMLModel",
     "state": {
      "_dom_classes": [],
      "_model_module": "@jupyter-widgets/controls",
      "_model_module_version": "1.5.0",
      "_model_name": "HTMLModel",
      "_view_count": null,
      "_view_module": "@jupyter-widgets/controls",
      "_view_module_version": "1.5.0",
      "_view_name": "HTMLView",
      "description": "",
      "description_tooltip": null,
      "layout": "IPY_MODEL_e526a70702ef4c4c9c67389891ba5309",
      "placeholder": "​",
      "style": "IPY_MODEL_65ee33631bda4d579be3b5215ff13aff",
      "value": " 98/98 [00:39&lt;00:00,  2.46it/s]"
     }
    },
    "22534a55b7e545ae8e71b6d0cf0b11f6": {
     "model_module": "@jupyter-widgets/base",
     "model_name": "LayoutModel",
     "state": {
      "_model_module": "@jupyter-widgets/base",
      "_model_module_version": "1.2.0",
      "_model_name": "LayoutModel",
      "_view_count": null,
      "_view_module": "@jupyter-widgets/base",
      "_view_module_version": "1.2.0",
      "_view_name": "LayoutView",
      "align_content": null,
      "align_items": null,
      "align_self": null,
      "border": null,
      "bottom": null,
      "display": null,
      "flex": null,
      "flex_flow": null,
      "grid_area": null,
      "grid_auto_columns": null,
      "grid_auto_flow": null,
      "grid_auto_rows": null,
      "grid_column": null,
      "grid_gap": null,
      "grid_row": null,
      "grid_template_areas": null,
      "grid_template_columns": null,
      "grid_template_rows": null,
      "height": null,
      "justify_content": null,
      "justify_items": null,
      "left": null,
      "margin": null,
      "max_height": null,
      "max_width": null,
      "min_height": null,
      "min_width": null,
      "object_fit": null,
      "object_position": null,
      "order": null,
      "overflow": null,
      "overflow_x": null,
      "overflow_y": null,
      "padding": null,
      "right": null,
      "top": null,
      "visibility": null,
      "width": null
     }
    },
    "24a58800efe5498296f2e0380c459196": {
     "model_module": "@jupyter-widgets/controls",
     "model_name": "DescriptionStyleModel",
     "state": {
      "_model_module": "@jupyter-widgets/controls",
      "_model_module_version": "1.5.0",
      "_model_name": "DescriptionStyleModel",
      "_view_count": null,
      "_view_module": "@jupyter-widgets/base",
      "_view_module_version": "1.2.0",
      "_view_name": "StyleView",
      "description_width": ""
     }
    },
    "26434913a55c4bda95863b72bb03c6f4": {
     "model_module": "@jupyter-widgets/base",
     "model_name": "LayoutModel",
     "state": {
      "_model_module": "@jupyter-widgets/base",
      "_model_module_version": "1.2.0",
      "_model_name": "LayoutModel",
      "_view_count": null,
      "_view_module": "@jupyter-widgets/base",
      "_view_module_version": "1.2.0",
      "_view_name": "LayoutView",
      "align_content": null,
      "align_items": null,
      "align_self": null,
      "border": null,
      "bottom": null,
      "display": null,
      "flex": null,
      "flex_flow": null,
      "grid_area": null,
      "grid_auto_columns": null,
      "grid_auto_flow": null,
      "grid_auto_rows": null,
      "grid_column": null,
      "grid_gap": null,
      "grid_row": null,
      "grid_template_areas": null,
      "grid_template_columns": null,
      "grid_template_rows": null,
      "height": null,
      "justify_content": null,
      "justify_items": null,
      "left": null,
      "margin": null,
      "max_height": null,
      "max_width": null,
      "min_height": null,
      "min_width": null,
      "object_fit": null,
      "object_position": null,
      "order": null,
      "overflow": null,
      "overflow_x": null,
      "overflow_y": null,
      "padding": null,
      "right": null,
      "top": null,
      "visibility": null,
      "width": null
     }
    },
    "2c7f8d4de73f43e9a6a49258fdde1564": {
     "model_module": "@jupyter-widgets/controls",
     "model_name": "FloatProgressModel",
     "state": {
      "_dom_classes": [],
      "_model_module": "@jupyter-widgets/controls",
      "_model_module_version": "1.5.0",
      "_model_name": "FloatProgressModel",
      "_view_count": null,
      "_view_module": "@jupyter-widgets/controls",
      "_view_module_version": "1.5.0",
      "_view_name": "ProgressView",
      "bar_style": "success",
      "description": "Downloading: 100%",
      "description_tooltip": null,
      "layout": "IPY_MODEL_aefd11f2a6064021abe18bcabc1aea8f",
      "max": 466062,
      "min": 0,
      "orientation": "horizontal",
      "style": "IPY_MODEL_85a0f4d73a6b40f98772f0961802cd06",
      "value": 466062
     }
    },
    "3008dbf77e714373949b46ac1c674f9f": {
     "model_module": "@jupyter-widgets/controls",
     "model_name": "FloatProgressModel",
     "state": {
      "_dom_classes": [],
      "_model_module": "@jupyter-widgets/controls",
      "_model_module_version": "1.5.0",
      "_model_name": "FloatProgressModel",
      "_view_count": null,
      "_view_module": "@jupyter-widgets/controls",
      "_view_module_version": "1.5.0",
      "_view_name": "ProgressView",
      "bar_style": "success",
      "description": "Downloading: 100%",
      "description_tooltip": null,
      "layout": "IPY_MODEL_c068b3c0e10c4c4682dda3c59a2f5a12",
      "max": 442,
      "min": 0,
      "orientation": "horizontal",
      "style": "IPY_MODEL_66603ee28dd44237826a6a4d490ea4cf",
      "value": 442
     }
    },
    "35c7ce391b1b4e93b4fe2bf5fa0bcf37": {
     "model_module": "@jupyter-widgets/controls",
     "model_name": "FloatProgressModel",
     "state": {
      "_dom_classes": [],
      "_model_module": "@jupyter-widgets/controls",
      "_model_module_version": "1.5.0",
      "_model_name": "FloatProgressModel",
      "_view_count": null,
      "_view_module": "@jupyter-widgets/controls",
      "_view_module_version": "1.5.0",
      "_view_name": "ProgressView",
      "bar_style": "success",
      "description": "Downloading: 100%",
      "description_tooltip": null,
      "layout": "IPY_MODEL_b2fc6c4e317a4e22a86d6f7828e55156",
      "max": 231508,
      "min": 0,
      "orientation": "horizontal",
      "style": "IPY_MODEL_cd28866452154f8ca69314a81498220a",
      "value": 231508
     }
    },
    "3e1e116560e64f70a47cde0f53a6422e": {
     "model_module": "@jupyter-widgets/base",
     "model_name": "LayoutModel",
     "state": {
      "_model_module": "@jupyter-widgets/base",
      "_model_module_version": "1.2.0",
      "_model_name": "LayoutModel",
      "_view_count": null,
      "_view_module": "@jupyter-widgets/base",
      "_view_module_version": "1.2.0",
      "_view_name": "LayoutView",
      "align_content": null,
      "align_items": null,
      "align_self": null,
      "border": null,
      "bottom": null,
      "display": null,
      "flex": null,
      "flex_flow": null,
      "grid_area": null,
      "grid_auto_columns": null,
      "grid_auto_flow": null,
      "grid_auto_rows": null,
      "grid_column": null,
      "grid_gap": null,
      "grid_row": null,
      "grid_template_areas": null,
      "grid_template_columns": null,
      "grid_template_rows": null,
      "height": null,
      "justify_content": null,
      "justify_items": null,
      "left": null,
      "margin": null,
      "max_height": null,
      "max_width": null,
      "min_height": null,
      "min_width": null,
      "object_fit": null,
      "object_position": null,
      "order": null,
      "overflow": null,
      "overflow_x": null,
      "overflow_y": null,
      "padding": null,
      "right": null,
      "top": null,
      "visibility": null,
      "width": null
     }
    },
    "47be298a1d9d4c5ab94516f0d3212872": {
     "model_module": "@jupyter-widgets/controls",
     "model_name": "HTMLModel",
     "state": {
      "_dom_classes": [],
      "_model_module": "@jupyter-widgets/controls",
      "_model_module_version": "1.5.0",
      "_model_name": "HTMLModel",
      "_view_count": null,
      "_view_module": "@jupyter-widgets/controls",
      "_view_module_version": "1.5.0",
      "_view_name": "HTMLView",
      "description": "",
      "description_tooltip": null,
      "layout": "IPY_MODEL_5937d7a3444b407ea4c111a151cc5b92",
      "placeholder": "​",
      "style": "IPY_MODEL_192e47ef101f466caaf27f1746a2c220",
      "value": " 466k/466k [00:05&lt;00:00, 83.7kB/s]"
     }
    },
    "50c8cbc8531f488db54343805d09b31c": {
     "model_module": "@jupyter-widgets/controls",
     "model_name": "HTMLModel",
     "state": {
      "_dom_classes": [],
      "_model_module": "@jupyter-widgets/controls",
      "_model_module_version": "1.5.0",
      "_model_name": "HTMLModel",
      "_view_count": null,
      "_view_module": "@jupyter-widgets/controls",
      "_view_module_version": "1.5.0",
      "_view_name": "HTMLView",
      "description": "",
      "description_tooltip": null,
      "layout": "IPY_MODEL_efb4f7c4533e48dd9cc9e42abefc490e",
      "placeholder": "​",
      "style": "IPY_MODEL_84360a46055a4bc081b61aa0597d27fb",
      "value": " 363M/363M [00:06&lt;00:00, 55.6MB/s]"
     }
    },
    "570f5ce436af4467be44a4b328668212": {
     "model_module": "@jupyter-widgets/controls",
     "model_name": "HBoxModel",
     "state": {
      "_dom_classes": [],
      "_model_module": "@jupyter-widgets/controls",
      "_model_module_version": "1.5.0",
      "_model_name": "HBoxModel",
      "_view_count": null,
      "_view_module": "@jupyter-widgets/controls",
      "_view_module_version": "1.5.0",
      "_view_name": "HBoxView",
      "box_style": "",
      "children": [
       "IPY_MODEL_8d9e19a22f8f4cd19a33ae7c94e64263",
       "IPY_MODEL_50c8cbc8531f488db54343805d09b31c"
      ],
      "layout": "IPY_MODEL_b8226170403c4a3d9fbc464e315e529a"
     }
    },
    "5937d7a3444b407ea4c111a151cc5b92": {
     "model_module": "@jupyter-widgets/base",
     "model_name": "LayoutModel",
     "state": {
      "_model_module": "@jupyter-widgets/base",
      "_model_module_version": "1.2.0",
      "_model_name": "LayoutModel",
      "_view_count": null,
      "_view_module": "@jupyter-widgets/base",
      "_view_module_version": "1.2.0",
      "_view_name": "LayoutView",
      "align_content": null,
      "align_items": null,
      "align_self": null,
      "border": null,
      "bottom": null,
      "display": null,
      "flex": null,
      "flex_flow": null,
      "grid_area": null,
      "grid_auto_columns": null,
      "grid_auto_flow": null,
      "grid_auto_rows": null,
      "grid_column": null,
      "grid_gap": null,
      "grid_row": null,
      "grid_template_areas": null,
      "grid_template_columns": null,
      "grid_template_rows": null,
      "height": null,
      "justify_content": null,
      "justify_items": null,
      "left": null,
      "margin": null,
      "max_height": null,
      "max_width": null,
      "min_height": null,
      "min_width": null,
      "object_fit": null,
      "object_position": null,
      "order": null,
      "overflow": null,
      "overflow_x": null,
      "overflow_y": null,
      "padding": null,
      "right": null,
      "top": null,
      "visibility": null,
      "width": null
     }
    },
    "5cbc808680924217a7fbd4a947984024": {
     "model_module": "@jupyter-widgets/controls",
     "model_name": "HTMLModel",
     "state": {
      "_dom_classes": [],
      "_model_module": "@jupyter-widgets/controls",
      "_model_module_version": "1.5.0",
      "_model_name": "HTMLModel",
      "_view_count": null,
      "_view_module": "@jupyter-widgets/controls",
      "_view_module_version": "1.5.0",
      "_view_name": "HTMLView",
      "description": "",
      "description_tooltip": null,
      "layout": "IPY_MODEL_ad447e0b2b8545da8b7ce13ab655871e",
      "placeholder": "​",
      "style": "IPY_MODEL_81bb9fa6e6964fe39cf77df8fca20343",
      "value": " 98/98 [00:22&lt;00:00,  4.33it/s]"
     }
    },
    "65ee33631bda4d579be3b5215ff13aff": {
     "model_module": "@jupyter-widgets/controls",
     "model_name": "DescriptionStyleModel",
     "state": {
      "_model_module": "@jupyter-widgets/controls",
      "_model_module_version": "1.5.0",
      "_model_name": "DescriptionStyleModel",
      "_view_count": null,
      "_view_module": "@jupyter-widgets/base",
      "_view_module_version": "1.2.0",
      "_view_name": "StyleView",
      "description_width": ""
     }
    },
    "66603ee28dd44237826a6a4d490ea4cf": {
     "model_module": "@jupyter-widgets/controls",
     "model_name": "ProgressStyleModel",
     "state": {
      "_model_module": "@jupyter-widgets/controls",
      "_model_module_version": "1.5.0",
      "_model_name": "ProgressStyleModel",
      "_view_count": null,
      "_view_module": "@jupyter-widgets/base",
      "_view_module_version": "1.2.0",
      "_view_name": "StyleView",
      "bar_color": null,
      "description_width": "initial"
     }
    },
    "66c00b2818954e2786fa52b1b3e74a0b": {
     "model_module": "@jupyter-widgets/base",
     "model_name": "LayoutModel",
     "state": {
      "_model_module": "@jupyter-widgets/base",
      "_model_module_version": "1.2.0",
      "_model_name": "LayoutModel",
      "_view_count": null,
      "_view_module": "@jupyter-widgets/base",
      "_view_module_version": "1.2.0",
      "_view_name": "LayoutView",
      "align_content": null,
      "align_items": null,
      "align_self": null,
      "border": null,
      "bottom": null,
      "display": null,
      "flex": null,
      "flex_flow": null,
      "grid_area": null,
      "grid_auto_columns": null,
      "grid_auto_flow": null,
      "grid_auto_rows": null,
      "grid_column": null,
      "grid_gap": null,
      "grid_row": null,
      "grid_template_areas": null,
      "grid_template_columns": null,
      "grid_template_rows": null,
      "height": null,
      "justify_content": null,
      "justify_items": null,
      "left": null,
      "margin": null,
      "max_height": null,
      "max_width": null,
      "min_height": null,
      "min_width": null,
      "object_fit": null,
      "object_position": null,
      "order": null,
      "overflow": null,
      "overflow_x": null,
      "overflow_y": null,
      "padding": null,
      "right": null,
      "top": null,
      "visibility": null,
      "width": null
     }
    },
    "68d77352054f444687c719251f706c7f": {
     "model_module": "@jupyter-widgets/base",
     "model_name": "LayoutModel",
     "state": {
      "_model_module": "@jupyter-widgets/base",
      "_model_module_version": "1.2.0",
      "_model_name": "LayoutModel",
      "_view_count": null,
      "_view_module": "@jupyter-widgets/base",
      "_view_module_version": "1.2.0",
      "_view_name": "LayoutView",
      "align_content": null,
      "align_items": null,
      "align_self": null,
      "border": null,
      "bottom": null,
      "display": null,
      "flex": null,
      "flex_flow": null,
      "grid_area": null,
      "grid_auto_columns": null,
      "grid_auto_flow": null,
      "grid_auto_rows": null,
      "grid_column": null,
      "grid_gap": null,
      "grid_row": null,
      "grid_template_areas": null,
      "grid_template_columns": null,
      "grid_template_rows": null,
      "height": null,
      "justify_content": null,
      "justify_items": null,
      "left": null,
      "margin": null,
      "max_height": null,
      "max_width": null,
      "min_height": null,
      "min_width": null,
      "object_fit": null,
      "object_position": null,
      "order": null,
      "overflow": null,
      "overflow_x": null,
      "overflow_y": null,
      "padding": null,
      "right": null,
      "top": null,
      "visibility": null,
      "width": null
     }
    },
    "7638a5aba4304735bca4d9caf4c4aa9b": {
     "model_module": "@jupyter-widgets/base",
     "model_name": "LayoutModel",
     "state": {
      "_model_module": "@jupyter-widgets/base",
      "_model_module_version": "1.2.0",
      "_model_name": "LayoutModel",
      "_view_count": null,
      "_view_module": "@jupyter-widgets/base",
      "_view_module_version": "1.2.0",
      "_view_name": "LayoutView",
      "align_content": null,
      "align_items": null,
      "align_self": null,
      "border": null,
      "bottom": null,
      "display": null,
      "flex": null,
      "flex_flow": null,
      "grid_area": null,
      "grid_auto_columns": null,
      "grid_auto_flow": null,
      "grid_auto_rows": null,
      "grid_column": null,
      "grid_gap": null,
      "grid_row": null,
      "grid_template_areas": null,
      "grid_template_columns": null,
      "grid_template_rows": null,
      "height": null,
      "justify_content": null,
      "justify_items": null,
      "left": null,
      "margin": null,
      "max_height": null,
      "max_width": null,
      "min_height": null,
      "min_width": null,
      "object_fit": null,
      "object_position": null,
      "order": null,
      "overflow": null,
      "overflow_x": null,
      "overflow_y": null,
      "padding": null,
      "right": null,
      "top": null,
      "visibility": null,
      "width": null
     }
    },
    "81bb9fa6e6964fe39cf77df8fca20343": {
     "model_module": "@jupyter-widgets/controls",
     "model_name": "DescriptionStyleModel",
     "state": {
      "_model_module": "@jupyter-widgets/controls",
      "_model_module_version": "1.5.0",
      "_model_name": "DescriptionStyleModel",
      "_view_count": null,
      "_view_module": "@jupyter-widgets/base",
      "_view_module_version": "1.2.0",
      "_view_name": "StyleView",
      "description_width": ""
     }
    },
    "81d52ccf5609481c8f3009b1a72d3ab4": {
     "model_module": "@jupyter-widgets/controls",
     "model_name": "DescriptionStyleModel",
     "state": {
      "_model_module": "@jupyter-widgets/controls",
      "_model_module_version": "1.5.0",
      "_model_name": "DescriptionStyleModel",
      "_view_count": null,
      "_view_module": "@jupyter-widgets/base",
      "_view_module_version": "1.2.0",
      "_view_name": "StyleView",
      "description_width": ""
     }
    },
    "84360a46055a4bc081b61aa0597d27fb": {
     "model_module": "@jupyter-widgets/controls",
     "model_name": "DescriptionStyleModel",
     "state": {
      "_model_module": "@jupyter-widgets/controls",
      "_model_module_version": "1.5.0",
      "_model_name": "DescriptionStyleModel",
      "_view_count": null,
      "_view_module": "@jupyter-widgets/base",
      "_view_module_version": "1.2.0",
      "_view_name": "StyleView",
      "description_width": ""
     }
    },
    "85a0f4d73a6b40f98772f0961802cd06": {
     "model_module": "@jupyter-widgets/controls",
     "model_name": "ProgressStyleModel",
     "state": {
      "_model_module": "@jupyter-widgets/controls",
      "_model_module_version": "1.5.0",
      "_model_name": "ProgressStyleModel",
      "_view_count": null,
      "_view_module": "@jupyter-widgets/base",
      "_view_module_version": "1.2.0",
      "_view_name": "StyleView",
      "bar_color": null,
      "description_width": "initial"
     }
    },
    "8d9e19a22f8f4cd19a33ae7c94e64263": {
     "model_module": "@jupyter-widgets/controls",
     "model_name": "FloatProgressModel",
     "state": {
      "_dom_classes": [],
      "_model_module": "@jupyter-widgets/controls",
      "_model_module_version": "1.5.0",
      "_model_name": "FloatProgressModel",
      "_view_count": null,
      "_view_module": "@jupyter-widgets/controls",
      "_view_module_version": "1.5.0",
      "_view_name": "ProgressView",
      "bar_style": "success",
      "description": "Downloading: 100%",
      "description_tooltip": null,
      "layout": "IPY_MODEL_26434913a55c4bda95863b72bb03c6f4",
      "max": 363423424,
      "min": 0,
      "orientation": "horizontal",
      "style": "IPY_MODEL_0a2936c4a15a429a9db203e1e618705a",
      "value": 363423424
     }
    },
    "8de9d3eaeff448ffa2f15e853cf64884": {
     "model_module": "@jupyter-widgets/base",
     "model_name": "LayoutModel",
     "state": {
      "_model_module": "@jupyter-widgets/base",
      "_model_module_version": "1.2.0",
      "_model_name": "LayoutModel",
      "_view_count": null,
      "_view_module": "@jupyter-widgets/base",
      "_view_module_version": "1.2.0",
      "_view_name": "LayoutView",
      "align_content": null,
      "align_items": null,
      "align_self": null,
      "border": null,
      "bottom": null,
      "display": null,
      "flex": null,
      "flex_flow": null,
      "grid_area": null,
      "grid_auto_columns": null,
      "grid_auto_flow": null,
      "grid_auto_rows": null,
      "grid_column": null,
      "grid_gap": null,
      "grid_row": null,
      "grid_template_areas": null,
      "grid_template_columns": null,
      "grid_template_rows": null,
      "height": null,
      "justify_content": null,
      "justify_items": null,
      "left": null,
      "margin": null,
      "max_height": null,
      "max_width": null,
      "min_height": null,
      "min_width": null,
      "object_fit": null,
      "object_position": null,
      "order": null,
      "overflow": null,
      "overflow_x": null,
      "overflow_y": null,
      "padding": null,
      "right": null,
      "top": null,
      "visibility": null,
      "width": null
     }
    },
    "9a991830d54c49cd8c930406342d1d03": {
     "model_module": "@jupyter-widgets/controls",
     "model_name": "HBoxModel",
     "state": {
      "_dom_classes": [],
      "_model_module": "@jupyter-widgets/controls",
      "_model_module_version": "1.5.0",
      "_model_name": "HBoxModel",
      "_view_count": null,
      "_view_module": "@jupyter-widgets/controls",
      "_view_module_version": "1.5.0",
      "_view_name": "HBoxView",
      "box_style": "",
      "children": [
       "IPY_MODEL_0ce0e1cd79a245f1b08a42f072ba7ccb",
       "IPY_MODEL_5cbc808680924217a7fbd4a947984024"
      ],
      "layout": "IPY_MODEL_8de9d3eaeff448ffa2f15e853cf64884"
     }
    },
    "a2ad2928a490410c92ef0672e8837e29": {
     "model_module": "@jupyter-widgets/controls",
     "model_name": "FloatProgressModel",
     "state": {
      "_dom_classes": [],
      "_model_module": "@jupyter-widgets/controls",
      "_model_module_version": "1.5.0",
      "_model_name": "FloatProgressModel",
      "_view_count": null,
      "_view_module": "@jupyter-widgets/controls",
      "_view_module_version": "1.5.0",
      "_view_name": "ProgressView",
      "bar_style": "success",
      "description": "100%",
      "description_tooltip": null,
      "layout": "IPY_MODEL_68d77352054f444687c719251f706c7f",
      "max": 98,
      "min": 0,
      "orientation": "horizontal",
      "style": "IPY_MODEL_ae4b66e36f404d82b48690dfdc203651",
      "value": 98
     }
    },
    "a9c8fde5abbc447286380380274e6651": {
     "model_module": "@jupyter-widgets/controls",
     "model_name": "HBoxModel",
     "state": {
      "_dom_classes": [],
      "_model_module": "@jupyter-widgets/controls",
      "_model_module_version": "1.5.0",
      "_model_name": "HBoxModel",
      "_view_count": null,
      "_view_module": "@jupyter-widgets/controls",
      "_view_module_version": "1.5.0",
      "_view_name": "HBoxView",
      "box_style": "",
      "children": [
       "IPY_MODEL_2c7f8d4de73f43e9a6a49258fdde1564",
       "IPY_MODEL_47be298a1d9d4c5ab94516f0d3212872"
      ],
      "layout": "IPY_MODEL_22534a55b7e545ae8e71b6d0cf0b11f6"
     }
    },
    "ad447e0b2b8545da8b7ce13ab655871e": {
     "model_module": "@jupyter-widgets/base",
     "model_name": "LayoutModel",
     "state": {
      "_model_module": "@jupyter-widgets/base",
      "_model_module_version": "1.2.0",
      "_model_name": "LayoutModel",
      "_view_count": null,
      "_view_module": "@jupyter-widgets/base",
      "_view_module_version": "1.2.0",
      "_view_name": "LayoutView",
      "align_content": null,
      "align_items": null,
      "align_self": null,
      "border": null,
      "bottom": null,
      "display": null,
      "flex": null,
      "flex_flow": null,
      "grid_area": null,
      "grid_auto_columns": null,
      "grid_auto_flow": null,
      "grid_auto_rows": null,
      "grid_column": null,
      "grid_gap": null,
      "grid_row": null,
      "grid_template_areas": null,
      "grid_template_columns": null,
      "grid_template_rows": null,
      "height": null,
      "justify_content": null,
      "justify_items": null,
      "left": null,
      "margin": null,
      "max_height": null,
      "max_width": null,
      "min_height": null,
      "min_width": null,
      "object_fit": null,
      "object_position": null,
      "order": null,
      "overflow": null,
      "overflow_x": null,
      "overflow_y": null,
      "padding": null,
      "right": null,
      "top": null,
      "visibility": null,
      "width": null
     }
    },
    "ae4b66e36f404d82b48690dfdc203651": {
     "model_module": "@jupyter-widgets/controls",
     "model_name": "ProgressStyleModel",
     "state": {
      "_model_module": "@jupyter-widgets/controls",
      "_model_module_version": "1.5.0",
      "_model_name": "ProgressStyleModel",
      "_view_count": null,
      "_view_module": "@jupyter-widgets/base",
      "_view_module_version": "1.2.0",
      "_view_name": "StyleView",
      "bar_color": null,
      "description_width": "initial"
     }
    },
    "aefd11f2a6064021abe18bcabc1aea8f": {
     "model_module": "@jupyter-widgets/base",
     "model_name": "LayoutModel",
     "state": {
      "_model_module": "@jupyter-widgets/base",
      "_model_module_version": "1.2.0",
      "_model_name": "LayoutModel",
      "_view_count": null,
      "_view_module": "@jupyter-widgets/base",
      "_view_module_version": "1.2.0",
      "_view_name": "LayoutView",
      "align_content": null,
      "align_items": null,
      "align_self": null,
      "border": null,
      "bottom": null,
      "display": null,
      "flex": null,
      "flex_flow": null,
      "grid_area": null,
      "grid_auto_columns": null,
      "grid_auto_flow": null,
      "grid_auto_rows": null,
      "grid_column": null,
      "grid_gap": null,
      "grid_row": null,
      "grid_template_areas": null,
      "grid_template_columns": null,
      "grid_template_rows": null,
      "height": null,
      "justify_content": null,
      "justify_items": null,
      "left": null,
      "margin": null,
      "max_height": null,
      "max_width": null,
      "min_height": null,
      "min_width": null,
      "object_fit": null,
      "object_position": null,
      "order": null,
      "overflow": null,
      "overflow_x": null,
      "overflow_y": null,
      "padding": null,
      "right": null,
      "top": null,
      "visibility": null,
      "width": null
     }
    },
    "b2fc6c4e317a4e22a86d6f7828e55156": {
     "model_module": "@jupyter-widgets/base",
     "model_name": "LayoutModel",
     "state": {
      "_model_module": "@jupyter-widgets/base",
      "_model_module_version": "1.2.0",
      "_model_name": "LayoutModel",
      "_view_count": null,
      "_view_module": "@jupyter-widgets/base",
      "_view_module_version": "1.2.0",
      "_view_name": "LayoutView",
      "align_content": null,
      "align_items": null,
      "align_self": null,
      "border": null,
      "bottom": null,
      "display": null,
      "flex": null,
      "flex_flow": null,
      "grid_area": null,
      "grid_auto_columns": null,
      "grid_auto_flow": null,
      "grid_auto_rows": null,
      "grid_column": null,
      "grid_gap": null,
      "grid_row": null,
      "grid_template_areas": null,
      "grid_template_columns": null,
      "grid_template_rows": null,
      "height": null,
      "justify_content": null,
      "justify_items": null,
      "left": null,
      "margin": null,
      "max_height": null,
      "max_width": null,
      "min_height": null,
      "min_width": null,
      "object_fit": null,
      "object_position": null,
      "order": null,
      "overflow": null,
      "overflow_x": null,
      "overflow_y": null,
      "padding": null,
      "right": null,
      "top": null,
      "visibility": null,
      "width": null
     }
    },
    "b8226170403c4a3d9fbc464e315e529a": {
     "model_module": "@jupyter-widgets/base",
     "model_name": "LayoutModel",
     "state": {
      "_model_module": "@jupyter-widgets/base",
      "_model_module_version": "1.2.0",
      "_model_name": "LayoutModel",
      "_view_count": null,
      "_view_module": "@jupyter-widgets/base",
      "_view_module_version": "1.2.0",
      "_view_name": "LayoutView",
      "align_content": null,
      "align_items": null,
      "align_self": null,
      "border": null,
      "bottom": null,
      "display": null,
      "flex": null,
      "flex_flow": null,
      "grid_area": null,
      "grid_auto_columns": null,
      "grid_auto_flow": null,
      "grid_auto_rows": null,
      "grid_column": null,
      "grid_gap": null,
      "grid_row": null,
      "grid_template_areas": null,
      "grid_template_columns": null,
      "grid_template_rows": null,
      "height": null,
      "justify_content": null,
      "justify_items": null,
      "left": null,
      "margin": null,
      "max_height": null,
      "max_width": null,
      "min_height": null,
      "min_width": null,
      "object_fit": null,
      "object_position": null,
      "order": null,
      "overflow": null,
      "overflow_x": null,
      "overflow_y": null,
      "padding": null,
      "right": null,
      "top": null,
      "visibility": null,
      "width": null
     }
    },
    "bc3bdd4f85a1487ebfc79c6e3284a4a1": {
     "model_module": "@jupyter-widgets/base",
     "model_name": "LayoutModel",
     "state": {
      "_model_module": "@jupyter-widgets/base",
      "_model_module_version": "1.2.0",
      "_model_name": "LayoutModel",
      "_view_count": null,
      "_view_module": "@jupyter-widgets/base",
      "_view_module_version": "1.2.0",
      "_view_name": "LayoutView",
      "align_content": null,
      "align_items": null,
      "align_self": null,
      "border": null,
      "bottom": null,
      "display": null,
      "flex": null,
      "flex_flow": null,
      "grid_area": null,
      "grid_auto_columns": null,
      "grid_auto_flow": null,
      "grid_auto_rows": null,
      "grid_column": null,
      "grid_gap": null,
      "grid_row": null,
      "grid_template_areas": null,
      "grid_template_columns": null,
      "grid_template_rows": null,
      "height": null,
      "justify_content": null,
      "justify_items": null,
      "left": null,
      "margin": null,
      "max_height": null,
      "max_width": null,
      "min_height": null,
      "min_width": null,
      "object_fit": null,
      "object_position": null,
      "order": null,
      "overflow": null,
      "overflow_x": null,
      "overflow_y": null,
      "padding": null,
      "right": null,
      "top": null,
      "visibility": null,
      "width": null
     }
    },
    "bfb4a03700b94d9c829ece9d69424ad6": {
     "model_module": "@jupyter-widgets/controls",
     "model_name": "HBoxModel",
     "state": {
      "_dom_classes": [],
      "_model_module": "@jupyter-widgets/controls",
      "_model_module_version": "1.5.0",
      "_model_name": "HBoxModel",
      "_view_count": null,
      "_view_module": "@jupyter-widgets/controls",
      "_view_module_version": "1.5.0",
      "_view_name": "HBoxView",
      "box_style": "",
      "children": [
       "IPY_MODEL_35c7ce391b1b4e93b4fe2bf5fa0bcf37",
       "IPY_MODEL_d5ccc534b007469a809a3a353d8a8841"
      ],
      "layout": "IPY_MODEL_bc3bdd4f85a1487ebfc79c6e3284a4a1"
     }
    },
    "c068b3c0e10c4c4682dda3c59a2f5a12": {
     "model_module": "@jupyter-widgets/base",
     "model_name": "LayoutModel",
     "state": {
      "_model_module": "@jupyter-widgets/base",
      "_model_module_version": "1.2.0",
      "_model_name": "LayoutModel",
      "_view_count": null,
      "_view_module": "@jupyter-widgets/base",
      "_view_module_version": "1.2.0",
      "_view_name": "LayoutView",
      "align_content": null,
      "align_items": null,
      "align_self": null,
      "border": null,
      "bottom": null,
      "display": null,
      "flex": null,
      "flex_flow": null,
      "grid_area": null,
      "grid_auto_columns": null,
      "grid_auto_flow": null,
      "grid_auto_rows": null,
      "grid_column": null,
      "grid_gap": null,
      "grid_row": null,
      "grid_template_areas": null,
      "grid_template_columns": null,
      "grid_template_rows": null,
      "height": null,
      "justify_content": null,
      "justify_items": null,
      "left": null,
      "margin": null,
      "max_height": null,
      "max_width": null,
      "min_height": null,
      "min_width": null,
      "object_fit": null,
      "object_position": null,
      "order": null,
      "overflow": null,
      "overflow_x": null,
      "overflow_y": null,
      "padding": null,
      "right": null,
      "top": null,
      "visibility": null,
      "width": null
     }
    },
    "c17adb97bc994ad18c7d7ddd4d5802df": {
     "model_module": "@jupyter-widgets/controls",
     "model_name": "HBoxModel",
     "state": {
      "_dom_classes": [],
      "_model_module": "@jupyter-widgets/controls",
      "_model_module_version": "1.5.0",
      "_model_name": "HBoxModel",
      "_view_count": null,
      "_view_module": "@jupyter-widgets/controls",
      "_view_module_version": "1.5.0",
      "_view_name": "HBoxView",
      "box_style": "",
      "children": [
       "IPY_MODEL_a2ad2928a490410c92ef0672e8837e29",
       "IPY_MODEL_1fad94ebb7d34d519b541460d0fc2cb2"
      ],
      "layout": "IPY_MODEL_3e1e116560e64f70a47cde0f53a6422e"
     }
    },
    "cd28866452154f8ca69314a81498220a": {
     "model_module": "@jupyter-widgets/controls",
     "model_name": "ProgressStyleModel",
     "state": {
      "_model_module": "@jupyter-widgets/controls",
      "_model_module_version": "1.5.0",
      "_model_name": "ProgressStyleModel",
      "_view_count": null,
      "_view_module": "@jupyter-widgets/base",
      "_view_module_version": "1.2.0",
      "_view_name": "StyleView",
      "bar_color": null,
      "description_width": "initial"
     }
    },
    "cd6ed3656a964fdab5812f384d02c96f": {
     "model_module": "@jupyter-widgets/controls",
     "model_name": "HBoxModel",
     "state": {
      "_dom_classes": [],
      "_model_module": "@jupyter-widgets/controls",
      "_model_module_version": "1.5.0",
      "_model_name": "HBoxModel",
      "_view_count": null,
      "_view_module": "@jupyter-widgets/controls",
      "_view_module_version": "1.5.0",
      "_view_name": "HBoxView",
      "box_style": "",
      "children": [
       "IPY_MODEL_3008dbf77e714373949b46ac1c674f9f",
       "IPY_MODEL_d28330616d4e4540b2d8f38b5029cb3e"
      ],
      "layout": "IPY_MODEL_66c00b2818954e2786fa52b1b3e74a0b"
     }
    },
    "d065e050632946c2848a7d2adc851dfd": {
     "model_module": "@jupyter-widgets/controls",
     "model_name": "ProgressStyleModel",
     "state": {
      "_model_module": "@jupyter-widgets/controls",
      "_model_module_version": "1.5.0",
      "_model_name": "ProgressStyleModel",
      "_view_count": null,
      "_view_module": "@jupyter-widgets/base",
      "_view_module_version": "1.2.0",
      "_view_name": "StyleView",
      "bar_color": null,
      "description_width": "initial"
     }
    },
    "d28330616d4e4540b2d8f38b5029cb3e": {
     "model_module": "@jupyter-widgets/controls",
     "model_name": "HTMLModel",
     "state": {
      "_dom_classes": [],
      "_model_module": "@jupyter-widgets/controls",
      "_model_module_version": "1.5.0",
      "_model_name": "HTMLModel",
      "_view_count": null,
      "_view_module": "@jupyter-widgets/controls",
      "_view_module_version": "1.5.0",
      "_view_name": "HTMLView",
      "description": "",
      "description_tooltip": null,
      "layout": "IPY_MODEL_7638a5aba4304735bca4d9caf4c4aa9b",
      "placeholder": "​",
      "style": "IPY_MODEL_24a58800efe5498296f2e0380c459196",
      "value": " 442/442 [00:13&lt;00:00, 33.6B/s]"
     }
    },
    "d5a6f36eb4e849bfb1ab700ae09e404e": {
     "model_module": "@jupyter-widgets/base",
     "model_name": "LayoutModel",
     "state": {
      "_model_module": "@jupyter-widgets/base",
      "_model_module_version": "1.2.0",
      "_model_name": "LayoutModel",
      "_view_count": null,
      "_view_module": "@jupyter-widgets/base",
      "_view_module_version": "1.2.0",
      "_view_name": "LayoutView",
      "align_content": null,
      "align_items": null,
      "align_self": null,
      "border": null,
      "bottom": null,
      "display": null,
      "flex": null,
      "flex_flow": null,
      "grid_area": null,
      "grid_auto_columns": null,
      "grid_auto_flow": null,
      "grid_auto_rows": null,
      "grid_column": null,
      "grid_gap": null,
      "grid_row": null,
      "grid_template_areas": null,
      "grid_template_columns": null,
      "grid_template_rows": null,
      "height": null,
      "justify_content": null,
      "justify_items": null,
      "left": null,
      "margin": null,
      "max_height": null,
      "max_width": null,
      "min_height": null,
      "min_width": null,
      "object_fit": null,
      "object_position": null,
      "order": null,
      "overflow": null,
      "overflow_x": null,
      "overflow_y": null,
      "padding": null,
      "right": null,
      "top": null,
      "visibility": null,
      "width": null
     }
    },
    "d5ccc534b007469a809a3a353d8a8841": {
     "model_module": "@jupyter-widgets/controls",
     "model_name": "HTMLModel",
     "state": {
      "_dom_classes": [],
      "_model_module": "@jupyter-widgets/controls",
      "_model_module_version": "1.5.0",
      "_model_name": "HTMLModel",
      "_view_count": null,
      "_view_module": "@jupyter-widgets/controls",
      "_view_module_version": "1.5.0",
      "_view_name": "HTMLView",
      "description": "",
      "description_tooltip": null,
      "layout": "IPY_MODEL_110b4276cae944ab971edf5325fd4cca",
      "placeholder": "​",
      "style": "IPY_MODEL_81d52ccf5609481c8f3009b1a72d3ab4",
      "value": " 232k/232k [00:20&lt;00:00, 11.2kB/s]"
     }
    },
    "e526a70702ef4c4c9c67389891ba5309": {
     "model_module": "@jupyter-widgets/base",
     "model_name": "LayoutModel",
     "state": {
      "_model_module": "@jupyter-widgets/base",
      "_model_module_version": "1.2.0",
      "_model_name": "LayoutModel",
      "_view_count": null,
      "_view_module": "@jupyter-widgets/base",
      "_view_module_version": "1.2.0",
      "_view_name": "LayoutView",
      "align_content": null,
      "align_items": null,
      "align_self": null,
      "border": null,
      "bottom": null,
      "display": null,
      "flex": null,
      "flex_flow": null,
      "grid_area": null,
      "grid_auto_columns": null,
      "grid_auto_flow": null,
      "grid_auto_rows": null,
      "grid_column": null,
      "grid_gap": null,
      "grid_row": null,
      "grid_template_areas": null,
      "grid_template_columns": null,
      "grid_template_rows": null,
      "height": null,
      "justify_content": null,
      "justify_items": null,
      "left": null,
      "margin": null,
      "max_height": null,
      "max_width": null,
      "min_height": null,
      "min_width": null,
      "object_fit": null,
      "object_position": null,
      "order": null,
      "overflow": null,
      "overflow_x": null,
      "overflow_y": null,
      "padding": null,
      "right": null,
      "top": null,
      "visibility": null,
      "width": null
     }
    },
    "efb4f7c4533e48dd9cc9e42abefc490e": {
     "model_module": "@jupyter-widgets/base",
     "model_name": "LayoutModel",
     "state": {
      "_model_module": "@jupyter-widgets/base",
      "_model_module_version": "1.2.0",
      "_model_name": "LayoutModel",
      "_view_count": null,
      "_view_module": "@jupyter-widgets/base",
      "_view_module_version": "1.2.0",
      "_view_name": "LayoutView",
      "align_content": null,
      "align_items": null,
      "align_self": null,
      "border": null,
      "bottom": null,
      "display": null,
      "flex": null,
      "flex_flow": null,
      "grid_area": null,
      "grid_auto_columns": null,
      "grid_auto_flow": null,
      "grid_auto_rows": null,
      "grid_column": null,
      "grid_gap": null,
      "grid_row": null,
      "grid_template_areas": null,
      "grid_template_columns": null,
      "grid_template_rows": null,
      "height": null,
      "justify_content": null,
      "justify_items": null,
      "left": null,
      "margin": null,
      "max_height": null,
      "max_width": null,
      "min_height": null,
      "min_width": null,
      "object_fit": null,
      "object_position": null,
      "order": null,
      "overflow": null,
      "overflow_x": null,
      "overflow_y": null,
      "padding": null,
      "right": null,
      "top": null,
      "visibility": null,
      "width": null
     }
    }
   }
  }
 },
 "nbformat": 4,
 "nbformat_minor": 1
}
