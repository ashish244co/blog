{
 "cells": [
  {
   "cell_type": "markdown",
   "metadata": {
    "id": "WVrX0-EKwP8D"
   },
   "source": [
    "# Electricity Price Prediction \n",
    "> Predicting electric prices for future timestamps using multiple covariates.\n",
    "\n",
    "- toc: true \n",
    "- badges: true\n",
    "- comments: true\n",
    "- categories: [machine learning, deep learning, time series,jupyter]\n",
    "- image: images/chart-preview.png"
   ]
  },
  {
   "cell_type": "markdown",
   "metadata": {
    "id": "z09yryC1cRLN"
   },
   "source": [
    "# Import Data"
   ]
  },
  {
   "cell_type": "code",
   "execution_count": 1,
   "metadata": {
    "colab": {
     "base_uri": "https://localhost:8080/"
    },
    "id": "HMOcSo6eAk5V",
    "outputId": "494e9840-428c-4c73-9ecb-18c639f19b18"
   },
   "outputs": [
    {
     "name": "stdout",
     "output_type": "stream",
     "text": [
      "--2020-11-08 17:28:57--  https://frankfurt-school-dataset.s3.eu-central-1.amazonaws.com/Electricity_data_hourly_products.csv\n",
      "Resolving frankfurt-school-dataset.s3.eu-central-1.amazonaws.com (frankfurt-school-dataset.s3.eu-central-1.amazonaws.com)... 52.219.74.144\n",
      "Connecting to frankfurt-school-dataset.s3.eu-central-1.amazonaws.com (frankfurt-school-dataset.s3.eu-central-1.amazonaws.com)|52.219.74.144|:443... connected.\n",
      "HTTP request sent, awaiting response... 200 OK\n",
      "Length: 350029849 (334M) [text/csv]\n",
      "Saving to: ‘Electricity_data_hourly_products.csv’\n",
      "\n",
      "Electricity_data_ho 100%[===================>] 333.81M  29.4MB/s    in 12s     \n",
      "\n",
      "2020-11-08 17:29:10 (27.6 MB/s) - ‘Electricity_data_hourly_products.csv’ saved [350029849/350029849]\n",
      "\n"
     ]
    }
   ],
   "source": [
    "# Use wget to download the data stored in csv format.\n",
    "!wget \"https://frankfurt-school-dataset.s3.eu-central-1.amazonaws.com/Electricity_data_hourly_products.csv\""
   ]
  },
  {
   "cell_type": "code",
   "execution_count": 2,
   "metadata": {
    "colab": {
     "base_uri": "https://localhost:8080/"
    },
    "id": "9cdXNg2oN9i1",
    "outputId": "ed05cd9f-d8d1-4631-9b64-c23556b82c9b"
   },
   "outputs": [
    {
     "name": "stdout",
     "output_type": "stream",
     "text": [
      "total 334M\n",
      "-rw-r--r-- 1 root root 334M Sep 30 08:49 Electricity_data_hourly_products.csv\n",
      "drwxr-xr-x 1 root root 4.0K Oct 28 16:30 sample_data\n"
     ]
    }
   ],
   "source": [
    "# List the directory; the downloaded file should be there. \n",
    "!ls -lh"
   ]
  },
  {
   "cell_type": "code",
   "execution_count": 3,
   "metadata": {
    "colab": {
     "base_uri": "https://localhost:8080/",
     "height": 405
    },
    "id": "_qRgVE-BOHV1",
    "outputId": "0bd9df79-c6b5-49c7-e74b-9e357d482375"
   },
   "outputs": [
    {
     "data": {
      "text/html": [
       "<div>\n",
       "<style scoped>\n",
       "    .dataframe tbody tr th:only-of-type {\n",
       "        vertical-align: middle;\n",
       "    }\n",
       "\n",
       "    .dataframe tbody tr th {\n",
       "        vertical-align: top;\n",
       "    }\n",
       "\n",
       "    .dataframe thead th {\n",
       "        text-align: right;\n",
       "    }\n",
       "</style>\n",
       "<table border=\"1\" class=\"dataframe\">\n",
       "  <thead>\n",
       "    <tr style=\"text-align: right;\">\n",
       "      <th></th>\n",
       "      <th>contractId</th>\n",
       "      <th>qty</th>\n",
       "      <th>px</th>\n",
       "    </tr>\n",
       "    <tr>\n",
       "      <th>Datetime</th>\n",
       "      <th></th>\n",
       "      <th></th>\n",
       "      <th></th>\n",
       "    </tr>\n",
       "  </thead>\n",
       "  <tbody>\n",
       "    <tr>\n",
       "      <th>2020-03-01 11:59:13.229</th>\n",
       "      <td>11629792</td>\n",
       "      <td>0.5</td>\n",
       "      <td>-0.99</td>\n",
       "    </tr>\n",
       "    <tr>\n",
       "      <th>2020-03-01 11:59:13.243</th>\n",
       "      <td>11629792</td>\n",
       "      <td>0.5</td>\n",
       "      <td>-0.99</td>\n",
       "    </tr>\n",
       "    <tr>\n",
       "      <th>2020-03-01 11:59:13.243</th>\n",
       "      <td>11629792</td>\n",
       "      <td>0.1</td>\n",
       "      <td>-1.00</td>\n",
       "    </tr>\n",
       "    <tr>\n",
       "      <th>2020-03-01 11:59:46.669</th>\n",
       "      <td>11629792</td>\n",
       "      <td>3.0</td>\n",
       "      <td>-0.99</td>\n",
       "    </tr>\n",
       "    <tr>\n",
       "      <th>2020-03-01 11:59:55.065</th>\n",
       "      <td>11629792</td>\n",
       "      <td>3.0</td>\n",
       "      <td>-0.99</td>\n",
       "    </tr>\n",
       "  </tbody>\n",
       "</table>\n",
       "</div>"
      ],
      "text/plain": [
       "                         contractId  qty    px\n",
       "Datetime                                      \n",
       "2020-03-01 11:59:13.229    11629792  0.5 -0.99\n",
       "2020-03-01 11:59:13.243    11629792  0.5 -0.99\n",
       "2020-03-01 11:59:13.243    11629792  0.1 -1.00\n",
       "2020-03-01 11:59:46.669    11629792  3.0 -0.99\n",
       "2020-03-01 11:59:55.065    11629792  3.0 -0.99"
      ]
     },
     "metadata": {
      "tags": []
     },
     "output_type": "display_data"
    },
    {
     "name": "stdout",
     "output_type": "stream",
     "text": [
      "<class 'pandas.core.frame.DataFrame'>\n",
      "Index: 8219996 entries, 2020-03-01 11:59:13.229 to 2020-08-24 20:42:39.432\n",
      "Data columns (total 3 columns):\n",
      " #   Column      Dtype  \n",
      "---  ------      -----  \n",
      " 0   contractId  int64  \n",
      " 1   qty         float64\n",
      " 2   px          float64\n",
      "dtypes: float64(2), int64(1)\n",
      "memory usage: 250.9+ MB\n"
     ]
    }
   ],
   "source": [
    "# Load the data using the pandas library. Use the 1st (0th) column as index\n",
    "import pandas as pd\n",
    "df = pd.read_csv('Electricity_data_hourly_products.csv', index_col=0)\n",
    "\n",
    "# Display the first 5 rows of the data; for a description of the content, see the text below this cell\n",
    "display(df.head())\n",
    "\n",
    "# Display basic dataframe info\n",
    "df.info()"
   ]
  },
  {
   "cell_type": "code",
   "execution_count": 4,
   "metadata": {
    "colab": {
     "base_uri": "https://localhost:8080/"
    },
    "id": "_2cWIMyC1kd-",
    "outputId": "ca89e9d2-8643-45ee-cb81-bceea18e01e5"
   },
   "outputs": [
    {
     "name": "stdout",
     "output_type": "stream",
     "text": [
      "Collecting seglearn\n",
      "\u001b[?25l  Downloading https://files.pythonhosted.org/packages/ca/ed/434d43124650e14c5ae1f79618faa5dfd80ebc59eb7850185f7a9f5fbb2d/seglearn-1.2.1-py3-none-any.whl (11.3MB)\n",
      "\u001b[K     |████████████████████████████████| 11.3MB 2.5MB/s \n",
      "\u001b[?25hRequirement already satisfied: scikit-learn>=0.21.3 in /usr/local/lib/python3.6/dist-packages (from seglearn) (0.22.2.post1)\n",
      "Requirement already satisfied: numpy in /usr/local/lib/python3.6/dist-packages (from seglearn) (1.18.5)\n",
      "Requirement already satisfied: scipy in /usr/local/lib/python3.6/dist-packages (from seglearn) (1.4.1)\n",
      "Requirement already satisfied: joblib>=0.11 in /usr/local/lib/python3.6/dist-packages (from scikit-learn>=0.21.3->seglearn) (0.17.0)\n",
      "Installing collected packages: seglearn\n",
      "Successfully installed seglearn-1.2.1\n"
     ]
    }
   ],
   "source": [
    "!pip install seglearn"
   ]
  },
  {
   "cell_type": "code",
   "execution_count": 5,
   "metadata": {
    "colab": {
     "base_uri": "https://localhost:8080/"
    },
    "id": "0mRsJgRYLG5r",
    "outputId": "227633ef-9fb4-40ae-9d5d-33da6407e128"
   },
   "outputs": [
    {
     "name": "stdout",
     "output_type": "stream",
     "text": [
      "Requirement already satisfied: statsmodels in /usr/local/lib/python3.6/dist-packages (0.10.2)\n",
      "Requirement already satisfied: patsy>=0.4.0 in /usr/local/lib/python3.6/dist-packages (from statsmodels) (0.5.1)\n",
      "Requirement already satisfied: scipy>=0.18 in /usr/local/lib/python3.6/dist-packages (from statsmodels) (1.4.1)\n",
      "Requirement already satisfied: numpy>=1.11 in /usr/local/lib/python3.6/dist-packages (from statsmodels) (1.18.5)\n",
      "Requirement already satisfied: pandas>=0.19 in /usr/local/lib/python3.6/dist-packages (from statsmodels) (1.1.4)\n",
      "Requirement already satisfied: six in /usr/local/lib/python3.6/dist-packages (from patsy>=0.4.0->statsmodels) (1.15.0)\n",
      "Requirement already satisfied: python-dateutil>=2.7.3 in /usr/local/lib/python3.6/dist-packages (from pandas>=0.19->statsmodels) (2.8.1)\n",
      "Requirement already satisfied: pytz>=2017.2 in /usr/local/lib/python3.6/dist-packages (from pandas>=0.19->statsmodels) (2018.9)\n"
     ]
    },
    {
     "name": "stderr",
     "output_type": "stream",
     "text": [
      "/usr/local/lib/python3.6/dist-packages/statsmodels/tools/_testing.py:19: FutureWarning: pandas.util.testing is deprecated. Use the functions in the public API at pandas.testing instead.\n",
      "  import pandas.util.testing as tm\n"
     ]
    }
   ],
   "source": [
    "import seaborn as sns\n",
    "! pip install statsmodels\n",
    "from statsmodels.graphics.tsaplots import plot_acf, plot_pacf"
   ]
  },
  {
   "cell_type": "markdown",
   "metadata": {
    "id": "ocS997FixPXD"
   },
   "source": [
    "# Visualizations\n",
    "\n",
    "Partial - Autocorrelation Plots\n",
    "\n",
    "We take contractID 11762694 as an example for visualization purposes"
   ]
  },
  {
   "cell_type": "code",
   "execution_count": 6,
   "metadata": {
    "id": "YGuS2eRrxbSW"
   },
   "outputs": [],
   "source": [
    "df1=df[df['contractId'] == 11762694]"
   ]
  },
  {
   "cell_type": "markdown",
   "metadata": {
    "id": "kRllxAA3xjt_"
   },
   "source": [
    "**Price Plot**"
   ]
  },
  {
   "cell_type": "code",
   "execution_count": 7,
   "metadata": {
    "colab": {
     "base_uri": "https://localhost:8080/",
     "height": 312
    },
    "id": "lqu9OzPRxibZ",
    "outputId": "85d3f17a-aac8-43a6-82e0-e5161232177d"
   },
   "outputs": [
    {
     "data": {
      "image/png": "[encoded data removed]",
      "text/plain": [
       "<Figure size 432x288 with 1 Axes>"
      ]
     },
     "metadata": {
      "needs_background": "light",
      "tags": []
     },
     "output_type": "display_data"
    },
    {
     "data": {
      "text/plain": [
       "<Figure size 720x720 with 0 Axes>"
      ]
     },
     "metadata": {
      "tags": []
     },
     "output_type": "display_data"
    }
   ],
   "source": [
    "import matplotlib.pyplot as plt  \n",
    "import numpy as np  \n",
    "\n",
    "plot_pacf(df1['px'].values,lags=40,zero=False)\n",
    "plt.xlabel('Measurement points back in time-relatively')\n",
    "plt.figure(figsize=(10,10), linewidth=1)\n",
    "plt.show()"
   ]
  },
  {
   "cell_type": "markdown",
   "metadata": {
    "id": "FkjRwBvKx5OA"
   },
   "source": [
    "We plot partial autocorrelations to summarize the relationship between px values at a given time in the time series with its obersvations at prior time steps. It appears that the first 7 lags are likely correlated and not simply a statistical fluke. However, the px values do not suggest a strong partial autocorrelation, with approx. 0.2 of the first lag being the maximum value."
   ]
  },
  {
   "cell_type": "markdown",
   "metadata": {
    "id": "0J4erveJx9k6"
   },
   "source": [
    " **The plot for the quantity traded**"
   ]
  },
  {
   "cell_type": "code",
   "execution_count": 8,
   "metadata": {
    "colab": {
     "base_uri": "https://localhost:8080/",
     "height": 312
    },
    "id": "WIVfFAiAyD1s",
    "outputId": "49ba7173-acda-4bd9-e671-d70470b20e89"
   },
   "outputs": [
    {
     "data": {
      "image/png": "[encoded data removed]",
      "text/plain": [
       "<Figure size 432x288 with 1 Axes>"
      ]
     },
     "metadata": {
      "needs_background": "light",
      "tags": []
     },
     "output_type": "display_data"
    },
    {
     "data": {
      "text/plain": [
       "<Figure size 720x720 with 0 Axes>"
      ]
     },
     "metadata": {
      "tags": []
     },
     "output_type": "display_data"
    }
   ],
   "source": [
    "plot_pacf(df1['qty'].values,lags=40,zero=False)\n",
    "plt.xlabel('Measurement points back in time-relatively')\n",
    "plt.figure(figsize=(10,10), linewidth=1)\n",
    "plt.show()"
   ]
  },
  {
   "cell_type": "markdown",
   "metadata": {
    "id": "1sdLH8X1yKLt"
   },
   "source": [
    "No strong correlations can be seen from the lags of the quantity qx variable."
   ]
  },
  {
   "cell_type": "code",
   "execution_count": 9,
   "metadata": {
    "id": "bfipKUE0yxWg"
   },
   "outputs": [],
   "source": [
    "# We change to test another ID 11877196\n",
    "\n",
    "df2=df[df['contractId'] == 11877196]"
   ]
  },
  {
   "cell_type": "code",
   "execution_count": 10,
   "metadata": {
    "colab": {
     "base_uri": "https://localhost:8080/",
     "height": 312
    },
    "id": "xbAYLDy0y5vg",
    "outputId": "8fd3a908-d8f6-4ff0-f891-8b48c97283cf"
   },
   "outputs": [
    {
     "data": {
      "image/png": "[encoded data removed]",
      "text/plain": [
       "<Figure size 432x288 with 1 Axes>"
      ]
     },
     "metadata": {
      "needs_background": "light",
      "tags": []
     },
     "output_type": "display_data"
    },
    {
     "data": {
      "text/plain": [
       "<Figure size 720x720 with 0 Axes>"
      ]
     },
     "metadata": {
      "tags": []
     },
     "output_type": "display_data"
    }
   ],
   "source": [
    "import matplotlib.pyplot as plt  \n",
    "import numpy as np  \n",
    "\n",
    "plot_pacf(df2['px'].values,lags=40,zero=False)\n",
    "plt.xlabel('Measurement points back in time-relatively')\n",
    "plt.figure(figsize=(10,10), linewidth=1)\n",
    "plt.show()"
   ]
  },
  {
   "cell_type": "markdown",
   "metadata": {
    "id": "_GkdaiCoy_1z"
   },
   "source": [
    "For contractID 11877196 higer correlations of the first lagged variables are \n",
    "observable, with its first lag having an autocorrelation of above 0.5"
   ]
  },
  {
   "cell_type": "markdown",
   "metadata": {
    "id": "wpBvOua6zD-T"
   },
   "source": [
    "**The Plot for quantity traded**"
   ]
  },
  {
   "cell_type": "code",
   "execution_count": 11,
   "metadata": {
    "colab": {
     "base_uri": "https://localhost:8080/",
     "height": 312
    },
    "id": "gLnrJLpGzKjd",
    "outputId": "137425b0-d882-4250-87fc-c31bb374da81"
   },
   "outputs": [
    {
     "data": {
      "image/png": "[encoded data removed]",
      "text/plain": [
       "<Figure size 432x288 with 1 Axes>"
      ]
     },
     "metadata": {
      "needs_background": "light",
      "tags": []
     },
     "output_type": "display_data"
    },
    {
     "data": {
      "text/plain": [
       "<Figure size 720x720 with 0 Axes>"
      ]
     },
     "metadata": {
      "tags": []
     },
     "output_type": "display_data"
    }
   ],
   "source": [
    "plot_pacf(df2['qty'].values,lags=40,zero=False)\n",
    "plt.xlabel('Measurement points back in time-relatively')\n",
    "plt.figure(figsize=(10,10), linewidth=1)\n",
    "plt.show()"
   ]
  },
  {
   "cell_type": "markdown",
   "metadata": {
    "id": "BXMiWJtRzO_K"
   },
   "source": [
    "Here, we see that for the quantity variable of the given contractID, the autocorrlations are statistically relevant. However, the first lag's autocorrelation is still below 0.1 and subsequent autocorrelations are even less.\n",
    "\n",
    "Generally, in this multi-dimensional time series dataset we see that autocorrelations differ for each contractID.\n"
   ]
  },
  {
   "cell_type": "markdown",
   "metadata": {
    "id": "px76QsLEcU_Y"
   },
   "source": [
    "# Data Preprocessing"
   ]
  },
  {
   "cell_type": "code",
   "execution_count": 12,
   "metadata": {
    "id": "iI_JBFlaKiEt"
   },
   "outputs": [],
   "source": [
    "from seglearn.transform import FeatureRep, SegmentXYForecast, last\n",
    "from sklearn.model_selection import train_test_split\n",
    "import numpy as np\n",
    "from functools import partial\n",
    "\n",
    "\n",
    "def bin_ohlcv(df, contractId, binning_size='H'):\n",
    "    df_cid = df[df.contractId == contractId]\n",
    "    # resample for a binsize and the ohlc the result; and volume too.\n",
    "    data = df_cid[['px']].resample(binning_size).ohlc().px\n",
    "    data['volsum'] = df_cid[['qty']].resample(binning_size).sum()\n",
    "    data['contractId'] = contractId\n",
    "    return data\n",
    "\n",
    "def fillna_close(df):\n",
    "    for index, row in df.iterrows():\n",
    "        if not np.isnan(row['close']):\n",
    "            close = row['close']\n",
    "        else:\n",
    "            df.loc[index,'open'] = close\n",
    "            df.loc[index,'high'] = close\n",
    "            df.loc[index,'low'] = close\n",
    "            df.loc[index,'close'] = close\n",
    "    return df"
   ]
  },
  {
   "cell_type": "code",
   "execution_count": 13,
   "metadata": {
    "id": "RLxHe7VzKVfH"
   },
   "outputs": [],
   "source": [
    "window_size = 5"
   ]
  },
  {
   "cell_type": "code",
   "execution_count": 14,
   "metadata": {
    "colab": {
     "base_uri": "https://localhost:8080/",
     "height": 450
    },
    "id": "8Au_8kq-mh_D",
    "outputId": "37b0a5be-c2af-4860-e63b-e1cadaf0bfc2"
   },
   "outputs": [
    {
     "data": {
      "text/html": [
       "<div>\n",
       "<style scoped>\n",
       "    .dataframe tbody tr th:only-of-type {\n",
       "        vertical-align: middle;\n",
       "    }\n",
       "\n",
       "    .dataframe tbody tr th {\n",
       "        vertical-align: top;\n",
       "    }\n",
       "\n",
       "    .dataframe thead th {\n",
       "        text-align: right;\n",
       "    }\n",
       "</style>\n",
       "<table border=\"1\" class=\"dataframe\">\n",
       "  <thead>\n",
       "    <tr style=\"text-align: right;\">\n",
       "      <th></th>\n",
       "      <th>contractId</th>\n",
       "      <th>qty</th>\n",
       "      <th>px</th>\n",
       "    </tr>\n",
       "    <tr>\n",
       "      <th>Datetime</th>\n",
       "      <th></th>\n",
       "      <th></th>\n",
       "      <th></th>\n",
       "    </tr>\n",
       "  </thead>\n",
       "  <tbody>\n",
       "    <tr>\n",
       "      <th>2020-03-01 11:59:13.229</th>\n",
       "      <td>11629792</td>\n",
       "      <td>0.5</td>\n",
       "      <td>-0.99</td>\n",
       "    </tr>\n",
       "    <tr>\n",
       "      <th>2020-03-01 11:59:13.243</th>\n",
       "      <td>11629792</td>\n",
       "      <td>0.5</td>\n",
       "      <td>-0.99</td>\n",
       "    </tr>\n",
       "    <tr>\n",
       "      <th>2020-03-01 11:59:13.243</th>\n",
       "      <td>11629792</td>\n",
       "      <td>0.1</td>\n",
       "      <td>-1.00</td>\n",
       "    </tr>\n",
       "    <tr>\n",
       "      <th>2020-03-01 11:59:46.669</th>\n",
       "      <td>11629792</td>\n",
       "      <td>3.0</td>\n",
       "      <td>-0.99</td>\n",
       "    </tr>\n",
       "    <tr>\n",
       "      <th>2020-03-01 11:59:55.065</th>\n",
       "      <td>11629792</td>\n",
       "      <td>3.0</td>\n",
       "      <td>-0.99</td>\n",
       "    </tr>\n",
       "    <tr>\n",
       "      <th>...</th>\n",
       "      <td>...</td>\n",
       "      <td>...</td>\n",
       "      <td>...</td>\n",
       "    </tr>\n",
       "    <tr>\n",
       "      <th>2020-08-25 07:47:18.102</th>\n",
       "      <td>11877196</td>\n",
       "      <td>1.6</td>\n",
       "      <td>38.53</td>\n",
       "    </tr>\n",
       "    <tr>\n",
       "      <th>2020-08-24 19:56:11.583</th>\n",
       "      <td>11879762</td>\n",
       "      <td>4.5</td>\n",
       "      <td>38.95</td>\n",
       "    </tr>\n",
       "    <tr>\n",
       "      <th>2020-08-24 20:42:39.432</th>\n",
       "      <td>11879762</td>\n",
       "      <td>10.5</td>\n",
       "      <td>38.95</td>\n",
       "    </tr>\n",
       "    <tr>\n",
       "      <th>2020-08-24 19:56:11.583</th>\n",
       "      <td>11879763</td>\n",
       "      <td>11.0</td>\n",
       "      <td>34.95</td>\n",
       "    </tr>\n",
       "    <tr>\n",
       "      <th>2020-08-24 20:42:39.432</th>\n",
       "      <td>11879813</td>\n",
       "      <td>52.5</td>\n",
       "      <td>37.98</td>\n",
       "    </tr>\n",
       "  </tbody>\n",
       "</table>\n",
       "<p>8219996 rows × 3 columns</p>\n",
       "</div>"
      ],
      "text/plain": [
       "                         contractId   qty     px\n",
       "Datetime                                        \n",
       "2020-03-01 11:59:13.229    11629792   0.5  -0.99\n",
       "2020-03-01 11:59:13.243    11629792   0.5  -0.99\n",
       "2020-03-01 11:59:13.243    11629792   0.1  -1.00\n",
       "2020-03-01 11:59:46.669    11629792   3.0  -0.99\n",
       "2020-03-01 11:59:55.065    11629792   3.0  -0.99\n",
       "...                             ...   ...    ...\n",
       "2020-08-25 07:47:18.102    11877196   1.6  38.53\n",
       "2020-08-24 19:56:11.583    11879762   4.5  38.95\n",
       "2020-08-24 20:42:39.432    11879762  10.5  38.95\n",
       "2020-08-24 19:56:11.583    11879763  11.0  34.95\n",
       "2020-08-24 20:42:39.432    11879813  52.5  37.98\n",
       "\n",
       "[8219996 rows x 3 columns]"
      ]
     },
     "execution_count": 14,
     "metadata": {
      "tags": []
     },
     "output_type": "execute_result"
    }
   ],
   "source": [
    "df"
   ]
  },
  {
   "cell_type": "markdown",
   "metadata": {
    "id": "kFNd4oAL0Yzm"
   },
   "source": [
    "The modeling process can be improved by augmenting the information fed into the algorithm. We encode the dataframe by months, days, hours and day of the week to show tha we are dealing with a cyclical time series. This may reveal hidden patterns in the dataset that cannot be revealed with the regular dataframe."
   ]
  },
  {
   "cell_type": "code",
   "execution_count": 15,
   "metadata": {
    "id": "8gx1hJ9A5F9K"
   },
   "outputs": [],
   "source": [
    "def encode_cyclicals(df_x):\n",
    "    #\"month\",\"day\",\"hour\", \"cdbw\", \"dayofweek\"\n",
    "    \n",
    "\n",
    "    df_x['month_sin'] = np.sin(2*np.pi*df_x.month/12)\n",
    "    df_x['month_cos'] = np.cos(2*np.pi*df_x.month/12)\n",
    "    df_x.drop('month', axis=1, inplace=True)\n",
    "    \n",
    "    df_x['day_sin'] = np.sin(2*np.pi*df_x.day/31)\n",
    "    df_x['day_cos'] = np.cos(2*np.pi*df_x.day/31)\n",
    "    df_x.drop('day', axis=1, inplace=True)\n",
    "\n",
    "    df_x['dayofweek_sin'] = np.sin(2*np.pi*df_x.dayofweek/7)\n",
    "    df_x['dayofweek_cos'] = np.cos(2*np.pi*df_x.dayofweek/7)\n",
    "    df_x.drop('dayofweek', axis=1, inplace=True)\n",
    "    \n",
    "    df_x['hour_sin'] = np.sin(2*np.pi*df_x.hour/24)\n",
    "    df_x['hour_cos'] = np.cos(2*np.pi*df_x.hour/24)\n",
    "    df_x.drop('hour', axis=1, inplace=True)\n",
    "    \n",
    "    return df_x"
   ]
  },
  {
   "cell_type": "code",
   "execution_count": 16,
   "metadata": {
    "id": "W5q3gYIXNLJr"
   },
   "outputs": [],
   "source": [
    "def preproc(df, window_size, forecast_distance=1):\n",
    "    df.index=pd.to_datetime(df.index)\n",
    "    contractIds = df.contractId.unique()\n",
    "    segmenter = SegmentXYForecast(width=window_size, step=1, y_func=last, forecast=forecast_distance)\n",
    "    columns = ['contractId','y',]+[ x for x in range(window_size*5)]\n",
    "    train_df = pd.DataFrame(columns=columns)\n",
    "    train_rolled_df = []\n",
    "    label_rolled_df=[]\n",
    "    error_cids = pd.DataFrame()\n",
    "    for cid in (contractIds):\n",
    "        X_train = fillna_close(bin_ohlcv(df, cid))\n",
    "        X_train['month']=X_train.index.month\n",
    "        X_train['day']=X_train.index.day\n",
    "        X_train['dayofweek']=X_train.index.dayofweek\n",
    "        X_train['hour']=X_train.index.hour\n",
    "        X_train=encode_cyclicals(X_train)\n",
    "        if X_train.shape[0] < window_size+forecast_distance:\n",
    "            error_cids[str(cid)] = X_train.shape[0]\n",
    "        else:\n",
    "            y_train = X_train['close']\n",
    "            X_train = X_train.drop(['contractId','close'], axis=1)\n",
    "            X_train_rolled, y_train_rolled, _= segmenter.fit_transform([X_train.values],[y_train.values.flatten()])\n",
    "            train_rolled_df.append(X_train_rolled)\n",
    "            label_rolled_df.append(y_train_rolled)\n",
    "\n",
    "            count = 0\n",
    "            for i in X_train_rolled:\n",
    "                data = pd.Series(i.flatten())\n",
    "                train_df = train_df.append(data, ignore_index=True)\n",
    "                train_df.iloc[-1,0] = str(cid)\n",
    "                train_df.iloc[-1,1] = y_train_rolled[count]\n",
    "                count = count+1\n",
    "    return train_rolled_df,label_rolled_df,train_df, error_cids"
   ]
  },
  {
   "cell_type": "code",
   "execution_count": 17,
   "metadata": {
    "colab": {
     "base_uri": "https://localhost:8080/",
     "height": 450
    },
    "id": "Qc3HDFETcpWp",
    "outputId": "77f0dfce-112b-462a-c41f-e20cc6fd7fd8"
   },
   "outputs": [
    {
     "data": {
      "text/html": [
       "<div>\n",
       "<style scoped>\n",
       "    .dataframe tbody tr th:only-of-type {\n",
       "        vertical-align: middle;\n",
       "    }\n",
       "\n",
       "    .dataframe tbody tr th {\n",
       "        vertical-align: top;\n",
       "    }\n",
       "\n",
       "    .dataframe thead th {\n",
       "        text-align: right;\n",
       "    }\n",
       "</style>\n",
       "<table border=\"1\" class=\"dataframe\">\n",
       "  <thead>\n",
       "    <tr style=\"text-align: right;\">\n",
       "      <th></th>\n",
       "      <th>contractId</th>\n",
       "      <th>qty</th>\n",
       "      <th>px</th>\n",
       "    </tr>\n",
       "    <tr>\n",
       "      <th>Datetime</th>\n",
       "      <th></th>\n",
       "      <th></th>\n",
       "      <th></th>\n",
       "    </tr>\n",
       "  </thead>\n",
       "  <tbody>\n",
       "    <tr>\n",
       "      <th>2020-03-01 11:59:13.229</th>\n",
       "      <td>11629792</td>\n",
       "      <td>0.5</td>\n",
       "      <td>-0.99</td>\n",
       "    </tr>\n",
       "    <tr>\n",
       "      <th>2020-03-01 11:59:13.243</th>\n",
       "      <td>11629792</td>\n",
       "      <td>0.5</td>\n",
       "      <td>-0.99</td>\n",
       "    </tr>\n",
       "    <tr>\n",
       "      <th>2020-03-01 11:59:13.243</th>\n",
       "      <td>11629792</td>\n",
       "      <td>0.1</td>\n",
       "      <td>-1.00</td>\n",
       "    </tr>\n",
       "    <tr>\n",
       "      <th>2020-03-01 11:59:46.669</th>\n",
       "      <td>11629792</td>\n",
       "      <td>3.0</td>\n",
       "      <td>-0.99</td>\n",
       "    </tr>\n",
       "    <tr>\n",
       "      <th>2020-03-01 11:59:55.065</th>\n",
       "      <td>11629792</td>\n",
       "      <td>3.0</td>\n",
       "      <td>-0.99</td>\n",
       "    </tr>\n",
       "    <tr>\n",
       "      <th>...</th>\n",
       "      <td>...</td>\n",
       "      <td>...</td>\n",
       "      <td>...</td>\n",
       "    </tr>\n",
       "    <tr>\n",
       "      <th>2020-08-25 07:47:18.102</th>\n",
       "      <td>11877196</td>\n",
       "      <td>1.6</td>\n",
       "      <td>38.53</td>\n",
       "    </tr>\n",
       "    <tr>\n",
       "      <th>2020-08-24 19:56:11.583</th>\n",
       "      <td>11879762</td>\n",
       "      <td>4.5</td>\n",
       "      <td>38.95</td>\n",
       "    </tr>\n",
       "    <tr>\n",
       "      <th>2020-08-24 20:42:39.432</th>\n",
       "      <td>11879762</td>\n",
       "      <td>10.5</td>\n",
       "      <td>38.95</td>\n",
       "    </tr>\n",
       "    <tr>\n",
       "      <th>2020-08-24 19:56:11.583</th>\n",
       "      <td>11879763</td>\n",
       "      <td>11.0</td>\n",
       "      <td>34.95</td>\n",
       "    </tr>\n",
       "    <tr>\n",
       "      <th>2020-08-24 20:42:39.432</th>\n",
       "      <td>11879813</td>\n",
       "      <td>52.5</td>\n",
       "      <td>37.98</td>\n",
       "    </tr>\n",
       "  </tbody>\n",
       "</table>\n",
       "<p>8219996 rows × 3 columns</p>\n",
       "</div>"
      ],
      "text/plain": [
       "                         contractId   qty     px\n",
       "Datetime                                        \n",
       "2020-03-01 11:59:13.229    11629792   0.5  -0.99\n",
       "2020-03-01 11:59:13.243    11629792   0.5  -0.99\n",
       "2020-03-01 11:59:13.243    11629792   0.1  -1.00\n",
       "2020-03-01 11:59:46.669    11629792   3.0  -0.99\n",
       "2020-03-01 11:59:55.065    11629792   3.0  -0.99\n",
       "...                             ...   ...    ...\n",
       "2020-08-25 07:47:18.102    11877196   1.6  38.53\n",
       "2020-08-24 19:56:11.583    11879762   4.5  38.95\n",
       "2020-08-24 20:42:39.432    11879762  10.5  38.95\n",
       "2020-08-24 19:56:11.583    11879763  11.0  34.95\n",
       "2020-08-24 20:42:39.432    11879813  52.5  37.98\n",
       "\n",
       "[8219996 rows x 3 columns]"
      ]
     },
     "execution_count": 17,
     "metadata": {
      "tags": []
     },
     "output_type": "execute_result"
    }
   ],
   "source": [
    "df"
   ]
  },
  {
   "cell_type": "code",
   "execution_count": 18,
   "metadata": {
    "id": "psyukA6iLt0u"
   },
   "outputs": [],
   "source": [
    "train_rolled_df,label_rolled_df,train_df, error_cids = preproc(df,window_size)"
   ]
  },
  {
   "cell_type": "code",
   "execution_count": 19,
   "metadata": {
    "colab": {
     "base_uri": "https://localhost:8080/"
    },
    "id": "EwzLRztus5Mb",
    "outputId": "e7b73241-eea6-4b75-c08a-ef5d374bb571"
   },
   "outputs": [
    {
     "data": {
      "text/plain": [
       "array([26.91, 23.7 , 23.69, 21.  , 23.41])"
      ]
     },
     "execution_count": 19,
     "metadata": {
      "tags": []
     },
     "output_type": "execute_result"
    }
   ],
   "source": [
    "label_rolled_df[0]"
   ]
  },
  {
   "cell_type": "code",
   "execution_count": 20,
   "metadata": {
    "colab": {
     "base_uri": "https://localhost:8080/"
    },
    "id": "MKmUYv7muXhZ",
    "outputId": "407283f3-f4ea-4f4d-f1fe-dfa1381f3a7e"
   },
   "outputs": [
    {
     "data": {
      "text/plain": [
       "array([26.91, 23.7 , 23.69, ..., 36.9 , 35.  , 38.53])"
      ]
     },
     "execution_count": 20,
     "metadata": {
      "tags": []
     },
     "output_type": "execute_result"
    }
   ],
   "source": [
    "np.concatenate(label_rolled_df,axis=0) # Preprocessing for LSTM"
   ]
  },
  {
   "cell_type": "code",
   "execution_count": 21,
   "metadata": {
    "colab": {
     "base_uri": "https://localhost:8080/"
    },
    "id": "Giw9g4lZuH0l",
    "outputId": "16a77a2e-54e3-4242-beb7-97128307d477"
   },
   "outputs": [
    {
     "data": {
      "text/plain": [
       "(44548, 5, 12)"
      ]
     },
     "execution_count": 21,
     "metadata": {
      "tags": []
     },
     "output_type": "execute_result"
    }
   ],
   "source": [
    "np.vstack(train_rolled_df).shape"
   ]
  },
  {
   "cell_type": "code",
   "execution_count": 22,
   "metadata": {
    "id": "MqWB8FNouSTn"
   },
   "outputs": [],
   "source": [
    "train_rolled_df=np.vstack(train_rolled_df)\n",
    "label_rolled_df=np.concatenate(label_rolled_df,axis=0)"
   ]
  },
  {
   "cell_type": "code",
   "execution_count": 23,
   "metadata": {
    "colab": {
     "base_uri": "https://localhost:8080/",
     "height": 309
    },
    "id": "GtoCqbWKvq-b",
    "outputId": "8cde59a5-ad10-4768-86ba-753ca2ae29cc"
   },
   "outputs": [
    {
     "data": {
      "text/html": [
       "<div>\n",
       "<style scoped>\n",
       "    .dataframe tbody tr th:only-of-type {\n",
       "        vertical-align: middle;\n",
       "    }\n",
       "\n",
       "    .dataframe tbody tr th {\n",
       "        vertical-align: top;\n",
       "    }\n",
       "\n",
       "    .dataframe thead th {\n",
       "        text-align: right;\n",
       "    }\n",
       "</style>\n",
       "<table border=\"1\" class=\"dataframe\">\n",
       "  <thead>\n",
       "    <tr style=\"text-align: right;\">\n",
       "      <th></th>\n",
       "      <th>contractId</th>\n",
       "      <th>y</th>\n",
       "      <th>0</th>\n",
       "      <th>1</th>\n",
       "      <th>2</th>\n",
       "      <th>3</th>\n",
       "      <th>4</th>\n",
       "      <th>5</th>\n",
       "      <th>6</th>\n",
       "      <th>7</th>\n",
       "      <th>8</th>\n",
       "      <th>9</th>\n",
       "      <th>10</th>\n",
       "      <th>11</th>\n",
       "      <th>12</th>\n",
       "      <th>13</th>\n",
       "      <th>14</th>\n",
       "      <th>15</th>\n",
       "      <th>16</th>\n",
       "      <th>17</th>\n",
       "      <th>18</th>\n",
       "      <th>19</th>\n",
       "      <th>20</th>\n",
       "      <th>21</th>\n",
       "      <th>22</th>\n",
       "      <th>23</th>\n",
       "      <th>24</th>\n",
       "      <th>25</th>\n",
       "      <th>26</th>\n",
       "      <th>27</th>\n",
       "      <th>28</th>\n",
       "      <th>29</th>\n",
       "      <th>30</th>\n",
       "      <th>31</th>\n",
       "      <th>32</th>\n",
       "      <th>33</th>\n",
       "      <th>34</th>\n",
       "      <th>35</th>\n",
       "      <th>36</th>\n",
       "      <th>37</th>\n",
       "      <th>38</th>\n",
       "      <th>39</th>\n",
       "      <th>40</th>\n",
       "      <th>41</th>\n",
       "      <th>42</th>\n",
       "      <th>43</th>\n",
       "      <th>44</th>\n",
       "      <th>45</th>\n",
       "      <th>46</th>\n",
       "      <th>47</th>\n",
       "      <th>48</th>\n",
       "      <th>49</th>\n",
       "      <th>50</th>\n",
       "      <th>51</th>\n",
       "      <th>52</th>\n",
       "      <th>53</th>\n",
       "      <th>54</th>\n",
       "      <th>55</th>\n",
       "      <th>56</th>\n",
       "      <th>57</th>\n",
       "      <th>58</th>\n",
       "      <th>59</th>\n",
       "    </tr>\n",
       "  </thead>\n",
       "  <tbody>\n",
       "    <tr>\n",
       "      <th>0</th>\n",
       "      <td>11630300</td>\n",
       "      <td>26.91</td>\n",
       "      <td>29.99</td>\n",
       "      <td>30.00</td>\n",
       "      <td>29.99</td>\n",
       "      <td>5.2</td>\n",
       "      <td>1.0</td>\n",
       "      <td>6.123234e-17</td>\n",
       "      <td>0.201299</td>\n",
       "      <td>0.97953</td>\n",
       "      <td>-0.781831</td>\n",
       "      <td>0.62349</td>\n",
       "      <td>2.588190e-01</td>\n",
       "      <td>-0.965926</td>\n",
       "      <td>30.02</td>\n",
       "      <td>30.80</td>\n",
       "      <td>28.82</td>\n",
       "      <td>99.9</td>\n",
       "      <td>1.0</td>\n",
       "      <td>6.123234e-17</td>\n",
       "      <td>0.201299</td>\n",
       "      <td>0.97953</td>\n",
       "      <td>-0.781831</td>\n",
       "      <td>0.62349</td>\n",
       "      <td>1.224647e-16</td>\n",
       "      <td>-1.000000</td>\n",
       "      <td>20.51</td>\n",
       "      <td>28.82</td>\n",
       "      <td>20.51</td>\n",
       "      <td>279.5</td>\n",
       "      <td>1.0</td>\n",
       "      <td>6.123234e-17</td>\n",
       "      <td>0.201299</td>\n",
       "      <td>0.97953</td>\n",
       "      <td>-0.781831</td>\n",
       "      <td>0.62349</td>\n",
       "      <td>-0.258819</td>\n",
       "      <td>-0.965926</td>\n",
       "      <td>25.99</td>\n",
       "      <td>31.40</td>\n",
       "      <td>25.90</td>\n",
       "      <td>469.8</td>\n",
       "      <td>1.0</td>\n",
       "      <td>6.123234e-17</td>\n",
       "      <td>0.201299</td>\n",
       "      <td>0.97953</td>\n",
       "      <td>-0.781831</td>\n",
       "      <td>0.62349</td>\n",
       "      <td>-0.500000</td>\n",
       "      <td>-8.660254e-01</td>\n",
       "      <td>30.40</td>\n",
       "      <td>31.19</td>\n",
       "      <td>27.20</td>\n",
       "      <td>451.4</td>\n",
       "      <td>1.0</td>\n",
       "      <td>6.123234e-17</td>\n",
       "      <td>0.201299</td>\n",
       "      <td>0.97953</td>\n",
       "      <td>-0.781831</td>\n",
       "      <td>0.62349</td>\n",
       "      <td>-0.707107</td>\n",
       "      <td>-7.071068e-01</td>\n",
       "    </tr>\n",
       "    <tr>\n",
       "      <th>1</th>\n",
       "      <td>11630300</td>\n",
       "      <td>23.70</td>\n",
       "      <td>30.02</td>\n",
       "      <td>30.80</td>\n",
       "      <td>28.82</td>\n",
       "      <td>99.9</td>\n",
       "      <td>1.0</td>\n",
       "      <td>6.123234e-17</td>\n",
       "      <td>0.201299</td>\n",
       "      <td>0.97953</td>\n",
       "      <td>-0.781831</td>\n",
       "      <td>0.62349</td>\n",
       "      <td>1.224647e-16</td>\n",
       "      <td>-1.000000</td>\n",
       "      <td>20.51</td>\n",
       "      <td>28.82</td>\n",
       "      <td>20.51</td>\n",
       "      <td>279.5</td>\n",
       "      <td>1.0</td>\n",
       "      <td>6.123234e-17</td>\n",
       "      <td>0.201299</td>\n",
       "      <td>0.97953</td>\n",
       "      <td>-0.781831</td>\n",
       "      <td>0.62349</td>\n",
       "      <td>-2.588190e-01</td>\n",
       "      <td>-0.965926</td>\n",
       "      <td>25.99</td>\n",
       "      <td>31.40</td>\n",
       "      <td>25.90</td>\n",
       "      <td>469.8</td>\n",
       "      <td>1.0</td>\n",
       "      <td>6.123234e-17</td>\n",
       "      <td>0.201299</td>\n",
       "      <td>0.97953</td>\n",
       "      <td>-0.781831</td>\n",
       "      <td>0.62349</td>\n",
       "      <td>-0.500000</td>\n",
       "      <td>-0.866025</td>\n",
       "      <td>30.40</td>\n",
       "      <td>31.19</td>\n",
       "      <td>27.20</td>\n",
       "      <td>451.4</td>\n",
       "      <td>1.0</td>\n",
       "      <td>6.123234e-17</td>\n",
       "      <td>0.201299</td>\n",
       "      <td>0.97953</td>\n",
       "      <td>-0.781831</td>\n",
       "      <td>0.62349</td>\n",
       "      <td>-0.707107</td>\n",
       "      <td>-7.071068e-01</td>\n",
       "      <td>30.09</td>\n",
       "      <td>30.99</td>\n",
       "      <td>26.54</td>\n",
       "      <td>381.6</td>\n",
       "      <td>1.0</td>\n",
       "      <td>6.123234e-17</td>\n",
       "      <td>0.201299</td>\n",
       "      <td>0.97953</td>\n",
       "      <td>-0.781831</td>\n",
       "      <td>0.62349</td>\n",
       "      <td>-0.866025</td>\n",
       "      <td>-5.000000e-01</td>\n",
       "    </tr>\n",
       "    <tr>\n",
       "      <th>2</th>\n",
       "      <td>11630300</td>\n",
       "      <td>23.69</td>\n",
       "      <td>20.51</td>\n",
       "      <td>28.82</td>\n",
       "      <td>20.51</td>\n",
       "      <td>279.5</td>\n",
       "      <td>1.0</td>\n",
       "      <td>6.123234e-17</td>\n",
       "      <td>0.201299</td>\n",
       "      <td>0.97953</td>\n",
       "      <td>-0.781831</td>\n",
       "      <td>0.62349</td>\n",
       "      <td>-2.588190e-01</td>\n",
       "      <td>-0.965926</td>\n",
       "      <td>25.99</td>\n",
       "      <td>31.40</td>\n",
       "      <td>25.90</td>\n",
       "      <td>469.8</td>\n",
       "      <td>1.0</td>\n",
       "      <td>6.123234e-17</td>\n",
       "      <td>0.201299</td>\n",
       "      <td>0.97953</td>\n",
       "      <td>-0.781831</td>\n",
       "      <td>0.62349</td>\n",
       "      <td>-5.000000e-01</td>\n",
       "      <td>-0.866025</td>\n",
       "      <td>30.40</td>\n",
       "      <td>31.19</td>\n",
       "      <td>27.20</td>\n",
       "      <td>451.4</td>\n",
       "      <td>1.0</td>\n",
       "      <td>6.123234e-17</td>\n",
       "      <td>0.201299</td>\n",
       "      <td>0.97953</td>\n",
       "      <td>-0.781831</td>\n",
       "      <td>0.62349</td>\n",
       "      <td>-0.707107</td>\n",
       "      <td>-0.707107</td>\n",
       "      <td>30.09</td>\n",
       "      <td>30.99</td>\n",
       "      <td>26.54</td>\n",
       "      <td>381.6</td>\n",
       "      <td>1.0</td>\n",
       "      <td>6.123234e-17</td>\n",
       "      <td>0.201299</td>\n",
       "      <td>0.97953</td>\n",
       "      <td>-0.781831</td>\n",
       "      <td>0.62349</td>\n",
       "      <td>-0.866025</td>\n",
       "      <td>-5.000000e-01</td>\n",
       "      <td>26.60</td>\n",
       "      <td>28.40</td>\n",
       "      <td>18.57</td>\n",
       "      <td>1245.9</td>\n",
       "      <td>1.0</td>\n",
       "      <td>6.123234e-17</td>\n",
       "      <td>0.201299</td>\n",
       "      <td>0.97953</td>\n",
       "      <td>-0.781831</td>\n",
       "      <td>0.62349</td>\n",
       "      <td>-0.965926</td>\n",
       "      <td>-2.588190e-01</td>\n",
       "    </tr>\n",
       "    <tr>\n",
       "      <th>3</th>\n",
       "      <td>11630300</td>\n",
       "      <td>21.00</td>\n",
       "      <td>25.99</td>\n",
       "      <td>31.40</td>\n",
       "      <td>25.90</td>\n",
       "      <td>469.8</td>\n",
       "      <td>1.0</td>\n",
       "      <td>6.123234e-17</td>\n",
       "      <td>0.201299</td>\n",
       "      <td>0.97953</td>\n",
       "      <td>-0.781831</td>\n",
       "      <td>0.62349</td>\n",
       "      <td>-5.000000e-01</td>\n",
       "      <td>-0.866025</td>\n",
       "      <td>30.40</td>\n",
       "      <td>31.19</td>\n",
       "      <td>27.20</td>\n",
       "      <td>451.4</td>\n",
       "      <td>1.0</td>\n",
       "      <td>6.123234e-17</td>\n",
       "      <td>0.201299</td>\n",
       "      <td>0.97953</td>\n",
       "      <td>-0.781831</td>\n",
       "      <td>0.62349</td>\n",
       "      <td>-7.071068e-01</td>\n",
       "      <td>-0.707107</td>\n",
       "      <td>30.09</td>\n",
       "      <td>30.99</td>\n",
       "      <td>26.54</td>\n",
       "      <td>381.6</td>\n",
       "      <td>1.0</td>\n",
       "      <td>6.123234e-17</td>\n",
       "      <td>0.201299</td>\n",
       "      <td>0.97953</td>\n",
       "      <td>-0.781831</td>\n",
       "      <td>0.62349</td>\n",
       "      <td>-0.866025</td>\n",
       "      <td>-0.500000</td>\n",
       "      <td>26.60</td>\n",
       "      <td>28.40</td>\n",
       "      <td>18.57</td>\n",
       "      <td>1245.9</td>\n",
       "      <td>1.0</td>\n",
       "      <td>6.123234e-17</td>\n",
       "      <td>0.201299</td>\n",
       "      <td>0.97953</td>\n",
       "      <td>-0.781831</td>\n",
       "      <td>0.62349</td>\n",
       "      <td>-0.965926</td>\n",
       "      <td>-2.588190e-01</td>\n",
       "      <td>23.70</td>\n",
       "      <td>26.71</td>\n",
       "      <td>21.01</td>\n",
       "      <td>947.0</td>\n",
       "      <td>1.0</td>\n",
       "      <td>6.123234e-17</td>\n",
       "      <td>0.201299</td>\n",
       "      <td>0.97953</td>\n",
       "      <td>-0.781831</td>\n",
       "      <td>0.62349</td>\n",
       "      <td>-1.000000</td>\n",
       "      <td>-1.836970e-16</td>\n",
       "    </tr>\n",
       "    <tr>\n",
       "      <th>4</th>\n",
       "      <td>11630300</td>\n",
       "      <td>23.41</td>\n",
       "      <td>30.40</td>\n",
       "      <td>31.19</td>\n",
       "      <td>27.20</td>\n",
       "      <td>451.4</td>\n",
       "      <td>1.0</td>\n",
       "      <td>6.123234e-17</td>\n",
       "      <td>0.201299</td>\n",
       "      <td>0.97953</td>\n",
       "      <td>-0.781831</td>\n",
       "      <td>0.62349</td>\n",
       "      <td>-7.071068e-01</td>\n",
       "      <td>-0.707107</td>\n",
       "      <td>30.09</td>\n",
       "      <td>30.99</td>\n",
       "      <td>26.54</td>\n",
       "      <td>381.6</td>\n",
       "      <td>1.0</td>\n",
       "      <td>6.123234e-17</td>\n",
       "      <td>0.201299</td>\n",
       "      <td>0.97953</td>\n",
       "      <td>-0.781831</td>\n",
       "      <td>0.62349</td>\n",
       "      <td>-8.660254e-01</td>\n",
       "      <td>-0.500000</td>\n",
       "      <td>26.60</td>\n",
       "      <td>28.40</td>\n",
       "      <td>18.57</td>\n",
       "      <td>1245.9</td>\n",
       "      <td>1.0</td>\n",
       "      <td>6.123234e-17</td>\n",
       "      <td>0.201299</td>\n",
       "      <td>0.97953</td>\n",
       "      <td>-0.781831</td>\n",
       "      <td>0.62349</td>\n",
       "      <td>-0.965926</td>\n",
       "      <td>-0.258819</td>\n",
       "      <td>23.70</td>\n",
       "      <td>26.71</td>\n",
       "      <td>21.01</td>\n",
       "      <td>947.0</td>\n",
       "      <td>1.0</td>\n",
       "      <td>6.123234e-17</td>\n",
       "      <td>0.201299</td>\n",
       "      <td>0.97953</td>\n",
       "      <td>-0.781831</td>\n",
       "      <td>0.62349</td>\n",
       "      <td>-1.000000</td>\n",
       "      <td>-1.836970e-16</td>\n",
       "      <td>23.00</td>\n",
       "      <td>25.60</td>\n",
       "      <td>19.90</td>\n",
       "      <td>1213.6</td>\n",
       "      <td>1.0</td>\n",
       "      <td>6.123234e-17</td>\n",
       "      <td>0.201299</td>\n",
       "      <td>0.97953</td>\n",
       "      <td>-0.781831</td>\n",
       "      <td>0.62349</td>\n",
       "      <td>-0.965926</td>\n",
       "      <td>2.588190e-01</td>\n",
       "    </tr>\n",
       "  </tbody>\n",
       "</table>\n",
       "</div>"
      ],
      "text/plain": [
       "  contractId      y      0      1  ...        56       57        58            59\n",
       "0   11630300  26.91  29.99  30.00  ... -0.781831  0.62349 -0.707107 -7.071068e-01\n",
       "1   11630300  23.70  30.02  30.80  ... -0.781831  0.62349 -0.866025 -5.000000e-01\n",
       "2   11630300  23.69  20.51  28.82  ... -0.781831  0.62349 -0.965926 -2.588190e-01\n",
       "3   11630300  21.00  25.99  31.40  ... -0.781831  0.62349 -1.000000 -1.836970e-16\n",
       "4   11630300  23.41  30.40  31.19  ... -0.781831  0.62349 -0.965926  2.588190e-01\n",
       "\n",
       "[5 rows x 62 columns]"
      ]
     },
     "execution_count": 23,
     "metadata": {
      "tags": []
     },
     "output_type": "execute_result"
    }
   ],
   "source": [
    "train_df.head()"
   ]
  },
  {
   "cell_type": "markdown",
   "metadata": {
    "id": "0jQuy0--d2zE"
   },
   "source": [
    "# Data Split"
   ]
  },
  {
   "cell_type": "code",
   "execution_count": 24,
   "metadata": {
    "id": "5Mop_97-Gzkb"
   },
   "outputs": [],
   "source": [
    "split_size = .1\n",
    "# Creating train and test splits\n",
    "X_train, X_test, y_train, y_test = train_test_split(train_df.drop(['contractId','y'],axis=1),label_rolled_df, test_size=split_size, shuffle=False)\n",
    "# Creating by splitting from remaning data of train\n",
    "X_train, X_valid, y_train, y_valid = train_test_split(X_train, y_train, test_size=split_size, shuffle=False)\n",
    "\n",
    "mean=np.mean(X_train, axis=0)\n",
    "std=np.std(X_train, axis=0)\n",
    "\n",
    "X_train=(X_train-mean)/std\n",
    "X_valid=(X_valid-mean)/std\n",
    "X_test=(X_test-mean)/std"
   ]
  },
  {
   "cell_type": "markdown",
   "metadata": {
    "id": "AK15k9UDxCGv"
   },
   "source": [
    "Here we process data in two types one flattened for classic supervised machine learning algos and other for deep learning algorithms.\n"
   ]
  },
  {
   "cell_type": "markdown",
   "metadata": {
    "id": "pFRW6WWgxPat"
   },
   "source": [
    "We start with linear regression then gradually try more complex algorithms like random forest and xgboost and record their scores.\n"
   ]
  },
  {
   "cell_type": "markdown",
   "metadata": {
    "id": "3_5Ru9vR2G5I"
   },
   "source": [
    "# Classic ML Algorithms\n"
   ]
  },
  {
   "cell_type": "code",
   "execution_count": 1,
   "metadata": {
    "colab": {
     "base_uri": "https://localhost:8080/",
     "height": 35
    },
    "id": "-qLJnTf2tP8p",
    "outputId": "8170e256-87da-4c26-c5e8-56f42a4b9041"
   },
   "outputs": [
    {
     "data": {
      "text/plain": [
       "'%.4f'"
      ]
     },
     "execution_count": 1,
     "metadata": {},
     "output_type": "execute_result"
    }
   ],
   "source": [
    "from sklearn.ensemble import RandomForestRegressor\n",
    "from sklearn.ensemble import RandomForestClassifier\n",
    "from sklearn.metrics import f1_score, precision_score, confusion_matrix, recall_score, accuracy_score\n",
    "from sklearn.metrics import mean_squared_error\n",
    "from sklearn.model_selection import train_test_split\n",
    "from sklearn.model_selection import GridSearchCV\n",
    "from sklearn.preprocessing import MinMaxScaler\n",
    "%precision 4"
   ]
  },
  {
   "cell_type": "markdown",
   "metadata": {
    "id": "g_kR7QEmLT9y"
   },
   "source": [
    "# Dummy Predictor"
   ]
  },
  {
   "cell_type": "code",
   "execution_count": 26,
   "metadata": {
    "colab": {
     "base_uri": "https://localhost:8080/"
    },
    "id": "86-W0-ZALWho",
    "outputId": "4f1a3d7f-c133-405b-df1d-c1f7ee5665d5"
   },
   "outputs": [
    {
     "data": {
      "text/plain": [
       "DummyRegressor(constant=None, quantile=None, strategy='mean')"
      ]
     },
     "execution_count": 26,
     "metadata": {
      "tags": []
     },
     "output_type": "execute_result"
    }
   ],
   "source": [
    "from sklearn.dummy import DummyRegressor\n",
    "\n",
    "dummy_model = DummyRegressor(strategy='mean')\n",
    "\n",
    "dummy_model.fit(X_train, y_train)"
   ]
  },
  {
   "cell_type": "code",
   "execution_count": 27,
   "metadata": {
    "id": "5B-OjE4iLYHk"
   },
   "outputs": [],
   "source": [
    "from sklearn.metrics import mean_squared_error,mean_absolute_error\n",
    "from math import sqrt\n",
    "\n",
    "def evaluate_model(model, X_valid, y_valid_true):\n",
    "    predictions = model.predict(X_valid)\n",
    "    rms = sqrt(mean_squared_error(y_valid_true, predictions))\n",
    "    mae = mean_absolute_error(y_valid_true, predictions)\n",
    "    return rms,mae"
   ]
  },
  {
   "cell_type": "code",
   "execution_count": 28,
   "metadata": {
    "id": "zIK_0SiOLhJ5"
   },
   "outputs": [],
   "source": [
    "dummyrmse,dummymae = evaluate_model(dummy_model, X_test, y_test)"
   ]
  },
  {
   "cell_type": "markdown",
   "metadata": {
    "id": "MGDDfNQ02V09"
   },
   "source": [
    "**Linear Regression**"
   ]
  },
  {
   "cell_type": "code",
   "execution_count": 29,
   "metadata": {
    "id": "gQaNsAyfjFwS"
   },
   "outputs": [],
   "source": [
    "from sklearn.linear_model import LinearRegression\n",
    "linreg=LinearRegression()\n",
    "linreg.fit(X_train, y_train)\n",
    "linregrmse,linregmae = evaluate_model(linreg, X_test, y_test)"
   ]
  },
  {
   "cell_type": "code",
   "execution_count": 30,
   "metadata": {
    "id": "cja3c_ubLknz"
   },
   "outputs": [],
   "source": [
    "from sklearn.ensemble import RandomForestRegressor\n",
    "\n",
    "N_ESTIMATORS = 50\n",
    "RANDOM_STATE = 452543634"
   ]
  },
  {
   "cell_type": "code",
   "execution_count": 31,
   "metadata": {
    "colab": {
     "base_uri": "https://localhost:8080/"
    },
    "id": "7nuaI1GALoVo",
    "outputId": "661fa88e-a74f-4b34-d75b-a435e306756d"
   },
   "outputs": [
    {
     "data": {
      "text/plain": [
       "RandomForestRegressor(bootstrap=True, ccp_alpha=0.0, criterion='mse',\n",
       "                      max_depth=4, max_features='auto', max_leaf_nodes=None,\n",
       "                      max_samples=None, min_impurity_decrease=0.0,\n",
       "                      min_impurity_split=None, min_samples_leaf=1,\n",
       "                      min_samples_split=2, min_weight_fraction_leaf=0.0,\n",
       "                      n_estimators=50, n_jobs=-1, oob_score=False,\n",
       "                      random_state=452543634, verbose=0, warm_start=False)"
      ]
     },
     "execution_count": 31,
     "metadata": {
      "tags": []
     },
     "output_type": "execute_result"
    }
   ],
   "source": [
    "RF_base_model = RandomForestRegressor(n_estimators=N_ESTIMATORS, max_depth=4, random_state=RANDOM_STATE,n_jobs=-1)\n",
    "RF_base_model.fit(X_train, y_train)"
   ]
  },
  {
   "cell_type": "code",
   "execution_count": 32,
   "metadata": {
    "id": "KOE--K0OLsE1"
   },
   "outputs": [],
   "source": [
    "rfrmse,rfmae = evaluate_model(RF_base_model, X_test, y_test)"
   ]
  },
  {
   "cell_type": "markdown",
   "metadata": {
    "id": "qqVLWMSYL0ax"
   },
   "source": [
    "**XGBoost**"
   ]
  },
  {
   "cell_type": "code",
   "execution_count": 33,
   "metadata": {
    "id": "xMXjBi3eL2eX"
   },
   "outputs": [],
   "source": [
    "import xgboost as xgb\n",
    "# If in trouble, use !pip install xgboost\n",
    "\n",
    "# XGBoost needs it's custom data format to run quickly\n",
    "dmatrix_train = xgb.DMatrix(data=X_train,label=y_train)\n",
    "dmatrix_valid = xgb.DMatrix(data=X_valid,label=y_valid)\n",
    "dmatrix_test = xgb.DMatrix(data=X_test,label=y_test)"
   ]
  },
  {
   "cell_type": "code",
   "execution_count": 34,
   "metadata": {
    "colab": {
     "base_uri": "https://localhost:8080/"
    },
    "id": "vPsKQ5kGL382",
    "outputId": "fa7cb63f-44bd-47d1-cbde-b22ce85d6678"
   },
   "outputs": [
    {
     "name": "stdout",
     "output_type": "stream",
     "text": [
      "[17:38:21] WARNING: /workspace/src/objective/regression_obj.cu:152: reg:linear is now deprecated in favor of reg:squarederror.\n",
      "[0]\ttest-rmse:26.1554\ttrain-rmse:21.2551\n",
      "[1]\ttest-rmse:18.8739\ttrain-rmse:15.5145\n",
      "[2]\ttest-rmse:13.7881\ttrain-rmse:11.6365\n",
      "[3]\ttest-rmse:10.4652\ttrain-rmse:9.09538\n",
      "[4]\ttest-rmse:8.32127\ttrain-rmse:7.49158\n",
      "[5]\ttest-rmse:7.06419\ttrain-rmse:6.51137\n",
      "[6]\ttest-rmse:6.3734\ttrain-rmse:5.92332\n",
      "[7]\ttest-rmse:6.0122\ttrain-rmse:5.59236\n",
      "[8]\ttest-rmse:5.812\ttrain-rmse:5.37985\n",
      "[9]\ttest-rmse:5.70591\ttrain-rmse:5.2242\n",
      "[10]\ttest-rmse:5.67404\ttrain-rmse:5.12481\n",
      "[11]\ttest-rmse:5.63926\ttrain-rmse:5.04321\n",
      "[12]\ttest-rmse:5.63908\ttrain-rmse:4.9943\n",
      "[13]\ttest-rmse:5.63276\ttrain-rmse:4.95529\n",
      "[14]\ttest-rmse:5.64107\ttrain-rmse:4.89816\n",
      "[15]\ttest-rmse:5.64481\ttrain-rmse:4.8419\n",
      "[16]\ttest-rmse:5.64753\ttrain-rmse:4.82373\n",
      "[17]\ttest-rmse:5.65081\ttrain-rmse:4.7665\n",
      "[18]\ttest-rmse:5.65059\ttrain-rmse:4.74386\n",
      "[19]\ttest-rmse:5.65369\ttrain-rmse:4.72363\n",
      "[20]\ttest-rmse:5.65731\ttrain-rmse:4.6661\n",
      "[21]\ttest-rmse:5.65727\ttrain-rmse:4.66012\n",
      "[22]\ttest-rmse:5.67063\ttrain-rmse:4.64217\n",
      "[23]\ttest-rmse:5.67136\ttrain-rmse:4.62821\n",
      "[24]\ttest-rmse:5.67135\ttrain-rmse:4.5893\n",
      "[25]\ttest-rmse:5.67206\ttrain-rmse:4.57615\n",
      "[26]\ttest-rmse:5.67512\ttrain-rmse:4.55667\n",
      "[27]\ttest-rmse:5.6736\ttrain-rmse:4.53339\n",
      "[28]\ttest-rmse:5.67358\ttrain-rmse:4.51604\n",
      "[29]\ttest-rmse:5.68321\ttrain-rmse:4.49139\n",
      "[30]\ttest-rmse:5.68168\ttrain-rmse:4.47806\n",
      "[31]\ttest-rmse:5.68406\ttrain-rmse:4.44631\n",
      "[32]\ttest-rmse:5.68343\ttrain-rmse:4.44191\n",
      "[33]\ttest-rmse:5.67943\ttrain-rmse:4.42157\n",
      "[34]\ttest-rmse:5.6802\ttrain-rmse:4.38615\n",
      "[35]\ttest-rmse:5.68671\ttrain-rmse:4.36027\n",
      "[36]\ttest-rmse:5.68674\ttrain-rmse:4.33193\n",
      "[37]\ttest-rmse:5.68674\ttrain-rmse:4.32344\n",
      "[38]\ttest-rmse:5.68641\ttrain-rmse:4.31968\n",
      "[39]\ttest-rmse:5.69402\ttrain-rmse:4.31066\n"
     ]
    }
   ],
   "source": [
    "params = {'objective': 'reg:linear', 'eval_metric': 'rmse', 'n_estimators': 50}\n",
    "\n",
    "evallist = [(dmatrix_valid, 'eval'), (dmatrix_train, 'train')]\n",
    "\n",
    "num_round = 40 #Can easily overfit, experiment with it!\n",
    "xg_reg = xgb.train(params, dmatrix_train, num_round, [(dmatrix_valid, 'test'), (dmatrix_train, 'train')])"
   ]
  },
  {
   "cell_type": "code",
   "execution_count": 35,
   "metadata": {
    "id": "LH1MfnFzHaS7"
   },
   "outputs": [],
   "source": [
    "xgboostrmse=np.sqrt(1/len(X_test)*np.sum((xg_reg.predict(dmatrix_test)-y_test)**2,axis=0))\n",
    "xgboostmae=np.sqrt(1/len(X_test)*np.sum(abs(xg_reg.predict(dmatrix_test)-y_test),axis=0))"
   ]
  },
  {
   "cell_type": "code",
   "execution_count": 36,
   "metadata": {
    "id": "1NkOk31OLXv8"
   },
   "outputs": [],
   "source": [
    "split_size = .1\n",
    "# Creating train and test splits\n",
    "X_train, X_test, y_train, y_test = train_test_split(train_rolled_df,label_rolled_df, test_size=split_size, shuffle=False)\n",
    "# Creating by splitting from remaning data of train\n",
    "X_train, X_valid, y_train, y_valid = train_test_split(X_train, y_train, test_size=split_size, shuffle=False)\n",
    "\n",
    "mean=np.mean(X_train, axis=0)\n",
    "std=np.std(X_train, axis=0)\n",
    "\n",
    "X_train=(X_train-mean)/std\n",
    "X_valid=(X_valid-mean)/std\n",
    "X_test=(X_test-mean)/std"
   ]
  },
  {
   "cell_type": "code",
   "execution_count": 37,
   "metadata": {
    "colab": {
     "base_uri": "https://localhost:8080/"
    },
    "id": "kYmMZDhfiS7U",
    "outputId": "7bf53c44-f5c8-4554-a2c8-f4f36d248f8c"
   },
   "outputs": [
    {
     "data": {
      "text/plain": [
       "(36083, 5, 12)"
      ]
     },
     "execution_count": 37,
     "metadata": {
      "tags": []
     },
     "output_type": "execute_result"
    }
   ],
   "source": [
    "X_train.shape"
   ]
  },
  {
   "cell_type": "code",
   "execution_count": 38,
   "metadata": {
    "colab": {
     "base_uri": "https://localhost:8080/"
    },
    "id": "me25mtRliU5R",
    "outputId": "974460c6-7bc1-4705-c9d9-122d46d4b3e7"
   },
   "outputs": [
    {
     "data": {
      "text/plain": [
       "(4010, 5, 12)"
      ]
     },
     "execution_count": 38,
     "metadata": {
      "tags": []
     },
     "output_type": "execute_result"
    }
   ],
   "source": [
    "X_valid.shape"
   ]
  },
  {
   "cell_type": "code",
   "execution_count": 39,
   "metadata": {
    "colab": {
     "base_uri": "https://localhost:8080/"
    },
    "id": "71iPhSo0iWln",
    "outputId": "87e6ef6a-5e17-4549-d46f-f56cb6a360fd"
   },
   "outputs": [
    {
     "data": {
      "text/plain": [
       "(4455, 5, 12)"
      ]
     },
     "execution_count": 39,
     "metadata": {
      "tags": []
     },
     "output_type": "execute_result"
    }
   ],
   "source": [
    "X_test.shape"
   ]
  },
  {
   "cell_type": "markdown",
   "metadata": {
    "id": "cUYOeu9JySkH"
   },
   "source": [
    "# Deep Learning"
   ]
  },
  {
   "cell_type": "markdown",
   "metadata": {
    "id": "hSGDSZ6Gu5Zk"
   },
   "source": [
    "For deep learning models we try to be creative and use 1D CNN which is also well suited for time series problems. Then we try a GRU since its much simpler than LSTM which lesser parameters. We add attention to it to make it work better. The models somewhat underfit but still gives us reasonable score with very few parameters."
   ]
  },
  {
   "cell_type": "code",
   "execution_count": 40,
   "metadata": {
    "colab": {
     "base_uri": "https://localhost:8080/"
    },
    "id": "gPGIYjXV2Dr0",
    "outputId": "caa5c977-fb4a-4de4-db91-a249266f69a4"
   },
   "outputs": [
    {
     "data": {
      "text/plain": [
       "(36083, 5, 12)"
      ]
     },
     "execution_count": 40,
     "metadata": {
      "tags": []
     },
     "output_type": "execute_result"
    }
   ],
   "source": [
    "X_train.shape"
   ]
  },
  {
   "cell_type": "markdown",
   "metadata": {
    "id": "-TSsMhAAzCX-"
   },
   "source": [
    "Sincee Huber loss is a loss function is less sensitive to outliers in data we use it here. Moreover we employ learning rate scheduling as it was used in training resnet."
   ]
  },
  {
   "cell_type": "code",
   "execution_count": 41,
   "metadata": {
    "colab": {
     "base_uri": "https://localhost:8080/"
    },
    "id": "iNWkX8431alS",
    "outputId": "f3f504e4-ebb6-4141-957f-4ab4f652a95b"
   },
   "outputs": [
    {
     "name": "stdout",
     "output_type": "stream",
     "text": [
      "Collecting attention\n",
      "  Downloading https://files.pythonhosted.org/packages/2d/27/98d7350db36a3537e24c9ec488d893b71092037f5c74e8984d01e9c1d316/attention-3.0-py3-none-any.whl\n",
      "Requirement already satisfied: tensorflow>=2.1 in /usr/local/lib/python3.6/dist-packages (from attention) (2.3.0)\n",
      "Requirement already satisfied: numpy>=1.18.1 in /usr/local/lib/python3.6/dist-packages (from attention) (1.18.5)\n",
      "Requirement already satisfied: keras>=2.3.1 in /usr/local/lib/python3.6/dist-packages (from attention) (2.4.3)\n",
      "Requirement already satisfied: termcolor>=1.1.0 in /usr/local/lib/python3.6/dist-packages (from tensorflow>=2.1->attention) (1.1.0)\n",
      "Requirement already satisfied: opt-einsum>=2.3.2 in /usr/local/lib/python3.6/dist-packages (from tensorflow>=2.1->attention) (3.3.0)\n",
      "Requirement already satisfied: six>=1.12.0 in /usr/local/lib/python3.6/dist-packages (from tensorflow>=2.1->attention) (1.15.0)\n",
      "Requirement already satisfied: google-pasta>=0.1.8 in /usr/local/lib/python3.6/dist-packages (from tensorflow>=2.1->attention) (0.2.0)\n",
      "Requirement already satisfied: absl-py>=0.7.0 in /usr/local/lib/python3.6/dist-packages (from tensorflow>=2.1->attention) (0.10.0)\n",
      "Requirement already satisfied: tensorboard<3,>=2.3.0 in /usr/local/lib/python3.6/dist-packages (from tensorflow>=2.1->attention) (2.3.0)\n",
      "Requirement already satisfied: grpcio>=1.8.6 in /usr/local/lib/python3.6/dist-packages (from tensorflow>=2.1->attention) (1.33.2)\n",
      "Requirement already satisfied: tensorflow-estimator<2.4.0,>=2.3.0 in /usr/local/lib/python3.6/dist-packages (from tensorflow>=2.1->attention) (2.3.0)\n",
      "Requirement already satisfied: scipy==1.4.1 in /usr/local/lib/python3.6/dist-packages (from tensorflow>=2.1->attention) (1.4.1)\n",
      "Requirement already satisfied: h5py<2.11.0,>=2.10.0 in /usr/local/lib/python3.6/dist-packages (from tensorflow>=2.1->attention) (2.10.0)\n",
      "Requirement already satisfied: wheel>=0.26 in /usr/local/lib/python3.6/dist-packages (from tensorflow>=2.1->attention) (0.35.1)\n",
      "Requirement already satisfied: protobuf>=3.9.2 in /usr/local/lib/python3.6/dist-packages (from tensorflow>=2.1->attention) (3.12.4)\n",
      "Requirement already satisfied: wrapt>=1.11.1 in /usr/local/lib/python3.6/dist-packages (from tensorflow>=2.1->attention) (1.12.1)\n",
      "Requirement already satisfied: keras-preprocessing<1.2,>=1.1.1 in /usr/local/lib/python3.6/dist-packages (from tensorflow>=2.1->attention) (1.1.2)\n",
      "Requirement already satisfied: astunparse==1.6.3 in /usr/local/lib/python3.6/dist-packages (from tensorflow>=2.1->attention) (1.6.3)\n",
      "Requirement already satisfied: gast==0.3.3 in /usr/local/lib/python3.6/dist-packages (from tensorflow>=2.1->attention) (0.3.3)\n",
      "Requirement already satisfied: pyyaml in /usr/local/lib/python3.6/dist-packages (from keras>=2.3.1->attention) (3.13)\n",
      "Requirement already satisfied: google-auth<2,>=1.6.3 in /usr/local/lib/python3.6/dist-packages (from tensorboard<3,>=2.3.0->tensorflow>=2.1->attention) (1.17.2)\n",
      "Requirement already satisfied: werkzeug>=0.11.15 in /usr/local/lib/python3.6/dist-packages (from tensorboard<3,>=2.3.0->tensorflow>=2.1->attention) (1.0.1)\n",
      "Requirement already satisfied: setuptools>=41.0.0 in /usr/local/lib/python3.6/dist-packages (from tensorboard<3,>=2.3.0->tensorflow>=2.1->attention) (50.3.2)\n",
      "Requirement already satisfied: requests<3,>=2.21.0 in /usr/local/lib/python3.6/dist-packages (from tensorboard<3,>=2.3.0->tensorflow>=2.1->attention) (2.23.0)\n",
      "Requirement already satisfied: google-auth-oauthlib<0.5,>=0.4.1 in /usr/local/lib/python3.6/dist-packages (from tensorboard<3,>=2.3.0->tensorflow>=2.1->attention) (0.4.2)\n",
      "Requirement already satisfied: tensorboard-plugin-wit>=1.6.0 in /usr/local/lib/python3.6/dist-packages (from tensorboard<3,>=2.3.0->tensorflow>=2.1->attention) (1.7.0)\n",
      "Requirement already satisfied: markdown>=2.6.8 in /usr/local/lib/python3.6/dist-packages (from tensorboard<3,>=2.3.0->tensorflow>=2.1->attention) (3.3.3)\n",
      "Requirement already satisfied: rsa<5,>=3.1.4; python_version >= \"3\" in /usr/local/lib/python3.6/dist-packages (from google-auth<2,>=1.6.3->tensorboard<3,>=2.3.0->tensorflow>=2.1->attention) (4.6)\n",
      "Requirement already satisfied: pyasn1-modules>=0.2.1 in /usr/local/lib/python3.6/dist-packages (from google-auth<2,>=1.6.3->tensorboard<3,>=2.3.0->tensorflow>=2.1->attention) (0.2.8)\n",
      "Requirement already satisfied: cachetools<5.0,>=2.0.0 in /usr/local/lib/python3.6/dist-packages (from google-auth<2,>=1.6.3->tensorboard<3,>=2.3.0->tensorflow>=2.1->attention) (4.1.1)\n",
      "Requirement already satisfied: chardet<4,>=3.0.2 in /usr/local/lib/python3.6/dist-packages (from requests<3,>=2.21.0->tensorboard<3,>=2.3.0->tensorflow>=2.1->attention) (3.0.4)\n",
      "Requirement already satisfied: idna<3,>=2.5 in /usr/local/lib/python3.6/dist-packages (from requests<3,>=2.21.0->tensorboard<3,>=2.3.0->tensorflow>=2.1->attention) (2.10)\n",
      "Requirement already satisfied: certifi>=2017.4.17 in /usr/local/lib/python3.6/dist-packages (from requests<3,>=2.21.0->tensorboard<3,>=2.3.0->tensorflow>=2.1->attention) (2020.6.20)\n",
      "Requirement already satisfied: urllib3!=1.25.0,!=1.25.1,<1.26,>=1.21.1 in /usr/local/lib/python3.6/dist-packages (from requests<3,>=2.21.0->tensorboard<3,>=2.3.0->tensorflow>=2.1->attention) (1.24.3)\n",
      "Requirement already satisfied: requests-oauthlib>=0.7.0 in /usr/local/lib/python3.6/dist-packages (from google-auth-oauthlib<0.5,>=0.4.1->tensorboard<3,>=2.3.0->tensorflow>=2.1->attention) (1.3.0)\n",
      "Requirement already satisfied: importlib-metadata; python_version < \"3.8\" in /usr/local/lib/python3.6/dist-packages (from markdown>=2.6.8->tensorboard<3,>=2.3.0->tensorflow>=2.1->attention) (2.0.0)\n",
      "Requirement already satisfied: pyasn1>=0.1.3 in /usr/local/lib/python3.6/dist-packages (from rsa<5,>=3.1.4; python_version >= \"3\"->google-auth<2,>=1.6.3->tensorboard<3,>=2.3.0->tensorflow>=2.1->attention) (0.4.8)\n",
      "Requirement already satisfied: oauthlib>=3.0.0 in /usr/local/lib/python3.6/dist-packages (from requests-oauthlib>=0.7.0->google-auth-oauthlib<0.5,>=0.4.1->tensorboard<3,>=2.3.0->tensorflow>=2.1->attention) (3.1.0)\n",
      "Requirement already satisfied: zipp>=0.5 in /usr/local/lib/python3.6/dist-packages (from importlib-metadata; python_version < \"3.8\"->markdown>=2.6.8->tensorboard<3,>=2.3.0->tensorflow>=2.1->attention) (3.4.0)\n",
      "Installing collected packages: attention\n",
      "Successfully installed attention-3.0\n"
     ]
    }
   ],
   "source": [
    "!pip install attention"
   ]
  },
  {
   "cell_type": "code",
   "execution_count": 42,
   "metadata": {
    "id": "DPlozwmYKMnh"
   },
   "outputs": [],
   "source": [
    "from tensorflow.keras.layers import Dense, Dropout, LSTM,GRU,Conv1D,MaxPooling1D,Flatten,GlobalMaxPooling1D\n",
    "from tensorflow.keras.callbacks import EarlyStopping,ReduceLROnPlateau,ModelCheckpoint\n",
    "from tensorflow.keras import Sequential\n",
    "from tensorflow.keras.layers import Dense, Dropout, LSTM,TimeDistributed,Bidirectional\n",
    "from tensorflow.keras import backend as be\n",
    "from tensorflow.keras.optimizers import Adam\n",
    "from attention import Attention\n",
    "from tensorflow.keras.losses import Huber\n",
    "import matplotlib.pyplot as plt"
   ]
  },
  {
   "cell_type": "code",
   "execution_count": 43,
   "metadata": {
    "colab": {
     "base_uri": "https://localhost:8080/"
    },
    "id": "2UTMS0eE3eML",
    "outputId": "1009f800-19e4-4d25-8441-cb3b41147d72"
   },
   "outputs": [
    {
     "data": {
      "text/plain": [
       "(36083,)"
      ]
     },
     "execution_count": 43,
     "metadata": {
      "tags": []
     },
     "output_type": "execute_result"
    }
   ],
   "source": [
    "y_train.shape"
   ]
  },
  {
   "cell_type": "code",
   "execution_count": 44,
   "metadata": {
    "colab": {
     "base_uri": "https://localhost:8080/"
    },
    "id": "asQcs5-G3Qgg",
    "outputId": "19c073d5-be4f-428d-91c2-c6aef0fd88c1"
   },
   "outputs": [
    {
     "data": {
      "text/plain": [
       "(36083, 5, 12)"
      ]
     },
     "execution_count": 44,
     "metadata": {
      "tags": []
     },
     "output_type": "execute_result"
    }
   ],
   "source": [
    "X_train.shape"
   ]
  },
  {
   "cell_type": "code",
   "execution_count": 45,
   "metadata": {
    "id": "F9ExiaDrI3jG"
   },
   "outputs": [],
   "source": [
    "reduceLR=ReduceLROnPlateau(\n",
    "    monitor=\"val_mae\",\n",
    "    factor=0.1,\n",
    "    patience=5,\n",
    "    verbose=2,\n",
    "    mode=\"auto\",\n",
    "    min_delta=0.0001,\n",
    "    cooldown=0,\n",
    "    min_lr=0.0000000001\n",
    ")"
   ]
  },
  {
   "cell_type": "code",
   "execution_count": 46,
   "metadata": {
    "colab": {
     "base_uri": "https://localhost:8080/"
    },
    "id": "4gJwB5s9yPWU",
    "outputId": "263cd4fc-74f7-41bc-86a2-260330dde405"
   },
   "outputs": [
    {
     "data": {
      "text/plain": [
       "(36083, 5, 12)"
      ]
     },
     "execution_count": 46,
     "metadata": {
      "tags": []
     },
     "output_type": "execute_result"
    }
   ],
   "source": [
    "X_train.shape"
   ]
  },
  {
   "cell_type": "code",
   "execution_count": 47,
   "metadata": {
    "colab": {
     "base_uri": "https://localhost:8080/"
    },
    "id": "Iez9gdCNhe-U",
    "outputId": "f47e9cdf-20a5-4ffa-e2e4-a7f784996051"
   },
   "outputs": [
    {
     "name": "stdout",
     "output_type": "stream",
     "text": [
      "Model: \"sequential\"\n",
      "_________________________________________________________________\n",
      "Layer (type)                 Output Shape              Param #   \n",
      "=================================================================\n",
      "conv1d (Conv1D)              (None, 5, 64)             2368      \n",
      "_________________________________________________________________\n",
      "max_pooling1d (MaxPooling1D) (None, 2, 64)             0         \n",
      "_________________________________________________________________\n",
      "flatten (Flatten)            (None, 128)               0         \n",
      "_________________________________________________________________\n",
      "dense (Dense)                (None, 128)               16512     \n",
      "_________________________________________________________________\n",
      "dropout (Dropout)            (None, 128)               0         \n",
      "_________________________________________________________________\n",
      "dense_1 (Dense)              (None, 1)                 129       \n",
      "=================================================================\n",
      "Total params: 19,009\n",
      "Trainable params: 19,009\n",
      "Non-trainable params: 0\n",
      "_________________________________________________________________\n",
      "Epoch 1/40\n",
      "282/282 [==============================] - 1s 5ms/step - loss: 11.4584 - mae: 11.9420 - val_loss: 4.0743 - val_mae: 4.5548\n",
      "Epoch 2/40\n",
      "282/282 [==============================] - 1s 4ms/step - loss: 4.4267 - mae: 4.8948 - val_loss: 3.4966 - val_mae: 3.9718\n",
      "Epoch 3/40\n",
      "282/282 [==============================] - 1s 4ms/step - loss: 3.9455 - mae: 4.4116 - val_loss: 3.4199 - val_mae: 3.8955\n",
      "Epoch 4/40\n",
      "282/282 [==============================] - 1s 4ms/step - loss: 3.8068 - mae: 4.2725 - val_loss: 2.9257 - val_mae: 3.3878\n",
      "Epoch 5/40\n",
      "282/282 [==============================] - 1s 4ms/step - loss: 3.6967 - mae: 4.1607 - val_loss: 2.8525 - val_mae: 3.3141\n",
      "Epoch 6/40\n",
      "282/282 [==============================] - 1s 4ms/step - loss: 3.6216 - mae: 4.0854 - val_loss: 3.0077 - val_mae: 3.4717\n",
      "Epoch 7/40\n",
      "282/282 [==============================] - 1s 4ms/step - loss: 3.5718 - mae: 4.0332 - val_loss: 2.6927 - val_mae: 3.1515\n",
      "Epoch 8/40\n",
      "282/282 [==============================] - 1s 4ms/step - loss: 3.5441 - mae: 4.0059 - val_loss: 2.5548 - val_mae: 3.0072\n",
      "Epoch 9/40\n",
      "282/282 [==============================] - 1s 4ms/step - loss: 3.5239 - mae: 3.9851 - val_loss: 2.6775 - val_mae: 3.1365\n",
      "Epoch 10/40\n",
      "282/282 [==============================] - 1s 4ms/step - loss: 3.5037 - mae: 3.9662 - val_loss: 2.7814 - val_mae: 3.2430\n",
      "Epoch 11/40\n",
      "282/282 [==============================] - 1s 4ms/step - loss: 3.4775 - mae: 3.9396 - val_loss: 2.5983 - val_mae: 3.0553\n",
      "Epoch 12/40\n",
      "282/282 [==============================] - 1s 4ms/step - loss: 3.4960 - mae: 3.9581 - val_loss: 2.6799 - val_mae: 3.1401\n",
      "Epoch 13/40\n",
      "278/282 [============================>.] - ETA: 0s - loss: 3.4522 - mae: 3.9139\n",
      "Epoch 00013: ReduceLROnPlateau reducing learning rate to 3.000000142492354e-05.\n",
      "282/282 [==============================] - 1s 4ms/step - loss: 3.4518 - mae: 3.9137 - val_loss: 2.5819 - val_mae: 3.0358\n",
      "Epoch 14/40\n",
      "282/282 [==============================] - 1s 4ms/step - loss: 3.4490 - mae: 3.9102 - val_loss: 2.5647 - val_mae: 3.0195\n",
      "Epoch 15/40\n",
      "282/282 [==============================] - 1s 4ms/step - loss: 3.4371 - mae: 3.8977 - val_loss: 2.5075 - val_mae: 2.9589\n",
      "Epoch 16/40\n",
      "282/282 [==============================] - 1s 4ms/step - loss: 3.4262 - mae: 3.8865 - val_loss: 2.5936 - val_mae: 3.0497\n",
      "Epoch 17/40\n",
      "282/282 [==============================] - 1s 4ms/step - loss: 3.4150 - mae: 3.8762 - val_loss: 2.5451 - val_mae: 2.9985\n",
      "Epoch 18/40\n",
      "282/282 [==============================] - 1s 4ms/step - loss: 3.4087 - mae: 3.8697 - val_loss: 2.5169 - val_mae: 2.9689\n",
      "Epoch 19/40\n",
      "282/282 [==============================] - 1s 4ms/step - loss: 3.4303 - mae: 3.8915 - val_loss: 2.5686 - val_mae: 3.0235\n",
      "Epoch 20/40\n",
      "270/282 [===========================>..] - ETA: 0s - loss: 3.4036 - mae: 3.8647\n",
      "Epoch 00020: ReduceLROnPlateau reducing learning rate to 3.000000106112566e-06.\n",
      "282/282 [==============================] - 1s 4ms/step - loss: 3.4089 - mae: 3.8700 - val_loss: 2.5982 - val_mae: 3.0550\n",
      "Epoch 21/40\n",
      "282/282 [==============================] - 1s 4ms/step - loss: 3.4224 - mae: 3.8826 - val_loss: 2.5837 - val_mae: 3.0398\n",
      "Epoch 22/40\n",
      "282/282 [==============================] - 1s 4ms/step - loss: 3.4179 - mae: 3.8792 - val_loss: 2.5681 - val_mae: 3.0231\n",
      "Epoch 23/40\n",
      "282/282 [==============================] - 1s 4ms/step - loss: 3.4117 - mae: 3.8724 - val_loss: 2.5602 - val_mae: 3.0146\n",
      "Epoch 24/40\n",
      "282/282 [==============================] - 1s 4ms/step - loss: 3.4037 - mae: 3.8640 - val_loss: 2.5634 - val_mae: 3.0181\n",
      "Epoch 25/40\n",
      "282/282 [==============================] - ETA: 0s - loss: 3.4120 - mae: 3.8719\n",
      "Epoch 00025: ReduceLROnPlateau reducing learning rate to 3.000000106112566e-07.\n",
      "282/282 [==============================] - 1s 4ms/step - loss: 3.4120 - mae: 3.8719 - val_loss: 2.5730 - val_mae: 3.0282\n",
      "Epoch 26/40\n",
      "282/282 [==============================] - 1s 4ms/step - loss: 3.4213 - mae: 3.8827 - val_loss: 2.5709 - val_mae: 3.0260\n",
      "Epoch 27/40\n",
      "282/282 [==============================] - 1s 4ms/step - loss: 3.4212 - mae: 3.8813 - val_loss: 2.5707 - val_mae: 3.0258\n",
      "Epoch 28/40\n",
      "282/282 [==============================] - 1s 4ms/step - loss: 3.4076 - mae: 3.8678 - val_loss: 2.5708 - val_mae: 3.0259\n",
      "Epoch 29/40\n",
      "282/282 [==============================] - 1s 4ms/step - loss: 3.4053 - mae: 3.8667 - val_loss: 2.5709 - val_mae: 3.0260\n",
      "Epoch 30/40\n",
      "276/282 [============================>.] - ETA: 0s - loss: 3.4108 - mae: 3.8713\n",
      "Epoch 00030: ReduceLROnPlateau reducing learning rate to 3.000000106112566e-08.\n",
      "282/282 [==============================] - 1s 4ms/step - loss: 3.4201 - mae: 3.8806 - val_loss: 2.5712 - val_mae: 3.0264\n",
      "Epoch 31/40\n",
      "282/282 [==============================] - 1s 4ms/step - loss: 3.4255 - mae: 3.8858 - val_loss: 2.5711 - val_mae: 3.0262\n",
      "Epoch 32/40\n",
      "282/282 [==============================] - 1s 5ms/step - loss: 3.4139 - mae: 3.8745 - val_loss: 2.5711 - val_mae: 3.0262\n",
      "Epoch 33/40\n",
      "282/282 [==============================] - 1s 5ms/step - loss: 3.4094 - mae: 3.8716 - val_loss: 2.5711 - val_mae: 3.0262\n",
      "Epoch 34/40\n",
      "282/282 [==============================] - 1s 5ms/step - loss: 3.4205 - mae: 3.8813 - val_loss: 2.5711 - val_mae: 3.0263\n",
      "Epoch 35/40\n",
      "282/282 [==============================] - ETA: 0s - loss: 3.4081 - mae: 3.8686\n",
      "Epoch 00035: ReduceLROnPlateau reducing learning rate to 3.000000248221113e-09.\n",
      "282/282 [==============================] - 1s 5ms/step - loss: 3.4081 - mae: 3.8686 - val_loss: 2.5712 - val_mae: 3.0263\n",
      "Epoch 36/40\n",
      "282/282 [==============================] - 1s 5ms/step - loss: 3.4262 - mae: 3.8871 - val_loss: 2.5712 - val_mae: 3.0263\n",
      "Epoch 37/40\n",
      "282/282 [==============================] - 1s 5ms/step - loss: 3.4156 - mae: 3.8754 - val_loss: 2.5712 - val_mae: 3.0263\n",
      "Epoch 38/40\n",
      "282/282 [==============================] - 1s 5ms/step - loss: 3.4154 - mae: 3.8756 - val_loss: 2.5712 - val_mae: 3.0263\n",
      "Epoch 39/40\n",
      "282/282 [==============================] - 1s 4ms/step - loss: 3.4225 - mae: 3.8833 - val_loss: 2.5712 - val_mae: 3.0263\n",
      "Epoch 40/40\n",
      "278/282 [============================>.] - ETA: 0s - loss: 3.4258 - mae: 3.8866\n",
      "Epoch 00040: ReduceLROnPlateau reducing learning rate to 3.000000248221113e-10.\n",
      "282/282 [==============================] - 1s 4ms/step - loss: 3.4268 - mae: 3.8875 - val_loss: 2.5712 - val_mae: 3.0263\n"
     ]
    }
   ],
   "source": [
    "model = Sequential()\n",
    "model.add(Conv1D(filters=64, kernel_size=3, activation='relu', padding=\"same\" ,input_shape=(window_size, X_train.shape[2])))\n",
    "model.add(MaxPooling1D(pool_size=2))\n",
    "model.add(Flatten())\n",
    "model.add(Dense(128, activation='relu'))\n",
    "model.add(Dropout(0.3))\n",
    "model.add(Dense(1,'linear'))\n",
    "model.summary()\n",
    "model.compile(loss=Huber(), optimizer=Adam(lr=3e-4),metrics=[\"mae\"])\n",
    "history = model.fit(X_train, y_train, epochs=40, batch_size=128,shuffle=True, validation_data=(X_valid,y_valid) ,callbacks =[reduceLR])"
   ]
  },
  {
   "cell_type": "code",
   "execution_count": 48,
   "metadata": {
    "colab": {
     "base_uri": "https://localhost:8080/",
     "height": 281
    },
    "id": "J6F7btyHhf6x",
    "outputId": "b9d17fd2-47b4-439f-de2e-23992c1e0d6a"
   },
   "outputs": [
    {
     "data": {
      "image/png": "[encoded data removed]",
      "text/plain": [
       "<Figure size 432x288 with 1 Axes>"
      ]
     },
     "metadata": {
      "needs_background": "light",
      "tags": []
     },
     "output_type": "display_data"
    }
   ],
   "source": [
    "plt.plot(history.history['mae'], label='train')\n",
    "plt.plot(history.history['val_mae'], label='test')\n",
    "plt.title('MAE')\n",
    "plt.legend()\n",
    "plt.show()"
   ]
  },
  {
   "cell_type": "code",
   "execution_count": 49,
   "metadata": {
    "id": "mRIhjq9zhmd8"
   },
   "outputs": [],
   "source": [
    "cnndeepLearningrmse=np.sqrt(1/len(X_test)*np.sum((model.predict(X_test).reshape(len(X_test),)-y_test)**2,axis=0))\n",
    "cnndeepLearningmae=1/len(X_test)*np.sum(abs(model.predict(X_test).reshape(len(X_test),)-y_test),axis=0)"
   ]
  },
  {
   "cell_type": "code",
   "execution_count": 50,
   "metadata": {
    "colab": {
     "base_uri": "https://localhost:8080/"
    },
    "id": "qvGjKK60GVTc",
    "outputId": "6f9e9dbb-afd1-460b-fbe8-87bc486b9caa"
   },
   "outputs": [
    {
     "name": "stdout",
     "output_type": "stream",
     "text": [
      "Model: \"sequential\"\n",
      "_________________________________________________________________\n",
      "Layer (type)                 Output Shape              Param #   \n",
      "=================================================================\n",
      "gru (GRU)                    (None, 5, 30)             3960      \n",
      "_________________________________________________________________\n",
      "attention_score_vec (Dense)  (None, 5, 30)             900       \n",
      "_________________________________________________________________\n",
      "last_hidden_state (Lambda)   (None, 30)                0         \n",
      "_________________________________________________________________\n",
      "attention_score (Dot)        (None, 5)                 0         \n",
      "_________________________________________________________________\n",
      "attention_weight (Activation (None, 5)                 0         \n",
      "_________________________________________________________________\n",
      "context_vector (Dot)         (None, 30)                0         \n",
      "_________________________________________________________________\n",
      "attention_output (Concatenat (None, 60)                0         \n",
      "_________________________________________________________________\n",
      "attention_vector (Dense)     (None, 128)               7680      \n",
      "_________________________________________________________________\n",
      "dropout (Dropout)            (None, 128)               0         \n",
      "_________________________________________________________________\n",
      "dense (Dense)                (None, 1)                 129       \n",
      "=================================================================\n",
      "Total params: 12,669\n",
      "Trainable params: 12,669\n",
      "Non-trainable params: 0\n",
      "_________________________________________________________________\n",
      "Epoch 1/30\n",
      "564/564 [==============================] - 4s 7ms/step - loss: 10.6730 - mae: 11.1558 - val_loss: 6.6292 - val_mae: 7.1103\n",
      "Epoch 2/30\n",
      "564/564 [==============================] - 4s 7ms/step - loss: 4.4253 - mae: 4.8908 - val_loss: 3.6135 - val_mae: 4.0713\n",
      "Epoch 3/30\n",
      "564/564 [==============================] - 4s 6ms/step - loss: 3.7659 - mae: 4.2257 - val_loss: 3.0014 - val_mae: 3.4523\n",
      "Epoch 4/30\n",
      "564/564 [==============================] - 4s 7ms/step - loss: 3.5577 - mae: 4.0163 - val_loss: 2.7535 - val_mae: 3.1967\n",
      "Epoch 5/30\n",
      "564/564 [==============================] - 4s 7ms/step - loss: 3.4494 - mae: 3.9078 - val_loss: 2.5712 - val_mae: 3.0116\n",
      "Epoch 6/30\n",
      "564/564 [==============================] - 4s 7ms/step - loss: 3.3806 - mae: 3.8378 - val_loss: 2.5105 - val_mae: 2.9511\n",
      "Epoch 7/30\n",
      "564/564 [==============================] - 4s 7ms/step - loss: 3.3318 - mae: 3.7892 - val_loss: 2.4667 - val_mae: 2.9064\n",
      "Epoch 8/30\n",
      "564/564 [==============================] - 4s 6ms/step - loss: 3.2760 - mae: 3.7326 - val_loss: 2.4401 - val_mae: 2.8831\n",
      "Epoch 9/30\n",
      "564/564 [==============================] - 4s 7ms/step - loss: 3.2568 - mae: 3.7136 - val_loss: 2.3749 - val_mae: 2.8134\n",
      "Epoch 10/30\n",
      "564/564 [==============================] - 4s 7ms/step - loss: 3.1981 - mae: 3.6536 - val_loss: 2.3262 - val_mae: 2.7623\n",
      "Epoch 11/30\n",
      "564/564 [==============================] - 4s 7ms/step - loss: 3.1597 - mae: 3.6151 - val_loss: 2.3485 - val_mae: 2.7869\n",
      "Epoch 12/30\n",
      "564/564 [==============================] - 4s 6ms/step - loss: 3.1562 - mae: 3.6124 - val_loss: 2.3169 - val_mae: 2.7543\n",
      "Epoch 13/30\n",
      "564/564 [==============================] - 4s 7ms/step - loss: 3.1261 - mae: 3.5808 - val_loss: 2.2989 - val_mae: 2.7356\n",
      "Epoch 14/30\n",
      "564/564 [==============================] - 4s 7ms/step - loss: 3.1200 - mae: 3.5746 - val_loss: 2.3032 - val_mae: 2.7384\n",
      "Epoch 15/30\n",
      "564/564 [==============================] - 4s 6ms/step - loss: 3.0942 - mae: 3.5483 - val_loss: 2.2762 - val_mae: 2.7147\n",
      "Epoch 16/30\n",
      "564/564 [==============================] - 4s 7ms/step - loss: 3.0971 - mae: 3.5516 - val_loss: 2.2439 - val_mae: 2.6784\n",
      "Epoch 17/30\n",
      "564/564 [==============================] - 4s 7ms/step - loss: 3.0863 - mae: 3.5414 - val_loss: 2.3091 - val_mae: 2.7511\n",
      "Epoch 18/30\n",
      "564/564 [==============================] - 4s 7ms/step - loss: 3.0653 - mae: 3.5191 - val_loss: 2.3983 - val_mae: 2.8483\n",
      "Epoch 19/30\n",
      "564/564 [==============================] - 4s 6ms/step - loss: 3.0462 - mae: 3.5000 - val_loss: 2.2226 - val_mae: 2.6574\n",
      "Epoch 20/30\n",
      "564/564 [==============================] - 4s 7ms/step - loss: 3.0245 - mae: 3.4770 - val_loss: 2.2538 - val_mae: 2.6915\n",
      "Epoch 21/30\n",
      "564/564 [==============================] - 4s 7ms/step - loss: 3.0125 - mae: 3.4654 - val_loss: 2.2919 - val_mae: 2.7321\n",
      "Epoch 22/30\n",
      "564/564 [==============================] - 4s 6ms/step - loss: 3.0107 - mae: 3.4649 - val_loss: 2.2204 - val_mae: 2.6541\n",
      "Epoch 23/30\n",
      "564/564 [==============================] - 4s 6ms/step - loss: 3.0105 - mae: 3.4639 - val_loss: 2.2624 - val_mae: 2.7002\n",
      "Epoch 24/30\n",
      "564/564 [==============================] - 4s 7ms/step - loss: 2.9889 - mae: 3.4424 - val_loss: 2.3169 - val_mae: 2.7607\n",
      "Epoch 25/30\n",
      "564/564 [==============================] - 4s 6ms/step - loss: 2.9979 - mae: 3.4500 - val_loss: 2.2116 - val_mae: 2.6454\n",
      "Epoch 26/30\n",
      "564/564 [==============================] - 4s 6ms/step - loss: 2.9782 - mae: 3.4311 - val_loss: 2.1603 - val_mae: 2.5890\n",
      "Epoch 27/30\n",
      "564/564 [==============================] - 4s 7ms/step - loss: 2.9734 - mae: 3.4255 - val_loss: 2.2009 - val_mae: 2.6314\n",
      "Epoch 28/30\n",
      "564/564 [==============================] - 4s 7ms/step - loss: 2.9614 - mae: 3.4133 - val_loss: 2.2249 - val_mae: 2.6595\n",
      "Epoch 29/30\n",
      "564/564 [==============================] - 4s 7ms/step - loss: 2.9460 - mae: 3.3988 - val_loss: 2.2541 - val_mae: 2.6927\n",
      "Epoch 30/30\n",
      "564/564 [==============================] - 4s 7ms/step - loss: 2.9502 - mae: 3.4026 - val_loss: 2.1841 - val_mae: 2.6167\n"
     ]
    }
   ],
   "source": [
    "be.clear_session()\n",
    "\n",
    "model2 = Sequential()\n",
    "model2.add(GRU(30, activation='relu', recurrent_dropout=0.3,return_sequences=True, input_shape=(window_size, X_train.shape[2])))\n",
    "model2.add(Attention())\n",
    "model2.add(Dropout(0.3))\n",
    "model2.add(Dense(1,'linear'))\n",
    "model2.compile(loss=Huber(), optimizer=Adam(lr=3e-4),metrics=[\"mae\"])\n",
    "model2.summary()\n",
    "history2 = model2.fit(X_train, y_train, epochs=30, batch_size=64,shuffle=True, validation_data=(X_valid,y_valid) ,callbacks =[reduceLR])"
   ]
  },
  {
   "cell_type": "code",
   "execution_count": 51,
   "metadata": {
    "id": "cycY-1PJ4IXa"
   },
   "outputs": [],
   "source": [
    "deepLearningrmse=np.sqrt(1/len(X_test)*np.sum((model2.predict(X_test).reshape(len(X_test),)-y_test)**2,axis=0))\n",
    "deepLearningmae=1/len(X_test)*np.sum(abs(model2.predict(X_test).reshape(len(X_test),)-y_test),axis=0)"
   ]
  },
  {
   "cell_type": "code",
   "execution_count": 52,
   "metadata": {
    "colab": {
     "base_uri": "https://localhost:8080/",
     "height": 281
    },
    "id": "hDUyeK4HLzHi",
    "outputId": "9ba333b9-38b6-4805-d959-0536b91a98e1"
   },
   "outputs": [
    {
     "data": {
      "image/png": "[encoded data removed]",
      "text/plain": [
       "<Figure size 432x288 with 1 Axes>"
      ]
     },
     "metadata": {
      "needs_background": "light",
      "tags": []
     },
     "output_type": "display_data"
    }
   ],
   "source": [
    "plt.plot(history2.history['mae'], label='train')\n",
    "plt.plot(history2.history['val_mae'], label='test')\n",
    "plt.title('MAE')\n",
    "plt.legend()\n",
    "plt.show()"
   ]
  },
  {
   "cell_type": "code",
   "execution_count": 53,
   "metadata": {
    "id": "YtsWAwJTf6u3"
   },
   "outputs": [],
   "source": [
    "data = {'Models':['Dummy Model','Linear Regression', 'Random Forest', 'XGBoost','CNN', 'GRU with Attention'], 'RMSE':[dummyrmse, linregrmse, rfrmse, xgboostrmse,cnndeepLearningrmse,deepLearningrmse], 'MAE':[dummymae, linregmae, rfmae, xgboostmae,cnndeepLearningmae,deepLearningmae]} \n",
    "df = pd.DataFrame(data) \n",
    "df.index=df.Models\n",
    "df.drop('Models',axis=1,inplace=True)"
   ]
  },
  {
   "cell_type": "markdown",
   "metadata": {
    "id": "fwRnKHBVx09w"
   },
   "source": [
    "Looking at the scores we can somewhat conclude that linear regression works nice but xgboost (great because can be trained incrementally also) and deep learning models also perform really well."
   ]
  },
  {
   "cell_type": "code",
   "execution_count": 54,
   "metadata": {
    "colab": {
     "base_uri": "https://localhost:8080/",
     "height": 266
    },
    "id": "Gi1JGr0rhtfK",
    "outputId": "7fe039fa-d993-48fc-856a-e45925954e5a"
   },
   "outputs": [
    {
     "data": {
      "text/html": [
       "<div>\n",
       "<style scoped>\n",
       "    .dataframe tbody tr th:only-of-type {\n",
       "        vertical-align: middle;\n",
       "    }\n",
       "\n",
       "    .dataframe tbody tr th {\n",
       "        vertical-align: top;\n",
       "    }\n",
       "\n",
       "    .dataframe thead th {\n",
       "        text-align: right;\n",
       "    }\n",
       "</style>\n",
       "<table border=\"1\" class=\"dataframe\">\n",
       "  <thead>\n",
       "    <tr style=\"text-align: right;\">\n",
       "      <th></th>\n",
       "      <th>RMSE</th>\n",
       "      <th>MAE</th>\n",
       "    </tr>\n",
       "    <tr>\n",
       "      <th>Models</th>\n",
       "      <th></th>\n",
       "      <th></th>\n",
       "    </tr>\n",
       "  </thead>\n",
       "  <tbody>\n",
       "    <tr>\n",
       "      <th>Dummy Model</th>\n",
       "      <td>18.179135</td>\n",
       "      <td>14.956636</td>\n",
       "    </tr>\n",
       "    <tr>\n",
       "      <th>Linear Regression</th>\n",
       "      <td>8.210400</td>\n",
       "      <td>4.230279</td>\n",
       "    </tr>\n",
       "    <tr>\n",
       "      <th>Random Forest</th>\n",
       "      <td>8.317027</td>\n",
       "      <td>3.779954</td>\n",
       "    </tr>\n",
       "    <tr>\n",
       "      <th>XGBoost</th>\n",
       "      <td>8.223609</td>\n",
       "      <td>1.920795</td>\n",
       "    </tr>\n",
       "    <tr>\n",
       "      <th>CNN</th>\n",
       "      <td>8.535649</td>\n",
       "      <td>3.918862</td>\n",
       "    </tr>\n",
       "    <tr>\n",
       "      <th>GRU with Attention</th>\n",
       "      <td>7.565562</td>\n",
       "      <td>3.312582</td>\n",
       "    </tr>\n",
       "  </tbody>\n",
       "</table>\n",
       "</div>"
      ],
      "text/plain": [
       "                         RMSE        MAE\n",
       "Models                                  \n",
       "Dummy Model         18.179135  14.956636\n",
       "Linear Regression    8.210400   4.230279\n",
       "Random Forest        8.317027   3.779954\n",
       "XGBoost              8.223609   1.920795\n",
       "CNN                  8.535649   3.918862\n",
       "GRU with Attention   7.565562   3.312582"
      ]
     },
     "execution_count": 54,
     "metadata": {
      "tags": []
     },
     "output_type": "execute_result"
    }
   ],
   "source": [
    "df"
   ]
  }
 ],
 "metadata": {
  "colab": {
   "collapsed_sections": [],
   "name": "Electric_pricing_deep_learning.ipynb",
   "provenance": []
  },
  "kernelspec": {
   "display_name": "Python 3",
   "language": "python",
   "name": "python3"
  },
  "language_info": {
   "codemirror_mode": {
    "name": "ipython",
    "version": 3
   },
   "file_extension": ".py",
   "mimetype": "text/x-python",
   "name": "python",
   "nbconvert_exporter": "python",
   "pygments_lexer": "ipython3",
   "version": "3.7.3"
  }
 },
 "nbformat": 4,
 "nbformat_minor": 1
}
